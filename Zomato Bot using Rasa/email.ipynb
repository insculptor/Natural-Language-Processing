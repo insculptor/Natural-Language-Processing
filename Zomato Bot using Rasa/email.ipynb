{
 "cells": [
  {
   "cell_type": "code",
   "execution_count": 1,
   "metadata": {},
   "outputs": [],
   "source": [
    "from __future__ import absolute_import\n",
    "from __future__ import division\n",
    "from __future__ import unicode_literals\n",
    "import smtplib\n",
    "from email.mime.multipart import MIMEMultipart\n",
    "from email.mime.text import MIMEText\n",
    "from email.mime.image import MIMEImage\n",
    "from rasa_sdk import Action\n",
    "from rasa_sdk.events import SlotSet, AllSlotsReset, Restarted\n",
    "import zomatopy\n",
    "import json\n",
    "import re\n",
    "import pandas as pd\n",
    "from pandas.io.json import json_normalize\n",
    "import warnings\n",
    "warnings.filterwarnings(\"ignore\")"
   ]
  },
  {
   "cell_type": "code",
   "execution_count": 2,
   "metadata": {},
   "outputs": [],
   "source": [
    "# Defining Global variables:\n",
    "# List of tier 1 and tier 2 cities\n",
    "tier1_2_cities = ['agra', 'ahmedabad', 'ajmer', 'aligarh', 'allahabad', 'amravati', 'amritsar',\n",
    "                  'asansol', 'aurangabad', 'bangalore', 'bareilly', 'belgaum', 'bhavnagar',\n",
    "                  'bhiwadi', 'bhopal', 'bhubaneshwar', 'bijapur', 'bikaner', 'bokaro', 'chandigarh',\n",
    "                  'chennai', 'coimbatore', 'cuttack', 'dehradun', 'dhanbad', 'dharwad', 'durg bhilai',\n",
    "                  'durgapur', 'erode', 'faridabad', 'firozabad', 'ghaziabad', 'goa', 'gorakhpur',\n",
    "                  'gulbarga', 'guntur', 'gurgaon', 'guwahati', 'gwalior', 'hyderabad', 'indore',\n",
    "                  'jabalpur', 'jaipur', 'jalandhar', 'jammu', 'jamnagar', 'jamshedpur', 'jhansi',\n",
    "                  'jodhpur', 'kakinada', 'kannur', 'kanpur', 'kochi', 'kolhapur', 'kolkata', 'kollam',\n",
    "                  'kota', 'kottayam', 'kozhikode', 'kurnool', 'lucknow', 'ludhiana', 'madurai',\n",
    "                  'malappuram', 'mangalore', 'mathura', 'meerut', 'moradabad', 'mumbai',\n",
    "                  'mysore', 'nagpur', 'nanded', 'nashik', 'nellore', 'new delhi',\n",
    "                  'noida', 'palakkad', 'patna', 'pune', 'raipur', 'rajahmundry', 'rajkot',\n",
    "                  'ranchi', 'rourkela', 'salem', 'sangli', 'siliguri', 'solapur', 'srinagar',\n",
    "                  'sultanpur', 'surat', 'thrissur', 'tirunelveli', 'tiruppur', 'trichy',\n",
    "                  'trivandrum', 'ujjain', 'vadodara', 'varanasi', 'vijayawada', 'visakhapatnam','warangal']"
   ]
  },
  {
   "cell_type": "code",
   "execution_count": 3,
   "metadata": {},
   "outputs": [],
   "source": [
    "# List of restaurants from the action_restaurant_search.\n",
    "# The list was originally populated in action_restaurant_search as well as action_send_mail. \n",
    "# However, the action_send_mail was taking longer than 10sec many times thus resulting in a error due to rasa configuration setting.\n",
    "# Thus, retrieving the list once and storing it globally for acces in action_send_mail due reduce the processing there. \n",
    "email_list = \"\""
   ]
  },
  {
   "cell_type": "code",
   "execution_count": 4,
   "metadata": {},
   "outputs": [],
   "source": [
    "def restaurant_details(city,cuisines,upper_budget=5000,lower_budget=50):\n",
    "    '''\n",
    "    This function will take the values of location, cuisine and budget range, \n",
    "    and will return a DataFrame Object that contains top 10 restaurants in \n",
    "    Descending order of rating in the location. \n",
    "    \n",
    "    Parameters:\n",
    "    location: Location sprecifid by the user.\n",
    "    cuisines : Cuisine Specified by User.\n",
    "    upper_budget: Maximum cost for two people, default value is 5000, if none specified.\n",
    "    lower_budget: Minimum cost for two people, default value is 50, if none specified.\n",
    "    '''\n",
    "    #config={ \"user_key\":\"f4924dc9ad672ee8c4f8c84743301af5\"}\n",
    "    config={ \"user_key\":\"2cd53b995b0818e559df301ec3b98a06\"}\n",
    "    zomato = zomatopy.initialize_app(config)\n",
    "    loc = city#tracker.get_slot('location')\n",
    "    cuisine = cuisines#tracker.get_slot('cuisine')\n",
    "    location_detail=zomato.get_location(loc, 1)\n",
    "    d1 = json.loads(location_detail)\n",
    "    lat=d1[\"location_suggestions\"][0][\"latitude\"]\n",
    "    lon=d1[\"location_suggestions\"][0][\"longitude\"]\n",
    "    cuisines_dict={'bakery':5,'chinese':25,'cafe':30,'italian':55,'biryani':7,'north indian':50,'south indian':85}\n",
    "    results=zomato.restaurant_search(\"\", lat, lon, str(cuisines_dict.get(cuisine)), 100)\n",
    "    d = json.loads(results)\n",
    "    df = json_normalize(d['restaurants'])\n",
    "    rest= df[['restaurant.user_rating.aggregate_rating', 'restaurant.name','restaurant.location.city','restaurant.location.address','restaurant.average_cost_for_two']]\n",
    "    rest.sort_values(['restaurant.user_rating.aggregate_rating', 'restaurant.average_cost_for_two'],ascending=False,inplace=True)\n",
    "    rest['restaurant.location.city'] = rest['restaurant.location.city'].str.lower().str.strip()\n",
    "    rest['restaurant.location.address'] = rest['restaurant.location.address'].str.strip()\n",
    "    rest=rest[(rest['restaurant.average_cost_for_two']<=upper_budget) & (rest['restaurant.average_cost_for_two']>=lower_budget)& (rest['restaurant.location.city']== loc)]\n",
    "    #rest=rest[(rest['restaurant.average_cost_for_two']<=upper_budget) & (rest['restaurant.average_cost_for_two']>=lower_budget)]\n",
    "\n",
    "    rest= rest.astype(str)\n",
    "    rest.reset_index(inplace=True)\n",
    "    rest.drop(columns=['index'],inplace=True)\n",
    "    return rest.head(10)"
   ]
  },
  {
   "cell_type": "code",
   "execution_count": 5,
   "metadata": {},
   "outputs": [],
   "source": [
    "def get_restaurant_chat_details(rest):\n",
    "    '''\n",
    "    This function takes a DataFrame object (rest) which contains restaurant details\n",
    "    and return a String that will be used to display restaurants found on the chatbot window.\n",
    "    '''\n",
    "    restaurants = rest.head(5)\n",
    "    details = 'Found top restaurant with following details: \\n'\n",
    "    for i in restaurants.index:\n",
    "        details = details+  str(restaurants.index.get_loc(i)+1)+'. '+restaurants['restaurant.name'][i]+' in '+restaurants['restaurant.location.address'][i] + ' has been rated '+restaurants['restaurant.user_rating.aggregate_rating'][i]+ '\\n'\n",
    "    return details"
   ]
  },
  {
   "cell_type": "code",
   "execution_count": 7,
   "metadata": {},
   "outputs": [],
   "source": [
    "def get_list_for_email(rest):\n",
    "    '''\n",
    "    This function will take a data frame object containing the restaurant details \n",
    "    and will return a string in html tagged format, which will be used to send email to the user. \n",
    "    '''\n",
    "    email_listitem=''\n",
    "    for i in rest.index:\n",
    "        email_listitem=email_listitem+ '<li><b>'+ rest['restaurant.name'][i]+'</b><br/>User Rating: '+rest['restaurant.user_rating.aggregate_rating'][i]+'<br/>Location: '+ rest['restaurant.location.address'][i]+'</b><br/>Cost for two: '+rest['restaurant.average_cost_for_two'][i]+'</li><br/>'\n",
    "    return email_listitem"
   ]
  },
  {
   "cell_type": "code",
   "execution_count": 16,
   "metadata": {},
   "outputs": [],
   "source": [
    "city = 'bombay'\n",
    "cuisine = 'South Indian'"
   ]
  },
  {
   "cell_type": "code",
   "execution_count": 17,
   "metadata": {},
   "outputs": [],
   "source": [
    "respdf= restaurant_details(city= city,cuisines=cuisine)"
   ]
  },
  {
   "cell_type": "code",
   "execution_count": 21,
   "metadata": {},
   "outputs": [
    {
     "data": {
      "text/plain": [
       "0"
      ]
     },
     "execution_count": 21,
     "metadata": {},
     "output_type": "execute_result"
    }
   ],
   "source": [
    "respdf['restaurant.name'].count()"
   ]
  },
  {
   "cell_type": "code",
   "execution_count": 23,
   "metadata": {},
   "outputs": [
    {
     "ename": "SyntaxError",
     "evalue": "'return' outside function (<ipython-input-23-e03863ef4d03>, line 5)",
     "output_type": "error",
     "traceback": [
      "\u001b[1;36m  File \u001b[1;32m\"<ipython-input-23-e03863ef4d03>\"\u001b[1;36m, line \u001b[1;32m5\u001b[0m\n\u001b[1;33m    return [SlotSet('noresults',\"false\")]\u001b[0m\n\u001b[1;37m    ^\u001b[0m\n\u001b[1;31mSyntaxError\u001b[0m\u001b[1;31m:\u001b[0m 'return' outside function\n"
     ]
    }
   ],
   "source": [
    "if respdf['restaurant.name'].count() > 0:\n",
    "    email_list = get_list_for_email(respdf)\n",
    "    response = get_restaurant_chat_details(respdf)\n",
    "    dispatcher.utter_message(response)\n",
    "    return [SlotSet('noresults',\"false\")]\n",
    "else:\n",
    "    return [SlotSet('noresults',\"true\")]"
   ]
  },
  {
   "cell_type": "code",
   "execution_count": 24,
   "metadata": {},
   "outputs": [],
   "source": [
    "class ActionSearchRestaurants(Action):\n",
    "    def name(self):\n",
    "        return 'action_search_restaurants'\n",
    "\n",
    "    def run(self, dispatcher, tracker, domain):\n",
    "        config={ \"user_key\":\"f4924dc9ad672ee8c4f8c84743301af5\"}\n",
    "        zomato = zomatopy.initialize_app(config)\n",
    "\n",
    "        city = tracker.get_slot('city')\n",
    "        cuisine = tracker.get_slot('cuisine')\n",
    "        budget = tracker.get_slot('budget')\n",
    "\n",
    "        global email_list \n",
    "        email_list = \"\"\n",
    "\n",
    "        if budget == 'low':\n",
    "            upper_budget = 299\n",
    "            lower_budget=10\n",
    "        elif budget == 'medium':\n",
    "            upper_budget = 700\n",
    "            lower_budget=301\n",
    "        elif budget == 'high':\n",
    "            upper_budget = 10000\n",
    "            lower_budget=701\n",
    "        else:\n",
    "            upper_budget = 10000\n",
    "            lower_budget=10\n",
    "\n",
    "        respdf= restaurant_details(city= city,cuisines=cuisine,upper_budget=upper_budget,lower_budget=lower_budget)\n",
    "        \n",
    "        if respdf['restaurant.name'].count() > 0:\n",
    "            email_list = get_list_for_email(respdf)\n",
    "            response = get_restaurant_chat_details(respdf)\n",
    "            dispatcher.utter_message(response)\n",
    "            return [SlotSet('noresults',\"false\")]\n",
    "        else:\n",
    "            dispatcher.utter_message(\"Oops! Could not find results in that area!\")\n",
    "            return [SlotSet('noresults',\"true\")]"
   ]
  },
  {
   "cell_type": "code",
   "execution_count": 27,
   "metadata": {},
   "outputs": [],
   "source": [
    " respdf= restaurant_details(city='raipur',cuisines='North Indian')\n",
    "        "
   ]
  },
  {
   "cell_type": "code",
   "execution_count": 28,
   "metadata": {},
   "outputs": [
    {
     "data": {
      "text/html": [
       "<div>\n",
       "<style scoped>\n",
       "    .dataframe tbody tr th:only-of-type {\n",
       "        vertical-align: middle;\n",
       "    }\n",
       "\n",
       "    .dataframe tbody tr th {\n",
       "        vertical-align: top;\n",
       "    }\n",
       "\n",
       "    .dataframe thead th {\n",
       "        text-align: right;\n",
       "    }\n",
       "</style>\n",
       "<table border=\"1\" class=\"dataframe\">\n",
       "  <thead>\n",
       "    <tr style=\"text-align: right;\">\n",
       "      <th></th>\n",
       "      <th>restaurant.user_rating.aggregate_rating</th>\n",
       "      <th>restaurant.name</th>\n",
       "      <th>restaurant.location.city</th>\n",
       "      <th>restaurant.location.address</th>\n",
       "      <th>restaurant.average_cost_for_two</th>\n",
       "    </tr>\n",
       "  </thead>\n",
       "  <tbody>\n",
       "    <tr>\n",
       "      <td>0</td>\n",
       "      <td>4.7</td>\n",
       "      <td>Gadh Kalewa</td>\n",
       "      <td>raipur</td>\n",
       "      <td>Great Eastern Rd, Near Mahant Ghasidas Samarak...</td>\n",
       "      <td>400</td>\n",
       "    </tr>\n",
       "    <tr>\n",
       "      <td>1</td>\n",
       "      <td>4.7</td>\n",
       "      <td>Axis Juice</td>\n",
       "      <td>raipur</td>\n",
       "      <td>B- 16, Sector 1, Devendra Nagar, Raipur</td>\n",
       "      <td>300</td>\n",
       "    </tr>\n",
       "    <tr>\n",
       "      <td>2</td>\n",
       "      <td>4.6</td>\n",
       "      <td>KFC</td>\n",
       "      <td>raipur</td>\n",
       "      <td>Shop 34, Ground Floor, Magnato Mall Dharsiwa, ...</td>\n",
       "      <td>450</td>\n",
       "    </tr>\n",
       "    <tr>\n",
       "      <td>3</td>\n",
       "      <td>4.6</td>\n",
       "      <td>Manju Mamta Restaurant</td>\n",
       "      <td>raipur</td>\n",
       "      <td>Shardha Chowk, MG Road, Jawahar Nagar, Raipur</td>\n",
       "      <td>350</td>\n",
       "    </tr>\n",
       "    <tr>\n",
       "      <td>4</td>\n",
       "      <td>4.4</td>\n",
       "      <td>McDonald's</td>\n",
       "      <td>raipur</td>\n",
       "      <td>Ground Floor, Magneto Mall, Shankar Nagar, Raipur</td>\n",
       "      <td>500</td>\n",
       "    </tr>\n",
       "    <tr>\n",
       "      <td>5</td>\n",
       "      <td>4.4</td>\n",
       "      <td>Rolls Mania</td>\n",
       "      <td>raipur</td>\n",
       "      <td>47, Ground Floor, Crystal Arcade, Shankar Naga...</td>\n",
       "      <td>250</td>\n",
       "    </tr>\n",
       "    <tr>\n",
       "      <td>6</td>\n",
       "      <td>4.2</td>\n",
       "      <td>Ashoka Biryani</td>\n",
       "      <td>raipur</td>\n",
       "      <td>Near Amanaka Bridge, Mahoba Bazaar, GE Road, S...</td>\n",
       "      <td>650</td>\n",
       "    </tr>\n",
       "    <tr>\n",
       "      <td>7</td>\n",
       "      <td>4.2</td>\n",
       "      <td>Anna Punjabi</td>\n",
       "      <td>raipur</td>\n",
       "      <td>Pachpedi Naka Chowk, Beside Nest, Mahaveer Nag...</td>\n",
       "      <td>500</td>\n",
       "    </tr>\n",
       "    <tr>\n",
       "      <td>8</td>\n",
       "      <td>4.1</td>\n",
       "      <td>Pizza Hut</td>\n",
       "      <td>raipur</td>\n",
       "      <td>Jail Road, Raipur, Devendra Nagar, Raipur</td>\n",
       "      <td>600</td>\n",
       "    </tr>\n",
       "    <tr>\n",
       "      <td>9</td>\n",
       "      <td>4.1</td>\n",
       "      <td>Kebab Junction</td>\n",
       "      <td>raipur</td>\n",
       "      <td>Sultan tower arya samaj mandir road baijnath p...</td>\n",
       "      <td>400</td>\n",
       "    </tr>\n",
       "  </tbody>\n",
       "</table>\n",
       "</div>"
      ],
      "text/plain": [
       "  restaurant.user_rating.aggregate_rating         restaurant.name  \\\n",
       "0                                     4.7             Gadh Kalewa   \n",
       "1                                     4.7              Axis Juice   \n",
       "2                                     4.6                     KFC   \n",
       "3                                     4.6  Manju Mamta Restaurant   \n",
       "4                                     4.4              McDonald's   \n",
       "5                                     4.4             Rolls Mania   \n",
       "6                                     4.2          Ashoka Biryani   \n",
       "7                                     4.2            Anna Punjabi   \n",
       "8                                     4.1               Pizza Hut   \n",
       "9                                     4.1          Kebab Junction   \n",
       "\n",
       "  restaurant.location.city                        restaurant.location.address  \\\n",
       "0                   raipur  Great Eastern Rd, Near Mahant Ghasidas Samarak...   \n",
       "1                   raipur            B- 16, Sector 1, Devendra Nagar, Raipur   \n",
       "2                   raipur  Shop 34, Ground Floor, Magnato Mall Dharsiwa, ...   \n",
       "3                   raipur      Shardha Chowk, MG Road, Jawahar Nagar, Raipur   \n",
       "4                   raipur  Ground Floor, Magneto Mall, Shankar Nagar, Raipur   \n",
       "5                   raipur  47, Ground Floor, Crystal Arcade, Shankar Naga...   \n",
       "6                   raipur  Near Amanaka Bridge, Mahoba Bazaar, GE Road, S...   \n",
       "7                   raipur  Pachpedi Naka Chowk, Beside Nest, Mahaveer Nag...   \n",
       "8                   raipur          Jail Road, Raipur, Devendra Nagar, Raipur   \n",
       "9                   raipur  Sultan tower arya samaj mandir road baijnath p...   \n",
       "\n",
       "  restaurant.average_cost_for_two  \n",
       "0                             400  \n",
       "1                             300  \n",
       "2                             450  \n",
       "3                             350  \n",
       "4                             500  \n",
       "5                             250  \n",
       "6                             650  \n",
       "7                             500  \n",
       "8                             600  \n",
       "9                             400  "
      ]
     },
     "execution_count": 28,
     "metadata": {},
     "output_type": "execute_result"
    }
   ],
   "source": [
    "respdf"
   ]
  },
  {
   "cell_type": "code",
   "execution_count": 31,
   "metadata": {},
   "outputs": [
    {
     "name": "stdout",
     "output_type": "stream",
     "text": [
      "1\n"
     ]
    }
   ],
   "source": [
    "if respdf['restaurant.name'].count() > 0:\n",
    "    print('1')\n",
    "            #email_list = get_list_for_email(respdf)\n",
    "            #response = get_restaurant_chat_details(respdf)\n",
    "            #dispatcher.utter_message(response)\n",
    "            #return [SlotSet('noresults',\"false\")]\n",
    "else:\n",
    "    print('0')\n",
    "            #dispatcher.utter_message(\"Oops! Could not find results in that area!\")\n",
    "            #return [SlotSet('noresults',\"true\")]"
   ]
  },
  {
   "cell_type": "code",
   "execution_count": 26,
   "metadata": {},
   "outputs": [],
   "source": [
    "class ActionCheckEmail(Action):\n",
    "    def name(self):\n",
    "        return 'action_check_email'\n",
    "\n",
    "    def run(self, dispatcher, tracker, domain):\n",
    "        emailid = tracker.get_slot('email')\n",
    "        # Make a regular expression \n",
    "        # for validating an Email \n",
    "        regex = '^\\w+([\\.-]?\\w+)*@\\w+([\\.-]?\\w+)*(\\.\\w{2,3})+$'\n",
    "\n",
    "        \n",
    "        try:\n",
    "            if(re.search(regex,emailid)):\n",
    "                return [SlotSet('email_validate',\"true\")]\n",
    "            else:\n",
    "                return [SlotSet('email_validate',\"false\")]\n",
    "        except:\n",
    "            return [SlotSet('email_validate',\"false\")]            "
   ]
  },
  {
   "cell_type": "code",
   "execution_count": null,
   "metadata": {},
   "outputs": [],
   "source": []
  }
 ],
 "metadata": {
  "kernelspec": {
   "display_name": "Python 3",
   "language": "python",
   "name": "python3"
  },
  "language_info": {
   "codemirror_mode": {
    "name": "ipython",
    "version": 3
   },
   "file_extension": ".py",
   "mimetype": "text/x-python",
   "name": "python",
   "nbconvert_exporter": "python",
   "pygments_lexer": "ipython3",
   "version": "3.7.4"
  }
 },
 "nbformat": 4,
 "nbformat_minor": 2
}
