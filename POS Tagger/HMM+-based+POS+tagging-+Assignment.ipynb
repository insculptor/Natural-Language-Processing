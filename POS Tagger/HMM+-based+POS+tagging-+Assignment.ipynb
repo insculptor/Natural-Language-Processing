{
 "cells": [
  {
   "cell_type": "markdown",
   "metadata": {},
   "source": [
    "<h1><center>POS tagging using modified Viterbi Assignment</center></h1>\n",
    "\n",
    "<div style=\"text-align: right\"> Submitted By:\n",
    "<br>Ravi Dhir</div>"
   ]
  },
  {
   "cell_type": "markdown",
   "metadata": {},
   "source": [
    "## Contents"
   ]
  },
  {
   "cell_type": "markdown",
   "metadata": {},
   "source": [
    "* [1. Problem Statement](#1)\n",
    "* [2. Data Prepration](#2)\n",
    " * [2.1 Import Required Libraries](#2.1)\n",
    " * [2.2 Reading and Storing Data](#2.2)\n",
    "* [3.Build the vanilla Viterbi based POS tagger](#3)\n",
    " * [3.1 Creating Hidden Markov Model generate probabilities](#3.1)\n",
    "      * [3.1.1 Calculating Emission Probabilities](#3.1.1)\n",
    "      * [3.1.2  Calculating Transition Probablities](#3.1.2)\n",
    "      * [3.1.3 Creating a Transmission Matrix for Tags ](#3.1.3)\n",
    " * [ 3.2 Implementing Viterbi Algorithm (Vanilla)](#3.2) \n",
    "      * [3.2.1 Defining Viterbi (Vanilla) Function](#3.2.1)\n",
    "      * [3.2.2 Computing performnce on Validation Set](#3.2.2)\n",
    "      * [3.2.3 Analysing Incorrect Tags from Validation Set](#3.2.3)\n",
    "      * [3.2.4 Computing Performcance againt the Test dataset](#3.2.4)\n",
    "* [4. Solve the problem of unknown words](#4)\n",
    " * [ Modified Viterbi Algorithm - Approach 01](#4.1)\n",
    "      * [4.1.1 Defining Viterbi (Modified) Function](#4.1.1)\n",
    "      * [4.1.2 Computing performnce on Validation Set](#4.1.2)\n",
    "      * [4.1.3 Analysing Incorrect Tags from Validation Set](#4.1.3)\n",
    "      * [4.1.4 Computing Performance againt the Test dataset.](#4.1.4)\n",
    "      * [4.1.5 Compare the tagging accuracies of the modifications with the vanilla Viterbi algorithm](#4.1.5)\n",
    "      * [4.1.6 List down cases which were incorrectly tagged by original POS tagger and got corrected by your modifications](#4.1.6)\n",
    " * [Rule Based Tagger - Approach 02](#4.2)\n",
    "      * [4.2.1 Create Rules for Regular Expresions](#4.2.1)\n",
    "      * [4.2.2 Defining Viterbi (Modified) Function](#4.2.2)\n",
    "      * [4.2.3 Computing performnce on Validation Set](#4.2.3)\n",
    "      * [4.2.4 Analysing Incorrect Tags from Validation Set](#4.2.4)\n",
    "      * [4.2.5 Computing Performance againt the Test dataset.](#4.2.5)\n",
    "      * [4.2.6 Compare the tagging accuracies of the modifications with the vanilla Viterbi algorithm](#4.2.6)\n",
    "      * [4.2.7 List down cases which were incorrectly tagged by original POS tagger and got corrected by your modifications](#4.2.7)\n",
    "* [5. Summary](#5)"
   ]
  },
  {
   "cell_type": "markdown",
   "metadata": {},
   "source": [
    "<a id=\"1\"></a>\n",
    "## 1. Problem Statement"
   ]
  },
  {
   "cell_type": "markdown",
   "metadata": {},
   "source": [
    "In this assignment, we need to modify the Viterbi algorithm to solve the problem of unknown words using at __least two techniques__. Though there could be multiple ways to solve this problem, you may use the following hints:\n",
    "\n",
    "* Which tag class do you think most unknown words belong to? Can you identify rules (e.g. based on morphological cues) that can be used to tag unknown words? You may define separate python functions to exploit these rules so that they work in tandem with the original Viterbi algorithm.\n",
    "* Why does the Viterbi algorithm choose a random tag on encountering an unknown word? Can you modify the Viterbi algorithm so that it considers only one of the transition or emission probabilities for unknown words?"
   ]
  },
  {
   "cell_type": "markdown",
   "metadata": {},
   "source": [
    "<a id=\"2\"></a>\n",
    "## 2. Data Preparation"
   ]
  },
  {
   "cell_type": "markdown",
   "metadata": {},
   "source": [
    "<a id=\"2.1\"></a>\n",
    "### 2.1 Import Required Libraries"
   ]
  },
  {
   "cell_type": "markdown",
   "metadata": {},
   "source": [
    "Let's start by importing the required libraries."
   ]
  },
  {
   "cell_type": "code",
   "execution_count": 1,
   "metadata": {},
   "outputs": [],
   "source": [
    "#Importing libraries\n",
    "import nltk\n",
    "import re, pprint\n",
    "import numpy as np\n",
    "import pandas as pd\n",
    "import requests\n",
    "import matplotlib.pyplot as plt\n",
    "import seaborn as sns\n",
    "import pprint, time\n",
    "import random\n",
    "from sklearn.model_selection import train_test_split\n",
    "from nltk.tokenize import word_tokenize\n",
    "from nltk.tag import RegexpTagger \n",
    "from nltk.corpus import treebank "
   ]
  },
  {
   "cell_type": "markdown",
   "metadata": {},
   "source": [
    "<a id=\"2.2\"></a>\n",
    "### 2.2 Reading and Storing Data"
   ]
  },
  {
   "cell_type": "markdown",
   "metadata": {},
   "source": [
    "Reading the NLTK corpus and storing the data into a variable:"
   ]
  },
  {
   "cell_type": "code",
   "execution_count": 2,
   "metadata": {},
   "outputs": [],
   "source": [
    "# reading the Treebank tagged sentences\n",
    "nltk_data = list(nltk.corpus.treebank.tagged_sents(tagset='universal'))"
   ]
  },
  {
   "cell_type": "markdown",
   "metadata": {},
   "source": [
    "Let's have a look at few sample sentences in the corpus"
   ]
  },
  {
   "cell_type": "code",
   "execution_count": 3,
   "metadata": {},
   "outputs": [
    {
     "name": "stdout",
     "output_type": "stream",
     "text": [
      "[[('Pierre', 'NOUN'), ('Vinken', 'NOUN'), (',', '.'), ('61', 'NUM'), ('years', 'NOUN'), ('old', 'ADJ'), (',', '.'), ('will', 'VERB'), ('join', 'VERB'), ('the', 'DET'), ('board', 'NOUN'), ('as', 'ADP'), ('a', 'DET'), ('nonexecutive', 'ADJ'), ('director', 'NOUN'), ('Nov.', 'NOUN'), ('29', 'NUM'), ('.', '.')], [('Mr.', 'NOUN'), ('Vinken', 'NOUN'), ('is', 'VERB'), ('chairman', 'NOUN'), ('of', 'ADP'), ('Elsevier', 'NOUN'), ('N.V.', 'NOUN'), (',', '.'), ('the', 'DET'), ('Dutch', 'NOUN'), ('publishing', 'VERB'), ('group', 'NOUN'), ('.', '.')], [('Rudolph', 'NOUN'), ('Agnew', 'NOUN'), (',', '.'), ('55', 'NUM'), ('years', 'NOUN'), ('old', 'ADJ'), ('and', 'CONJ'), ('former', 'ADJ'), ('chairman', 'NOUN'), ('of', 'ADP'), ('Consolidated', 'NOUN'), ('Gold', 'NOUN'), ('Fields', 'NOUN'), ('PLC', 'NOUN'), (',', '.'), ('was', 'VERB'), ('named', 'VERB'), ('*-1', 'X'), ('a', 'DET'), ('nonexecutive', 'ADJ'), ('director', 'NOUN'), ('of', 'ADP'), ('this', 'DET'), ('British', 'ADJ'), ('industrial', 'ADJ'), ('conglomerate', 'NOUN'), ('.', '.')], [('A', 'DET'), ('form', 'NOUN'), ('of', 'ADP'), ('asbestos', 'NOUN'), ('once', 'ADV'), ('used', 'VERB'), ('*', 'X'), ('*', 'X'), ('to', 'PRT'), ('make', 'VERB'), ('Kent', 'NOUN'), ('cigarette', 'NOUN'), ('filters', 'NOUN'), ('has', 'VERB'), ('caused', 'VERB'), ('a', 'DET'), ('high', 'ADJ'), ('percentage', 'NOUN'), ('of', 'ADP'), ('cancer', 'NOUN'), ('deaths', 'NOUN'), ('among', 'ADP'), ('a', 'DET'), ('group', 'NOUN'), ('of', 'ADP'), ('workers', 'NOUN'), ('exposed', 'VERB'), ('*', 'X'), ('to', 'PRT'), ('it', 'PRON'), ('more', 'ADV'), ('than', 'ADP'), ('30', 'NUM'), ('years', 'NOUN'), ('ago', 'ADP'), (',', '.'), ('researchers', 'NOUN'), ('reported', 'VERB'), ('0', 'X'), ('*T*-1', 'X'), ('.', '.')], [('The', 'DET'), ('asbestos', 'NOUN'), ('fiber', 'NOUN'), (',', '.'), ('crocidolite', 'NOUN'), (',', '.'), ('is', 'VERB'), ('unusually', 'ADV'), ('resilient', 'ADJ'), ('once', 'ADP'), ('it', 'PRON'), ('enters', 'VERB'), ('the', 'DET'), ('lungs', 'NOUN'), (',', '.'), ('with', 'ADP'), ('even', 'ADV'), ('brief', 'ADJ'), ('exposures', 'NOUN'), ('to', 'PRT'), ('it', 'PRON'), ('causing', 'VERB'), ('symptoms', 'NOUN'), ('that', 'DET'), ('*T*-1', 'X'), ('show', 'VERB'), ('up', 'PRT'), ('decades', 'NOUN'), ('later', 'ADJ'), (',', '.'), ('researchers', 'NOUN'), ('said', 'VERB'), ('0', 'X'), ('*T*-2', 'X'), ('.', '.')], [('Lorillard', 'NOUN'), ('Inc.', 'NOUN'), (',', '.'), ('the', 'DET'), ('unit', 'NOUN'), ('of', 'ADP'), ('New', 'ADJ'), ('York-based', 'ADJ'), ('Loews', 'NOUN'), ('Corp.', 'NOUN'), ('that', 'DET'), ('*T*-2', 'X'), ('makes', 'VERB'), ('Kent', 'NOUN'), ('cigarettes', 'NOUN'), (',', '.'), ('stopped', 'VERB'), ('using', 'VERB'), ('crocidolite', 'NOUN'), ('in', 'ADP'), ('its', 'PRON'), ('Micronite', 'NOUN'), ('cigarette', 'NOUN'), ('filters', 'NOUN'), ('in', 'ADP'), ('1956', 'NUM'), ('.', '.')], [('Although', 'ADP'), ('preliminary', 'ADJ'), ('findings', 'NOUN'), ('were', 'VERB'), ('reported', 'VERB'), ('*-2', 'X'), ('more', 'ADV'), ('than', 'ADP'), ('a', 'DET'), ('year', 'NOUN'), ('ago', 'ADP'), (',', '.'), ('the', 'DET'), ('latest', 'ADJ'), ('results', 'NOUN'), ('appear', 'VERB'), ('in', 'ADP'), ('today', 'NOUN'), (\"'s\", 'PRT'), ('New', 'NOUN'), ('England', 'NOUN'), ('Journal', 'NOUN'), ('of', 'ADP'), ('Medicine', 'NOUN'), (',', '.'), ('a', 'DET'), ('forum', 'NOUN'), ('likely', 'ADJ'), ('*', 'X'), ('to', 'PRT'), ('bring', 'VERB'), ('new', 'ADJ'), ('attention', 'NOUN'), ('to', 'PRT'), ('the', 'DET'), ('problem', 'NOUN'), ('.', '.')], [('A', 'DET'), ('Lorillard', 'NOUN'), ('spokewoman', 'NOUN'), ('said', 'VERB'), (',', '.'), ('``', '.'), ('This', 'DET'), ('is', 'VERB'), ('an', 'DET'), ('old', 'ADJ'), ('story', 'NOUN'), ('.', '.')], [('We', 'PRON'), (\"'re\", 'VERB'), ('talking', 'VERB'), ('about', 'ADP'), ('years', 'NOUN'), ('ago', 'ADP'), ('before', 'ADP'), ('anyone', 'NOUN'), ('heard', 'VERB'), ('of', 'ADP'), ('asbestos', 'NOUN'), ('having', 'VERB'), ('any', 'DET'), ('questionable', 'ADJ'), ('properties', 'NOUN'), ('.', '.')], [('There', 'DET'), ('is', 'VERB'), ('no', 'DET'), ('asbestos', 'NOUN'), ('in', 'ADP'), ('our', 'PRON'), ('products', 'NOUN'), ('now', 'ADV'), ('.', '.'), (\"''\", '.')], [('Neither', 'DET'), ('Lorillard', 'NOUN'), ('nor', 'CONJ'), ('the', 'DET'), ('researchers', 'NOUN'), ('who', 'PRON'), ('*T*-3', 'X'), ('studied', 'VERB'), ('the', 'DET'), ('workers', 'NOUN'), ('were', 'VERB'), ('aware', 'ADJ'), ('of', 'ADP'), ('any', 'DET'), ('research', 'NOUN'), ('on', 'ADP'), ('smokers', 'NOUN'), ('of', 'ADP'), ('the', 'DET'), ('Kent', 'NOUN'), ('cigarettes', 'NOUN'), ('.', '.')], [('``', '.'), ('We', 'PRON'), ('have', 'VERB'), ('no', 'DET'), ('useful', 'ADJ'), ('information', 'NOUN'), ('on', 'ADP'), ('whether', 'ADP'), ('users', 'NOUN'), ('are', 'VERB'), ('at', 'ADP'), ('risk', 'NOUN'), (',', '.'), (\"''\", '.'), ('said', 'VERB'), ('*T*-1', 'X'), ('James', 'NOUN'), ('A.', 'NOUN'), ('Talcott', 'NOUN'), ('of', 'ADP'), ('Boston', 'NOUN'), (\"'s\", 'PRT'), ('Dana-Farber', 'NOUN'), ('Cancer', 'NOUN'), ('Institute', 'NOUN'), ('.', '.')], [('Dr.', 'NOUN'), ('Talcott', 'NOUN'), ('led', 'VERB'), ('a', 'DET'), ('team', 'NOUN'), ('of', 'ADP'), ('researchers', 'NOUN'), ('from', 'ADP'), ('the', 'DET'), ('National', 'NOUN'), ('Cancer', 'NOUN'), ('Institute', 'NOUN'), ('and', 'CONJ'), ('the', 'DET'), ('medical', 'ADJ'), ('schools', 'NOUN'), ('of', 'ADP'), ('Harvard', 'NOUN'), ('University', 'NOUN'), ('and', 'CONJ'), ('Boston', 'NOUN'), ('University', 'NOUN'), ('.', '.')], [('The', 'DET'), ('Lorillard', 'NOUN'), ('spokeswoman', 'NOUN'), ('said', 'VERB'), ('0', 'X'), ('asbestos', 'NOUN'), ('was', 'VERB'), ('used', 'VERB'), ('*-1', 'X'), ('in', 'ADP'), ('``', '.'), ('very', 'ADV'), ('modest', 'ADJ'), ('amounts', 'NOUN'), (\"''\", '.'), ('in', 'ADP'), ('*', 'X'), ('making', 'VERB'), ('paper', 'NOUN'), ('for', 'ADP'), ('the', 'DET'), ('filters', 'NOUN'), ('in', 'ADP'), ('the', 'DET'), ('early', 'ADJ'), ('1950s', 'NUM'), ('and', 'CONJ'), ('replaced', 'VERB'), ('*-1', 'X'), ('with', 'ADP'), ('a', 'DET'), ('different', 'ADJ'), ('type', 'NOUN'), ('of', 'ADP'), ('filter', 'NOUN'), ('in', 'ADP'), ('1956', 'NUM'), ('.', '.')], [('From', 'ADP'), ('1953', 'NUM'), ('to', 'PRT'), ('1955', 'NUM'), (',', '.'), ('9.8', 'NUM'), ('billion', 'NUM'), ('Kent', 'NOUN'), ('cigarettes', 'NOUN'), ('with', 'ADP'), ('the', 'DET'), ('filters', 'NOUN'), ('were', 'VERB'), ('sold', 'VERB'), ('*-3', 'X'), (',', '.'), ('the', 'DET'), ('company', 'NOUN'), ('said', 'VERB'), ('0', 'X'), ('*T*-1', 'X'), ('.', '.')], [('Among', 'ADP'), ('33', 'NUM'), ('men', 'NOUN'), ('who', 'PRON'), ('*T*-4', 'X'), ('worked', 'VERB'), ('closely', 'ADV'), ('with', 'ADP'), ('the', 'DET'), ('substance', 'NOUN'), (',', '.'), ('28', 'NUM'), ('*ICH*-1', 'X'), ('have', 'VERB'), ('died', 'VERB'), ('--', '.'), ('more', 'ADJ'), ('than', 'ADP'), ('three', 'NUM'), ('times', 'NOUN'), ('the', 'DET'), ('expected', 'VERB'), ('number', 'NOUN'), ('.', '.')], [('Four', 'NUM'), ('of', 'ADP'), ('the', 'DET'), ('five', 'NUM'), ('surviving', 'VERB'), ('workers', 'NOUN'), ('have', 'VERB'), ('asbestos-related', 'ADJ'), ('diseases', 'NOUN'), (',', '.'), ('including', 'VERB'), ('three', 'NUM'), ('with', 'ADP'), ('recently', 'ADV'), ('diagnosed', 'VERB'), ('cancer', 'NOUN'), ('.', '.')], [('The', 'DET'), ('total', 'NOUN'), ('of', 'ADP'), ('18', 'NUM'), ('deaths', 'NOUN'), ('from', 'ADP'), ('malignant', 'ADJ'), ('mesothelioma', 'NOUN'), (',', '.'), ('lung', 'NOUN'), ('cancer', 'NOUN'), ('and', 'CONJ'), ('asbestosis', 'NOUN'), ('was', 'VERB'), ('far', 'ADV'), ('higher', 'ADJ'), ('than', 'ADP'), ('*', 'X'), ('expected', 'VERB'), ('*?*', 'X'), (',', '.'), ('the', 'DET'), ('researchers', 'NOUN'), ('said', 'VERB'), ('0', 'X'), ('*T*-1', 'X'), ('.', '.')], [('``', '.'), ('The', 'DET'), ('morbidity', 'NOUN'), ('rate', 'NOUN'), ('is', 'VERB'), ('a', 'DET'), ('striking', 'ADJ'), ('finding', 'NOUN'), ('among', 'ADP'), ('those', 'DET'), ('of', 'ADP'), ('us', 'PRON'), ('who', 'PRON'), ('*T*-5', 'X'), ('study', 'VERB'), ('asbestos-related', 'ADJ'), ('diseases', 'NOUN'), (',', '.'), (\"''\", '.'), ('said', 'VERB'), ('*T*-1', 'X'), ('Dr.', 'NOUN'), ('Talcott', 'NOUN'), ('.', '.')], [('The', 'DET'), ('percentage', 'NOUN'), ('of', 'ADP'), ('lung', 'NOUN'), ('cancer', 'NOUN'), ('deaths', 'NOUN'), ('among', 'ADP'), ('the', 'DET'), ('workers', 'NOUN'), ('at', 'ADP'), ('the', 'DET'), ('West', 'NOUN'), ('Groton', 'NOUN'), (',', '.'), ('Mass.', 'NOUN'), (',', '.'), ('paper', 'NOUN'), ('factory', 'NOUN'), ('appears', 'VERB'), ('*-1', 'X'), ('to', 'PRT'), ('be', 'VERB'), ('the', 'DET'), ('highest', 'ADJ'), ('for', 'ADP'), ('any', 'DET'), ('asbestos', 'NOUN'), ('workers', 'NOUN'), ('studied', 'VERB'), ('*', 'X'), ('in', 'ADP'), ('Western', 'ADJ'), ('industrialized', 'VERB'), ('countries', 'NOUN'), (',', '.'), ('he', 'PRON'), ('said', 'VERB'), ('0', 'X'), ('*T*-2', 'X'), ('.', '.')], [('The', 'DET'), ('plant', 'NOUN'), (',', '.'), ('which', 'DET'), ('*T*-1', 'X'), ('is', 'VERB'), ('owned', 'VERB'), ('*-4', 'X'), ('by', 'ADP'), ('Hollingsworth', 'NOUN'), ('&', 'CONJ'), ('Vose', 'NOUN'), ('Co.', 'NOUN'), (',', '.'), ('was', 'VERB'), ('under', 'ADP'), ('contract', 'NOUN'), ('*ICH*-2', 'X'), ('with', 'ADP'), ('Lorillard', 'NOUN'), ('*', 'X'), ('to', 'PRT'), ('make', 'VERB'), ('the', 'DET'), ('cigarette', 'NOUN'), ('filters', 'NOUN'), ('.', '.')], [('The', 'DET'), ('finding', 'NOUN'), ('probably', 'ADV'), ('will', 'VERB'), ('support', 'VERB'), ('those', 'DET'), ('who', 'PRON'), ('*T*-6', 'X'), ('argue', 'VERB'), ('that', 'ADP'), ('the', 'DET'), ('U.S.', 'NOUN'), ('should', 'VERB'), ('regulate', 'VERB'), ('the', 'DET'), ('class', 'NOUN'), ('of', 'ADP'), ('asbestos', 'NOUN'), ('including', 'VERB'), ('crocidolite', 'NOUN'), ('more', 'ADV'), ('stringently', 'ADV'), ('than', 'ADP'), ('the', 'DET'), ('common', 'ADJ'), ('kind', 'NOUN'), ('of', 'ADP'), ('asbestos', 'NOUN'), (',', '.'), ('chrysotile', 'NOUN'), (',', '.'), ('found', 'VERB'), ('*', 'X'), ('in', 'ADP'), ('most', 'ADJ'), ('schools', 'NOUN'), ('and', 'CONJ'), ('other', 'ADJ'), ('buildings', 'NOUN'), (',', '.'), ('Dr.', 'NOUN'), ('Talcott', 'NOUN'), ('said', 'VERB'), ('0', 'X'), ('*T*-1', 'X'), ('.', '.')], [('The', 'DET'), ('U.S.', 'NOUN'), ('is', 'VERB'), ('one', 'NUM'), ('of', 'ADP'), ('the', 'DET'), ('few', 'ADJ'), ('industrialized', 'VERB'), ('nations', 'NOUN'), ('that', 'DET'), ('*T*-7', 'X'), ('does', 'VERB'), (\"n't\", 'ADV'), ('have', 'VERB'), ('a', 'DET'), ('higher', 'ADJ'), ('standard', 'NOUN'), ('of', 'ADP'), ('regulation', 'NOUN'), ('for', 'ADP'), ('the', 'DET'), ('smooth', 'ADJ'), (',', '.'), ('needle-like', 'ADJ'), ('fibers', 'NOUN'), ('such', 'ADJ'), ('as', 'ADP'), ('crocidolite', 'NOUN'), ('that', 'DET'), ('*T*-1', 'X'), ('are', 'VERB'), ('classified', 'VERB'), ('*-5', 'X'), ('as', 'ADP'), ('amphobiles', 'NOUN'), (',', '.'), ('according', 'VERB'), ('to', 'PRT'), ('Brooke', 'NOUN'), ('T.', 'NOUN'), ('Mossman', 'NOUN'), (',', '.'), ('a', 'DET'), ('professor', 'NOUN'), ('of', 'ADP'), ('pathlogy', 'NOUN'), ('at', 'ADP'), ('the', 'DET'), ('University', 'NOUN'), ('of', 'ADP'), ('Vermont', 'NOUN'), ('College', 'NOUN'), ('of', 'ADP'), ('Medicine', 'NOUN'), ('.', '.')], [('More', 'ADV'), ('common', 'ADJ'), ('chrysotile', 'NOUN'), ('fibers', 'NOUN'), ('are', 'VERB'), ('curly', 'ADJ'), ('and', 'CONJ'), ('are', 'VERB'), ('more', 'ADV'), ('easily', 'ADV'), ('rejected', 'VERB'), ('*-1', 'X'), ('by', 'ADP'), ('the', 'DET'), ('body', 'NOUN'), (',', '.'), ('Dr.', 'NOUN'), ('Mossman', 'NOUN'), ('explained', 'VERB'), ('0', 'X'), ('*T*-2', 'X'), ('.', '.')], [('In', 'ADP'), ('July', 'NOUN'), (',', '.'), ('the', 'DET'), ('Environmental', 'NOUN'), ('Protection', 'NOUN'), ('Agency', 'NOUN'), ('imposed', 'VERB'), ('a', 'DET'), ('gradual', 'ADJ'), ('ban', 'NOUN'), ('on', 'ADP'), ('virtually', 'ADV'), ('all', 'DET'), ('uses', 'NOUN'), ('of', 'ADP'), ('asbestos', 'NOUN'), ('.', '.')], [('By', 'ADP'), ('1997', 'NUM'), (',', '.'), ('almost', 'ADV'), ('all', 'DET'), ('remaining', 'VERB'), ('uses', 'NOUN'), ('of', 'ADP'), ('cancer-causing', 'ADJ'), ('asbestos', 'NOUN'), ('will', 'VERB'), ('be', 'VERB'), ('outlawed', 'VERB'), ('*-6', 'X'), ('.', '.')], [('About', 'ADP'), ('160', 'NUM'), ('workers', 'NOUN'), ('at', 'ADP'), ('a', 'DET'), ('factory', 'NOUN'), ('that', 'DET'), ('*T*-8', 'X'), ('made', 'VERB'), ('paper', 'NOUN'), ('for', 'ADP'), ('the', 'DET'), ('Kent', 'NOUN'), ('filters', 'NOUN'), ('were', 'VERB'), ('exposed', 'VERB'), ('*-7', 'X'), ('to', 'PRT'), ('asbestos', 'NOUN'), ('in', 'ADP'), ('the', 'DET'), ('1950s', 'NUM'), ('.', '.')], [('Areas', 'NOUN'), ('of', 'ADP'), ('the', 'DET'), ('factory', 'NOUN'), ('*ICH*-2', 'X'), ('were', 'VERB'), ('particularly', 'ADV'), ('dusty', 'ADJ'), ('where', 'ADV'), ('the', 'DET'), ('crocidolite', 'NOUN'), ('was', 'VERB'), ('used', 'VERB'), ('*-8', 'X'), ('*T*-1', 'X'), ('.', '.')], [('Workers', 'NOUN'), ('dumped', 'VERB'), ('large', 'ADJ'), ('burlap', 'NOUN'), ('sacks', 'NOUN'), ('of', 'ADP'), ('the', 'DET'), ('imported', 'VERB'), ('material', 'NOUN'), ('into', 'ADP'), ('a', 'DET'), ('huge', 'ADJ'), ('bin', 'NOUN'), (',', '.'), ('poured', 'VERB'), ('in', 'PRT'), ('cotton', 'NOUN'), ('and', 'CONJ'), ('acetate', 'NOUN'), ('fibers', 'NOUN'), ('and', 'CONJ'), ('mechanically', 'ADV'), ('mixed', 'VERB'), ('the', 'DET'), ('dry', 'ADJ'), ('fibers', 'NOUN'), ('in', 'ADP'), ('a', 'DET'), ('process', 'NOUN'), ('used', 'VERB'), ('*', 'X'), ('*', 'X'), ('to', 'PRT'), ('make', 'VERB'), ('filters', 'NOUN'), ('.', '.')], [('Workers', 'NOUN'), ('described', 'VERB'), ('``', '.'), ('clouds', 'NOUN'), ('of', 'ADP'), ('blue', 'ADJ'), ('dust', 'NOUN'), (\"''\", '.'), ('that', 'DET'), ('*T*-1', 'X'), ('hung', 'VERB'), ('over', 'ADP'), ('parts', 'NOUN'), ('of', 'ADP'), ('the', 'DET'), ('factory', 'NOUN'), (',', '.'), ('even', 'ADV'), ('though', 'ADP'), ('exhaust', 'NOUN'), ('fans', 'NOUN'), ('ventilated', 'VERB'), ('the', 'DET'), ('area', 'NOUN'), ('.', '.')], [('``', '.'), ('There', 'DET'), (\"'s\", 'VERB'), ('no', 'DET'), ('question', 'NOUN'), ('that', 'ADP'), ('some', 'DET'), ('of', 'ADP'), ('those', 'DET'), ('workers', 'NOUN'), ('and', 'CONJ'), ('managers', 'NOUN'), ('contracted', 'VERB'), ('asbestos-related', 'ADJ'), ('diseases', 'NOUN'), (',', '.'), (\"''\", '.'), ('said', 'VERB'), ('*T*-1', 'X'), ('Darrell', 'NOUN'), ('Phillips', 'NOUN'), (',', '.'), ('vice', 'NOUN'), ('president', 'NOUN'), ('of', 'ADP'), ('human', 'ADJ'), ('resources', 'NOUN'), ('for', 'ADP'), ('Hollingsworth', 'NOUN'), ('&', 'CONJ'), ('Vose', 'NOUN'), ('.', '.')], [('``', '.'), ('But', 'CONJ'), ('you', 'PRON'), ('have', 'VERB'), ('*-1', 'X'), ('to', 'PRT'), ('recognize', 'VERB'), ('that', 'ADP'), ('these', 'DET'), ('events', 'NOUN'), ('took', 'VERB'), ('place', 'NOUN'), ('35', 'NUM'), ('years', 'NOUN'), ('ago', 'ADP'), ('.', '.')], [('It', 'PRON'), ('has', 'VERB'), ('no', 'DET'), ('bearing', 'NOUN'), ('on', 'ADP'), ('our', 'PRON'), ('work', 'NOUN'), ('force', 'NOUN'), ('today', 'NOUN'), ('.', '.')], [('Yields', 'NOUN'), ('on', 'ADP'), ('money-market', 'ADJ'), ('mutual', 'ADJ'), ('funds', 'NOUN'), ('continued', 'VERB'), ('*-1', 'X'), ('to', 'PRT'), ('slide', 'VERB'), (',', '.'), ('amid', 'ADP'), ('signs', 'NOUN'), ('that', 'ADP'), ('portfolio', 'NOUN'), ('managers', 'NOUN'), ('expect', 'VERB'), ('further', 'ADJ'), ('declines', 'NOUN'), ('in', 'ADP'), ('interest', 'NOUN'), ('rates', 'NOUN'), ('.', '.')], [('The', 'DET'), ('average', 'ADJ'), ('seven-day', 'ADJ'), ('compound', 'NOUN'), ('yield', 'NOUN'), ('of', 'ADP'), ('the', 'DET'), ('400', 'NUM'), ('taxable', 'ADJ'), ('funds', 'NOUN'), ('tracked', 'VERB'), ('*', 'X'), ('by', 'ADP'), ('IBC', 'NOUN'), (\"'s\", 'PRT'), ('Money', 'NOUN'), ('Fund', 'NOUN'), ('Report', 'NOUN'), ('eased', 'VERB'), ('a', 'DET'), ('fraction', 'NOUN'), ('of', 'ADP'), ('a', 'DET'), ('percentage', 'NOUN'), ('point', 'NOUN'), ('to', 'PRT'), ('8.45', 'NUM'), ('%', 'NOUN'), ('from', 'ADP'), ('8.47', 'NUM'), ('%', 'NOUN'), ('for', 'ADP'), ('the', 'DET'), ('week', 'NOUN'), ('ended', 'VERB'), ('Tuesday', 'NOUN'), ('.', '.')], [('Compound', 'NOUN'), ('yields', 'NOUN'), ('assume', 'VERB'), ('reinvestment', 'NOUN'), ('of', 'ADP'), ('dividends', 'NOUN'), ('and', 'CONJ'), ('that', 'ADP'), ('the', 'DET'), ('current', 'ADJ'), ('yield', 'NOUN'), ('continues', 'VERB'), ('for', 'ADP'), ('a', 'DET'), ('year', 'NOUN'), ('.', '.')], [('Average', 'ADJ'), ('maturity', 'NOUN'), ('of', 'ADP'), ('the', 'DET'), ('funds', 'NOUN'), (\"'\", 'PRT'), ('investments', 'NOUN'), ('lengthened', 'VERB'), ('by', 'ADP'), ('a', 'DET'), ('day', 'NOUN'), ('to', 'PRT'), ('41', 'NUM'), ('days', 'NOUN'), (',', '.'), ('the', 'DET'), ('longest', 'ADJ'), ('since', 'ADP'), ('early', 'ADJ'), ('August', 'NOUN'), (',', '.'), ('according', 'VERB'), ('to', 'PRT'), ('Donoghue', 'NOUN'), (\"'s\", 'PRT'), ('.', '.')], [('Longer', 'ADJ'), ('maturities', 'NOUN'), ('are', 'VERB'), ('thought', 'VERB'), ('*-1', 'X'), ('to', 'PRT'), ('indicate', 'VERB'), ('declining', 'VERB'), ('interest', 'NOUN'), ('rates', 'NOUN'), ('because', 'ADP'), ('they', 'PRON'), ('permit', 'VERB'), ('portfolio', 'NOUN'), ('managers', 'NOUN'), ('to', 'PRT'), ('retain', 'VERB'), ('relatively', 'ADV'), ('higher', 'ADJ'), ('rates', 'NOUN'), ('for', 'ADP'), ('a', 'DET'), ('longer', 'ADJ'), ('period', 'NOUN'), ('.', '.')], [('Shorter', 'ADJ'), ('maturities', 'NOUN'), ('are', 'VERB'), ('considered', 'VERB'), ('*-9', 'X'), ('a', 'DET'), ('sign', 'NOUN'), ('of', 'ADP'), ('rising', 'VERB'), ('rates', 'NOUN'), ('because', 'ADP'), ('portfolio', 'NOUN'), ('managers', 'NOUN'), ('can', 'VERB'), ('capture', 'VERB'), ('higher', 'ADJ'), ('rates', 'NOUN'), ('sooner', 'ADV'), ('.', '.')], [('The', 'DET'), ('average', 'ADJ'), ('maturity', 'NOUN'), ('for', 'ADP'), ('funds', 'NOUN'), ('open', 'ADJ'), ('only', 'ADV'), ('to', 'PRT'), ('institutions', 'NOUN'), (',', '.'), ('considered', 'VERB'), ('by', 'ADP'), ('some', 'DET'), ('*', 'X'), ('to', 'PRT'), ('be', 'VERB'), ('a', 'DET'), ('stronger', 'ADJ'), ('indicator', 'NOUN'), ('because', 'ADP'), ('those', 'DET'), ('managers', 'NOUN'), ('watch', 'VERB'), ('the', 'DET'), ('market', 'NOUN'), ('closely', 'ADV'), (',', '.'), ('reached', 'VERB'), ('a', 'DET'), ('high', 'ADJ'), ('point', 'NOUN'), ('for', 'ADP'), ('the', 'DET'), ('year', 'NOUN'), ('--', '.'), ('33', 'NUM'), ('days', 'NOUN'), ('.', '.')]]\n"
     ]
    }
   ],
   "source": [
    "# first few tagged sentences\n",
    "print(nltk_data[:40])"
   ]
  },
  {
   "cell_type": "markdown",
   "metadata": {},
   "source": [
    "Let's store the Test data, which we will need to validate the Model and store in a variable `test_sentences`"
   ]
  },
  {
   "cell_type": "code",
   "execution_count": 4,
   "metadata": {},
   "outputs": [],
   "source": [
    "with open('Test_sentences.txt', 'r') as file:\n",
    "    test_sentences = file.read()"
   ]
  },
  {
   "cell_type": "markdown",
   "metadata": {},
   "source": [
    "Now, let's split nltk_data into train and test test."
   ]
  },
  {
   "cell_type": "code",
   "execution_count": 5,
   "metadata": {},
   "outputs": [
    {
     "name": "stdout",
     "output_type": "stream",
     "text": [
      "3718\n",
      "196\n",
      "[[('``', '.'), ('She', 'PRON'), ('said', 'VERB'), ('something', 'NOUN'), ('like', 'ADP'), ('`', '.'), ('You', 'PRON'), ('just', 'ADV'), ('want', 'VERB'), ('*-1', 'X'), ('to', 'PRT'), ('make', 'VERB'), ('it', 'PRON'), ('easy', 'ADJ'), ('for', 'ADP'), ('the', 'DET'), ('school', 'NOUN'), ('.', '.'), (\"'\", '.')], [('The', 'DET'), ('U.S.', 'NOUN'), ('Chamber', 'NOUN'), ('of', 'ADP'), ('Commerce', 'NOUN'), (',', '.'), ('*-1', 'X'), ('still', 'ADV'), ('opposed', 'VERB'), ('to', 'PRT'), ('any', 'DET'), ('mininum-wage', 'NOUN'), ('increase', 'NOUN'), (',', '.'), ('said', 'VERB'), ('0', 'X'), ('the', 'DET'), ('compromise', 'NOUN'), ('plan', 'NOUN'), ('*', 'X'), ('to', 'PRT'), ('lift', 'VERB'), ('the', 'DET'), ('wage', 'NOUN'), ('floor', 'NOUN'), ('27', 'NUM'), ('%', 'NOUN'), ('in', 'ADP'), ('two', 'NUM'), ('stages', 'NOUN'), ('between', 'ADP'), ('April', 'NOUN'), ('1990', 'NUM'), ('and', 'CONJ'), ('April', 'NOUN'), ('1991', 'NUM'), ('``', '.'), ('will', 'VERB'), ('be', 'VERB'), ('impossible', 'ADJ'), ('for', 'ADP'), ('many', 'ADJ'), ('employers', 'NOUN'), ('to', 'PRT'), ('accommodate', 'VERB'), ('and', 'CONJ'), ('will', 'VERB'), ('result', 'VERB'), ('in', 'ADP'), ('the', 'DET'), ('elimination', 'NOUN'), ('of', 'ADP'), ('jobs', 'NOUN'), ('for', 'ADP'), ('American', 'ADJ'), ('workers', 'NOUN'), ('and', 'CONJ'), ('higher', 'ADJ'), ('prices', 'NOUN'), ('for', 'ADP'), ('American', 'ADJ'), ('consumers', 'NOUN'), ('.', '.')], [('The', 'DET'), ('U.S.S.R.', 'NOUN'), ('belongs', 'VERB'), ('to', 'PRT'), ('neither', 'DET'), ('organization', 'NOUN'), ('.', '.')], [('The', 'DET'), ('new', 'ADJ'), ('company', 'NOUN'), ('will', 'VERB'), ('attempt', 'VERB'), ('*-1', 'X'), ('to', 'PRT'), ('limit', 'VERB'), ('the', 'DET'), ('shipyard', 'NOUN'), (\"'s\", 'PRT'), ('losses', 'NOUN'), (',', '.'), ('participants', 'NOUN'), ('said', 'VERB'), ('0', 'X'), ('*T*-2', 'X'), ('.', '.')], [('Sony', 'NOUN'), ('Columbia', 'NOUN'), ('Acquisition', 'NOUN'), ('Corp.', 'NOUN'), (',', '.'), ('formed', 'VERB'), ('*', 'X'), ('for', 'ADP'), ('the', 'DET'), ('Columbia', 'NOUN'), ('deal', 'NOUN'), (',', '.'), ('will', 'VERB'), ('formally', 'ADV'), ('take', 'VERB'), ('ownership', 'NOUN'), ('of', 'ADP'), ('the', 'DET'), ('movie', 'NOUN'), ('studio', 'NOUN'), ('later', 'ADJ'), ('this', 'DET'), ('month', 'NOUN'), (',', '.'), ('a', 'DET'), ('spokesman', 'NOUN'), ('said', 'VERB'), ('0', 'X'), ('*T*-1', 'X'), ('.', '.')], [('In', 'ADP'), ('reference', 'NOUN'), ('to', 'PRT'), ('your', 'PRON'), ('Oct.', 'NOUN'), ('9', 'NUM'), ('page-one', 'NOUN'), ('article', 'NOUN'), ('``', '.'), ('Barbara', 'NOUN'), ('Bush', 'NOUN'), ('Earns', 'VERB'), ('Even', 'ADV'), ('Higher', 'ADJ'), ('Ratings', 'NOUN'), ('Than', 'ADP'), ('the', 'DET'), ('President', 'NOUN'), (',', '.'), (\"''\", '.'), ('it', 'PRON'), ('*EXP*-1', 'X'), ('is', 'VERB'), ('regrettable', 'ADJ'), ('that', 'ADP'), ('you', 'PRON'), ('must', 'VERB'), ('continually', 'ADV'), ('define', 'VERB'), ('blacks', 'NOUN'), ('by', 'ADP'), ('our', 'PRON'), ('negatives', 'NOUN'), (':', '.'), ('``', '.'), ('Among', 'ADP'), ('liberals', 'NOUN'), (',', '.'), ('60', 'NUM'), ('%', 'NOUN'), ('have', 'VERB'), ('positive', 'ADJ'), ('views', 'NOUN'), ('of', 'ADP'), ('her', 'PRON'), (',', '.'), ('while', 'ADP'), ('50', 'NUM'), ('%', 'NOUN'), ('approve', 'VERB'), ('of', 'ADP'), ('the', 'DET'), ('president', 'NOUN'), (\"'s\", 'PRT'), ('job', 'NOUN'), ('performance', 'NOUN'), ('.', '.')], [('``', '.'), ('These', 'DET'), ('two', 'NUM'), ('exposures', 'NOUN'), ('alone', 'ADV'), ('represent', 'VERB'), ('a', 'DET'), ('very', 'ADV'), ('substantial', 'ADJ'), ('portion', 'NOUN'), ('of', 'ADP'), ('CS', 'NOUN'), ('First', 'NOUN'), ('Boston', 'NOUN'), (\"'s\", 'PRT'), ('equity', 'NOUN'), (',', '.'), (\"''\", '.'), ('Moody', 'NOUN'), (\"'s\", 'PRT'), ('said', 'VERB'), ('*T*-1', 'X'), ('.', '.')], [('According', 'VERB'), ('to', 'PRT'), ('reports', 'NOUN'), ('carried', 'VERB'), ('*', 'X'), ('by', 'ADP'), ('various', 'ADJ'), ('news', 'NOUN'), ('services', 'NOUN'), (',', '.'), ('the', 'DET'), ('Brazilian', 'ADJ'), ('government', 'NOUN'), ('told', 'VERB'), ('its', 'PRON'), ('sugar', 'NOUN'), ('producers', 'NOUN'), ('that', 'ADP'), ('they', 'PRON'), ('wo', 'VERB'), (\"n't\", 'ADV'), ('be', 'VERB'), ('allowed', 'VERB'), ('*-1', 'X'), ('to', 'PRT'), ('export', 'VERB'), ('sugar', 'NOUN'), ('during', 'ADP'), ('the', 'DET'), ('current', 'ADJ'), ('1989-90', 'NUM'), ('season', 'NOUN'), (',', '.'), ('which', 'DET'), ('*T*-92', 'X'), ('began', 'VERB'), ('May', 'NOUN'), ('1', 'NUM'), (',', '.'), ('and', 'CONJ'), ('the', 'DET'), ('1990-91', 'NUM'), ('season', 'NOUN'), ('so', 'ADP'), ('that', 'ADP'), ('it', 'PRON'), ('can', 'VERB'), ('be', 'VERB'), ('used', 'VERB'), ('*-2', 'X'), ('*', 'X'), ('to', 'PRT'), ('produce', 'VERB'), ('alcohol', 'NOUN'), ('for', 'ADP'), ('automobile', 'NOUN'), ('fuel', 'NOUN'), ('.', '.')], [('In', 'ADP'), ('*', 'X'), ('quoting', 'VERB'), ('from', 'ADP'), ('our', 'PRON'), ('research', 'NOUN'), ('you', 'PRON'), ('emphasized', 'VERB'), ('the', 'DET'), ('high', 'ADJ'), ('prevalance', 'NOUN'), ('of', 'ADP'), ('mental', 'ADJ'), ('illness', 'NOUN'), ('and', 'CONJ'), ('alcoholism', 'NOUN'), ('.', '.')], [('The', 'DET'), ('two', 'NUM'), ('banks', 'NOUN'), ('merged', 'VERB'), ('in', 'ADP'), ('1985', 'NUM'), ('.', '.')], [('They', 'PRON'), ('are', 'VERB'), ('better', 'ADV'), ('able', 'ADJ'), ('*-1', 'X'), ('to', 'PRT'), ('get', 'VERB'), ('to', 'PRT'), ('those', 'DET'), ('segments', 'NOUN'), ('in', 'ADP'), ('the', 'DET'), ('wake', 'NOUN'), ('of', 'ADP'), ('the', 'DET'), ('deregulation', 'NOUN'), ('that', 'DET'), ('*T*-200', 'X'), ('began', 'VERB'), ('in', 'ADP'), ('the', 'DET'), ('late', 'ADJ'), ('1970s', 'NUM'), ('.', '.')], [('The', 'DET'), ('offer', 'NOUN'), (',', '.'), ('valued', 'VERB'), ('*', 'X'), ('at', 'ADP'), ('about', 'ADP'), ('$', '.'), ('576', 'NUM'), ('million', 'NUM'), ('*U*', 'X'), ('for', 'ADP'), ('the', 'DET'), ('33', 'NUM'), ('%', 'NOUN'), ('of', 'ADP'), ('Telerate', 'NOUN'), ('that', 'ADP'), ('Dow', 'NOUN'), ('Jones', 'NOUN'), ('does', 'VERB'), (\"n't\", 'ADV'), ('already', 'ADV'), ('own', 'VERB'), ('*T*-1', 'X'), (',', '.'), ('had', 'VERB'), ('been', 'VERB'), ('set', 'VERB'), ('*-2', 'X'), ('to', 'PRT'), ('expire', 'VERB'), ('Nov.', 'NOUN'), ('6', 'NUM'), ('.', '.')], [('She', 'PRON'), ('says', 'VERB'), ('0', 'X'), ('individual', 'ADJ'), ('Barnett', 'NOUN'), ('branches', 'NOUN'), ('can', 'VERB'), ('add', 'VERB'), ('different', 'ADJ'), ('benefits', 'NOUN'), ('*ICH*-1', 'X'), ('to', 'PRT'), ('their', 'PRON'), ('Seniors', 'NOUN'), ('Partners', 'NOUN'), ('package', 'NOUN'), ('--', '.'), ('such', 'ADJ'), ('as', 'ADP'), ('athletic', 'ADJ'), ('activities', 'NOUN'), ('or', 'CONJ'), ('travel', 'NOUN'), ('clubs', 'NOUN'), ('--', '.'), ('*-2', 'X'), ('to', 'ADJ'), ('appeal', 'NOUN'), ('to', 'PRT'), ('local', 'ADJ'), ('market', 'NOUN'), ('interests', 'NOUN'), ('.', '.')], [('Fees', 'NOUN'), ('1', 'NUM'), ('3\\\\/4', 'NUM'), ('.', '.')], [('The', 'DET'), ('U.S.', 'NOUN'), ('wants', 'VERB'), ('the', 'DET'), ('removal', 'NOUN'), ('of', 'ADP'), ('what', 'PRON'), ('it', 'PRON'), ('perceives', 'VERB'), ('*T*-183', 'X'), ('as', 'ADP'), ('barriers', 'NOUN'), ('to', 'PRT'), ('investment', 'NOUN'), (';', '.'), ('Japan', 'NOUN'), ('denies', 'VERB'), ('0', 'X'), ('there', 'DET'), ('are', 'VERB'), ('real', 'ADJ'), ('barriers', 'NOUN'), ('.', '.')], [('Far', 'ADV'), ('above', 'ADV'), ('in', 'ADP'), ('the', 'DET'), ('belfry', 'NOUN'), (',', '.'), ('the', 'DET'), ('huge', 'ADJ'), ('bronze', 'NOUN'), ('bells', 'NOUN'), (',', '.'), ('mounted', 'VERB'), ('*', 'X'), ('on', 'ADP'), ('wheels', 'NOUN'), (',', '.'), ('swing', 'VERB'), ('madly', 'ADV'), ('through', 'ADP'), ('a', 'DET'), ('full', 'ADJ'), ('360', 'NUM'), ('degrees', 'NOUN'), (',', '.'), ('*-1', 'X'), ('starting', 'VERB'), ('and', 'CONJ'), ('ending', 'VERB'), (',', '.'), ('surprisingly', 'ADV'), (',', '.'), ('in', 'ADP'), ('the', 'DET'), ('inverted', 'ADJ'), (',', '.'), ('or', 'CONJ'), ('mouth-up', 'ADJ'), ('position', 'NOUN'), ('.', '.')], [('That', 'DET'), (\"'s\", 'VERB'), ('why', 'ADV'), ('Columbia', 'NOUN'), ('just', 'ADV'), ('wrote', 'VERB'), ('off', 'PRT'), ('$', '.'), ('130', 'NUM'), ('million', 'NUM'), ('*U*', 'X'), ('of', 'ADP'), ('its', 'PRON'), ('junk', 'NOUN'), ('and', 'CONJ'), ('reserved', 'VERB'), ('$', '.'), ('227', 'NUM'), ('million', 'NUM'), ('*U*', 'X'), ('for', 'ADP'), ('future', 'ADJ'), ('junk', 'NOUN'), ('losses', 'NOUN'), ('*T*-1', 'X'), ('.', '.')], [('None', 'NOUN'), ('of', 'ADP'), ('the', 'DET'), ('scams', 'NOUN'), ('show', 'VERB'), ('much', 'ADJ'), ('ingenuity', 'NOUN'), (':', '.'), ('Auditors', 'NOUN'), ('found', 'VERB'), ('crookery', 'NOUN'), ('the', 'DET'), ('first', 'ADJ'), ('day', 'NOUN'), ('on', 'ADP'), ('the', 'DET'), ('job', 'NOUN'), ('.', '.')], [('Again', 'ADV'), ('and', 'CONJ'), ('again', 'ADV'), (',', '.'), ('program-trading', 'NOUN'), (\"'s\", 'PRT'), ('critics', 'NOUN'), ('raise', 'VERB'), ('the', 'DET'), ('``', '.'), ('casino', 'NOUN'), (\"''\", '.'), ('theme', 'NOUN'), ('.', '.')], [('But', 'CONJ'), ('a', 'DET'), ('Soviet', 'ADJ'), ('bank', 'NOUN'), ('here', 'ADV'), ('would', 'VERB'), ('be', 'VERB'), ('crippled', 'VERB'), ('*-51', 'X'), ('unless', 'ADP'), ('Moscow', 'NOUN'), ('found', 'VERB'), ('a', 'DET'), ('way', 'NOUN'), ('0', 'X'), ('*', 'X'), ('to', 'PRT'), ('settle', 'VERB'), ('the', 'DET'), ('$', '.'), ('188', 'NUM'), ('million', 'NUM'), ('*U*', 'X'), ('debt', 'NOUN'), (',', '.'), ('which', 'DET'), ('*T*-1', 'X'), ('was', 'VERB'), ('lent', 'VERB'), ('*-52', 'X'), ('to', 'PRT'), ('the', 'DET'), ('country', 'NOUN'), (\"'s\", 'PRT'), ('short-lived', 'ADJ'), ('democratic', 'ADJ'), ('Kerensky', 'NOUN'), ('government', 'NOUN'), ('before', 'ADP'), ('the', 'DET'), ('Communists', 'NOUN'), ('seized', 'VERB'), ('power', 'NOUN'), ('in', 'ADP'), ('1917', 'NUM'), ('*T*-2', 'X'), ('.', '.')], [('Shearson', 'NOUN'), ('Lehman', 'NOUN'), ('Hutton', 'NOUN'), ('Inc.', 'NOUN'), (',', '.'), ('New', 'NOUN'), ('York', 'NOUN'), (',', '.'), ('which', 'DET'), ('*T*-251', 'X'), ('is', 'VERB'), ('62%-owned', 'ADJ'), ('*-1', 'X'), ('by', 'ADP'), ('American', 'NOUN'), ('Express', 'NOUN'), ('Co.', 'NOUN'), (',', '.'), ('consented', 'VERB'), ('to', 'PRT'), ('a', 'DET'), ('$', '.'), ('10,000', 'NUM'), ('*U*', 'X'), ('fine', 'NOUN'), ('.', '.')], [('In', 'ADP'), ('New', 'NOUN'), ('York', 'NOUN'), ('Stock', 'NOUN'), ('Exchange', 'NOUN'), ('composite', 'ADJ'), ('trading', 'NOUN'), ('yesterday', 'NOUN'), (',', '.'), ('Commonwealth', 'NOUN'), ('Edison', 'NOUN'), ('closed', 'VERB'), ('at', 'ADP'), ('$', '.'), ('38.375', 'NUM'), ('*U*', 'X'), (',', '.'), ('down', 'ADV'), ('12.5', 'NUM'), ('cents', 'NOUN'), ('.', '.')], [('What', 'PRON'), ('*T*-102', 'X'), (\"'s\", 'VERB'), ('more', 'ADJ'), (',', '.'), ('the', 'DET'), ('test', 'NOUN'), ('and', 'CONJ'), ('Learning', 'NOUN'), ('Materials', 'NOUN'), ('are', 'VERB'), ('both', 'DET'), ('produced', 'VERB'), ('*-1', 'X'), ('by', 'ADP'), ('the', 'DET'), ('same', 'ADJ'), ('company', 'NOUN'), (',', '.'), ('Macmillan\\\\/McGraw-Hill', 'NOUN'), (',', '.'), ('a', 'DET'), ('joint', 'ADJ'), ('venture', 'NOUN'), ('of', 'ADP'), ('McGraw-Hill', 'NOUN'), ('Inc.', 'NOUN'), ('and', 'CONJ'), ('Macmillan', 'NOUN'), (\"'s\", 'PRT'), ('parent', 'NOUN'), (',', '.'), ('Britain', 'NOUN'), (\"'s\", 'PRT'), ('Maxwell', 'NOUN'), ('Communication', 'NOUN'), ('Corp', 'NOUN'), ('.', '.')], [('While', 'ADP'), ('renewed', 'VERB'), ('optimism', 'NOUN'), ('about', 'ADP'), ('the', 'DET'), ('outlook', 'NOUN'), ('for', 'ADP'), ('takeover', 'NOUN'), ('activity', 'NOUN'), ('boosted', 'VERB'), ('several', 'ADJ'), ('so-called', 'ADJ'), ('deal', 'NOUN'), ('stocks', 'NOUN'), (',', '.'), ('traders', 'NOUN'), ('said', 'VERB'), ('0', 'X'), ('profit-taking', 'NOUN'), ('weighed', 'VERB'), ('on', 'ADP'), ('the', 'DET'), ('market', 'NOUN'), (',', '.'), ('with', 'ADP'), ('blue-chips', 'NOUN'), ('bearing', 'VERB'), ('the', 'DET'), ('brunt', 'NOUN'), ('of', 'ADP'), ('the', 'DET'), ('selling', 'NOUN'), ('.', '.')], [('R.', 'NOUN'), ('Gordon', 'NOUN'), ('McGovern', 'NOUN'), ('was', 'VERB'), ('forced', 'VERB'), ('*-37', 'X'), ('out', 'ADP'), ('as', 'ADP'), ('Campbell', 'NOUN'), ('Soup', 'NOUN'), ('Co.', 'NOUN'), (\"'s\", 'PRT'), ('president', 'NOUN'), ('and', 'CONJ'), ('chief', 'NOUN'), ('executive', 'NOUN'), ('officer', 'NOUN'), (',', '.'), ('the', 'DET'), ('strongest', 'ADJ'), ('evidence', 'NOUN'), ('yet', 'ADV'), ('of', 'ADP'), ('the', 'DET'), ('power', 'NOUN'), ('that', 'DET'), ('Dorrance', 'NOUN'), ('family', 'NOUN'), ('members', 'NOUN'), ('intend', 'VERB'), ('*-2', 'X'), ('to', 'PRT'), ('wield', 'VERB'), ('*T*-1', 'X'), ('in', 'ADP'), ('*', 'X'), ('reshaping', 'VERB'), ('the', 'DET'), ('troubled', 'ADJ'), ('food', 'NOUN'), ('company', 'NOUN'), ('.', '.')], [('The', 'DET'), ('president', 'NOUN'), ('could', 'VERB'), ('probably', 'ADV'), ('not', 'ADV'), ('avoid', 'VERB'), ('this', 'DET'), ('restriction', 'NOUN'), ('by', 'ADP'), ('*-1', 'X'), ('choosing', 'VERB'), ('people', 'NOUN'), ('willing', 'ADJ'), ('*', 'X'), ('to', 'PRT'), ('serve', 'VERB'), ('without', 'ADP'), ('pay', 'NOUN'), (',', '.'), ('because', 'ADP'), ('the', 'DET'), ('Anti-Deficiency', 'NOUN'), ('Act', 'NOUN'), ('prohibits', 'VERB'), ('voluntary', 'ADJ'), ('service', 'NOUN'), ('to', 'PRT'), ('the', 'DET'), ('government', 'NOUN'), ('.', '.')], [('And', 'CONJ'), ('19.6', 'NUM'), ('%', 'NOUN'), ('of', 'ADP'), ('consumers', 'NOUN'), ('contacted', 'VERB'), ('*', 'X'), ('believed', 'VERB'), ('0', 'X'), ('business', 'NOUN'), ('conditions', 'NOUN'), ('will', 'VERB'), ('improve', 'VERB'), ('in', 'ADP'), ('the', 'DET'), ('coming', 'VERB'), ('six', 'NUM'), ('months', 'NOUN'), (',', '.'), ('compared', 'VERB'), ('with', 'ADP'), ('18.3', 'NUM'), ('%', 'NOUN'), ('in', 'ADP'), ('September', 'NOUN'), ('.', '.')], [('Analysts', 'NOUN'), ('noted', 'VERB'), ('yesterday', 'NOUN'), ('that', 'ADP'), ('Cray', 'NOUN'), ('Research', 'NOUN'), (\"'s\", 'PRT'), ('decision', 'NOUN'), ('*', 'X'), ('to', 'PRT'), ('link', 'VERB'), ('its', 'PRON'), ('$', '.'), ('98.3', 'NUM'), ('million', 'NUM'), ('*U*', 'X'), ('promissory', 'ADJ'), ('note', 'NOUN'), ('to', 'PRT'), ('Mr.', 'NOUN'), ('Cray', 'NOUN'), (\"'s\", 'PRT'), ('presence', 'NOUN'), ('will', 'VERB'), ('complicate', 'VERB'), ('a', 'DET'), ('valuation', 'NOUN'), ('of', 'ADP'), ('the', 'DET'), ('new', 'ADJ'), ('company', 'NOUN'), ('.', '.')], [('Elsewhere', 'ADV'), (':', '.')], [('What', 'PRON'), ('*ICH*-1', 'X'), ('*T*-41', 'X'), (\"'s\", 'VERB'), ('so', 'ADV'), ('wild', 'ADJ'), ('about', 'ADP'), ('the', 'DET'), ('funds', 'NOUN'), (\"'\", 'PRT'), ('frenzy', 'NOUN'), ('right', 'ADV'), ('now', 'ADV'), ('is', 'VERB'), ('that', 'ADP'), ('many', 'ADJ'), ('are', 'VERB'), ('trading', 'VERB'), ('at', 'ADP'), ('historically', 'ADV'), ('fat', 'ADJ'), ('premiums', 'NOUN'), ('to', 'PRT'), ('the', 'DET'), ('value', 'NOUN'), ('of', 'ADP'), ('their', 'PRON'), ('underlying', 'ADJ'), ('portfolios', 'NOUN'), ('.', '.')], [('Backe', 'NOUN'), ('Group', 'NOUN'), ('Inc.', 'NOUN'), ('agreed', 'VERB'), ('*-1', 'X'), ('to', 'PRT'), ('acquire', 'VERB'), ('Atlantic', 'NOUN'), ('Publications', 'NOUN'), ('Inc.', 'NOUN'), (',', '.'), ('which', 'DET'), ('*T*-141', 'X'), ('has', 'VERB'), ('30', 'NUM'), ('community', 'NOUN'), ('papers', 'NOUN'), ('and', 'CONJ'), ('annual', 'ADJ'), ('sales', 'NOUN'), ('of', 'ADP'), ('$', '.'), ('7', 'NUM'), ('million', 'NUM'), ('*U*', 'X'), ('.', '.')], [('Your', 'PRON'), ('Oct.', 'NOUN'), ('6', 'NUM'), ('article', 'NOUN'), ('``', '.'), ('Japan', 'NOUN'), (\"'s\", 'PRT'), ('Financial', 'ADJ'), ('Firms', 'NOUN'), ('Lure', 'VERB'), ('Science', 'NOUN'), ('Graduates', 'NOUN'), (\"''\", '.'), ('states', 'VERB'), (',', '.'), ('``', '.'), ('Industrial', 'ADJ'), ('companies', 'NOUN'), ('are', 'VERB'), ('accusing', 'VERB'), ('financial', 'ADJ'), ('institutions', 'NOUN'), ('of', 'ADP'), ('*-1', 'X'), ('jeopardizing', 'VERB'), ('Japan', 'NOUN'), (\"'s\", 'PRT'), ('economy', 'NOUN'), ('by', 'ADP'), ('*-2', 'X'), ('raising', 'VERB'), ('the', 'DET'), ('salary', 'NOUN'), ('stakes', 'NOUN'), ('for', 'ADP'), ('new', 'ADJ'), ('employees', 'NOUN'), ('.', '.'), (\"''\", '.')], [('The', 'DET'), ('company', 'NOUN'), ('also', 'ADV'), ('took', 'VERB'), ('hits', 'NOUN'), ('in', 'ADP'), ('the', 'DET'), ('fourth', 'ADJ'), ('quarters', 'NOUN'), ('of', 'ADP'), ('1989', 'NUM'), ('and', 'CONJ'), ('1988', 'NUM'), ('on', 'ADP'), ('a', 'DET'), ('fixed-price', 'ADJ'), ('weapons-modernization', 'ADJ'), ('development', 'NOUN'), ('program', 'NOUN'), ('--', '.'), ('probably', 'ADV'), ('the', 'DET'), ('C-130', 'NOUN'), ('gunship', 'NOUN'), (',', '.'), ('according', 'VERB'), ('to', 'PRT'), ('analysts', 'NOUN'), ('.', '.')], [('Sony', 'NOUN'), (\"'s\", 'PRT'), ('planned', 'VERB'), ('acquisition', 'NOUN'), ('of', 'ADP'), ('Guber\\\\/Peters', 'NOUN'), ('Entertainment', 'NOUN'), ('Co.', 'NOUN'), ('for', 'ADP'), ('$', '.'), ('200', 'NUM'), ('million', 'NUM'), ('*U*', 'X'), ('is', 'VERB'), ('scheduled', 'VERB'), ('*-1', 'X'), ('to', 'PRT'), ('close', 'VERB'), ('Monday', 'NOUN'), ('.', '.')], [('Still', 'ADV'), (',', '.'), ('many', 'ADJ'), ('economists', 'NOUN'), ('are', 'VERB'), (\"n't\", 'ADV'), ('predicting', 'VERB'), ('a', 'DET'), ('recession', 'NOUN'), ('anytime', 'ADV'), ('soon', 'ADV'), ('.', '.')], [('In', 'ADP'), ('Singapore', 'NOUN'), (',', '.'), ('a', 'DET'), ('new', 'ADJ'), ('law', 'NOUN'), ('requires', 'VERB'), ('smokers', 'NOUN'), ('to', 'PRT'), ('put', 'VERB'), ('out', 'PRT'), ('their', 'PRON'), ('cigarettes', 'NOUN'), ('before', 'ADP'), ('*-1', 'X'), ('entering', 'VERB'), ('restaurants', 'NOUN'), (',', '.'), ('department', 'NOUN'), ('stores', 'NOUN'), ('and', 'CONJ'), ('sports', 'NOUN'), ('centers', 'NOUN'), ('or', 'CONJ'), ('face', 'VERB'), ('a', 'DET'), ('$', '.'), ('250', 'NUM'), ('*U*', 'X'), ('fine', 'NOUN'), ('.', '.')], [('This', 'DET'), ('time', 'NOUN'), (',', '.'), ('it', 'PRON'), ('was', 'VERB'), ('for', 'ADP'), ('dinner', 'NOUN'), ('and', 'CONJ'), ('dancing', 'NOUN'), ('--', '.'), ('a', 'DET'), ('block', 'NOUN'), ('away', 'ADV'), ('.', '.')], [('Currently', 'ADV'), (',', '.'), ('the', 'DET'), ('government', 'NOUN'), ('charges', 'VERB'), ('nothing', 'NOUN'), ('for', 'ADP'), ('such', 'ADJ'), ('filings', 'NOUN'), ('.', '.')], [('It', 'PRON'), ('was', 'VERB'), ('later', 'ADJ'), ('applied', 'VERB'), ('to', 'PRT'), ('other', 'ADJ'), ('new-car', 'NOUN'), ('programs', 'NOUN'), (',', '.'), ('including', 'VERB'), ('those', 'DET'), ('that', 'DET'), ('*T*-1', 'X'), ('produced', 'VERB'), ('the', 'DET'), ('Ford', 'NOUN'), ('Thunderbird', 'NOUN'), ('and', 'CONJ'), ('Mercury', 'NOUN'), ('Cougar', 'NOUN'), ('.', '.')], [('The', 'DET'), ('reason', 'NOUN'), (':', '.'), ('Share', 'NOUN'), ('prices', 'NOUN'), ('of', 'ADP'), ('many', 'ADJ'), ('of', 'ADP'), ('these', 'DET'), ('funds', 'NOUN'), ('this', 'DET'), ('year', 'NOUN'), ('have', 'VERB'), ('climbed', 'VERB'), ('much', 'ADV'), ('more', 'ADV'), ('sharply', 'ADV'), ('than', 'ADP'), ('the', 'DET'), ('foreign', 'ADJ'), ('stocks', 'NOUN'), ('0', 'X'), ('they', 'PRON'), ('hold', 'VERB'), ('*T*-1', 'X'), ('.', '.')]]\n"
     ]
    }
   ],
   "source": [
    "# Splitting into train and test\n",
    "random.seed(1234)\n",
    "train_set, test_set = train_test_split(nltk_data,test_size=0.05)\n",
    "\n",
    "print(len(train_set))\n",
    "print(len(test_set))\n",
    "print(train_set[:40])"
   ]
  },
  {
   "cell_type": "markdown",
   "metadata": {},
   "source": [
    ">**Note:** We will keep 95% as training set and 5% as test set, otherwise the model will take a lot of time to compile."
   ]
  },
  {
   "cell_type": "code",
   "execution_count": 6,
   "metadata": {},
   "outputs": [
    {
     "name": "stdout",
     "output_type": "stream",
     "text": [
      "Total Tagged words available are: 95779\n"
     ]
    }
   ],
   "source": [
    "# Getting list of tagged words\n",
    "train_tagged_words = [tup for sent in train_set for tup in sent]\n",
    "print(\"Total Tagged words available are:\",len(train_tagged_words))"
   ]
  },
  {
   "cell_type": "code",
   "execution_count": 7,
   "metadata": {},
   "outputs": [
    {
     "data": {
      "text/plain": [
       "['``', 'She', 'said', 'something', 'like', '`', 'You', 'just', 'want', '*-1']"
      ]
     },
     "execution_count": 7,
     "metadata": {},
     "output_type": "execute_result"
    }
   ],
   "source": [
    "# Generate Sample Tokens \n",
    "tokens = [pair[0] for pair in train_tagged_words]\n",
    "tokens[:10]"
   ]
  },
  {
   "cell_type": "markdown",
   "metadata": {},
   "source": [
    "Now, let's create a list of vocabulary that contains all the tokens avaiablle in the corpus"
   ]
  },
  {
   "cell_type": "code",
   "execution_count": 8,
   "metadata": {},
   "outputs": [
    {
     "name": "stdout",
     "output_type": "stream",
     "text": [
      "12065\n"
     ]
    }
   ],
   "source": [
    "# vocabulary\n",
    "V = set(tokens)\n",
    "print(len(V))"
   ]
  },
  {
   "cell_type": "code",
   "execution_count": 9,
   "metadata": {},
   "outputs": [],
   "source": [
    "vocab = list(V)"
   ]
  },
  {
   "cell_type": "code",
   "execution_count": 10,
   "metadata": {},
   "outputs": [
    {
     "name": "stdout",
     "output_type": "stream",
     "text": [
      "Total Number of Tags available are:  12\n"
     ]
    }
   ],
   "source": [
    "# Looking at the number of Tags available\n",
    "T = set([pair[1] for pair in train_tagged_words])\n",
    "print(\"Total Number of Tags available are: \",len(T))"
   ]
  },
  {
   "cell_type": "code",
   "execution_count": 11,
   "metadata": {},
   "outputs": [
    {
     "name": "stdout",
     "output_type": "stream",
     "text": [
      "Tags are:\n",
      "{'CONJ', 'X', 'NOUN', 'PRT', 'ADV', 'ADJ', 'VERB', '.', 'ADP', 'NUM', 'DET', 'PRON'}\n"
     ]
    }
   ],
   "source": [
    "print(\"Tags are:\")\n",
    "print(T)"
   ]
  },
  {
   "cell_type": "markdown",
   "metadata": {},
   "source": [
    ">*Note*: We see that there are total of 12 tags"
   ]
  },
  {
   "cell_type": "markdown",
   "metadata": {},
   "source": [
    "<a id=\"3\"></a>\n",
    "## 3.Build the vanilla Viterbi based POS tagger"
   ]
  },
  {
   "cell_type": "markdown",
   "metadata": {},
   "source": [
    "In This Section, we will build the Simple, Vanilla Viterbi POS Tagger and will compute its performance against test Data"
   ]
  },
  {
   "cell_type": "markdown",
   "metadata": {},
   "source": [
    "Now let's use HMM algorithm to tag the words."
   ]
  },
  {
   "cell_type": "markdown",
   "metadata": {},
   "source": [
    "<a id=\"3.1\"></a>\n",
    "### 3.1 Creating Hidden Markov Model generate probabilities\n"
   ]
  },
  {
   "cell_type": "markdown",
   "metadata": {},
   "source": [
    "<a id=\"3.1.1\"></a>\n",
    "#### 3.1.1 Calculating Emission Probabilities"
   ]
  },
  {
   "cell_type": "code",
   "execution_count": 12,
   "metadata": {},
   "outputs": [],
   "source": [
    "# computing P(w/t) and storing in T x V matrix\n",
    "t = len(T)\n",
    "v = len(V)\n",
    "w_given_t = np.zeros((t, v))"
   ]
  },
  {
   "cell_type": "code",
   "execution_count": 13,
   "metadata": {},
   "outputs": [],
   "source": [
    "# compute word given tag: Emission Probability\n",
    "def word_given_tag(word, tag, train_bag = train_tagged_words):\n",
    "    tag_list = [pair for pair in train_bag if pair[1]==tag]\n",
    "    count_tag = len(tag_list)\n",
    "    w_given_tag_list = [pair[0] for pair in tag_list if pair[0]==word]\n",
    "    count_w_given_tag = len(w_given_tag_list)\n",
    "    \n",
    "    return (count_w_given_tag, count_tag)"
   ]
  },
  {
   "cell_type": "code",
   "execution_count": 14,
   "metadata": {},
   "outputs": [
    {
     "name": "stdout",
     "output_type": "stream",
     "text": [
      "\n",
      " exclusive\n",
      "(4, 6102)\n",
      "(0, 12920)\n",
      "(0, 27452) \n",
      "\n",
      "\n",
      " will\n",
      "(0, 2154)\n",
      "(1, 27452)\n",
      "(267, 12920)\n",
      "\n",
      " book\n",
      "(7, 27452)\n",
      "(1, 12920)\n"
     ]
    }
   ],
   "source": [
    "# examples for word_given_tag\n",
    "\n",
    "# exclusive\n",
    "print(\"\\n\", \"exclusive\")\n",
    "print(word_given_tag('exclusive', 'ADJ'))\n",
    "print(word_given_tag('exclusive', 'VERB'))\n",
    "print(word_given_tag('exclusive', 'NOUN'), \"\\n\")\n",
    "\n",
    "# will\n",
    "print(\"\\n\", \"will\")\n",
    "print(word_given_tag('will', 'CONJ'))\n",
    "print(word_given_tag('will', 'NOUN'))\n",
    "print(word_given_tag('will', 'VERB'))\n",
    "\n",
    "# book\n",
    "print(\"\\n\", \"book\")\n",
    "print(word_given_tag('book', 'NOUN'))\n",
    "print(word_given_tag('book', 'VERB'))"
   ]
  },
  {
   "cell_type": "markdown",
   "metadata": {},
   "source": [
    "<a id=\"3.1.2\"></a>\n",
    "#### 3.1.2  Calculating Transition Probablities"
   ]
  },
  {
   "cell_type": "code",
   "execution_count": 15,
   "metadata": {},
   "outputs": [],
   "source": [
    "# compute tag given tag: tag2(t2) given tag1 (t1), i.e. Transition Probability\n",
    "\n",
    "def t2_given_t1(t2, t1, train_bag = train_tagged_words):\n",
    "    tags = [pair[1] for pair in train_bag]\n",
    "    count_t1 = len([t for t in tags if t==t1])\n",
    "    count_t2_t1 = 0\n",
    "    for index in range(len(tags)-1):\n",
    "        if tags[index]==t1 and tags[index+1] == t2:\n",
    "            count_t2_t1 += 1\n",
    "    return (count_t2_t1, count_t1)"
   ]
  },
  {
   "cell_type": "code",
   "execution_count": 16,
   "metadata": {},
   "outputs": [
    {
     "name": "stdout",
     "output_type": "stream",
     "text": [
      "(1240, 3071)\n",
      "(469, 27452)\n",
      "(5293, 8297)\n",
      "(29, 6102)\n",
      "(372, 27452)\n",
      "(331, 27452)\n"
     ]
    }
   ],
   "source": [
    "# examples for t2_given_t1\n",
    "print(t2_given_t1(t2='VERB', t1='PRT'))\n",
    "print(t2_given_t1('ADV', 'NOUN'))\n",
    "print(t2_given_t1('NOUN', 'DET'))\n",
    "print(t2_given_t1('ADV', 'ADJ'))\n",
    "print(t2_given_t1('DET', 'NOUN'))\n",
    "print(t2_given_t1('ADJ', 'NOUN'))"
   ]
  },
  {
   "cell_type": "code",
   "execution_count": 17,
   "metadata": {},
   "outputs": [
    {
     "name": "stdout",
     "output_type": "stream",
     "text": [
      "(2474, 11146)\n",
      "(990, 11146)\n",
      "(1929, 11146)\n",
      "(492, 11146)\n"
     ]
    }
   ],
   "source": [
    "#Please note P(tag|start) is same as P(tag|'.')\n",
    "print(t2_given_t1('NOUN', '.'))\n",
    "print(t2_given_t1('VERB', '.'))\n",
    "print(t2_given_t1('DET', '.'))\n",
    "print(t2_given_t1('ADJ', '.'))"
   ]
  },
  {
   "cell_type": "markdown",
   "metadata": {},
   "source": [
    "<a id=\"3.1.3\"></a>\n",
    "#### 3.1.3 Creating a Transmission Matrix for Tags "
   ]
  },
  {
   "cell_type": "markdown",
   "metadata": {},
   "source": [
    "Now Let's create a t*t transition matrix for Tags"
   ]
  },
  {
   "cell_type": "code",
   "execution_count": 18,
   "metadata": {},
   "outputs": [],
   "source": [
    "# creating t x t transition matrix of tags\n",
    "# each column is t2, each row is t1\n",
    "# thus M(i, j) represents P(tj given ti)\n",
    "\n",
    "tags_matrix = np.zeros((len(T), len(T)), dtype='float32')\n",
    "for i, t1 in enumerate(list(T)):\n",
    "    for j, t2 in enumerate(list(T)): \n",
    "        tags_matrix[i, j] = t2_given_t1(t2, t1)[0]/t2_given_t1(t2, t1)[1]"
   ]
  },
  {
   "cell_type": "code",
   "execution_count": 19,
   "metadata": {},
   "outputs": [
    {
     "data": {
      "text/plain": [
       "array([[4.64252545e-04, 8.35654605e-03, 3.50046426e-01, 5.10677788e-03,\n",
       "        5.57103083e-02, 1.17920145e-01, 1.57381609e-01, 3.57474461e-02,\n",
       "        5.24605401e-02, 3.94614674e-02, 1.18384399e-01, 5.89600727e-02],\n",
       "       [1.06586069e-02, 7.31784925e-02, 6.25198856e-02, 1.85968816e-01,\n",
       "        2.56124716e-02, 1.74992047e-02, 2.05058858e-01, 1.63219854e-01,\n",
       "        1.44129813e-01, 2.86350609e-03, 5.42475358e-02, 5.50429523e-02],\n",
       "       [4.22555730e-02, 2.89232116e-02, 2.64352322e-01, 4.40769345e-02,\n",
       "        1.70843657e-02, 1.20574096e-02, 1.46910965e-01, 2.39326820e-01,\n",
       "        1.76999852e-01, 9.61678568e-03, 1.35509251e-02, 4.84482013e-03],\n",
       "       [2.27938779e-03, 1.36763267e-02, 2.45522633e-01, 1.95376109e-03,\n",
       "        9.44317784e-03, 8.46629739e-02, 4.03777272e-01, 4.23314869e-02,\n",
       "        2.08401177e-02, 5.66590689e-02, 1.01269946e-01, 1.75838489e-02],\n",
       "       [7.32113142e-03, 2.36272886e-02, 3.16139758e-02, 1.29783694e-02,\n",
       "        7.92013332e-02, 1.27121463e-01, 3.46089840e-01, 1.37437597e-01,\n",
       "        1.20465890e-01, 3.22795324e-02, 6.65557384e-02, 1.53078204e-02],\n",
       "       [1.62241887e-02, 2.06489675e-02, 6.99770570e-01, 1.09800063e-02,\n",
       "        4.75254003e-03, 6.63716793e-02, 1.21271713e-02, 6.40773550e-02,\n",
       "        7.81710893e-02, 2.11406089e-02, 5.08030131e-03, 6.55522803e-04],\n",
       "       [5.57275536e-03, 2.18111455e-01, 1.09674923e-01, 3.12693492e-02,\n",
       "        8.15789476e-02, 6.55572787e-02, 1.68266252e-01, 3.56811136e-02,\n",
       "        9.03250799e-02, 2.33746134e-02, 1.35526314e-01, 3.50619182e-02],\n",
       "       [5.86757585e-02, 2.70052031e-02, 2.21963033e-01, 2.33267550e-03,\n",
       "        5.23954779e-02, 4.41413969e-02, 8.88210982e-02, 9.46527869e-02,\n",
       "        8.95388499e-02, 8.04773048e-02, 1.73066571e-01, 6.68401197e-02],\n",
       "       [6.41711231e-04, 3.48663107e-02, 3.21818173e-01, 1.49732619e-03,\n",
       "        1.31550804e-02, 1.07486628e-01, 8.02139007e-03, 3.96791436e-02,\n",
       "        1.59358289e-02, 6.31016046e-02, 3.23850274e-01, 6.99465275e-02],\n",
       "       [1.42180091e-02, 2.08234593e-01, 3.55154037e-01, 2.69549768e-02,\n",
       "        2.66587688e-03, 3.37677710e-02, 1.83649287e-02, 1.17890999e-01,\n",
       "        3.55450250e-02, 1.82760671e-01, 2.66587688e-03, 1.77725113e-03],\n",
       "       [4.82101954e-04, 4.59202118e-02, 6.37941420e-01, 2.41050977e-04,\n",
       "        1.20525490e-02, 2.05857545e-01, 3.96528877e-02, 1.75967216e-02,\n",
       "        9.15993750e-03, 2.20561642e-02, 5.30312164e-03, 3.73629015e-03],\n",
       "       [5.34351123e-03, 9.38931331e-02, 2.04961836e-01, 1.22137405e-02,\n",
       "        3.39694656e-02, 7.40457997e-02, 4.86641228e-01, 4.08396944e-02,\n",
       "        2.25190837e-02, 7.63358781e-03, 9.92366392e-03, 8.01526755e-03]],\n",
       "      dtype=float32)"
      ]
     },
     "execution_count": 19,
     "metadata": {},
     "output_type": "execute_result"
    }
   ],
   "source": [
    "tags_matrix"
   ]
  },
  {
   "cell_type": "code",
   "execution_count": 20,
   "metadata": {},
   "outputs": [
    {
     "data": {
      "text/html": [
       "<div>\n",
       "<style scoped>\n",
       "    .dataframe tbody tr th:only-of-type {\n",
       "        vertical-align: middle;\n",
       "    }\n",
       "\n",
       "    .dataframe tbody tr th {\n",
       "        vertical-align: top;\n",
       "    }\n",
       "\n",
       "    .dataframe thead th {\n",
       "        text-align: right;\n",
       "    }\n",
       "</style>\n",
       "<table border=\"1\" class=\"dataframe\">\n",
       "  <thead>\n",
       "    <tr style=\"text-align: right;\">\n",
       "      <th></th>\n",
       "      <th>CONJ</th>\n",
       "      <th>X</th>\n",
       "      <th>NOUN</th>\n",
       "      <th>PRT</th>\n",
       "      <th>ADV</th>\n",
       "      <th>ADJ</th>\n",
       "      <th>VERB</th>\n",
       "      <th>.</th>\n",
       "      <th>ADP</th>\n",
       "      <th>NUM</th>\n",
       "      <th>DET</th>\n",
       "      <th>PRON</th>\n",
       "    </tr>\n",
       "  </thead>\n",
       "  <tbody>\n",
       "    <tr>\n",
       "      <th>CONJ</th>\n",
       "      <td>0.000464</td>\n",
       "      <td>0.008357</td>\n",
       "      <td>0.350046</td>\n",
       "      <td>0.005107</td>\n",
       "      <td>0.055710</td>\n",
       "      <td>0.117920</td>\n",
       "      <td>0.157382</td>\n",
       "      <td>0.035747</td>\n",
       "      <td>0.052461</td>\n",
       "      <td>0.039461</td>\n",
       "      <td>0.118384</td>\n",
       "      <td>0.058960</td>\n",
       "    </tr>\n",
       "    <tr>\n",
       "      <th>X</th>\n",
       "      <td>0.010659</td>\n",
       "      <td>0.073178</td>\n",
       "      <td>0.062520</td>\n",
       "      <td>0.185969</td>\n",
       "      <td>0.025612</td>\n",
       "      <td>0.017499</td>\n",
       "      <td>0.205059</td>\n",
       "      <td>0.163220</td>\n",
       "      <td>0.144130</td>\n",
       "      <td>0.002864</td>\n",
       "      <td>0.054248</td>\n",
       "      <td>0.055043</td>\n",
       "    </tr>\n",
       "    <tr>\n",
       "      <th>NOUN</th>\n",
       "      <td>0.042256</td>\n",
       "      <td>0.028923</td>\n",
       "      <td>0.264352</td>\n",
       "      <td>0.044077</td>\n",
       "      <td>0.017084</td>\n",
       "      <td>0.012057</td>\n",
       "      <td>0.146911</td>\n",
       "      <td>0.239327</td>\n",
       "      <td>0.177000</td>\n",
       "      <td>0.009617</td>\n",
       "      <td>0.013551</td>\n",
       "      <td>0.004845</td>\n",
       "    </tr>\n",
       "    <tr>\n",
       "      <th>PRT</th>\n",
       "      <td>0.002279</td>\n",
       "      <td>0.013676</td>\n",
       "      <td>0.245523</td>\n",
       "      <td>0.001954</td>\n",
       "      <td>0.009443</td>\n",
       "      <td>0.084663</td>\n",
       "      <td>0.403777</td>\n",
       "      <td>0.042331</td>\n",
       "      <td>0.020840</td>\n",
       "      <td>0.056659</td>\n",
       "      <td>0.101270</td>\n",
       "      <td>0.017584</td>\n",
       "    </tr>\n",
       "    <tr>\n",
       "      <th>ADV</th>\n",
       "      <td>0.007321</td>\n",
       "      <td>0.023627</td>\n",
       "      <td>0.031614</td>\n",
       "      <td>0.012978</td>\n",
       "      <td>0.079201</td>\n",
       "      <td>0.127121</td>\n",
       "      <td>0.346090</td>\n",
       "      <td>0.137438</td>\n",
       "      <td>0.120466</td>\n",
       "      <td>0.032280</td>\n",
       "      <td>0.066556</td>\n",
       "      <td>0.015308</td>\n",
       "    </tr>\n",
       "    <tr>\n",
       "      <th>ADJ</th>\n",
       "      <td>0.016224</td>\n",
       "      <td>0.020649</td>\n",
       "      <td>0.699771</td>\n",
       "      <td>0.010980</td>\n",
       "      <td>0.004753</td>\n",
       "      <td>0.066372</td>\n",
       "      <td>0.012127</td>\n",
       "      <td>0.064077</td>\n",
       "      <td>0.078171</td>\n",
       "      <td>0.021141</td>\n",
       "      <td>0.005080</td>\n",
       "      <td>0.000656</td>\n",
       "    </tr>\n",
       "    <tr>\n",
       "      <th>VERB</th>\n",
       "      <td>0.005573</td>\n",
       "      <td>0.218111</td>\n",
       "      <td>0.109675</td>\n",
       "      <td>0.031269</td>\n",
       "      <td>0.081579</td>\n",
       "      <td>0.065557</td>\n",
       "      <td>0.168266</td>\n",
       "      <td>0.035681</td>\n",
       "      <td>0.090325</td>\n",
       "      <td>0.023375</td>\n",
       "      <td>0.135526</td>\n",
       "      <td>0.035062</td>\n",
       "    </tr>\n",
       "    <tr>\n",
       "      <th>.</th>\n",
       "      <td>0.058676</td>\n",
       "      <td>0.027005</td>\n",
       "      <td>0.221963</td>\n",
       "      <td>0.002333</td>\n",
       "      <td>0.052395</td>\n",
       "      <td>0.044141</td>\n",
       "      <td>0.088821</td>\n",
       "      <td>0.094653</td>\n",
       "      <td>0.089539</td>\n",
       "      <td>0.080477</td>\n",
       "      <td>0.173067</td>\n",
       "      <td>0.066840</td>\n",
       "    </tr>\n",
       "    <tr>\n",
       "      <th>ADP</th>\n",
       "      <td>0.000642</td>\n",
       "      <td>0.034866</td>\n",
       "      <td>0.321818</td>\n",
       "      <td>0.001497</td>\n",
       "      <td>0.013155</td>\n",
       "      <td>0.107487</td>\n",
       "      <td>0.008021</td>\n",
       "      <td>0.039679</td>\n",
       "      <td>0.015936</td>\n",
       "      <td>0.063102</td>\n",
       "      <td>0.323850</td>\n",
       "      <td>0.069947</td>\n",
       "    </tr>\n",
       "    <tr>\n",
       "      <th>NUM</th>\n",
       "      <td>0.014218</td>\n",
       "      <td>0.208235</td>\n",
       "      <td>0.355154</td>\n",
       "      <td>0.026955</td>\n",
       "      <td>0.002666</td>\n",
       "      <td>0.033768</td>\n",
       "      <td>0.018365</td>\n",
       "      <td>0.117891</td>\n",
       "      <td>0.035545</td>\n",
       "      <td>0.182761</td>\n",
       "      <td>0.002666</td>\n",
       "      <td>0.001777</td>\n",
       "    </tr>\n",
       "    <tr>\n",
       "      <th>DET</th>\n",
       "      <td>0.000482</td>\n",
       "      <td>0.045920</td>\n",
       "      <td>0.637941</td>\n",
       "      <td>0.000241</td>\n",
       "      <td>0.012053</td>\n",
       "      <td>0.205858</td>\n",
       "      <td>0.039653</td>\n",
       "      <td>0.017597</td>\n",
       "      <td>0.009160</td>\n",
       "      <td>0.022056</td>\n",
       "      <td>0.005303</td>\n",
       "      <td>0.003736</td>\n",
       "    </tr>\n",
       "    <tr>\n",
       "      <th>PRON</th>\n",
       "      <td>0.005344</td>\n",
       "      <td>0.093893</td>\n",
       "      <td>0.204962</td>\n",
       "      <td>0.012214</td>\n",
       "      <td>0.033969</td>\n",
       "      <td>0.074046</td>\n",
       "      <td>0.486641</td>\n",
       "      <td>0.040840</td>\n",
       "      <td>0.022519</td>\n",
       "      <td>0.007634</td>\n",
       "      <td>0.009924</td>\n",
       "      <td>0.008015</td>\n",
       "    </tr>\n",
       "  </tbody>\n",
       "</table>\n",
       "</div>"
      ],
      "text/plain": [
       "          CONJ         X      NOUN       PRT       ADV       ADJ      VERB  \\\n",
       "CONJ  0.000464  0.008357  0.350046  0.005107  0.055710  0.117920  0.157382   \n",
       "X     0.010659  0.073178  0.062520  0.185969  0.025612  0.017499  0.205059   \n",
       "NOUN  0.042256  0.028923  0.264352  0.044077  0.017084  0.012057  0.146911   \n",
       "PRT   0.002279  0.013676  0.245523  0.001954  0.009443  0.084663  0.403777   \n",
       "ADV   0.007321  0.023627  0.031614  0.012978  0.079201  0.127121  0.346090   \n",
       "ADJ   0.016224  0.020649  0.699771  0.010980  0.004753  0.066372  0.012127   \n",
       "VERB  0.005573  0.218111  0.109675  0.031269  0.081579  0.065557  0.168266   \n",
       ".     0.058676  0.027005  0.221963  0.002333  0.052395  0.044141  0.088821   \n",
       "ADP   0.000642  0.034866  0.321818  0.001497  0.013155  0.107487  0.008021   \n",
       "NUM   0.014218  0.208235  0.355154  0.026955  0.002666  0.033768  0.018365   \n",
       "DET   0.000482  0.045920  0.637941  0.000241  0.012053  0.205858  0.039653   \n",
       "PRON  0.005344  0.093893  0.204962  0.012214  0.033969  0.074046  0.486641   \n",
       "\n",
       "             .       ADP       NUM       DET      PRON  \n",
       "CONJ  0.035747  0.052461  0.039461  0.118384  0.058960  \n",
       "X     0.163220  0.144130  0.002864  0.054248  0.055043  \n",
       "NOUN  0.239327  0.177000  0.009617  0.013551  0.004845  \n",
       "PRT   0.042331  0.020840  0.056659  0.101270  0.017584  \n",
       "ADV   0.137438  0.120466  0.032280  0.066556  0.015308  \n",
       "ADJ   0.064077  0.078171  0.021141  0.005080  0.000656  \n",
       "VERB  0.035681  0.090325  0.023375  0.135526  0.035062  \n",
       ".     0.094653  0.089539  0.080477  0.173067  0.066840  \n",
       "ADP   0.039679  0.015936  0.063102  0.323850  0.069947  \n",
       "NUM   0.117891  0.035545  0.182761  0.002666  0.001777  \n",
       "DET   0.017597  0.009160  0.022056  0.005303  0.003736  \n",
       "PRON  0.040840  0.022519  0.007634  0.009924  0.008015  "
      ]
     },
     "execution_count": 20,
     "metadata": {},
     "output_type": "execute_result"
    }
   ],
   "source": [
    "# convert the matrix to a df for better readability\n",
    "tags_df = pd.DataFrame(tags_matrix, columns = list(T), index=list(T))\n",
    "tags_df"
   ]
  },
  {
   "cell_type": "code",
   "execution_count": 21,
   "metadata": {},
   "outputs": [
    {
     "data": {
      "text/plain": [
       "CONJ    0.058676\n",
       "X       0.027005\n",
       "NOUN    0.221963\n",
       "PRT     0.002333\n",
       "ADV     0.052395\n",
       "ADJ     0.044141\n",
       "VERB    0.088821\n",
       ".       0.094653\n",
       "ADP     0.089539\n",
       "NUM     0.080477\n",
       "DET     0.173067\n",
       "PRON    0.066840\n",
       "Name: ., dtype: float32"
      ]
     },
     "execution_count": 21,
     "metadata": {},
     "output_type": "execute_result"
    }
   ],
   "source": [
    "tags_df.loc['.', :]"
   ]
  },
  {
   "cell_type": "code",
   "execution_count": 22,
   "metadata": {},
   "outputs": [
    {
     "data": {
      "image/png": "[encoded data removed]",
      "text/plain": [
       "<Figure size 1296x864 with 2 Axes>"
      ]
     },
     "metadata": {
      "needs_background": "light"
     },
     "output_type": "display_data"
    }
   ],
   "source": [
    "# heatmap of tags matrix\n",
    "# T(i, j) means P(tag j given tag i)\n",
    "plt.figure(figsize=(18, 12))\n",
    "sns.heatmap(tags_df)\n",
    "plt.show()"
   ]
  },
  {
   "cell_type": "code",
   "execution_count": 23,
   "metadata": {},
   "outputs": [
    {
     "data": {
      "image/png": "[encoded data removed]",
      "text/plain": [
       "<Figure size 1296x864 with 2 Axes>"
      ]
     },
     "metadata": {
      "needs_background": "light"
     },
     "output_type": "display_data"
    }
   ],
   "source": [
    "# frequent tags\n",
    "# filter the df to get P(t2, t1) > 0.5\n",
    "tags_frequent = tags_df[tags_df>0.5]\n",
    "plt.figure(figsize=(18, 12))\n",
    "sns.heatmap(tags_frequent)\n",
    "plt.show()"
   ]
  },
  {
   "cell_type": "markdown",
   "metadata": {},
   "source": [
    "<a id=\"3.2\"></a>\n",
    "### 3.2 Implementing Viterbi Algorithm (Vanilla)"
   ]
  },
  {
   "cell_type": "markdown",
   "metadata": {},
   "source": [
    "In this section, we will implment the Viterbi Algorithm on AS-IS basic and will notice it's performance on the Validation set and and test Set.\n"
   ]
  },
  {
   "cell_type": "code",
   "execution_count": 24,
   "metadata": {},
   "outputs": [
    {
     "name": "stdout",
     "output_type": "stream",
     "text": [
      "Total tagged words are:  95779\n"
     ]
    }
   ],
   "source": [
    "print(\"Total tagged words are: \",len(train_tagged_words))"
   ]
  },
  {
   "cell_type": "markdown",
   "metadata": {},
   "source": [
    "<a id=\"3.2.1\"></a>\n",
    "#### 3.2.1 Defining Viterbi (Vanilla) Function"
   ]
  },
  {
   "cell_type": "code",
   "execution_count": 25,
   "metadata": {},
   "outputs": [],
   "source": [
    "# Viterbi Heuristic\n",
    "def Viterbi(words, train_bag = train_tagged_words):\n",
    "    state = []\n",
    "    T = list(set([pair[1] for pair in train_bag]))\n",
    "    for key, word in enumerate(words):\n",
    "        #initialise list of probability column for a given observation\n",
    "        p = [] \n",
    "        for tag in T:\n",
    "            if key == 0:\n",
    "                transition_p = tags_df.loc['.', tag]\n",
    "            else:\n",
    "                transition_p = tags_df.loc[state[-1], tag]\n",
    "            # compute emission and state probabilities\n",
    "            emission_p = word_given_tag(words[key], tag)[0]/word_given_tag(words[key], tag)[1]\n",
    "            state_probability = emission_p * transition_p   \n",
    "            p.append(state_probability)\n",
    "            \n",
    "        pmax = max(p)\n",
    "        # getting state for which probability is maximum\n",
    "        state_max = T[p.index(pmax)] \n",
    "        state.append(state_max)\n",
    "    return list(zip(words, state))"
   ]
  },
  {
   "cell_type": "markdown",
   "metadata": {},
   "source": [
    "<a id=\"3.2.2\"></a>\n",
    "#### 3.2.2 Computing performnce on Validation Set"
   ]
  },
  {
   "cell_type": "code",
   "execution_count": 26,
   "metadata": {
    "scrolled": true
   },
   "outputs": [],
   "source": [
    "test_run = test_set\n",
    "\n",
    "# list of tagged words\n",
    "test_run_base = [tup for sent in test_run for tup in sent]\n",
    "\n",
    "#test_run = test_set\n",
    "\n",
    "# list of tagged words\n",
    "test_run_base = [tup for sent in test_run for tup in sent]\n",
    "\n",
    "# list of untagged words\n",
    "test_tagged_words = [tup[0] for sent in test_run for tup in sent]"
   ]
  },
  {
   "cell_type": "code",
   "execution_count": 27,
   "metadata": {},
   "outputs": [],
   "source": [
    "# tagging the test sentences - vanilla\n",
    "start = time.time()\n",
    "tagged_seq = Viterbi(test_tagged_words)\n",
    "end = time.time()\n",
    "difference = end-start"
   ]
  },
  {
   "cell_type": "code",
   "execution_count": 28,
   "metadata": {},
   "outputs": [
    {
     "name": "stdout",
     "output_type": "stream",
     "text": [
      "Time taken in seconds:  1009.4039361476898\n",
      "[('Champagne', 'NOUN'), ('and', 'CONJ'), ('dessert', 'CONJ'), ('followed', 'VERB'), ('.', '.'), ('The', 'DET'), ('company', 'NOUN'), ('recently', 'ADV'), ('said', 'VERB'), ('0', 'X'), ('it', 'PRON'), ('would', 'VERB'), ('sell', 'VERB'), ('some', 'DET'), ('operations', 'NOUN'), ('and', 'CONJ'), ('lay', 'CONJ'), ('off', 'ADV'), ('4', 'NUM'), ('%', 'NOUN'), ('of', 'ADP'), ('its', 'PRON'), ('work', 'VERB'), ('force', 'VERB'), (',', '.'), ('altogether', 'CONJ'), ('*-1', 'X'), ('reducing', 'VERB'), ('employment', 'NOUN'), ('to', 'PRT'), ('less', 'ADJ'), ('than', 'ADP'), ('16,000', 'NUM'), ('from', 'ADP'), ('about', 'ADP'), ('18,000', 'NUM'), ('.', '.'), ('Much', 'ADV'), ('of', 'ADP'), ('Mr.', 'NOUN'), ('Lane', 'NOUN'), (\"'s\", 'PRT'), ('film', 'NOUN'), ('takes', 'VERB'), ('a', 'DET'), ('highly', 'ADV'), ('romanticized', 'CONJ'), ('view', 'NOUN'), ('of', 'ADP'), ('life', 'NOUN'), ('on', 'ADP'), ('the', 'DET'), ('streets', 'NOUN'), ('-LRB-', '.'), ('though', 'ADP'), ('probably', 'ADV'), ('no', 'DET'), ('more', 'ADJ'), ('romanticized', 'CONJ'), ('than', 'ADP'), ('Mr.', 'NOUN'), ('Chaplin', 'NOUN'), (\"'s\", 'PRT'), ('notion', 'NOUN'), ('of', 'ADP'), ('the', 'DET'), ('Tramp', 'NOUN'), ('as', 'ADP'), ('the', 'DET'), ('good-hearted', 'CONJ'), ('free', 'ADJ'), ('spirit', 'NOUN'), ('-RRB-', '.'), ('.', '.'), ('In', 'ADP'), ('parts', 'NOUN'), ('of', 'ADP'), ('Iowa', 'NOUN'), (',', '.'), ('for', 'ADP'), ('example', 'NOUN'), (',', '.'), ('some', 'DET'), ('grain', 'NOUN'), ('elevators', 'NOUN'), ('are', 'VERB'), ('offering', 'VERB'), ('farmers', 'NOUN'), ('$', '.'), ('2.15', 'CONJ'), ('*U*', 'X'), ('a', 'DET'), ('bushel', 'NOUN'), ('for', 'ADP'), ('corn', 'NOUN'), ('.', '.'), ('``', '.'), ('The', 'DET'), ('events', 'NOUN'), ('of', 'ADP'), ('April', 'NOUN'), ('through', 'ADP'), ('June', 'NOUN'), ('damaged', 'VERB'), ('the', 'DET'), ('respect', 'NOUN'), ('and', 'CONJ'), ('confidence', 'NOUN'), ('which', 'DET'), ('most', 'ADJ'), ('Americans', 'NOUN'), ('previously', 'ADV'), ('had', 'VERB'), ('*T*-1', 'X'), ('for', 'ADP'), ('the', 'DET'), ('leaders', 'NOUN'), ('of', 'ADP'), ('China', 'NOUN'), ('.', '.'), (\"''\", '.'), ('Ratners', 'NOUN'), ('Group', 'NOUN'), ('PLC', 'NOUN'), (',', '.'), ('a', 'DET'), ('fast-growing', 'ADJ'), (',', '.'), ('acquisition-minded', 'CONJ'), ('London-based', 'ADJ'), ('jeweler', 'CONJ'), (',', '.'), ('raised', 'VERB'), ('its', 'PRON'), ('price', 'NOUN'), ('for', 'ADP'), ('Seattle-based', 'CONJ'), ('specialty', 'NOUN'), ('jeweler', 'CONJ'), ('Weisfield', 'NOUN'), (\"'s\", 'PRT'), ('Inc.', 'NOUN'), ('to', 'PRT'), ('$', '.'), ('57.50', 'NUM'), ('*U*', 'X'), ('a', 'DET'), ('share', 'NOUN'), (',', '.'), ('or', 'CONJ'), ('$', '.'), ('62.1', 'CONJ'), ('million', 'NUM'), ('*U*', 'X'), (',', '.'), ('from', 'ADP'), ('$', '.'), ('50', 'NUM'), ('*U*', 'X'), ('a', 'DET'), ('share', 'NOUN'), (',', '.'), ('or', 'CONJ'), ('$', '.'), ('55', 'NUM'), ('million', 'NUM'), ('*U*', 'X'), (',', '.'), ('after', 'ADP'), ('another', 'DET'), ('concern', 'NOUN'), ('said', 'VERB'), ('0', 'X'), ('it', 'PRON'), ('would', 'VERB'), ('be', 'VERB'), ('prepared', 'VERB'), ('*-1', 'X'), ('to', 'PRT'), ('outbid', 'CONJ'), ('Ratners', 'NOUN'), (\"'s\", 'PRT'), ('initial', 'ADJ'), ('offer', 'NOUN'), ('.', '.'), ('Mr.', 'NOUN'), ('Rosenblum', 'NOUN'), (',', '.'), ('who', 'PRON'), ('*T*-250', 'CONJ'), ('apparently', 'ADV'), ('has', 'VERB'), ('an', 'DET'), ('unpublished', 'ADJ'), ('phone', 'NOUN'), ('number', 'NOUN'), (',', '.'), ('also', 'ADV'), ('could', 'VERB'), (\"n't\", 'ADV'), ('be', 'VERB'), ('reached', 'VERB'), ('*-156', 'CONJ'), ('.', '.'), ('A', 'DET'), ('steady', 'ADJ'), ('deposit', 'NOUN'), ('base', 'NOUN'), ('.', '.'), ('The', 'DET'), ('Pennsylvania', 'NOUN'), ('bank', 'NOUN'), ('agreed', 'VERB'), ('*-1', 'X'), ('to', 'PRT'), ('be', 'VERB'), ('acquired', 'VERB'), ('*-2', 'X'), ('in', 'ADP'), ('a', 'DET'), ('merger', 'NOUN'), ('with', 'ADP'), ('Univest', 'CONJ'), ('Corp.', 'NOUN'), ('of', 'ADP'), ('Pennsylvania', 'NOUN'), ('for', 'ADP'), ('$', '.'), ('25.50', 'CONJ'), ('*U*', 'X'), ('a', 'DET'), ('share', 'NOUN'), ('.', '.'), ('How', 'ADV'), (\"'s\", 'PRT'), ('that', 'DET'), ('*T*-1', 'X'), ('again', 'ADV'), ('?', '.'), ('He', 'PRON'), ('said', 'VERB'), ('0', 'X'), ('Equitable', 'NOUN'), ('hopes', 'VERB'), ('*-1', 'X'), ('to', 'PRT'), ('eventually', 'ADV'), ('reduce', 'VERB'), ('its', 'PRON'), ('stake', 'NOUN'), ('in', 'ADP'), ('Younkers', 'NOUN'), ('to', 'PRT'), ('less', 'ADJ'), ('than', 'ADP'), ('50', 'NUM'), ('%', 'NOUN'), ('.', '.'), ('``', '.'), ('I', 'PRON'), (\"'d\", 'VERB'), ('much', 'ADV'), ('rather', 'ADV'), ('see', 'VERB'), ('them', 'PRON'), ('dealing', 'CONJ'), ('with', 'ADP'), ('interest', 'NOUN'), ('rates', 'NOUN'), ('and', 'CONJ'), ('the', 'DET'), ('deficit', 'NOUN'), ('.', '.'), (\"''\", '.'), ('Columbia', 'NOUN'), ('wo', 'VERB'), (\"n't\", 'ADV'), ('comment', 'VERB'), ('on', 'ADP'), ('all', 'DET'), ('the', 'DET'), ('speculation', 'NOUN'), ('.', '.'), ('Younkers', 'NOUN'), ('management', 'NOUN'), ('is', 'VERB'), ('likely', 'ADJ'), ('*-1', 'X'), ('to', 'PRT'), ('buy', 'VERB'), ('a', 'DET'), ('10', 'NUM'), ('%', 'NOUN'), ('to', 'PRT'), ('20', 'NUM'), ('%', 'NOUN'), ('*U*', 'X'), ('interest', 'NOUN'), ('in', 'ADP'), ('the', 'DET'), ('chain', 'NOUN'), ('in', 'ADP'), ('January', 'NOUN'), (',', '.'), ('said', 'VERB'), ('0', 'X'), ('*T*-2', 'X'), ('Fred', 'NOUN'), ('S.', 'NOUN'), ('Hubbell', 'CONJ'), (',', '.'), ('Equitable', 'NOUN'), (\"'s\", 'PRT'), ('president', 'NOUN'), ('and', 'CONJ'), ('chief', 'NOUN'), ('executive', 'NOUN'), ('officer', 'NOUN'), ('.', '.'), ('Wall', 'NOUN'), ('Street', 'NOUN'), ('reacted', 'CONJ'), ('favorably', 'CONJ'), ('to', 'PRT'), ('Mr.', 'NOUN'), ('McGovern', 'NOUN'), (\"'s\", 'PRT'), ('departure', 'NOUN'), ('and', 'CONJ'), ('its', 'PRON'), ('implications', 'NOUN'), ('.', '.'), ('In', 'ADP'), ('a', 'DET'), ('number', 'NOUN'), ('of', 'ADP'), ('recent', 'ADJ'), ('cases', 'NOUN'), (',', '.'), ('federal', 'ADJ'), ('courts', 'NOUN'), ('have', 'VERB'), ('refused', 'VERB'), ('*-1', 'X'), ('to', 'PRT'), ('recognize', 'VERB'), ('attorneys', 'NOUN'), (\"'\", 'PRT'), ('assertions', 'CONJ'), ('that', 'DET'), ('information', 'NOUN'), ('relating', 'CONJ'), ('to', 'PRT'), ('fees', 'NOUN'), ('from', 'ADP'), ('clients', 'NOUN'), ('should', 'VERB'), ('be', 'VERB'), ('confidential', 'ADJ'), ('.', '.'), ('$', '.'), ('100', 'NUM'), ('million', 'NUM'), ('*U*', 'X'), ('of', 'ADP'), ('Eurobonds', 'NOUN'), ('due', 'ADJ'), ('Nov.', 'NOUN'), ('16', 'NUM'), (',', '.'), ('1993', 'NUM'), (',', '.'), ('with', 'ADP'), ('equity-purchase', 'CONJ'), ('warrants', 'NOUN'), (',', '.'), ('indicating', 'VERB'), ('a', 'DET'), ('3', 'NUM'), ('7\\\\/8', 'NUM'), ('%', 'NOUN'), ('coupon', 'NOUN'), ('at', 'ADP'), ('par', 'NOUN'), (',', '.'), ('via', 'ADP'), ('Daiwa', 'NOUN'), ('Europe', 'NOUN'), ('Ltd', 'NOUN'), ('.', '.'), ('Asia', 'NOUN'), (\"'s\", 'PRT'), ('other', 'ADJ'), ('cash-rich', 'CONJ'), ('countries', 'NOUN'), ('are', 'VERB'), ('following', 'VERB'), ('Japan', 'NOUN'), (\"'s\", 'PRT'), ('lead', 'VERB'), ('and', 'CONJ'), ('pumping', 'VERB'), ('capital', 'NOUN'), ('into', 'ADP'), ('the', 'DET'), ('region', 'NOUN'), ('.', '.'), ('Last', 'ADJ'), ('year', 'NOUN'), (',', '.'), ('it', 'PRON'), ('had', 'VERB'), ('*-1', 'X'), ('to', 'PRT'), ('buy', 'VERB'), ('sugar', 'NOUN'), ('on', 'ADP'), ('the', 'DET'), ('world', 'NOUN'), ('market', 'NOUN'), ('*-2', 'X'), ('to', 'PRT'), ('meet', 'VERB'), ('export', 'NOUN'), ('commitments', 'NOUN'), (',', '.'), ('they', 'PRON'), ('noted', 'VERB'), ('0', 'X'), ('*T*-3', 'X'), ('.', '.'), ('But', 'CONJ'), ('many', 'ADJ'), ('banks', 'NOUN'), ('are', 'VERB'), ('turning', 'VERB'), ('away', 'ADV'), ('from', 'ADP'), ('strict', 'ADJ'), ('price', 'NOUN'), ('competition', 'NOUN'), ('.', '.'), ('The', 'DET'), ('purchases', 'NOUN'), ('show', 'NOUN'), ('the', 'DET'), ('strong', 'ADJ'), ('interest', 'NOUN'), ('of', 'ADP'), ('Japanese', 'ADJ'), ('investors', 'NOUN'), ('in', 'ADP'), ('U.S.', 'NOUN'), ('mortgage-based', 'CONJ'), ('instruments', 'NOUN'), (',', '.'), ('Fannie', 'NOUN'), ('Mae', 'NOUN'), (\"'s\", 'PRT'), ('chairman', 'NOUN'), (',', '.'), ('David', 'NOUN'), ('O.', 'CONJ'), ('Maxwell', 'NOUN'), (',', '.'), ('said', 'VERB'), ('0', 'X'), ('*T*-1', 'X'), ('at', 'ADP'), ('a', 'DET'), ('news', 'NOUN'), ('conference', 'NOUN'), ('.', '.'), ('William', 'NOUN'), ('Randolph', 'NOUN'), ('Hearst', 'NOUN'), ('had', 'VERB'), ('kept', 'VERB'), ('an', 'DET'), ('apartment', 'NOUN'), ('in', 'ADP'), ('the', 'DET'), ('Spanish', 'CONJ'), ('Renaissance-style', 'CONJ'), ('building', 'NOUN'), ('.', '.'), (\"Dunkin'\", 'NOUN'), ('has', 'VERB'), ('set', 'VERB'), ('Nov.', 'NOUN'), ('10', 'NUM'), ('as', 'ADP'), ('the', 'DET'), ('deadline', 'NOUN'), ('for', 'ADP'), ('the', 'DET'), ('receipt', 'CONJ'), ('of', 'ADP'), ('any', 'DET'), ('competing', 'VERB'), ('bids', 'NOUN'), ('.', '.'), ('President', 'NOUN'), ('Bush', 'NOUN'), ('should', 'VERB'), ('veto', 'NOUN'), ('appropriations', 'NOUN'), ('acts', 'VERB'), ('that', 'ADP'), ('*T*-1', 'X'), ('contain', 'VERB'), ('these', 'DET'), ('kinds', 'NOUN'), ('of', 'ADP'), ('unconstitutional', 'ADJ'), ('conditions', 'NOUN'), ('on', 'ADP'), ('the', 'DET'), ('president', 'NOUN'), (\"'s\", 'PRT'), ('ability', 'NOUN'), ('*', 'X'), ('to', 'PRT'), ('discharge', 'CONJ'), ('his', 'PRON'), ('duties', 'NOUN'), ('and', 'CONJ'), ('exercise', 'VERB'), ('his', 'PRON'), ('prerogatives', 'NOUN'), ('.', '.'), ('``', '.'), ('The', 'DET'), ('sound', 'NOUN'), ('of', 'ADP'), ('bells', 'NOUN'), ('is', 'VERB'), ('a', 'DET'), ('net', 'ADJ'), ('0', 'X'), ('*T*-1', 'X'), ('to', 'PRT'), ('draw', 'VERB'), ('people', 'NOUN'), ('into', 'ADP'), ('the', 'DET'), ('church', 'NOUN'), (',', '.'), (\"''\", '.'), ('he', 'PRON'), ('says', 'VERB'), ('*T*-2', 'X'), ('.', '.'), ('At', 'ADP'), ('Cray', 'NOUN'), ('Computer', 'NOUN'), (',', '.'), ('he', 'PRON'), ('will', 'VERB'), ('be', 'VERB'), ('paid', 'VERB'), ('*-26', 'X'), ('$', '.'), ('240,000', 'CONJ'), ('*U*', 'X'), ('.', '.'), ('Also', 'ADV'), (',', '.'), ('Mr.', 'NOUN'), ('Otero', 'NOUN'), ('was', 'VERB'), ('barred', 'VERB'), ('*-154', 'CONJ'), ('from', 'ADP'), ('association', 'NOUN'), ('with', 'ADP'), ('any', 'DET'), ('NASD', 'NOUN'), ('member', 'NOUN'), ('.', '.'), ('Enterprise', 'NOUN'), ('Rent-A-Car', 'CONJ'), ('Inc.', 'NOUN'), ('breaks', 'VERB'), ('its', 'PRON'), ('first', 'ADJ'), ('national', 'ADJ'), ('ad', 'NOUN'), ('campaign', 'NOUN'), ('this', 'DET'), ('week', 'NOUN'), ('.', '.'), ('However', 'ADV'), (',', '.'), ('five', 'NUM'), ('other', 'ADJ'), ('countries', 'NOUN'), ('--', '.'), ('China', 'NOUN'), (',', '.'), ('Thailand', 'NOUN'), (',', '.'), ('India', 'CONJ'), (',', '.'), ('Brazil', 'NOUN'), ('and', 'CONJ'), ('Mexico', 'NOUN'), ('--', '.'), ('will', 'VERB'), ('remain', 'VERB'), ('on', 'ADP'), ('that', 'DET'), ('so-called', 'ADJ'), ('priority', 'NOUN'), ('watch', 'VERB'), ('list', 'NOUN'), ('as', 'ADP'), ('a', 'DET'), ('result', 'NOUN'), ('of', 'ADP'), ('an', 'DET'), ('interim', 'ADJ'), ('review', 'NOUN'), (',', '.'), ('U.S.', 'NOUN'), ('Trade', 'NOUN'), ('Representative', 'NOUN'), ('Carla', 'NOUN'), ('Hills', 'NOUN'), ('announced', 'VERB'), ('0', 'X'), ('*T*-1', 'X'), ('.', '.'), ('Akio', 'NOUN'), ('Yamamoto', 'NOUN'), (',', '.'), ('managing', 'VERB'), ('director', 'NOUN'), ('of', 'ADP'), ('Nomura', 'CONJ'), ('Investment', 'NOUN'), ('Trust', 'NOUN'), ('Management', 'NOUN'), (',', '.'), ('said', 'VERB'), ('that', 'ADP'), ('if', 'ADP'), ('the', 'DET'), ('U.S.', 'NOUN'), ('federal', 'ADJ'), ('funds', 'NOUN'), ('rate', 'NOUN'), ('declines', 'NOUN'), ('to', 'PRT'), ('around', 'ADP'), ('8.5', 'NUM'), ('%', 'NOUN'), (',', '.'), ('institutions', 'NOUN'), ('would', 'VERB'), ('acquire', 'VERB'), ('a', 'DET'), ('clearer', 'CONJ'), ('idea', 'NOUN'), ('regarding', 'VERB'), ('the', 'DET'), ('direction', 'NOUN'), ('of', 'ADP'), ('the', 'DET'), ('market', 'NOUN'), ('and', 'CONJ'), ('thus', 'ADV'), ('more', 'ADJ'), ('comfortably', 'CONJ'), ('participate', 'VERB'), ('in', 'ADP'), ('active', 'ADJ'), ('buying', 'NOUN'), ('.', '.'), ('If', 'ADP'), ('spreads', 'CONJ'), ('available', 'ADJ'), ('from', 'ADP'), ('index', 'NOUN'), ('arbitrage', 'NOUN'), ('are', 'VERB'), ('so', 'ADV'), ('enormous', 'ADJ'), (',', '.'), ('surely', 'ADV'), ('any', 'DET'), ('sizable', 'ADJ'), ('mutual-fund', 'CONJ'), ('company', 'NOUN'), ('could', 'VERB'), ('profit', 'NOUN'), ('from', 'ADP'), ('*', 'X'), ('offering', 'VERB'), ('it', 'PRON'), ('to', 'PRT'), ('small', 'ADJ'), ('investors', 'NOUN'), ('.', '.'), ('In', 'ADP'), ('many', 'ADJ'), ('other', 'ADJ'), ('instances', 'NOUN'), (',', '.'), ('there', 'DET'), ('is', 'VERB'), ('almost', 'ADV'), ('no', 'DET'), ('difference', 'NOUN'), ('between', 'ADP'), ('the', 'DET'), ('real', 'ADJ'), ('test', 'NOUN'), ('and', 'CONJ'), ('Learning', 'NOUN'), ('Materials', 'NOUN'), ('.', '.'), ('Iowa', 'NOUN'), ('and', 'CONJ'), ('Minnesota', 'NOUN'), ('were', 'VERB'), ('among', 'ADP'), ('the', 'DET'), ('few', 'ADJ'), ('major', 'ADJ'), ('farm', 'NOUN'), ('states', 'NOUN'), ('0', 'X'), ('*T*-1', 'X'), ('to', 'PRT'), ('log', 'CONJ'), ('a', 'DET'), ('decline', 'NOUN'), ('in', 'ADP'), ('net', 'ADJ'), ('cash', 'NOUN'), ('income', 'NOUN'), ('.', '.'), ('By', 'ADP'), ('1997', 'CONJ'), (',', '.'), ('almost', 'ADV'), ('all', 'DET'), ('remaining', 'VERB'), ('uses', 'VERB'), ('of', 'ADP'), ('cancer-causing', 'CONJ'), ('asbestos', 'NOUN'), ('will', 'VERB'), ('be', 'VERB'), ('outlawed', 'CONJ'), ('*-6', 'X'), ('.', '.'), ('For', 'ADP'), ('six', 'NUM'), ('years', 'NOUN'), (',', '.'), ('T.', 'NOUN'), ('Marshall', 'NOUN'), ('Hahn', 'NOUN'), ('Jr.', 'NOUN'), ('has', 'VERB'), ('made', 'VERB'), ('corporate', 'ADJ'), ('acquisitions', 'NOUN'), ('in', 'ADP'), ('the', 'DET'), ('George', 'NOUN'), ('Bush', 'NOUN'), ('mode', 'CONJ'), (':', '.'), ('kind', 'NOUN'), ('and', 'CONJ'), ('gentle', 'CONJ'), ('.', '.'), ('The', 'DET'), ('results', 'NOUN'), ('reflected', 'VERB'), ('a', 'DET'), ('24', 'NUM'), ('%', 'NOUN'), ('gain', 'NOUN'), ('in', 'ADP'), ('income', 'NOUN'), ('from', 'ADP'), ('its', 'PRON'), ('finance', 'VERB'), ('businesses', 'NOUN'), (',', '.'), ('and', 'CONJ'), ('a', 'DET'), ('15', 'NUM'), ('%', 'NOUN'), ('slide', 'NOUN'), ('in', 'ADP'), ('income', 'NOUN'), ('from', 'ADP'), ('insurance', 'NOUN'), ('operations', 'NOUN'), ('.', '.'), ('Hadson', 'NOUN'), ('Corp.', 'NOUN'), ('said', 'VERB'), ('0', 'X'), ('it', 'PRON'), ('expects', 'VERB'), ('*-1', 'X'), ('to', 'PRT'), ('report', 'NOUN'), ('a', 'DET'), ('third-quarter', 'NOUN'), ('net', 'NOUN'), ('loss', 'NOUN'), ('of', 'ADP'), ('$', '.'), ('17', 'NUM'), ('million', 'NUM'), ('to', 'PRT'), ('$', '.'), ('19', 'NUM'), ('million', 'NUM'), ('*U*', 'X'), ('because', 'ADP'), ('of', 'ADP'), ('special', 'ADJ'), ('reserves', 'NOUN'), ('and', 'CONJ'), ('continued', 'VERB'), ('low', 'ADJ'), ('natural-gas', 'CONJ'), ('prices', 'NOUN'), ('.', '.'), ('And', 'CONJ'), (',', '.'), ('of', 'ADP'), ('course', 'NOUN'), (',', '.'), ('there', 'DET'), (\"'s\", 'VERB'), ('that', 'ADP'), ('word', 'NOUN'), ('``', '.'), ('dissemination', 'NOUN'), ('.', '.'), (\"''\", '.'), ('Weatherly', 'CONJ'), ('Securities', 'NOUN'), ('Corp.', 'NOUN'), (',', '.'), ('New', 'NOUN'), ('York', 'NOUN'), (',', '.'), ('and', 'CONJ'), ('three', 'NUM'), ('of', 'ADP'), ('its', 'PRON'), ('principals', 'NOUN'), ('--', '.'), ('Dell', 'NOUN'), ('Eugene', 'NOUN'), ('Keehn', 'CONJ'), ('and', 'CONJ'), ('William', 'NOUN'), ('Northy', 'CONJ'), ('Prater', 'CONJ'), ('Jr.', 'NOUN'), (',', '.'), ('both', 'DET'), ('of', 'ADP'), ('Mercer', 'CONJ'), ('Island', 'NOUN'), (',', '.'), ('Wash.', 'CONJ'), (',', '.'), ('and', 'CONJ'), ('Thomas', 'NOUN'), ('Albert', 'NOUN'), ('McFall', 'NOUN'), (',', '.'), ('of', 'ADP'), ('Red', 'NOUN'), ('Bank', 'NOUN'), (',', '.'), ('N.J', 'NOUN'), ('.', '.'), ('--', '.'), ('consented', 'VERB'), ('to', 'PRT'), ('a', 'DET'), ('fine', 'NOUN'), ('of', 'ADP'), ('$', '.'), ('20,000', 'NUM'), ('*U*', 'X'), ('.', '.'), ('But', 'CONJ'), ('the', 'DET'), ('number', 'NOUN'), ('of', 'ADP'), ('weddings', 'NOUN'), ('last', 'ADJ'), ('year', 'NOUN'), ('--', '.'), ('271,124', 'CONJ'), ('--', '.'), ('was', 'VERB'), ('still', 'ADV'), ('well', 'ADV'), ('below', 'ADP'), ('the', 'DET'), ('400,000', 'CONJ'), ('registered', 'VERB'), ('*', 'X'), ('in', 'ADP'), ('1972', 'NUM'), (',', '.'), ('the', 'DET'), ('last', 'ADJ'), ('year', 'NOUN'), ('of', 'ADP'), ('increasing', 'VERB'), ('marriages', 'NOUN'), ('.', '.'), ('And', 'CONJ'), ('while', 'ADP'), ('there', 'DET'), ('was', 'VERB'), ('no', 'DET'), ('profit', 'NOUN'), ('*ICH*-1', 'X'), ('this', 'DET'), ('year', 'NOUN'), ('from', 'ADP'), ('discontinued', 'VERB'), ('operations', 'NOUN'), (',', '.'), ('last', 'ADJ'), ('year', 'NOUN'), ('they', 'PRON'), ('contributed', 'VERB'), ('#', '.'), ('34', 'NUM'), ('million', 'NUM'), ('*U*', 'X'), (',', '.'), ('before', 'ADP'), ('tax', 'NOUN'), ('.', '.'), ('One', 'NUM'), ('analyst', 'NOUN'), (',', '.'), ('Arthur', 'NOUN'), ('Stevenson', 'NOUN'), (',', '.'), ('of', 'ADP'), ('Prudential-Bache', 'NOUN'), ('Securities', 'NOUN'), (',', '.'), ('New', 'NOUN'), ('York', 'NOUN'), (',', '.'), ('estimated', 'VERB'), ('that', 'ADP'), ('65', 'NUM'), ('%', 'NOUN'), ('or', 'CONJ'), ('more', 'ADJ'), ('of', 'ADP'), ('Brazil', 'NOUN'), (\"'s\", 'PRT'), ('newly', 'ADV'), ('made', 'VERB'), ('automobiles', 'NOUN'), ('run', 'VERB'), ('on', 'ADP'), ('alcohol', 'NOUN'), ('and', 'CONJ'), ('ca', 'VERB'), (\"n't\", 'ADV'), ('use', 'VERB'), ('gasoline', 'NOUN'), ('.', '.'), ('Mr.', 'NOUN'), ('Samnick', 'NOUN'), (',', '.'), ('who', 'PRON'), ('*T*-135', 'CONJ'), ('will', 'VERB'), ('go', 'VERB'), ('before', 'ADP'), ('the', 'DET'), ('disciplinary', 'ADJ'), ('panel', 'NOUN'), (',', '.'), ('said', 'VERB'), ('0', 'X'), ('the', 'DET'), ('proceedings', 'NOUN'), ('are', 'VERB'), ('unfair', 'ADJ'), ('and', 'CONJ'), ('that', 'DET'), ('any', 'DET'), ('punishment', 'CONJ'), ('from', 'ADP'), ('the', 'DET'), ('guild', 'NOUN'), ('would', 'VERB'), ('be', 'VERB'), ('unjustified', 'ADJ'), ('.', '.'), ('The', 'DET'), ('plan', 'NOUN'), ('calls', 'VERB'), ('for', 'ADP'), ('*', 'X'), ('closing', 'VERB'), ('at', 'ADP'), ('least', 'ADJ'), ('nine', 'NUM'), ('plants', 'NOUN'), ('and', 'CONJ'), ('eliminating', 'VERB'), ('about', 'ADP'), ('3,600', 'CONJ'), ('jobs', 'NOUN'), ('.', '.'), ('The', 'DET'), ('administration', 'NOUN'), (',', '.'), ('*-1', 'X'), ('sticking', 'CONJ'), ('to', 'PRT'), ('its', 'PRON'), ('vow', 'CONJ'), ('of', 'ADP'), ('*', 'X'), ('avoiding', 'CONJ'), ('tax', 'NOUN'), ('increases', 'NOUN'), (',', '.'), ('has', 'VERB'), ('staunchly', 'CONJ'), ('opposed', 'VERB'), ('cost-sharing', 'ADJ'), ('.', '.'), ('In', 'ADP'), ('a', 'DET'), ('well-known', 'ADJ'), ('detective-story', 'CONJ'), ('involving', 'VERB'), ('church', 'NOUN'), ('bells', 'NOUN'), (',', '.'), ('English', 'NOUN'), ('novelist', 'CONJ'), ('Dorothy', 'NOUN'), ('L.', 'NOUN'), ('Sayers', 'NOUN'), ('described', 'VERB'), ('ringing', 'VERB'), ('as', 'ADP'), ('a', 'DET'), ('``', '.'), ('passion', 'NOUN'), ('-LCB-', '.'), ('that', 'DET'), ('-RCB-', '.'), ('*T*-1', 'X'), ('finds', 'CONJ'), ('its', 'PRON'), ('satisfaction', 'CONJ'), ('in', 'ADP'), ('mathematical', 'CONJ'), ('completeness', 'CONJ'), ('and', 'CONJ'), ('mechanical', 'ADJ'), ('perfection', 'CONJ'), ('.', '.'), (\"''\", '.'), ('Integra-A', 'CONJ'), ('Hotel', 'NOUN'), ('&', 'CONJ'), ('Restaurant', 'CONJ'), ('Co.', 'NOUN'), ('said', 'VERB'), ('0', 'X'), ('its', 'PRON'), ('planned', 'VERB'), ('rights', 'NOUN'), ('offering', 'NOUN'), ('0', 'X'), ('*T*-1', 'X'), ('to', 'PRT'), ('raise', 'VERB'), ('about', 'ADP'), ('$', '.'), ('9', 'NUM'), ('million', 'NUM'), ('*U*', 'X'), ('was', 'VERB'), ('declared', 'VERB'), ('*-103', 'CONJ'), ('effective', 'ADJ'), ('and', 'CONJ'), ('the', 'DET'), ('company', 'NOUN'), ('will', 'VERB'), ('begin', 'VERB'), ('*-2', 'X'), ('mailing', 'NOUN'), ('materials', 'NOUN'), ('to', 'PRT'), ('shareholders', 'NOUN'), ('at', 'ADP'), ('the', 'DET'), ('end', 'NOUN'), ('of', 'ADP'), ('this', 'DET'), ('week', 'NOUN'), ('.', '.'), ('Publishing', 'NOUN'), ('officials', 'NOUN'), ('believe', 'VERB'), ('that', 'ADP'), ('while', 'ADP'), ('Random', 'NOUN'), ('House', 'NOUN'), ('has', 'VERB'), ('enjoyed', 'CONJ'), ('spectacular', 'CONJ'), ('growth', 'NOUN'), ('and', 'CONJ'), ('has', 'VERB'), ('smoothly', 'CONJ'), ('integrated', 'VERB'), ('many', 'ADJ'), ('acquisitions', 'NOUN'), ('in', 'ADP'), ('recent', 'ADJ'), ('years', 'NOUN'), (',', '.'), ('some', 'DET'), ('of', 'ADP'), ('the', 'DET'), ('bigger', 'ADJ'), ('ones', 'NOUN'), ('have', 'VERB'), (\"n't\", 'ADV'), ('been', 'VERB'), ('absorbed', 'VERB'), ('*-44', 'X'), ('so', 'ADV'), ('easily', 'ADV'), ('.', '.'), ('The', 'DET'), ('speed', 'NOUN'), ('with', 'ADP'), ('which', 'DET'), ('such', 'ADJ'), ('program', 'NOUN'), ('trades', 'NOUN'), ('take', 'VERB'), ('place', 'NOUN'), ('*T*-1', 'X'), ('and', 'CONJ'), ('the', 'DET'), ('volatile', 'ADJ'), ('price', 'NOUN'), ('movements', 'NOUN'), ('0', 'X'), ('they', 'PRON'), ('can', 'VERB'), ('cause', 'VERB'), ('*T*-2', 'X'), ('are', 'VERB'), ('what', 'PRON'), ('program', 'NOUN'), ('trading', 'NOUN'), ('critics', 'NOUN'), ('profess', 'CONJ'), ('*-3', 'X'), ('to', 'PRT'), ('despise', 'CONJ'), ('*T*-4', 'X'), ('.', '.'), ('Profit', 'NOUN'), ('from', 'ADP'), ('continuing', 'VERB'), ('operations', 'NOUN'), ('has', 'VERB'), ('soared', 'VERB'), ('to', 'PRT'), ('$', '.'), ('467', 'CONJ'), ('million', 'NUM'), ('*U*', 'X'), ('from', 'ADP'), ('$', '.'), ('75', 'NUM'), ('million', 'NUM'), ('*U*', 'X'), ('.', '.'), ('Put', 'VERB'), ('option', 'NOUN'), ('on', 'ADP'), ('Dec.', 'NOUN'), ('31', 'NUM'), (',', '.'), ('1991', 'NUM'), (',', '.'), ('at', 'ADP'), ('a', 'DET'), ('fixed', 'VERB'), ('106', 'CONJ'), ('7\\\\/8', 'NUM'), ('*', 'X'), ('to', 'PRT'), ('yield', 'VERB'), ('3.42', 'CONJ'), ('%', 'NOUN'), ('.', '.'), ('Georgia-Pacific', 'NOUN'), (',', '.'), ('which', 'DET'), ('*T*-1', 'X'), ('went', 'VERB'), ('down', 'ADV'), ('2', 'NUM'), ('1\\\\/2', 'NUM'), ('Tuesday', 'NOUN'), (',', '.'), ('lost', 'VERB'), ('another', 'DET'), ('1\\\\/2', 'NUM'), ('to', 'PRT'), ('50', 'NUM'), ('3\\\\/8', 'NUM'), ('.', '.'), ('South', 'NOUN'), ('Africa', 'CONJ'), ('accused', 'VERB'), ('armed', 'CONJ'), ('Namibian', 'CONJ'), ('nationalist', 'CONJ'), ('guerrillas', 'CONJ'), ('of', 'ADP'), ('*', 'X'), ('crossing', 'VERB'), ('from', 'ADP'), ('bases', 'NOUN'), ('in', 'ADP'), ('neighboring', 'CONJ'), ('Angola', 'CONJ'), (',', '.'), ('*-1', 'X'), ('violating', 'CONJ'), ('U.N.-supervised', 'CONJ'), ('peace', 'CONJ'), ('plans', 'VERB'), ('for', 'ADP'), ('the', 'DET'), ('territory', 'CONJ'), (\"'s\", 'PRT'), ('independence', 'NOUN'), ('from', 'ADP'), ('Pretoria', 'NOUN'), ('.', '.'), ('``', '.'), ('Do', 'VERB'), ('you', 'PRON'), ('make', 'VERB'), ('sweatshirts', 'CONJ'), ('or', 'CONJ'), ('sparkplugs', 'CONJ'), ('?', '.'), ('``', '.'), ('It', 'PRON'), ('has', 'VERB'), ('not', 'ADV'), ('been', 'VERB'), ('disruptive', 'CONJ'), ('in', 'ADP'), ('the', 'DET'), ('markets', 'NOUN'), ('here', 'ADV'), (',', '.'), (\"''\", '.'), ('Mr.', 'NOUN'), ('Maughan', 'NOUN'), ('said', 'VERB'), ('*T*-1', 'X'), ('.', '.'), ('GRAINS', 'CONJ'), ('AND', 'CONJ'), ('SOYBEANS', 'CONJ'), (':', '.'), ('It', 'PRON'), ('would', 'VERB'), ('contradict', 'VERB'), ('that', 'ADP'), ('objective', 'NOUN'), ('if', 'ADP'), ('the', 'DET'), ('appropriations', 'NOUN'), ('clause', 'NOUN'), ('-LRB-', '.'), ('technically', 'CONJ'), ('a', 'DET'), ('limitation', 'CONJ'), ('on', 'ADP'), ('legislative', 'ADJ'), ('power', 'NOUN'), ('-RRB-', '.'), ('could', 'VERB'), ('be', 'VERB'), ('read', 'VERB'), ('*-52', 'X'), ('as', 'ADP'), ('*-52', 'X'), ('placing', 'VERB'), ('the', 'DET'), ('president', 'NOUN'), ('on', 'ADP'), ('Congress', 'NOUN'), (\"'s\", 'PRT'), ('short', 'ADJ'), ('leash', 'CONJ'), (',', '.'), ('*-52', 'X'), ('making', 'VERB'), ('the', 'DET'), ('executive', 'ADJ'), ('consist', 'VERB'), ('of', 'ADP'), ('the', 'DET'), ('president', 'NOUN'), ('and', 'CONJ'), ('every', 'DET'), ('member', 'NOUN'), ('of', 'ADP'), ('Congress', 'NOUN'), ('.', '.'), ('McGraw-Hill', 'NOUN'), ('was', 'VERB'), ('outraged', 'CONJ'), ('.', '.'), ('Sales', 'NOUN'), ('figures', 'NOUN'), ('of', 'ADP'), ('the', 'DET'), ('test-prep', 'CONJ'), ('materials', 'NOUN'), ('are', 'VERB'), (\"n't\", 'ADV'), ('known', 'VERB'), ('*-1', 'X'), (',', '.'), ('but', 'CONJ'), ('their', 'PRON'), ('reach', 'VERB'), ('into', 'ADP'), ('schools', 'NOUN'), ('is', 'VERB'), ('significant', 'ADJ'), ('.', '.'), ('``', '.'), ('There', 'DET'), (\"'s\", 'VERB'), ('a', 'DET'), ('price', 'NOUN'), ('above', 'ADP'), ('which', 'DET'), ('I', 'PRON'), (\"'m\", 'VERB'), ('positive', 'ADJ'), ('0', 'X'), ('Marshall', 'NOUN'), ('has', 'VERB'), ('the', 'DET'), ('courage', 'CONJ'), ('0', 'X'), ('*', 'X'), ('not', 'ADV'), ('to', 'PRT'), ('pay', 'VERB'), ('*T*-1', 'X'), ('*T*-3', 'X'), (',', '.'), (\"''\", '.'), ('says', 'VERB'), ('*T*-2', 'X'), ('A.D.', 'CONJ'), ('Correll', 'NOUN'), (',', '.'), ('Georgia-Pacific', 'NOUN'), (\"'s\", 'PRT'), ('executive', 'ADJ'), ('vice', 'NOUN'), ('president', 'NOUN'), ('for', 'ADP'), ('pulp', 'NOUN'), ('and', 'CONJ'), ('paper', 'NOUN'), ('.', '.'), ('Middlesex', 'CONJ'), ('Water', 'CONJ'), ('Co.', 'NOUN'), (',', '.'), ('offering', 'NOUN'), ('of', 'ADP'), ('150,000', 'CONJ'), ('shares', 'NOUN'), ('of', 'ADP'), ('common', 'ADJ'), ('stock', 'NOUN'), (',', '.'), ('via', 'ADP'), ('Legg', 'NOUN'), ('Mason', 'NOUN'), ('Wood', 'NOUN'), ('Walker', 'CONJ'), ('Inc.', 'NOUN'), ('and', 'CONJ'), ('Howard', 'CONJ'), (',', '.'), ('Weil', 'CONJ'), (',', '.'), ('Labouisse', 'CONJ'), (',', '.'), ('Friedrichs', 'CONJ'), ('Inc', 'NOUN'), ('.', '.'), ('In', 'ADP'), ('the', 'DET'), ('year-earlier', 'ADJ'), ('period', 'NOUN'), (',', '.'), ('SCI', 'NOUN'), ('had', 'VERB'), ('net', 'ADJ'), ('income', 'NOUN'), ('of', 'ADP'), ('$', '.'), ('4.8', 'NUM'), ('million', 'NUM'), ('*U*', 'X'), (',', '.'), ('or', 'CONJ'), ('23', 'NUM'), ('cents', 'NOUN'), ('a', 'DET'), ('share', 'NOUN'), (',', '.'), ('on', 'ADP'), ('revenue', 'NOUN'), ('of', 'ADP'), ('$', '.'), ('225.6', 'CONJ'), ('million', 'NUM'), ('*U*', 'X'), ('.', '.'), ('In', 'ADP'), ('October', 'NOUN'), (',', '.'), ('more', 'ADV'), ('people', 'NOUN'), ('*ICH*-1', 'X'), ('said', 'VERB'), ('that', 'ADP'), ('present', 'VERB'), ('business', 'NOUN'), ('conditions', 'NOUN'), ('were', 'VERB'), ('``', '.'), ('good', 'ADJ'), (\"''\", '.'), ('than', 'ADP'), ('in', 'ADP'), ('September', 'NOUN'), ('.', '.'), ('Several', 'ADJ'), ('candidates', 'NOUN'), ('have', 'VERB'), ('withdrawn', 'VERB'), ('their', 'PRON'), ('names', 'NOUN'), ('from', 'ADP'), ('consideration', 'NOUN'), ('after', 'ADP'), ('administration', 'NOUN'), ('officials', 'NOUN'), ('asked', 'VERB'), ('them', 'PRON'), ('for', 'ADP'), ('their', 'PRON'), ('views', 'VERB'), ('on', 'ADP'), ('abortion', 'NOUN'), ('and', 'CONJ'), ('fetal-tissue', 'ADJ'), ('transplants', 'NOUN'), ('.', '.'), ('Currently', 'ADV'), (',', '.'), ('margins', 'NOUN'), ('on', 'ADP'), ('stock', 'NOUN'), ('futures', 'NOUN'), ('purchases', 'NOUN'), ('are', 'VERB'), ('much', 'ADV'), ('lower', 'ADJ'), ('--', '.'), ('roughly', 'ADV'), ('7', 'NUM'), ('%', 'NOUN'), ('compared', 'VERB'), ('with', 'ADP'), ('50', 'NUM'), ('%', 'NOUN'), ('for', 'ADP'), ('stocks', 'NOUN'), ('--', '.'), ('*', 'X'), ('making', 'VERB'), ('the', 'DET'), ('futures', 'NOUN'), ('market', 'NOUN'), ('much', 'ADV'), ('faster', 'ADJ'), ('and', 'CONJ'), ('potentially', 'CONJ'), ('more', 'ADJ'), ('speculative', 'ADJ'), ('.', '.'), ('The', 'DET'), ('question', 'NOUN'), ('now', 'ADV'), (':', '.'), ('Can', 'CONJ'), ('he', 'PRON'), ('act', 'VERB'), ('more', 'ADV'), ('like', 'ADP'), ('hard-charging', 'CONJ'), ('Teddy', 'CONJ'), ('Roosevelt', 'CONJ'), ('?', '.'), ('In', 'ADP'), ('and', 'CONJ'), ('around', 'ADP'), ('all', 'DET'), ('levels', 'NOUN'), ('of', 'ADP'), ('government', 'NOUN'), ('in', 'ADP'), ('the', 'DET'), ('U.S.', 'NOUN'), ('are', 'VERB'), ('*T*-3', 'X'), ('groups', 'NOUN'), ('of', 'ADP'), ('people', 'NOUN'), ('who', 'PRON'), ('*T*-2', 'X'), ('can', 'VERB'), ('best', 'ADJ'), ('be', 'VERB'), ('described', 'VERB'), ('*-1', 'X'), ('as', 'ADP'), ('*-4', 'X'), ('belonging', 'VERB'), ('to', 'PRT'), ('a', 'DET'), ('political', 'ADJ'), ('insider', 'CONJ'), ('commercial', 'ADJ'), ('party', 'NOUN'), ('.', '.'), ('*-1', 'X'), ('Stung', 'VERB'), ('by', 'ADP'), ('charges', 'NOUN'), ('that', 'ADP'), ('their', 'PRON'), ('greed', 'NOUN'), ('is', 'VERB'), ('turning', 'VERB'), ('the', 'DET'), ('stock', 'NOUN'), ('market', 'NOUN'), ('into', 'ADP'), ('a', 'DET'), ('gigantic', 'CONJ'), ('crapshoot', 'CONJ'), (',', '.'), ('almost', 'ADV'), ('all', 'DET'), ('the', 'DET'), ('big', 'ADJ'), ('investment', 'NOUN'), ('banking', 'NOUN'), ('houses', 'NOUN'), ('have', 'VERB'), ('abandoned', 'VERB'), ('index', 'NOUN'), ('arbitrage', 'NOUN'), (',', '.'), ('a', 'DET'), ('common', 'ADJ'), ('form', 'NOUN'), ('of', 'ADP'), ('program', 'NOUN'), ('trading', 'NOUN'), (',', '.'), ('for', 'ADP'), ('their', 'PRON'), ('own', 'ADJ'), ('accounts', 'NOUN'), ('in', 'ADP'), ('the', 'DET'), ('past', 'ADJ'), ('few', 'ADJ'), ('days', 'NOUN'), ('.', '.'), ('But', 'CONJ'), ('Learning', 'NOUN'), ('Materials', 'NOUN'), ('matched', 'VERB'), ('on', 'ADP'), ('66.5', 'CONJ'), ('of', 'ADP'), ('69', 'NUM'), ('subskills', 'NOUN'), ('.', '.'), ('Sales', 'NOUN'), ('were', 'VERB'), ('roughly', 'ADV'), ('flat', 'ADJ'), ('in', 'ADP'), ('the', 'DET'), ('1989', 'NUM'), ('model', 'NOUN'), ('year', 'NOUN'), ('compared', 'VERB'), ('with', 'ADP'), ('a', 'DET'), ('year', 'NOUN'), ('earlier', 'ADV'), (',', '.'), ('though', 'ADP'), ('industry', 'NOUN'), ('sales', 'NOUN'), ('fell', 'VERB'), ('.', '.'), ('She', 'PRON'), ('was', 'VERB'), ('an', 'DET'), ('unstinting', 'CONJ'), ('teacher', 'NOUN'), ('who', 'PRON'), ('*T*-80', 'X'), ('won', 'VERB'), ('laurels', 'CONJ'), ('and', 'CONJ'), ('inspired', 'VERB'), ('students', 'NOUN'), (',', '.'), ('but', 'CONJ'), ('she', 'PRON'), ('will', 'VERB'), ('probably', 'ADV'), ('never', 'ADV'), ('teach', 'VERB'), ('again', 'ADV'), ('.', '.'), ('Countries', 'CONJ'), ('in', 'ADP'), ('the', 'DET'), ('region', 'NOUN'), ('also', 'ADV'), ('are', 'VERB'), ('beginning', 'VERB'), ('*-1', 'X'), ('to', 'PRT'), ('consider', 'VERB'), ('a', 'DET'), ('framework', 'CONJ'), ('for', 'ADP'), ('closer', 'ADJ'), ('economic', 'ADJ'), ('and', 'CONJ'), ('political', 'ADJ'), ('ties', 'NOUN'), ('.', '.'), ('Viacom', 'NOUN'), (\"'s\", 'PRT'), ('move', 'VERB'), ('comes', 'VERB'), ('as', 'ADP'), ('the', 'DET'), ('syndication', 'NOUN'), ('market', 'NOUN'), ('is', 'VERB'), ('being', 'VERB'), ('flooded', 'CONJ'), ('*-76', 'X'), ('with', 'ADP'), ('situation', 'NOUN'), ('comedies', 'CONJ'), ('that', 'DET'), ('*T*-152', 'CONJ'), ('are', 'VERB'), ('still', 'ADV'), ('running', 'VERB'), ('on', 'ADP'), ('the', 'DET'), ('networks', 'CONJ'), ('.', '.'), ('Czechoslovakia', 'NOUN'), ('said', 'VERB'), ('in', 'ADP'), ('May', 'NOUN'), ('0', 'X'), ('it', 'PRON'), ('could', 'VERB'), ('seek', 'VERB'), ('$', '.'), ('2', 'NUM'), ('billion', 'NUM'), ('*U*', 'X'), ('from', 'ADP'), ('Hungary', 'NOUN'), ('if', 'ADP'), ('the', 'DET'), ('twindam', 'CONJ'), ('contract', 'NOUN'), ('were', 'VERB'), ('broken', 'VERB'), ('*-68', 'X'), ('.', '.'), ('Annualized', 'CONJ'), ('average', 'ADJ'), ('rate', 'NOUN'), ('of', 'ADP'), ('return', 'NOUN'), ('after', 'ADP'), ('expenses', 'NOUN'), ('for', 'ADP'), ('the', 'DET'), ('past', 'ADJ'), ('30', 'NUM'), ('days', 'NOUN'), (';', '.'), ('not', 'ADV'), ('a', 'DET'), ('forecast', 'NOUN'), ('of', 'ADP'), ('future', 'ADJ'), ('returns', 'NOUN'), ('.', '.'), ('If', 'ADP'), ('we', 'PRON'), ('look', 'VERB'), ('to', 'PRT'), ('the', 'DET'), ('future', 'ADJ'), (',', '.'), ('*', 'X'), ('preventing', 'VERB'), ('homelessness', 'NOUN'), ('is', 'VERB'), ('an', 'DET'), ('important', 'ADJ'), ('objective', 'NOUN'), ('.', '.'), ('Many', 'ADJ'), ('people', 'NOUN'), ('believe', 'VERB'), ('0', 'X'), ('the', 'DET'), ('growth', 'NOUN'), ('in', 'ADP'), ('dividends', 'NOUN'), ('will', 'VERB'), ('slow', 'VERB'), ('next', 'ADJ'), ('year', 'NOUN'), (',', '.'), ('although', 'ADP'), ('a', 'DET'), ('minority', 'NOUN'), ('see', 'VERB'), ('double-digit', 'ADJ'), ('gains', 'NOUN'), ('continuing', 'VERB'), ('.', '.'), ('``', '.'), ('Feeding', 'NOUN'), ('Frenzy', 'NOUN'), (\"''\", '.'), ('does', 'VERB'), ('provide', 'VERB'), ('a', 'DET'), ('few', 'ADJ'), ('clues', 'NOUN'), ('.', '.'), ('Standard', 'NOUN'), ('&', 'CONJ'), ('Poor', 'NOUN'), (\"'s\", 'PRT'), ('500-Stock', 'CONJ'), ('Index', 'NOUN'), ('added', 'VERB'), ('0.84', 'CONJ'), ('to', 'PRT'), ('341.20', 'CONJ'), (';', '.'), ('the', 'DET'), ('rise', 'NOUN'), ('was', 'VERB'), ('equivalent', 'NOUN'), ('to', 'PRT'), ('a', 'DET'), ('gain', 'NOUN'), ('of', 'ADP'), ('about', 'ADP'), ('six', 'NUM'), ('points', 'NOUN'), ('in', 'ADP'), ('the', 'DET'), ('industrial', 'ADJ'), ('average', 'NOUN'), ('.', '.'), ('On', 'ADP'), ('the', 'DET'), ('Big', 'NOUN'), ('Board', 'NOUN'), (',', '.'), ('a', 'DET'), ('``', '.'), ('side', 'NOUN'), ('car', 'NOUN'), (\"''\", '.'), ('is', 'VERB'), ('put', 'VERB'), ('*-1', 'X'), ('into', 'ADP'), ('effect', 'NOUN'), ('when', 'ADV'), ('the', 'DET'), ('S&P', 'NOUN'), ('futures', 'NOUN'), ('rise', 'VERB'), ('or', 'CONJ'), ('fall', 'NOUN'), ('12', 'NUM'), ('points', 'NOUN'), ('*T*-2', 'X'), ('.', '.'), ('Part', 'CONJ'), ('of', 'ADP'), ('the', 'DET'), ('problem', 'NOUN'), ('is', 'VERB'), ('that', 'ADP'), ('chip', 'NOUN'), ('buyers', 'NOUN'), ('are', 'VERB'), ('keeping', 'VERB'), ('inventories', 'NOUN'), ('low', 'ADJ'), ('because', 'ADP'), ('of', 'ADP'), ('jitters', 'CONJ'), ('about', 'ADP'), ('the', 'DET'), ('course', 'NOUN'), ('of', 'ADP'), ('the', 'DET'), ('U.S.', 'NOUN'), ('economy', 'NOUN'), ('.', '.'), ('Beauty', 'CONJ'), ('Takes', 'CONJ'), ('Backseat', 'CONJ'), ('To', 'PRT'), ('Safety', 'NOUN'), ('on', 'ADP'), ('Bridges', 'CONJ'), ('The', 'DET'), ('leadership', 'NOUN'), ('hopes', 'VERB'), ('*-1', 'X'), ('to', 'PRT'), ('move', 'VERB'), ('the', 'DET'), ('compromise', 'NOUN'), ('measure', 'NOUN'), ('promptly', 'ADV'), ('to', 'PRT'), ('the', 'DET'), ('White', 'NOUN'), ('House', 'NOUN'), (',', '.'), ('but', 'CONJ'), ('in', 'ADP'), ('recent', 'ADJ'), ('days', 'NOUN'), (',', '.'), ('the', 'DET'), ('Senate', 'NOUN'), ('has', 'VERB'), ('been', 'VERB'), ('as', 'ADP'), ('likely', 'ADJ'), ('*-3', 'X'), ('to', 'PRT'), ('bounce', 'CONJ'), ('bills', 'NOUN'), ('back', 'ADV'), ('to', 'PRT'), ('the', 'DET'), ('House', 'NOUN'), ('.', '.'), ('NEW', 'CONJ'), ('ACCOUNT', 'CONJ'), (':', '.'), ('In', 'ADP'), ('addition', 'NOUN'), (',', '.'), ('a', 'DET'), ('big', 'ADJ'), ('loan', 'NOUN'), ('that', 'ADP'), ('First', 'NOUN'), ('Boston', 'NOUN'), ('made', 'VERB'), ('*T*-2', 'X'), ('to', 'PRT'), ('Ohio', 'NOUN'), ('Mattress', 'CONJ'), ('Co', 'NOUN'), ('.', '.'), ('was', 'VERB'), (\"n't\", 'ADV'), ('repaid', 'VERB'), ('on', 'ADP'), ('time', 'NOUN'), ('when', 'ADV'), ('its', 'PRON'), ('$', '.'), ('450', 'NUM'), ('million', 'NUM'), ('*U*', 'X'), ('junk', 'NOUN'), ('financing', 'VERB'), ('for', 'ADP'), ('a', 'DET'), ('buy-out', 'NOUN'), ('of', 'ADP'), ('the', 'DET'), ('bedding', 'CONJ'), ('company', 'NOUN'), ('was', 'VERB'), ('withdrawn', 'VERB'), ('*-1', 'X'), ('*T*-3', 'X'), ('.', '.'), ('The', 'DET'), ('irony', 'CONJ'), ('is', 'VERB'), ('that', 'ADP'), ('the', 'DET'), ('attack', 'NOUN'), ('commercial', 'NOUN'), (',', '.'), ('after', 'ADP'), ('*-1', 'X'), ('getting', 'VERB'), ('a', 'DET'), ('boost', 'NOUN'), ('in', 'ADP'), ('last', 'ADJ'), ('year', 'NOUN'), (\"'s\", 'PRT'), ('presidential', 'ADJ'), ('campaign', 'NOUN'), (',', '.'), ('has', 'VERB'), ('come', 'VERB'), ('of', 'ADP'), ('age', 'NOUN'), ('in', 'ADP'), ('an', 'DET'), ('off-off', 'CONJ'), ('election', 'NOUN'), ('year', 'NOUN'), ('with', 'ADP'), ('only', 'ADV'), ('a', 'DET'), ('few', 'ADJ'), ('contests', 'NOUN'), ('scattered', 'CONJ'), ('*', 'X'), ('across', 'ADP'), ('the', 'DET'), ('country', 'NOUN'), ('.', '.'), ('*', 'X'), ('Think', 'VERB'), ('about', 'ADP'), ('the', 'DET'), ('good', 'ADJ'), ('0', 'X'), ('you', 'PRON'), ('can', 'VERB'), ('do', 'VERB'), ('*T*-1', 'X'), ('for', 'ADP'), ('just', 'ADV'), ('$', '.'), ('15,000', 'NUM'), ('*U*', 'X'), ('a', 'DET'), ('month', 'NOUN'), (',', '.'), ('about', 'ADP'), ('the', 'DET'), ('cost', 'NOUN'), ('of', 'ADP'), ('a', 'DET'), ('mid-size', 'CONJ'), ('Chevrolet', 'NOUN'), ('or', 'CONJ'), ('two', 'NUM'), ('semesters', 'CONJ'), ('at', 'ADP'), ('a', 'DET'), ('state', 'NOUN'), ('university', 'NOUN'), ('.', '.'), ('``', '.'), ('*', 'X'), ('Consider', 'CONJ'), ('Jim', 'NOUN'), ('Courter', 'NOUN'), ('.', '.'), (\"''\", '.'), ('Prices', 'NOUN'), ('rose', 'VERB'), ('on', 'ADP'), ('the', 'DET'), ('news', 'NOUN'), ('that', 'ADP'), ('a', 'DET'), ('sizable', 'ADJ'), ('West', 'NOUN'), ('German', 'NOUN'), ('refinery', 'CONJ'), ('was', 'VERB'), ('damaged', 'VERB'), ('*-1', 'X'), ('in', 'ADP'), ('a', 'DET'), ('fire', 'NOUN'), (',', '.'), ('*', 'X'), ('tightening', 'CONJ'), ('an', 'DET'), ('already', 'ADV'), ('tight', 'ADJ'), ('European', 'ADJ'), ('market', 'NOUN'), ('.', '.'), ('Along', 'ADP'), ('with', 'ADP'), ('the', 'DET'), ('note', 'NOUN'), (',', '.'), ('Cray', 'NOUN'), ('Research', 'NOUN'), ('is', 'VERB'), ('transferring', 'VERB'), ('about', 'ADP'), ('$', '.'), ('53', 'NUM'), ('million', 'NUM'), ('*U*', 'X'), ('in', 'ADP'), ('assets', 'NOUN'), (',', '.'), ('primarily', 'ADV'), ('those', 'DET'), ('related', 'ADJ'), ('to', 'PRT'), ('the', 'DET'), ('Cray-3', 'NOUN'), ('development', 'NOUN'), (',', '.'), ('which', 'DET'), ('*T*-25', 'X'), ('has', 'VERB'), ('been', 'VERB'), ('a', 'DET'), ('drain', 'NOUN'), ('on', 'ADP'), ('Cray', 'NOUN'), ('Research', 'NOUN'), (\"'s\", 'PRT'), ('earnings', 'NOUN'), ('.', '.'), ('Muzzling', 'CONJ'), ('provisions', 'NOUN'), (',', '.'), ('which', 'DET'), ('*T*-1', 'X'), ('might', 'VERB'), ('be', 'VERB'), ('called', 'VERB'), ('*-56', 'CONJ'), ('``', '.'), ('blindfold', 'CONJ'), ('laws', 'NOUN'), (\"''\", '.'), ('as', 'ADP'), ('well', 'ADV'), (',', '.'), ('prevent', 'VERB'), ('the', 'DET'), ('executive', 'ADJ'), ('branch', 'NOUN'), ('from', 'ADP'), ('even', 'ADV'), ('*-2', 'X'), ('looking', 'VERB'), ('at', 'ADP'), ('certain', 'ADJ'), ('policy', 'NOUN'), ('options', 'NOUN'), (',', '.'), ('let', 'VERB'), ('alone', 'ADV'), ('from', 'ADP'), ('*-2', 'X'), ('recommending', 'CONJ'), ('them', 'PRON'), ('to', 'PRT'), ('Congress', 'NOUN'), ('.', '.'), ('That', 'DET'), ('ought', 'VERB'), ('*-1', 'X'), ('to', 'PRT'), ('make', 'VERB'), ('sure', 'ADJ'), ('0', 'X'), ('we', 'PRON'), (\"'re\", 'VERB'), ('all', 'DET'), ('thinking', 'VERB'), ('for', 'ADP'), ('the', 'DET'), ('long', 'ADJ'), ('term', 'NOUN'), ('.', '.'), ('There', 'DET'), ('is', 'VERB'), ('very', 'ADV'), ('little', 'ADJ'), ('0', 'X'), ('*T*-1', 'X'), ('to', 'PRT'), ('recommend', 'VERB'), ('``', '.'), ('Old', 'NOUN'), ('Gringo', 'CONJ'), (',', '.'), (\"''\", '.'), ('a', 'DET'), ('confused', 'CONJ'), ('rendering', 'CONJ'), ('of', 'ADP'), ('the', 'DET'), ('Carlos', 'NOUN'), ('Fuentes', 'CONJ'), ('novel', 'NOUN'), ('of', 'ADP'), ('the', 'DET'), ('Mexican', 'CONJ'), ('Revolution', 'CONJ'), ('.', '.'), ('Mr.', 'NOUN'), ('Trudeau', 'NOUN'), (',', '.'), ('a', 'DET'), ('Writers', 'NOUN'), ('Guild', 'NOUN'), ('member', 'NOUN'), (',', '.'), ('also', 'ADV'), ('was', 'VERB'), ('employed', 'VERB'), ('*-1', 'X'), ('as', 'ADP'), ('a', 'DET'), ('writer', 'NOUN'), ('for', 'ADP'), ('Darkhorse', 'NOUN'), (',', '.'), ('which', 'DET'), ('*T*-134', 'CONJ'), ('was', 'VERB'), ('covered', 'VERB'), ('*-2', 'X'), ('by', 'ADP'), ('a', 'DET'), ('guild', 'NOUN'), ('collective-bargaining', 'CONJ'), ('agreement', 'NOUN'), ('.', '.'), ('In', 'ADP'), ('an', 'DET'), ('interview', 'NOUN'), (',', '.'), ('Mr.', 'NOUN'), ('Bernstein', 'NOUN'), ('said', 'VERB'), ('0', 'X'), ('his', 'PRON'), ('departure', 'NOUN'), ('``', '.'), ('evolved', 'CONJ'), ('out', 'ADP'), ('of', 'ADP'), ('discussions', 'NOUN'), ('with', 'ADP'), ('Si', 'CONJ'), ('Newhouse', 'NOUN'), ('and', 'CONJ'), ('that', 'DET'), (\"'s\", 'VERB'), ('the', 'DET'), ('decision', 'NOUN'), ('0', 'X'), ('I', 'PRON'), ('reached', 'VERB'), ('*T*-1', 'X'), ('.', '.'), (\"''\", '.'), ('``', '.'), ('No', 'DET'), ('consideration', 'NOUN'), ('is', 'VERB'), ('more', 'ADV'), ('important', 'ADJ'), ('than', 'ADP'), ('the', 'DET'), ('health', 'NOUN'), ('and', 'CONJ'), ('safety', 'NOUN'), ('of', 'ADP'), ('our', 'PRON'), ('employees', 'NOUN'), ('.', '.'), (\"''\", '.'), ('The', 'DET'), ('French', 'ADJ'), ('film', 'NOUN'), ('maker', 'NOUN'), ('Claude', 'CONJ'), ('Chabrol', 'NOUN'), ('has', 'VERB'), ('managed', 'VERB'), ('another', 'DET'), ('kind', 'NOUN'), ('of', 'ADP'), ('weird', 'CONJ'), ('achievement', 'NOUN'), ('with', 'ADP'), ('his', 'PRON'), ('``', '.'), ('Story', 'CONJ'), ('of', 'ADP'), ('Women', 'CONJ'), ('.', '.'), (\"''\", '.'), ('The', 'DET'), ('purchasing', 'NOUN'), ('managers', 'NOUN'), (\"'\", 'PRT'), ('report', 'NOUN'), ('is', 'VERB'), ('based', 'VERB'), ('*-56', 'CONJ'), ('on', 'ADP'), ('data', 'NOUN'), ('provided', 'VERB'), ('*', 'X'), ('by', 'ADP'), ('more', 'ADJ'), ('than', 'ADP'), ('250', 'NUM'), ('purchasing', 'NOUN'), ('executives', 'NOUN'), ('.', '.'), ('A', 'DET'), ('buyer', 'NOUN'), ('who', 'PRON'), ('*T*-58', 'X'), ('chooses', 'VERB'), ('*-1', 'X'), ('to', 'PRT'), ('fly', 'CONJ'), ('to', 'PRT'), ('his', 'PRON'), ('destination', 'CONJ'), ('must', 'VERB'), ('pay', 'VERB'), ('for', 'ADP'), ('his', 'PRON'), ('own', 'ADJ'), ('ticket', 'NOUN'), ('but', 'CONJ'), ('gets', 'VERB'), ('a', 'DET'), ('companion', 'CONJ'), (\"'s\", 'PRT'), ('ticket', 'NOUN'), ('free', 'ADJ'), ('if', 'ADP'), ('they', 'PRON'), ('fly', 'CONJ'), ('on', 'ADP'), ('United', 'NOUN'), ('Airlines', 'NOUN'), ('.', '.'), ('It', 'PRON'), ('also', 'ADV'), ('estimated', 'VERB'), ('that', 'ADP'), ('losses', 'NOUN'), ('from', 'ADP'), ('the', 'DET'), ('Oct.', 'NOUN'), ('17', 'NUM'), ('earthquake', 'NOUN'), ('in', 'ADP'), ('California', 'NOUN'), ('would', 'VERB'), ('be', 'VERB'), ('no', 'DET'), ('more', 'ADJ'), ('than', 'ADP'), ('$', '.'), ('6', 'NUM'), ('million', 'NUM'), ('*U*', 'X'), (',', '.'), ('and', 'CONJ'), ('would', 'VERB'), ('be', 'VERB'), ('included', 'VERB'), ('*-1', 'X'), ('in', 'ADP'), ('fourth-quarter', 'NOUN'), ('results', 'NOUN'), ('.', '.'), ('Paris', 'CONJ'), (',', '.'), ('Brussels', 'CONJ'), (',', '.'), ('and', 'CONJ'), ('Milan', 'CONJ'), ('were', 'VERB'), ('closed', 'VERB'), ('for', 'ADP'), ('a', 'DET'), ('holiday', 'NOUN'), ('.', '.'), ('Freeport-McMoRan', 'NOUN'), (',', '.'), ('the', 'DET'), ('parent', 'NOUN'), ('company', 'NOUN'), (',', '.'), ('holds', 'VERB'), ('roughly', 'ADV'), ('80', 'NUM'), ('%', 'NOUN'), ('of', 'ADP'), ('the', 'DET'), ('units', 'NOUN'), ('outstanding', 'ADJ'), ('.', '.'), ('These', 'DET'), ('nations', 'NOUN'), (\"'\", 'PRT'), ('internal', 'ADJ'), ('decisions', 'NOUN'), ('``', '.'), ('will', 'VERB'), ('be', 'VERB'), ('made', 'VERB'), ('*-3', 'X'), ('in', 'ADP'), ('a', 'DET'), ('way', 'NOUN'), ('0', 'X'), ('*', 'X'), ('not', 'ADV'), ('to', 'PRT'), ('offend', 'CONJ'), ('their', 'PRON'), ('largest', 'ADJ'), ('aid', 'NOUN'), ('donor', 'NOUN'), (',', '.'), ('largest', 'ADJ'), ('private', 'ADJ'), ('investor', 'NOUN'), ('and', 'CONJ'), ('largest', 'ADJ'), ('lender', 'CONJ'), ('*T*-1', 'X'), (',', '.'), (\"''\", '.'), ('says', 'VERB'), ('0', 'X'), ('*T*-2', 'X'), ('Richard', 'NOUN'), ('Drobnick', 'CONJ'), (',', '.'), ('director', 'NOUN'), ('of', 'ADP'), ('the', 'DET'), ('international', 'ADJ'), ('business', 'NOUN'), ('and', 'CONJ'), ('research', 'NOUN'), ('program', 'NOUN'), ('at', 'ADP'), ('the', 'DET'), ('University', 'NOUN'), ('of', 'ADP'), ('Southern', 'NOUN'), ('California', 'NOUN'), (\"'s\", 'PRT'), ('Graduate', 'NOUN'), ('School', 'NOUN'), ('of', 'ADP'), ('Business', 'NOUN'), ('.', '.'), ('While', 'ADP'), ('many', 'ADJ'), ('of', 'ADP'), ('the', 'DET'), ('risks', 'NOUN'), ('were', 'VERB'), ('anticipated', 'VERB'), ('*-19', 'X'), ('when', 'ADV'), ('Minneapolis-based', 'CONJ'), ('Cray', 'NOUN'), ('Research', 'NOUN'), ('first', 'ADJ'), ('announced', 'VERB'), ('the', 'DET'), ('spinoff', 'NOUN'), ('in', 'ADP'), ('May', 'NOUN'), ('*T*-1', 'X'), (',', '.'), ('the', 'DET'), ('strings', 'NOUN'), ('0', 'X'), ('it', 'PRON'), ('attached', 'VERB'), ('*T*-2', 'X'), ('to', 'PRT'), ('the', 'DET'), ('financing', 'NOUN'), ('had', 'VERB'), (\"n't\", 'ADV'), ('been', 'VERB'), ('made', 'VERB'), ('*-3', 'X'), ('public', 'ADJ'), ('until', 'ADP'), ('yesterday', 'NOUN'), ('.', '.'), ('A', 'DET'), ('total', 'ADJ'), ('of', 'ADP'), ('139', 'CONJ'), ('companies', 'NOUN'), ('*ICH*-1', 'X'), ('raised', 'VERB'), ('dividends', 'NOUN'), ('in', 'ADP'), ('October', 'NOUN'), (',', '.'), ('basically', 'ADV'), ('unchanged', 'ADJ'), ('from', 'ADP'), ('138', 'CONJ'), ('a', 'DET'), ('year', 'NOUN'), ('ago', 'ADP'), (',', '.'), ('S&P', 'NOUN'), ('said', 'VERB'), ('0', 'X'), ('*T*-2', 'X'), ('Wednesday', 'NOUN'), ('.', '.'), ('Ms.', 'NOUN'), ('Kirkpatrick', 'CONJ'), (',', '.'), ('the', 'DET'), ('Journal', 'NOUN'), (\"'s\", 'PRT'), ('deputy', 'NOUN'), ('editorial', 'NOUN'), ('features', 'NOUN'), ('editor', 'NOUN'), (',', '.'), ('worked', 'VERB'), ('in', 'ADP'), ('Tokyo', 'NOUN'), ('for', 'ADP'), ('three', 'NUM'), ('years', 'NOUN'), ('.', '.'), ('The', 'DET'), ('multilevel', 'CONJ'), ('railcars', 'NOUN'), (',', '.'), ('scheduled', 'VERB'), ('*', 'X'), ('for', 'ADP'), ('delivery', 'NOUN'), ('in', 'ADP'), ('1990', 'NUM'), (',', '.'), ('will', 'VERB'), ('be', 'VERB'), ('made', 'VERB'), ('*-1', 'X'), ('by', 'ADP'), ('Thrall', 'CONJ'), ('Manufacturing', 'NOUN'), ('Co.', 'NOUN'), (',', '.'), ('a', 'DET'), ('Chicago', 'NOUN'), ('Heights', 'NOUN'), (',', '.'), ('Ill.', 'NOUN'), (',', '.'), ('division', 'NOUN'), ('of', 'ADP'), ('closely', 'ADV'), ('held', 'VERB'), ('Duchossois', 'CONJ'), ('Industries', 'NOUN'), ('Inc.', 'NOUN'), (',', '.'), ('Elmhurst', 'CONJ'), (',', '.'), ('Ill', 'NOUN'), ('.', '.'), ('Mr.', 'NOUN'), ('Felten', 'NOUN'), ('said', 'VERB'), (',', '.'), ('``', '.'), ('We', 'PRON'), ('got', 'VERB'), ('what', 'PRON'), ('*T*-252', 'CONJ'), ('amounted', 'VERB'), ('to', 'PRT'), ('a', 'DET'), ('parking', 'NOUN'), ('ticket', 'NOUN'), (',', '.'), ('and', 'CONJ'), ('by', 'ADP'), ('*-1', 'X'), ('complaining', 'CONJ'), ('about', 'ADP'), ('it', 'PRON'), (',', '.'), ('we', 'PRON'), ('ended', 'VERB'), ('up', 'ADV'), ('with', 'ADP'), ('a', 'DET'), ('sizable', 'ADJ'), ('fine', 'NOUN'), ('and', 'CONJ'), ('suspension', 'NOUN'), ('.', '.'), (\"''\", '.'), ('Campbell', 'NOUN'), ('said', 'VERB'), ('0', 'X'), ('Mr.', 'NOUN'), ('McGovern', 'NOUN'), ('had', 'VERB'), ('withdrawn', 'VERB'), ('his', 'PRON'), ('name', 'VERB'), ('as', 'ADP'), ('a', 'DET'), ('candidate', 'NOUN'), ('for', 'ADP'), ('re-election', 'NOUN'), ('as', 'ADP'), ('a', 'DET'), ('director', 'NOUN'), ('at', 'ADP'), ('the', 'DET'), ('annual', 'ADJ'), ('shareholder', 'NOUN'), ('meeting', 'NOUN'), (',', '.'), ('scheduled', 'VERB'), ('*', 'X'), ('for', 'ADP'), ('Nov.', 'NOUN'), ('17', 'NUM'), ('.', '.'), ('For', 'ADP'), ('example', 'NOUN'), (',', '.'), ('there', 'DET'), ('are', 'VERB'), ('options', 'NOUN'), ('on', 'ADP'), ('the', 'DET'), ('S&P', 'NOUN'), ('500', 'NUM'), ('futures', 'NOUN'), ('contract', 'NOUN'), ('and', 'CONJ'), ('on', 'ADP'), ('the', 'DET'), ('S&P', 'NOUN'), ('100', 'NUM'), ('index', 'NOUN'), ('.', '.'), ('In', 'ADP'), ('an', 'DET'), ('joint', 'ADJ'), ('interview', 'NOUN'), ('yesterday', 'NOUN'), (',', '.'), ('both', 'DET'), ('men', 'NOUN'), ('said', 'VERB'), ('0', 'X'), ('they', 'PRON'), ('would', 'VERB'), ('like', 'ADP'), ('*-1', 'X'), ('to', 'PRT'), ('be', 'VERB'), ('the', 'DET'), ('company', 'NOUN'), (\"'s\", 'PRT'), ('next', 'ADJ'), ('chief', 'NOUN'), ('executive', 'NOUN'), ('.', '.'), ('If', 'ADP'), ('you', 'PRON'), (\"'d\", 'VERB'), ('really', 'ADV'), ('rather', 'ADV'), ('have', 'VERB'), ('a', 'DET'), ('Buick', 'NOUN'), (',', '.'), ('*', 'X'), ('do', 'VERB'), (\"n't\", 'ADV'), ('leave', 'VERB'), ('home', 'NOUN'), ('without', 'ADP'), ('the', 'DET'), ('American', 'ADJ'), ('Express', 'NOUN'), ('card', 'NOUN'), ('.', '.'), ('The', 'DET'), ('Texas', 'NOUN'), ('Oil', 'NOUN'), ('&', 'CONJ'), ('Gas', 'NOUN'), ('division', 'NOUN'), ('continues', 'VERB'), ('*-1', 'X'), ('to', 'PRT'), ('operate', 'VERB'), ('in', 'ADP'), ('the', 'DET'), ('red', 'ADJ'), (',', '.'), ('although', 'ADP'), ('losses', 'NOUN'), ('narrowed', 'VERB'), ('to', 'PRT'), ('$', '.'), ('9', 'NUM'), ('million', 'NUM'), ('*U*', 'X'), ('from', 'ADP'), ('$', '.'), ('15', 'NUM'), ('million', 'NUM'), ('*U*', 'X'), ('.', '.'), ('Stephen', 'NOUN'), ('G.', 'NOUN'), ('Jerritts', 'NOUN'), (',', '.'), ('president', 'NOUN'), ('and', 'CONJ'), ('chief', 'NOUN'), ('executive', 'NOUN'), ('officer', 'NOUN'), (',', '.'), ('said', 'VERB'), ('0', 'X'), ('customers', 'NOUN'), ('were', 'VERB'), (\"n't\", 'ADV'), ('willing', 'ADJ'), ('*-1', 'X'), ('to', 'PRT'), ('commit', 'VERB'), ('to', 'PRT'), ('an', 'DET'), ('expensive', 'ADJ'), ('NBI', 'NOUN'), ('hardware', 'NOUN'), ('systems', 'NOUN'), ('because', 'ADP'), ('of', 'ADP'), ('the', 'DET'), ('company', 'NOUN'), (\"'s\", 'PRT'), ('financial', 'ADJ'), ('troubles', 'NOUN'), ('.', '.'), ('Unfortunately', 'CONJ'), (',', '.'), ('Japanese', 'ADJ'), ('manufacturers', 'NOUN'), ('have', 'VERB'), ('neither', 'DET'), ('good', 'ADJ'), ('working', 'NOUN'), ('conditions', 'NOUN'), ('nor', 'CONJ'), ('good', 'ADJ'), ('compensation', 'NOUN'), ('packages', 'NOUN'), ('.', '.'), ('In', 'ADP'), ('late', 'ADJ'), ('afternoon', 'NOUN'), ('New', 'NOUN'), ('York', 'NOUN'), ('trading', 'NOUN'), ('the', 'DET'), ('currency', 'NOUN'), ('was', 'VERB'), ('at', 'ADP'), ('1.8500', 'NUM'), ('marks', 'NOUN'), ('and', 'CONJ'), ('143.80', 'NUM'), ('yen', 'NOUN'), ('compared', 'VERB'), ('with', 'ADP'), ('1.8415', 'NUM'), ('marks', 'NOUN'), ('and', 'CONJ'), ('142.85', 'NUM'), ('yen', 'NOUN'), ('.', '.'), ('Commonwealth', 'NOUN'), ('Edison', 'NOUN'), ('Co.', 'NOUN'), ('was', 'VERB'), ('ordered', 'VERB'), ('*-1', 'X'), ('*-2', 'X'), ('to', 'PRT'), ('refund', 'VERB'), ('about', 'ADP'), ('$', '.'), ('250', 'NUM'), ('million', 'NUM'), ('*U*', 'X'), ('to', 'PRT'), ('its', 'PRON'), ('current', 'ADJ'), ('and', 'CONJ'), ('former', 'ADJ'), ('ratepayers', 'CONJ'), ('for', 'ADP'), ('illegal', 'ADJ'), ('rates', 'NOUN'), ('collected', 'VERB'), ('*', 'X'), ('for', 'ADP'), ('cost', 'NOUN'), ('overruns', 'CONJ'), ('on', 'ADP'), ('a', 'DET'), ('nuclear', 'ADJ'), ('power', 'NOUN'), ('plant', 'NOUN'), ('.', '.'), ('The', 'DET'), ('statistics', 'NOUN'), ('imply', 'CONJ'), ('that', 'DET'), ('three-quarters', 'CONJ'), ('of', 'ADP'), ('blacks', 'NOUN'), ('approve', 'VERB'), ('of', 'ADP'), ('Mr.', 'NOUN'), ('Bush', 'NOUN'), (\"'s\", 'PRT'), ('job', 'NOUN'), ('performance', 'NOUN'), ('and', 'CONJ'), ('85', 'NUM'), ('%', 'NOUN'), ('of', 'ADP'), ('blacks', 'NOUN'), ('approve', 'VERB'), ('of', 'ADP'), ('Mrs.', 'NOUN'), ('Bush', 'NOUN'), ('.', '.'), ('--', '.'), ('The', 'DET'), ('USIA', 'NOUN'), ('said', 'VERB'), ('that', 'ADP'), (',', '.'), ('on', 'ADP'), ('reflection', 'NOUN'), (',', '.'), ('of', 'ADP'), ('course', 'NOUN'), ('I', 'PRON'), ('could', 'VERB'), ('print', 'VERB'), ('anything', 'NOUN'), ('0', 'X'), ('I', 'PRON'), ('could', 'VERB'), ('get', 'VERB'), ('my', 'PRON'), ('hands', 'NOUN'), ('on', 'ADP'), ('*T*-1', 'X'), ('.', '.'), ('The', 'DET'), ('administration', 'NOUN'), (\"'s\", 'PRT'), ('plan', 'NOUN'), ('could', 'VERB'), ('cost', 'NOUN'), ('utilities', 'NOUN'), (',', '.'), ('mainly', 'ADV'), ('those', 'DET'), ('that', 'ADP'), ('*T*-1', 'X'), ('use', 'VERB'), ('coal', 'NOUN'), (',', '.'), ('up', 'ADV'), ('to', 'PRT'), ('$', '.'), ('4', 'NUM'), ('billion', 'NUM'), ('*U*', 'X'), ('a', 'DET'), ('year', 'NOUN'), ('.', '.'), ('A', 'DET'), ('USX', 'NOUN'), ('spokesman', 'NOUN'), ('said', 'VERB'), ('0', 'X'), ('the', 'DET'), ('company', 'NOUN'), ('had', 'VERB'), (\"n't\", 'ADV'), ('yet', 'ADV'), ('received', 'VERB'), ('any', 'DET'), ('documents', 'NOUN'), ('*ICH*-1', 'X'), ('from', 'ADP'), ('OSHA', 'NOUN'), ('regarding', 'VERB'), ('the', 'DET'), ('penalty', 'NOUN'), ('or', 'CONJ'), ('fine', 'NOUN'), ('.', '.'), ('The', 'DET'), ('Stamford', 'NOUN'), (',', '.'), ('Conn.', 'NOUN'), (',', '.'), ('concern', 'NOUN'), ('has', 'VERB'), ('agreed', 'VERB'), ('to', 'PRT'), ('a', 'DET'), ('buy-out', 'NOUN'), ('by', 'ADP'), ('Bank', 'NOUN'), ('of', 'ADP'), ('New', 'NOUN'), ('York', 'NOUN'), ('in', 'ADP'), ('a', 'DET'), ('transaction', 'NOUN'), ('with', 'ADP'), ('an', 'DET'), ('indicated', 'VERB'), ('value', 'NOUN'), ('of', 'ADP'), ('about', 'ADP'), ('$', '.'), ('100', 'NUM'), ('*U*', 'X'), ('a', 'DET'), ('share', 'NOUN'), ('that', 'ADP'), ('*T*-119', 'CONJ'), ('expires', 'CONJ'), ('next', 'ADJ'), ('August', 'NOUN'), ('.', '.'), ('Then', 'ADV'), (',', '.'), ('in', 'ADP'), ('the', 'DET'), ('guests', 'NOUN'), (\"'\", 'PRT'), ('honor', 'VERB'), (',', '.'), ('the', 'DET'), ('speedway', 'CONJ'), ('hauled', 'CONJ'), ('out', 'ADP'), ('four', 'NUM'), ('drivers', 'NOUN'), (',', '.'), ('crews', 'CONJ'), ('and', 'CONJ'), ('even', 'ADV'), ('the', 'DET'), ('official', 'NOUN'), ('Indianapolis', 'NOUN'), ('500', 'NUM'), ('announcer', 'NOUN'), ('for', 'ADP'), ('a', 'DET'), ('10-lap', 'CONJ'), ('exhibition', 'NOUN'), ('race', 'NOUN'), ('.', '.'), ('In', 'ADP'), ('CAT', 'NOUN'), ('sections', 'NOUN'), ('where', 'ADV'), ('students', 'NOUN'), (\"'\", 'PRT'), ('knowledge', 'NOUN'), ('of', 'ADP'), ('two-letter', 'CONJ'), ('consonant', 'CONJ'), ('sounds', 'VERB'), ('is', 'VERB'), ('tested', 'VERB'), ('*-1', 'X'), ('*T*-2', 'X'), (',', '.'), ('the', 'DET'), ('authors', 'NOUN'), ('noted', 'VERB'), ('that', 'ADP'), ('Scoring', 'NOUN'), ('High', 'NOUN'), ('concentrated', 'VERB'), ('on', 'ADP'), ('the', 'DET'), ('same', 'ADJ'), ('sounds', 'VERB'), ('that', 'ADP'), ('the', 'DET'), ('test', 'NOUN'), ('does', 'VERB'), ('*?*', 'X'), ('*T*-4', 'X'), ('--', '.'), ('to', 'PRT'), ('the', 'DET'), ('exclusion', 'CONJ'), ('of', 'ADP'), ('other', 'ADJ'), ('sounds', 'VERB'), ('that', 'ADP'), ('fifth', 'ADJ'), ('graders', 'NOUN'), ('should', 'VERB'), ('know', 'VERB'), ('*T*-3', 'X'), ('.', '.'), ('The', 'DET'), ('ad', 'NOUN'), ('prompted', 'VERB'), ('Mr.', 'NOUN'), ('Coleman', 'NOUN'), (',', '.'), ('the', 'DET'), ('former', 'ADJ'), ('Virginia', 'NOUN'), ('attorney', 'NOUN'), ('general', 'ADJ'), (',', '.'), ('to', 'PRT'), ('launch', 'VERB'), ('a', 'DET'), ('series', 'NOUN'), ('of', 'ADP'), ('advertisements', 'NOUN'), ('created', 'VERB'), ('*', 'X'), ('by', 'ADP'), ('Bob', 'NOUN'), ('Goodman', 'CONJ'), ('and', 'CONJ'), ('designed', 'VERB'), ('*', 'X'), ('*-2', 'X'), ('to', 'PRT'), ('shake', 'CONJ'), ('Mr.', 'NOUN'), ('Wilder', 'NOUN'), (\"'s\", 'PRT'), ('support', 'VERB'), ('among', 'ADP'), ('the', 'DET'), ('very', 'ADV'), ('women', 'NOUN'), ('who', 'PRON'), ('*T*-77', 'X'), ('were', 'VERB'), ('attracted', 'VERB'), ('*-1', 'X'), ('by', 'ADP'), ('the', 'DET'), ('abortion', 'NOUN'), ('ad', 'NOUN'), ('.', '.'), ('Common', 'NOUN'), ('shares', 'NOUN'), ('outstanding', 'ADJ'), (':', '.'), ('19.6', 'NUM'), ('million', 'NUM'), ('Mr.', 'NOUN'), ('Leinonen', 'NOUN'), ('said', 'VERB'), ('0', 'X'), ('he', 'PRON'), ('expects', 'VERB'), ('Ford', 'NOUN'), ('to', 'PRT'), ('meet', 'VERB'), ('the', 'DET'), ('deadline', 'NOUN'), ('easily', 'ADV'), ('.', '.'), ('Why', 'ADV'), ('are', 'VERB'), ('programs', 'NOUN'), ('like', 'ADP'), ('this', 'DET'), ('not', 'ADV'), ('eliminated', 'VERB'), ('*-2', 'X'), ('*T*-1', 'X'), ('?', '.'), ('But', 'CONJ'), ('it', 'PRON'), (\"'s\", 'VERB'), ('building', 'VERB'), ('on', 'ADP'), ('a', 'DET'), ('long', 'ADJ'), ('tradition', 'NOUN'), ('.', '.'), ('Lead', 'CONJ'), ('underwriters', 'NOUN'), ('for', 'ADP'), ('the', 'DET'), ('issue', 'NOUN'), ('are', 'VERB'), ('Scotia', 'CONJ'), ('McLeod', 'CONJ'), ('Inc.', 'NOUN'), ('and', 'CONJ'), ('RBC', 'CONJ'), ('Dominion', 'CONJ'), ('Securities', 'NOUN'), ('Inc.', 'NOUN'), (',', '.'), ('both', 'DET'), ('Toronto-based', 'ADJ'), ('investment', 'NOUN'), ('dealers', 'NOUN'), ('.', '.'), ('The', 'DET'), ('government', 'NOUN'), (\"'s\", 'PRT'), ('construction', 'NOUN'), ('spending', 'NOUN'), ('figures', 'NOUN'), ('contrast', 'NOUN'), ('with', 'ADP'), ('a', 'DET'), ('report', 'NOUN'), ('issued', 'VERB'), ('*', 'X'), ('earlier', 'ADV'), ('in', 'ADP'), ('the', 'DET'), ('week', 'NOUN'), ('by', 'ADP'), ('McGraw-Hill', 'NOUN'), ('Inc.', 'NOUN'), (\"'s\", 'PRT'), ('F.W.', 'CONJ'), ('Dodge', 'NOUN'), ('Group', 'NOUN'), ('.', '.'), ('Standard', 'NOUN'), ('&', 'CONJ'), ('Poor', 'NOUN'), (\"'s\", 'PRT'), ('Corp.', 'NOUN'), ('lowered', 'VERB'), ('to', 'PRT'), ('double-C', 'CONJ'), ('from', 'ADP'), ('triple-C', 'CONJ'), ('the', 'DET'), ('rating', 'NOUN'), ('on', 'ADP'), ('about', 'ADP'), ('$', '.'), ('130', 'NUM'), ('million', 'NUM'), ('*U*', 'X'), ('of', 'ADP'), ('debt', 'NOUN'), ('.', '.'), ('Taiwan', 'NOUN'), ('has', 'VERB'), ('improved', 'VERB'), ('its', 'PRON'), ('standing', 'NOUN'), ('with', 'ADP'), ('the', 'DET'), ('U.S.', 'NOUN'), ('by', 'ADP'), ('*-2', 'X'), ('initialing', 'CONJ'), ('a', 'DET'), ('bilateral', 'ADJ'), ('copyright', 'NOUN'), ('agreement', 'NOUN'), (',', '.'), ('amending', 'CONJ'), ('its', 'PRON'), ('trademark', 'CONJ'), ('law', 'NOUN'), ('and', 'CONJ'), ('introducing', 'VERB'), ('legislation', 'NOUN'), ('0', 'X'), ('*', 'X'), ('to', 'PRT'), ('protect', 'VERB'), ('foreign', 'ADJ'), ('movie', 'NOUN'), ('producers', 'NOUN'), ('from', 'ADP'), ('unauthorized', 'CONJ'), ('showings', 'CONJ'), ('of', 'ADP'), ('their', 'PRON'), ('films', 'NOUN'), ('*T*-1', 'X'), ('.', '.'), ('Speculation', 'NOUN'), (',', '.'), ('on', 'ADP'), ('the', 'DET'), ('other', 'ADJ'), ('hand', 'NOUN'), (',', '.'), ('sparked', 'VERB'), ('buying', 'VERB'), ('in', 'ADP'), ('certain', 'ADJ'), ('incentive-backed', 'CONJ'), ('issues', 'NOUN'), (',', '.'), ('though', 'ADP'), ('rumors', 'NOUN'), ('underlying', 'VERB'), ('such', 'ADJ'), ('shares', 'NOUN'), ('eventually', 'ADV'), ('proved', 'VERB'), ('untrue', 'CONJ'), ('.', '.'), ('At', 'ADP'), ('the', 'DET'), ('same', 'ADJ'), ('time', 'NOUN'), (',', '.'), ('Viacom', 'NOUN'), ('is', 'VERB'), ('trying', 'VERB'), ('*-1', 'X'), ('to', 'PRT'), ('persuade', 'VERB'), ('stations', 'NOUN'), ('*-2', 'X'), ('to', 'PRT'), ('make', 'VERB'), ('commitments', 'NOUN'), ('to', 'PRT'), ('``', '.'), ('A', 'DET'), ('Different', 'CONJ'), ('World', 'NOUN'), (',', '.'), (\"''\", '.'), ('a', 'DET'), ('spin-off', 'CONJ'), ('of', 'ADP'), ('``', '.'), ('Cosby', 'NOUN'), (\"''\", '.'), ('whose', 'PRON'), ('reruns', 'NOUN'), ('*T*-151', 'CONJ'), ('will', 'VERB'), ('become', 'VERB'), ('available', 'ADJ'), ('in', 'ADP'), ('1991', 'NUM'), ('.', '.'), ('The', 'DET'), ('Voice', 'NOUN'), ('of', 'ADP'), ('America', 'NOUN'), ('is', 'VERB'), ('a', 'DET'), ('government', 'NOUN'), ('agency', 'NOUN'), ('that', 'ADP'), ('*T*-1', 'X'), ('broadcasts', 'NOUN'), ('news', 'NOUN'), ('and', 'CONJ'), ('views', 'NOUN'), ('--', '.'), ('some', 'DET'), ('might', 'VERB'), ('say', 'VERB'), ('propaganda', 'NOUN'), ('--', '.'), ('in', 'ADP'), ('43', 'NUM'), ('languages', 'CONJ'), ('to', 'PRT'), ('130', 'NUM'), ('million', 'NUM'), ('listeners', 'CONJ'), ('around', 'ADP'), ('the', 'DET'), ('world', 'NOUN'), ('.', '.'), ('Policy', 'CONJ'), ('makers', 'NOUN'), ('regard', 'VERB'), ('the', 'DET'), ('youth', 'NOUN'), ('wage', 'NOUN'), ('as', 'ADP'), ('*', 'X'), ('helping', 'VERB'), ('*-1', 'X'), ('to', 'PRT'), ('limit', 'NOUN'), ('the', 'DET'), ('loss', 'NOUN'), ('of', 'ADP'), ('jobs', 'NOUN'), ('from', 'ADP'), ('an', 'DET'), ('increase', 'NOUN'), ('in', 'ADP'), ('the', 'DET'), ('minimum', 'ADJ'), ('wage', 'NOUN'), (',', '.'), ('but', 'CONJ'), ('they', 'PRON'), ('have', 'VERB'), ('lately', 'CONJ'), ('touted', 'CONJ'), ('it', 'PRON'), ('as', 'ADP'), ('necessary', 'ADJ'), ('*-2', 'X'), ('to', 'PRT'), ('help', 'VERB'), ('*-3', 'X'), ('impart', 'CONJ'), ('job', 'NOUN'), ('skills', 'CONJ'), ('to', 'PRT'), ('entrants', 'CONJ'), ('into', 'ADP'), ('the', 'DET'), ('work', 'NOUN'), ('force', 'NOUN'), ('.', '.'), ('On', 'ADP'), ('Wall', 'NOUN'), ('Street', 'NOUN'), ('men', 'NOUN'), ('and', 'CONJ'), ('women', 'NOUN'), ('walk', 'VERB'), ('with', 'ADP'), ('great', 'ADJ'), ('purpose', 'NOUN'), (',', '.'), ('*-2', 'X'), ('noticing', 'CONJ'), ('one', 'NUM'), ('another', 'DET'), ('only', 'ADJ'), ('when', 'ADV'), ('they', 'PRON'), ('jostle', 'CONJ'), ('for', 'ADP'), ('cabs', 'CONJ'), ('*T*-1', 'X'), ('.', '.'), ('Cathryn', 'NOUN'), ('Rice', 'NOUN'), ('could', 'VERB'), ('hardly', 'ADV'), ('believe', 'VERB'), ('her', 'PRON'), ('eyes', 'NOUN'), ('.', '.'), ('The', 'DET'), ('12', 'NUM'), ('%', 'NOUN'), ('notes', 'NOUN'), ('due', 'ADJ'), ('1995', 'CONJ'), ('fell', 'VERB'), ('9\\\\/32', 'CONJ'), ('to', 'PRT'), ('103', 'CONJ'), ('3\\\\/8', 'NUM'), ('*-1', 'X'), ('to', 'PRT'), ('yield', 'VERB'), ('11.10', 'CONJ'), ('%', 'NOUN'), ('.', '.'), ('*', 'X'), ('Reducing', 'CONJ'), ('volatility', 'NOUN'), ('.', '.'), ('In', 'ADP'), ('another', 'DET'), ('reflection', 'NOUN'), ('that', 'ADP'), ('the', 'DET'), ('growth', 'NOUN'), ('of', 'ADP'), ('the', 'DET'), ('economy', 'NOUN'), ('is', 'VERB'), ('leveling', 'VERB'), ('off', 'PRT'), (',', '.'), ('the', 'DET'), ('government', 'NOUN'), ('said', 'VERB'), ('that', 'ADP'), ('orders', 'NOUN'), ('for', 'ADP'), ('manufactured', 'VERB'), ('goods', 'NOUN'), ('and', 'CONJ'), ('spending', 'NOUN'), ('on', 'ADP'), ('construction', 'NOUN'), ('failed', 'VERB'), ('*-1', 'X'), ('to', 'PRT'), ('rise', 'VERB'), ('in', 'ADP'), ('September', 'NOUN'), ('.', '.'), ('``', '.'), ('So', 'ADV'), ('crunch', 'CONJ'), (',', '.'), ('crunch', 'CONJ'), (',', '.'), ('crunch', 'CONJ'), (',', '.'), ('bang', 'CONJ'), (',', '.'), ('bang', 'CONJ'), (',', '.'), ('bang', 'CONJ'), ('--', '.'), ('here', 'ADV'), ('come', 'VERB'), ('*T*-4', 'X'), ('the', 'DET'), ('ringers', 'NOUN'), ('from', 'ADP'), ('above', 'ADP'), (',', '.'), ('*-1', 'X'), ('making', 'VERB'), ('a', 'DET'), ('very', 'ADV'), ('obvious', 'CONJ'), ('exit', 'CONJ'), ('while', 'ADP'), ('the', 'DET'), ('congregation', 'NOUN'), ('is', 'VERB'), ('at', 'ADP'), ('prayer', 'CONJ'), (',', '.'), (\"''\", '.'), ('he', 'PRON'), ('says', 'VERB'), ('*T*-2', 'X'), ('.', '.'), ('Rather', 'ADV'), ('than', 'ADP'), ('*-1', 'X'), ('increasing', 'VERB'), ('dividends', 'NOUN'), (',', '.'), ('some', 'DET'), ('companies', 'NOUN'), ('have', 'VERB'), ('used', 'VERB'), ('cash', 'NOUN'), ('*-1', 'X'), ('to', 'PRT'), ('buy', 'VERB'), ('back', 'ADV'), ('some', 'DET'), ('of', 'ADP'), ('their', 'PRON'), ('shares', 'NOUN'), (',', '.'), ('notes', 'NOUN'), ('0', 'X'), ('*T*-2', 'X'), ('Steven', 'NOUN'), ('G.', 'NOUN'), ('Einhorn', 'NOUN'), (',', '.'), ('co-chairman', 'CONJ'), ('of', 'ADP'), ('the', 'DET'), ('investment', 'NOUN'), ('policy', 'NOUN'), ('committee', 'NOUN'), ('at', 'ADP'), ('Goldman', 'NOUN'), (',', '.'), ('Sachs', 'NOUN'), ('&', 'CONJ'), ('Co', 'NOUN'), ('.', '.'), ('But', 'CONJ'), ('*', 'X'), ('do', 'VERB'), (\"n't\", 'ADV'), ('breathe', 'CONJ'), ('too', 'ADV'), ('easy', 'ADJ'), (':', '.'), ('Those', 'DET'), ('dividend', 'NOUN'), ('increases', 'NOUN'), ('may', 'VERB'), ('signal', 'VERB'), ('trouble', 'NOUN'), ('ahead', 'ADV'), ('for', 'ADP'), ('stock', 'NOUN'), ('prices', 'NOUN'), (',', '.'), ('some', 'DET'), ('analysts', 'NOUN'), ('warn', 'CONJ'), ('0', 'X'), ('*T*-1', 'X'), ('.', '.'), ('In', 'ADP'), ('all', 'DET'), (',', '.'), ('the', 'DET'), ('company', 'NOUN'), ('hopes', 'VERB'), ('*-2', 'X'), ('to', 'PRT'), ('repay', 'CONJ'), ('$', '.'), ('45', 'NUM'), ('million', 'NUM'), ('*U*', 'X'), ('in', 'ADP'), ('debt', 'NOUN'), ('through', 'ADP'), ('the', 'DET'), ('sales', 'NOUN'), (',', '.'), ('which', 'DET'), ('*T*-1', 'X'), ('will', 'VERB'), ('completely', 'ADV'), ('discharge', 'CONJ'), ('its', 'PRON'), ('secured', 'VERB'), ('debt', 'NOUN'), (',', '.'), ('the', 'DET'), ('company', 'NOUN'), ('said', 'VERB'), ('0', 'X'), ('*T*-3', 'X'), ('.', '.'), ('Brisk', 'CONJ'), ('domestic', 'ADJ'), ('demand', 'NOUN'), ('due', 'ADJ'), ('to', 'PRT'), ('increasing', 'VERB'), ('capital', 'NOUN'), ('investment', 'NOUN'), ('pushed', 'VERB'), ('up', 'ADV'), ('sales', 'NOUN'), ('sharply', 'ADV'), ('in', 'ADP'), ('construction', 'NOUN'), ('and', 'CONJ'), ('industrial', 'ADJ'), ('machinery', 'NOUN'), ('divisions', 'NOUN'), ('.', '.'), ('Among', 'ADP'), ('the', 'DET'), ('top', 'ADJ'), ('practitioners', 'NOUN'), ('were', 'VERB'), ('*T*-1', 'X'), ('Wall', 'NOUN'), ('Street', 'NOUN'), ('blue', 'ADJ'), ('bloods', 'CONJ'), (':', '.'), ('Morgan', 'NOUN'), ('Stanley', 'NOUN'), ('&', 'CONJ'), ('Co.', 'NOUN'), (',', '.'), ('Kidder', 'NOUN'), ('Peabody', 'NOUN'), (',', '.'), ('Merrill', 'NOUN'), ('Lynch', 'NOUN'), (',', '.'), ('Salomon', 'NOUN'), ('Brothers', 'NOUN'), ('Inc.', 'NOUN'), ('and', 'CONJ'), ('PaineWebber', 'NOUN'), ('Group', 'NOUN'), ('Inc', 'NOUN'), ('.', '.'), ('Above', 'CONJ'), ('all', 'DET'), (',', '.'), ('Mr.', 'NOUN'), ('Oxnard', 'NOUN'), ('noted', 'VERB'), ('0', 'X'), ('*T*-1', 'X'), (',', '.'), ('the', 'DET'), ('situation', 'NOUN'), ('is', 'VERB'), ('extremely', 'ADV'), ('confused', 'CONJ'), ('.', '.'), ('The', 'DET'), ('nation', 'NOUN'), (\"'s\", 'PRT'), ('largest', 'ADJ'), ('steelmaker', 'NOUN'), ('earned', 'VERB'), ('$', '.'), ('175', 'NUM'), ('million', 'NUM'), ('*U*', 'X'), (',', '.'), ('or', 'CONJ'), ('62', 'NUM'), ('cents', 'NOUN'), ('a', 'DET'), ('share', 'NOUN'), (',', '.'), ('compared', 'VERB'), ('with', 'ADP'), ('the', 'DET'), ('year-earlier', 'ADJ'), ('$', '.'), ('228', 'NUM'), ('million', 'NUM'), ('*U*', 'X'), (',', '.'), ('or', 'CONJ'), ('80', 'NUM'), ('cents', 'NOUN'), ('a', 'DET'), ('share', 'NOUN'), ('.', '.'), ('The', 'DET'), ('fast-food', 'NOUN'), ('company', 'NOUN'), ('said', 'VERB'), ('0', 'X'), ('its', 'PRON'), ('decision', 'NOUN'), ('was', 'VERB'), ('based', 'VERB'), ('*-1', 'X'), ('upon', 'ADP'), ('discussions', 'NOUN'), ('with', 'ADP'), ('a', 'DET'), ('shareholder', 'NOUN'), ('group', 'NOUN'), (',', '.'), ('Giant', 'NOUN'), ('Group', 'NOUN'), ('Ltd.', 'NOUN'), (',', '.'), ('``', '.'), ('in', 'ADP'), ('an', 'DET'), ('effort', 'NOUN'), ('*', 'X'), ('to', 'PRT'), ('resolve', 'VERB'), ('certain', 'ADJ'), ('disputes', 'NOUN'), ('with', 'ADP'), ('the', 'DET'), ('company', 'NOUN'), ('.', '.'), (\"''\", '.'), ('``', '.'), ('If', 'ADP'), ('you', 'PRON'), ('were', 'VERB'), ('a', 'DET'), ('short-term', 'ADJ'), ('investor', 'NOUN'), (',', '.'), ('you', 'PRON'), ('might', 'VERB'), ('be', 'VERB'), ('more', 'ADV'), ('leery', 'CONJ'), ('about', 'ADP'), ('program', 'NOUN'), ('trading', 'NOUN'), ('.', '.'), (\"''\", '.'), ('Sales', 'NOUN'), ('by', 'ADP'), ('these', 'DET'), ('subsidiaries', 'NOUN'), ('in', 'ADP'), ('the', 'DET'), ('fiscal', 'ADJ'), ('year', 'NOUN'), ('ending', 'VERB'), ('last', 'ADJ'), ('March', 'NOUN'), ('were', 'VERB'), ('more', 'ADV'), ('than', 'ADP'), ('$', '.'), ('17', 'NUM'), ('billion', 'NUM'), ('*U*', 'X'), ('.', '.'), ('DES', 'NOUN'), ('daughters', 'NOUN'), ('and', 'CONJ'), ('other', 'ADJ'), ('victims', 'NOUN'), ('of', 'ADP'), ('drugs', 'NOUN'), ('would', 'VERB'), ('be', 'VERB'), ('better', 'ADV'), ('off', 'ADP'), ('if', 'ADP'), ('their', 'PRON'), ('cases', 'NOUN'), ('were', 'VERB'), ('taken', 'VERB'), ('*-1', 'X'), ('out', 'PRT'), ('of', 'ADP'), ('the', 'DET'), ('courts', 'NOUN'), ('.', '.'), ('*-1', 'X'), ('No', 'DET'), ('dummies', 'CONJ'), (',', '.'), ('the', 'DET'), ('drivers', 'NOUN'), ('pointed', 'VERB'), ('out', 'PRT'), ('0', 'X'), ('they', 'PRON'), ('still', 'ADV'), ('had', 'VERB'), ('space', 'NOUN'), ('on', 'ADP'), ('their', 'PRON'), ('machines', 'NOUN'), ('for', 'ADP'), ('another', 'DET'), ('sponsor', 'NOUN'), (\"'s\", 'PRT'), ('name', 'NOUN'), ('or', 'CONJ'), ('two', 'NUM'), ('.', '.'), ('First', 'NOUN'), (',', '.'), ('the', 'DET'), ('trading', 'NOUN'), ('is', 'VERB'), ('done', 'VERB'), ('*-1', 'X'), ('over', 'ADP'), ('the', 'DET'), ('counter', 'CONJ'), ('and', 'CONJ'), ('is', 'VERB'), (\"n't\", 'ADV'), ('reported', 'VERB'), ('*-1', 'X'), ('on', 'ADP'), ('either', 'DET'), ('the', 'DET'), ('U.S.', 'NOUN'), ('or', 'CONJ'), ('London', 'NOUN'), ('stock', 'NOUN'), ('trading', 'NOUN'), ('tapes', 'CONJ'), ('.', '.'), ('The', 'DET'), ('National', 'NOUN'), ('Association', 'NOUN'), ('of', 'ADP'), ('Manufacturers', 'NOUN'), ('settled', 'VERB'), ('on', 'ADP'), ('the', 'DET'), ('Hoosier', 'CONJ'), ('capital', 'NOUN'), ('of', 'ADP'), ('Indianapolis', 'NOUN'), ('for', 'ADP'), ('its', 'PRON'), ('fall', 'VERB'), ('board', 'NOUN'), ('meeting', 'NOUN'), ('.', '.'), ('A', 'DET'), ('final', 'ADJ'), ('modification', 'CONJ'), ('*ICH*-1', 'X'), ('was', 'VERB'), ('made', 'VERB'), ('*-130', 'CONJ'), ('to', 'PRT'), ('the', 'DET'), ('five-point', 'ADJ'), ('opening', 'NOUN'), ('limit', 'NOUN'), ('for', 'ADP'), ('the', 'DET'), ('contract', 'NOUN'), ('.', '.'), ('The', 'DET'), ('Treasury', 'NOUN'), ('said', 'VERB'), ('0', 'X'), ('it', 'PRON'), ('needs', 'VERB'), ('*-1', 'X'), ('to', 'PRT'), ('raise', 'VERB'), ('$', '.'), ('47.5', 'CONJ'), ('billion', 'NUM'), ('*U*', 'X'), ('in', 'ADP'), ('the', 'DET'), ('current', 'ADJ'), ('quarter', 'NOUN'), ('in', 'ADP'), ('order', 'NOUN'), ('*-1', 'X'), ('to', 'PRT'), ('end', 'NOUN'), ('December', 'NOUN'), ('with', 'ADP'), ('a', 'DET'), ('$', '.'), ('20', 'NUM'), ('billion', 'NUM'), ('*U*', 'X'), ('cash', 'NOUN'), ('balance', 'NOUN'), ('.', '.'), ('Despite', 'ADP'), ('a', 'DET'), ('deluge', 'CONJ'), ('of', 'ADP'), ('economic', 'ADJ'), ('news', 'NOUN'), (',', '.'), ('the', 'DET'), ('Treasury', 'NOUN'), ('market', 'NOUN'), ('remained', 'VERB'), ('quiet', 'ADJ'), ('but', 'CONJ'), ('the', 'DET'), ('corporate', 'ADJ'), ('market', 'NOUN'), ('was', 'VERB'), ('abuzz', 'CONJ'), ('over', 'ADP'), ('International', 'NOUN'), ('Business', 'NOUN'), ('Machines', 'NOUN'), ('Corp.', 'NOUN'), (\"'s\", 'PRT'), ('huge', 'ADJ'), ('debt', 'NOUN'), ('offering', 'NOUN'), ('.', '.'), ('About', 'ADP'), ('$', '.'), ('490', 'CONJ'), ('million', 'NUM'), ('*U*', 'X'), ('of', 'ADP'), ('that', 'DET'), ('would', 'VERB'), ('be', 'VERB'), ('allocated', 'VERB'), ('*-87', 'X'), ('to', 'PRT'), ('the', 'DET'), ('buy-back', 'ADJ'), (',', '.'), ('*', 'X'), ('leaving', 'VERB'), ('about', 'ADP'), ('$', '.'), ('130', 'NUM'), ('million', 'NUM'), ('*U*', 'X'), (',', '.'), ('he', 'PRON'), ('said', 'VERB'), ('0', 'X'), ('*T*-1', 'X'), ('.', '.'), ('One', 'NUM'), ('big', 'ADJ'), ('reason', 'NOUN'), (':', '.'), ('thin', 'ADJ'), ('margins', 'NOUN'), ('.', '.'), ('The', 'DET'), ('Herald', 'NOUN'), ('joins', 'VERB'), ('the', 'DET'), ('Baltimore', 'NOUN'), ('News-American', 'CONJ'), (',', '.'), ('which', 'DET'), ('*T*-46', 'X'), ('folded', 'CONJ'), (',', '.'), ('and', 'CONJ'), ('the', 'DET'), ('Boston', 'NOUN'), ('Herald-American', 'CONJ'), (',', '.'), ('which', 'DET'), ('*T*-1', 'X'), ('was', 'VERB'), ('sold', 'VERB'), ('*-62', 'X'), (',', '.'), ('as', 'ADP'), ('cornerstones', 'CONJ'), ('of', 'ADP'), ('the', 'DET'), ('old', 'ADJ'), ('Hearst', 'NOUN'), ('newspaper', 'NOUN'), ('empire', 'NOUN'), ('abandoned', 'VERB'), ('*', 'X'), ('by', 'ADP'), ('the', 'DET'), ('company', 'NOUN'), ('in', 'ADP'), ('the', 'DET'), ('1980s', 'NOUN'), ('.', '.'), ('Some', 'DET'), ('of', 'ADP'), ('the', 'DET'), ('newer', 'CONJ'), ('wines', 'NOUN'), (',', '.'), ('even', 'ADV'), ('at', 'ADP'), ('$', '.'), ('90', 'NUM'), ('to', 'PRT'), ('$', '.'), ('100', 'NUM'), ('*U*', 'X'), ('*ICH*-1', 'X'), ('a', 'DET'), ('bottle', 'NOUN'), ('or', 'CONJ'), ('so', 'ADV'), (',', '.'), ('almost', 'ADV'), ('offer', 'VERB'), ('a', 'DET'), ('bargain', 'CONJ'), ('.', '.'), (\"''\", '.'), ('The', 'DET'), ('company', 'NOUN'), (',', '.'), ('which', 'DET'), ('*T*-237', 'CONJ'), ('recently', 'ADV'), ('said', 'VERB'), ('0', 'X'), ('it', 'PRON'), ('lacked', 'CONJ'), ('the', 'DET'), ('profits', 'NOUN'), ('and', 'CONJ'), ('capital', 'NOUN'), ('0', 'X'), ('*', 'X'), ('to', 'PRT'), ('pay', 'VERB'), ('dividends', 'NOUN'), ('on', 'ADP'), ('its', 'PRON'), ('Series', 'NOUN'), ('A', 'DET'), ('convertible', 'ADJ'), ('preferred', 'ADJ'), ('stock', 'NOUN'), ('*T*-1', 'X'), (',', '.'), ('said', 'VERB'), ('0', 'X'), ('it', 'PRON'), ('has', 'VERB'), ('hired', 'VERB'), ('an', 'DET'), ('investment', 'NOUN'), ('banker', 'NOUN'), ('0', 'X'), ('*T*-2', 'X'), ('to', 'PRT'), ('help', 'VERB'), ('it', 'PRON'), ('raise', 'VERB'), ('additional', 'ADJ'), ('cash', 'NOUN'), ('.', '.'), ('The', 'DET'), ('newest', 'CONJ'), ('breed', 'CONJ'), (',', '.'), ('also', 'ADV'), ('called', 'VERB'), ('*', 'X'), ('``', '.'), ('rocket', 'CONJ'), ('scientists', 'NOUN'), (\"''\", '.'), ('because', 'ADP'), ('of', 'ADP'), ('their', 'PRON'), ('backgrounds', 'CONJ'), ('in', 'ADP'), ('physics', 'NOUN'), ('and', 'CONJ'), ('mathematics', 'NOUN'), (',', '.'), ('devise', 'VERB'), ('the', 'DET'), ('complex', 'ADJ'), ('hedging', 'CONJ'), ('and', 'CONJ'), ('trading', 'NOUN'), ('strategies', 'NOUN'), ('that', 'ADP'), ('*T*-1', 'X'), ('are', 'VERB'), ('popularly', 'CONJ'), ('known', 'VERB'), ('*-2', 'X'), ('as', 'ADP'), ('program', 'NOUN'), ('trading', 'NOUN'), ('.', '.'), ('It', 'PRON'), ('also', 'ADV'), ('would', 'VERB'), ('junk', 'NOUN'), ('an', 'DET'), ('innovative', 'CONJ'), ('market-based', 'CONJ'), ('system', 'NOUN'), ('for', 'ADP'), ('*', 'X'), ('trading', 'NOUN'), ('emissions', 'NOUN'), ('credits', 'NOUN'), ('among', 'ADP'), ('polluters', 'CONJ'), ('.', '.'), ('In', 'ADP'), ('other', 'ADJ'), ('years', 'NOUN'), ('in', 'ADP'), ('which', 'DET'), ('there', 'ADV'), ('have', 'VERB'), ('been', 'VERB'), ('moderate', 'ADJ'), ('economic', 'ADJ'), ('slowdowns', 'CONJ'), ('--', '.'), ('the', 'DET'), ('environment', 'NOUN'), ('0', 'X'), ('the', 'DET'), ('firm', 'NOUN'), ('expects', 'VERB'), ('*T*-1', 'X'), ('in', 'ADP'), ('1990', 'NUM'), ('*T*-2', 'X'), ('--', '.'), ('the', 'DET'), ('change', 'NOUN'), ('in', 'ADP'), ('dividends', 'NOUN'), ('ranged', 'VERB'), ('from', 'ADP'), ('a', 'DET'), ('gain', 'NOUN'), ('of', 'ADP'), ('4', 'NUM'), ('%', 'NOUN'), ('to', 'PRT'), ('a', 'DET'), ('decline', 'NOUN'), ('of', 'ADP'), ('1', 'NUM'), ('%', 'NOUN'), (',', '.'), ('according', 'VERB'), ('to', 'PRT'), ('PaineWebber', 'NOUN'), ('analyst', 'NOUN'), ('Thomas', 'NOUN'), ('Doerflinger', 'CONJ'), ('.', '.'), ('The', 'DET'), ('less', 'ADJ'), ('complicated', 'ADJ'), ('version', 'NOUN'), ('of', 'ADP'), ('*', 'X'), ('playing', 'VERB'), ('tunes', 'CONJ'), ('on', 'ADP'), ('bells', 'NOUN'), (',', '.'), ('as', 'ADP'), ('do', 'VERB'), ('*?*', 'X'), ('the', 'DET'), ('carillons', 'CONJ'), ('of', 'ADP'), ('continental', 'CONJ'), ('Europe', 'NOUN'), (',', '.'), ('is', 'VERB'), ('considered', 'VERB'), ('by', 'ADP'), ('the', 'DET'), ('English', 'NOUN'), ('*-136', 'CONJ'), ('to', 'PRT'), ('be', 'VERB'), ('childish', 'CONJ'), (',', '.'), ('fit', 'NOUN'), ('only', 'ADV'), ('for', 'ADP'), ('foreigners', 'CONJ'), ('.', '.'), ('IRAs', 'CONJ'), ('.', '.'), ('A', 'DET'), ('Shearson', 'NOUN'), ('spokesman', 'NOUN'), ('said', 'VERB'), ('0', 'X'), ('the', 'DET'), ('firm', 'NOUN'), ('is', 'VERB'), (\"n't\", 'ADV'), ('worried', 'VERB'), ('.', '.'), ('In', 'ADP'), ('sometimes', 'ADV'), ('amusing', 'ADJ'), (',', '.'), ('more', 'ADV'), ('often', 'ADV'), ('supercilious', 'CONJ'), (',', '.'), ('even', 'ADV'), ('vicious', 'CONJ'), ('passages', 'CONJ'), (',', '.'), ('Mr.', 'NOUN'), ('Katzenstein', 'NOUN'), ('describes', 'VERB'), ('how', 'ADV'), ('Sony', 'NOUN'), ('invades', 'CONJ'), ('even', 'ADV'), ('the', 'DET'), ('most', 'ADJ'), ('mundane', 'CONJ'), ('aspects', 'CONJ'), ('of', 'ADP'), ('its', 'PRON'), ('workers', 'NOUN'), (\"'\", 'PRT'), ('lives', 'VERB'), ('--', '.'), ('at', 'ADP'), ('the', 'DET'), ('regimented', 'CONJ'), ('office', 'NOUN'), (',', '.'), ('where', 'ADV'), ('employees', 'NOUN'), ('are', 'VERB'), ('assigned', 'CONJ'), ('*-59', 'X'), ('lunch', 'CONJ'), ('partners', 'NOUN'), ('*T*-1', 'X'), ('--', '.'), ('and', 'CONJ'), ('at', 'ADP'), ('``', '.'), ('home', 'NOUN'), (\"''\", '.'), ('in', 'ADP'), ('the', 'DET'), ('austere', 'CONJ'), ('company', 'NOUN'), ('dormitory', 'CONJ'), ('run', 'VERB'), ('*', 'X'), ('by', 'ADP'), ('a', 'DET'), ('prying', 'CONJ'), ('caretaker', 'CONJ'), ('*T*-2', 'X'), ('.', '.'), ('The', 'DET'), ('worst', 'ADJ'), ('crop', 'NOUN'), ('damage', 'NOUN'), ('occurred', 'VERB'), ('in', 'ADP'), ('the', 'DET'), ('Midwestern', 'ADJ'), ('Corn', 'NOUN'), ('Belt', 'NOUN'), ('and', 'CONJ'), ('the', 'DET'), ('northern', 'ADJ'), ('Great', 'NOUN'), ('Plains', 'NOUN'), ('.', '.'), ('In', 'ADP'), ('addition', 'NOUN'), (',', '.'), ('Buick', 'NOUN'), ('is', 'VERB'), ('a', 'DET'), ('relatively', 'ADV'), ('respected', 'VERB'), ('nameplate', 'NOUN'), ('among', 'ADP'), ('American', 'ADJ'), ('Express', 'NOUN'), ('card', 'NOUN'), ('holders', 'NOUN'), (',', '.'), ('says', 'VERB'), ('0', 'X'), ('*T*-1', 'X'), ('an', 'DET'), ('American', 'ADJ'), ('Express', 'NOUN'), ('spokeswoman', 'NOUN'), ('.', '.'), ('Follow-up', 'CONJ'), ('report', 'NOUN'), (':', '.'), ('The', 'DET'), ('council', 'NOUN'), (',', '.'), ('which', 'DET'), ('*T*-61', 'X'), ('is', 'VERB'), ('alleged', 'VERB'), ('*-1', 'X'), ('to', 'PRT'), ('have', 'VERB'), ('engaged', 'VERB'), ('in', 'ADP'), ('over', 'ADP'), ('600', 'NUM'), ('deals', 'NOUN'), ('valued', 'VERB'), ('*', 'X'), ('at', 'ADP'), ('over', 'ADP'), ('#', '.'), ('6', 'NUM'), ('billion', 'NUM'), ('*U*', 'X'), ('-LRB-', '.'), ('$', '.'), ('9.5', 'NUM'), ('billion', 'NUM'), ('*U*', 'X'), ('-RRB-', '.'), (',', '.'), ('lost', 'VERB'), ('millions', 'NOUN'), ('of', 'ADP'), ('pounds', 'NOUN'), ('from', 'ADP'), ('soured', 'CONJ'), ('swap', 'NOUN'), ('deals', 'NOUN'), ('.', '.'), ('In', 'ADP'), ('this', 'DET'), ('era', 'NOUN'), ('of', 'ADP'), ('frantic', 'CONJ'), ('competition', 'NOUN'), ('for', 'ADP'), ('ad', 'NOUN'), ('dollars', 'NOUN'), (',', '.'), ('a', 'DET'), ('lot', 'NOUN'), ('of', 'ADP'), ('revenue-desperate', 'CONJ'), ('magazines', 'CONJ'), ('are', 'VERB'), ('getting', 'VERB'), ('pretty', 'ADV'), ('cozy', 'CONJ'), ('with', 'ADP'), ('advertisers', 'NOUN'), ('--', '.'), ('*-1', 'X'), ('fawning', 'CONJ'), ('over', 'ADP'), ('them', 'PRON'), ('in', 'ADP'), ('articles', 'CONJ'), ('and', 'CONJ'), ('offering', 'NOUN'), ('pages', 'NOUN'), ('of', 'ADP'), ('advertorial', 'CONJ'), ('space', 'NOUN'), ('.', '.'), ('The', 'DET'), ('documents', 'NOUN'), ('also', 'ADV'), ('said', 'VERB'), ('that', 'ADP'), ('Cray', 'NOUN'), ('Computer', 'NOUN'), ('anticipates', 'VERB'), ('*-1', 'X'), ('needing', 'CONJ'), ('perhaps', 'ADV'), ('another', 'DET'), ('$', '.'), ('120', 'NUM'), ('million', 'NUM'), ('*U*', 'X'), ('in', 'ADP'), ('financing', 'NOUN'), ('beginning', 'VERB'), ('next', 'ADJ'), ('September', 'NOUN'), ('.', '.'), ('Mr.', 'NOUN'), ('Gartner', 'CONJ'), ('is', 'VERB'), ('editor', 'NOUN'), ('and', 'CONJ'), ('co-owner', 'NOUN'), ('of', 'ADP'), ('the', 'DET'), ('Daily', 'NOUN'), ('Tribune', 'CONJ'), ('in', 'ADP'), ('Ames', 'CONJ'), (',', '.'), ('Iowa', 'NOUN'), (',', '.'), ('and', 'CONJ'), ('president', 'NOUN'), ('of', 'ADP'), ('NBC', 'NOUN'), ('News', 'NOUN'), ('in', 'ADP'), ('New', 'NOUN'), ('York', 'NOUN'), ('.', '.'), ('Subcontractors', 'CONJ'), ('will', 'VERB'), ('be', 'VERB'), ('offered', 'VERB'), ('*-1', 'X'), ('a', 'DET'), ('settlement', 'NOUN'), ('and', 'CONJ'), ('a', 'DET'), ('swift', 'CONJ'), ('transition', 'NOUN'), ('to', 'PRT'), ('new', 'ADJ'), ('management', 'NOUN'), ('is', 'VERB'), ('expected', 'VERB'), ('*-2', 'X'), ('to', 'PRT'), ('avert', 'CONJ'), ('an', 'DET'), ('exodus', 'NOUN'), ('of', 'ADP'), ('skilled', 'CONJ'), ('workers', 'NOUN'), ('from', 'ADP'), ('Waertsilae', 'NOUN'), ('Marine', 'NOUN'), (\"'s\", 'PRT'), ('two', 'NUM'), ('big', 'ADJ'), ('shipyards', 'CONJ'), (',', '.'), ('government', 'NOUN'), ('officials', 'NOUN'), ('said', 'VERB'), ('0', 'X'), ('*T*-3', 'X'), ('.', '.'), ('The', 'DET'), ('attacks', 'NOUN'), ('began', 'VERB'), ('when', 'ADV'), ('Democratic', 'ADJ'), ('Rep.', 'NOUN'), ('James', 'NOUN'), ('Florio', 'NOUN'), ('aired', 'CONJ'), ('an', 'DET'), ('ad', 'NOUN'), ('featuring', 'VERB'), ('a', 'DET'), ('drawing', 'NOUN'), ('of', 'ADP'), ('Pinocchio', 'NOUN'), ('and', 'CONJ'), ('a', 'DET'), ('photograph', 'CONJ'), ('of', 'ADP'), ('Mr.', 'NOUN'), ('Florio', 'NOUN'), (\"'s\", 'PRT'), ('rival', 'NOUN'), (',', '.'), ('Republican', 'ADJ'), ('Rep.', 'NOUN'), ('Jim', 'NOUN'), ('Courter', 'NOUN'), ('.', '.'), ('Concurrent', 'CONJ'), ('with', 'ADP'), ('Mr.', 'NOUN'), ('Nichol', 'NOUN'), (\"'s\", 'PRT'), ('appointment', 'NOUN'), (',', '.'), ('Comprehensive', 'NOUN'), ('Care', 'NOUN'), ('moved', 'VERB'), ('its', 'PRON'), ('corporate', 'ADJ'), ('headquarters', 'NOUN'), ('from', 'ADP'), ('Irvine', 'NOUN'), (',', '.'), ('Calif.', 'NOUN'), (',', '.'), ('to', 'PRT'), ('St.', 'NOUN'), ('Louis', 'NOUN'), (',', '.'), ('where', 'ADV'), ('the', 'DET'), ('company', 'NOUN'), ('maintained', 'VERB'), ('its', 'PRON'), ('contract', 'NOUN'), ('services', 'NOUN'), ('offices', 'NOUN'), ('*T*-1', 'X'), ('.', '.'), ('``', '.'), ('It', 'PRON'), ('is', 'VERB'), ('going', 'VERB'), ('*-1', 'X'), ('to', 'PRT'), ('be', 'VERB'), ('real', 'ADJ'), ('tight', 'ADJ'), ('.', '.'), (\"''\", '.'), ('At', 'ADP'), ('St.', 'NOUN'), ('Louis', 'NOUN'), (',', '.'), ('the', 'DET'), ('water', 'NOUN'), ('level', 'NOUN'), ('of', 'ADP'), ('the', 'DET'), ('Mississippi', 'NOUN'), ('River', 'NOUN'), ('is', 'VERB'), ('already', 'ADV'), ('6.5', 'NUM'), ('feet', 'NOUN'), ('below', 'ADP'), ('normal', 'ADJ'), ('and', 'CONJ'), ('it', 'PRON'), ('could', 'VERB'), ('drop', 'NOUN'), ('an', 'DET'), ('additional', 'ADJ'), ('2.5', 'NUM'), ('feet', 'NOUN'), ('when', 'ADV'), ('the', 'DET'), ('flow', 'NOUN'), ('of', 'ADP'), ('the', 'DET'), ('Missouri', 'NOUN'), ('River', 'NOUN'), ('is', 'VERB'), ('slowed', 'CONJ'), ('*-1', 'X'), ('*T*-2', 'X'), (',', '.'), ('an', 'DET'), ('Army', 'NOUN'), ('Corps', 'NOUN'), ('spokesman', 'NOUN'), ('said', 'VERB'), ('0', 'X'), ('*T*-3', 'X'), ('.', '.'), ('But', 'CONJ'), ('Fujitsu', 'NOUN'), (',', '.'), ('Japan', 'NOUN'), (\"'s\", 'PRT'), ('No.', 'NOUN'), ('1', 'NUM'), ('computer', 'NOUN'), ('maker', 'NOUN'), (',', '.'), ('is', 'VERB'), (\"n't\", 'ADV'), ('alone', 'ADV'), ('.', '.'), ('The', 'DET'), ('Constitution', 'NOUN'), ('does', 'VERB'), ('not', 'ADV'), ('expressly', 'CONJ'), ('give', 'VERB'), ('the', 'DET'), ('president', 'NOUN'), ('such', 'ADJ'), ('power', 'NOUN'), ('.', '.'), ('William', 'NOUN'), ('G.', 'NOUN'), ('Kuhns', 'CONJ'), (',', '.'), ('former', 'ADJ'), ('chairman', 'NOUN'), ('*RNR*-1', 'X'), ('and', 'CONJ'), ('chief', 'NOUN'), ('executive', 'NOUN'), ('officer', 'NOUN'), ('*RNR*-1', 'X'), ('of', 'ADP'), ('General', 'NOUN'), ('Public', 'NOUN'), ('Utilities', 'NOUN'), ('Corp.', 'NOUN'), (',', '.'), ('was', 'VERB'), ('elected', 'VERB'), ('*-2', 'X'), ('a', 'DET'), ('director', 'NOUN'), ('of', 'ADP'), ('this', 'DET'), ('maker', 'NOUN'), ('of', 'ADP'), ('industrial', 'ADJ'), ('and', 'CONJ'), ('construction', 'NOUN'), ('equipment', 'NOUN'), (',', '.'), ('*', 'X'), ('increasing', 'VERB'), ('board', 'NOUN'), ('membership', 'NOUN'), ('to', 'PRT'), ('10', 'NUM'), ('.', '.'), ('Rockwell', 'NOUN'), ('International', 'NOUN'), ('Corp.', 'NOUN'), ('won', 'VERB'), ('a', 'DET'), ('$', '.'), ('130.7', 'CONJ'), ('million', 'NUM'), ('*U*', 'X'), ('Air', 'NOUN'), ('Force', 'NOUN'), ('contract', 'NOUN'), ('for', 'ADP'), ('AC-130U', 'CONJ'), ('gunship', 'NOUN'), ('replacement', 'NOUN'), ('aircraft', 'NOUN'), ('.', '.'), ('He', 'PRON'), ('said', 'VERB'), ('that', 'ADP'), ('for', 'ADP'), ('the', 'DET'), ('second', 'ADJ'), ('month', 'NOUN'), ('in', 'ADP'), ('a', 'DET'), ('row', 'NOUN'), (',', '.'), ('food', 'NOUN'), ('processors', 'NOUN'), ('reported', 'VERB'), ('a', 'DET'), ('shortage', 'NOUN'), ('of', 'ADP'), ('nonfat', 'CONJ'), ('dry', 'ADJ'), ('milk', 'NOUN'), ('.', '.'), ('The', 'DET'), ('others', 'NOUN'), ('here', 'ADV'), ('today', 'NOUN'), ('live', 'VERB'), ('elsewhere', 'ADV'), ('.', '.'), ('SHAREDATA', 'CONJ'), ('Inc.', 'NOUN'), ('said', 'VERB'), ('0', 'X'), ('it', 'PRON'), ('will', 'VERB'), ('amend', 'CONJ'), ('a', 'DET'), ('registration', 'NOUN'), ('statement', 'NOUN'), ('filed', 'VERB'), ('*', 'X'), ('with', 'ADP'), ('the', 'DET'), ('Securities', 'NOUN'), ('and', 'CONJ'), ('Exchange', 'NOUN'), ('Commission', 'NOUN'), ('*-1', 'X'), ('to', 'PRT'), ('delete', 'CONJ'), ('a', 'DET'), ('plan', 'NOUN'), ('*', 'X'), ('to', 'PRT'), ('sell', 'VERB'), ('500,000', 'NUM'), ('newly', 'ADV'), ('issued', 'VERB'), ('common', 'ADJ'), ('shares', 'NOUN'), ('.', '.'), ('As', 'ADP'), ('*', 'X'), ('usually', 'ADV'), ('practiced', 'CONJ'), ('*-1', 'X'), ('it', 'PRON'), ('takes', 'VERB'), ('advantage', 'NOUN'), ('of', 'ADP'), ('a', 'DET'), ('rather', 'ADV'), ('basic', 'ADJ'), ('concept', 'NOUN'), (':', '.'), ('Two', 'NUM'), ('separate', 'ADJ'), ('markets', 'NOUN'), ('in', 'ADP'), ('different', 'ADJ'), ('locations', 'CONJ'), (',', '.'), ('trading', 'NOUN'), ('basically', 'ADV'), ('the', 'DET'), ('same', 'ADJ'), ('widgets', 'NOUN'), (',', '.'), ('ca', 'VERB'), (\"n't\", 'ADV'), ('trade', 'VERB'), ('them', 'PRON'), ('for', 'ADP'), ('long', 'ADJ'), ('at', 'ADP'), ('prices', 'NOUN'), ('that', 'ADP'), ('*T*-74', 'X'), ('are', 'VERB'), ('widely', 'ADV'), ('different', 'ADJ'), ('.', '.'), ('The', 'DET'), ('Continental', 'CONJ'), ('Baking', 'CONJ'), ('business', 'NOUN'), ('benefited', 'VERB'), ('from', 'ADP'), ('higher', 'ADJ'), ('margins', 'NOUN'), ('on', 'ADP'), ('bread', 'CONJ'), ('and', 'CONJ'), ('on', 'ADP'), ('increased', 'VERB'), ('cake', 'NOUN'), ('sales', 'NOUN'), (',', '.'), ('it', 'PRON'), ('added', 'VERB'), ('0', 'X'), ('*T*-1', 'X'), ('.', '.'), ('Defending', 'CONJ'), ('their', 'PRON'), ('ramparts', 'CONJ'), ('are', 'VERB'), ('*T*-1', 'X'), ('Wall', 'NOUN'), ('Street', 'NOUN'), (\"'s\", 'PRT'), ('Old', 'NOUN'), ('Guard', 'NOUN'), ('--', '.'), ('the', 'DET'), ('traditional', 'ADJ'), (',', '.'), ('stock-picking', 'CONJ'), ('money', 'NOUN'), ('managers', 'NOUN'), (',', '.'), ('tens', 'CONJ'), ('of', 'ADP'), ('thousands', 'NOUN'), ('of', 'ADP'), ('stock', 'NOUN'), ('brokers', 'NOUN'), (',', '.'), ('the', 'DET'), ('New', 'NOUN'), ('York', 'NOUN'), ('Stock', 'NOUN'), ('Exchange', 'NOUN'), (\"'s\", 'PRT'), ('listed', 'VERB'), ('companies', 'NOUN'), ('and', 'CONJ'), ('the', 'DET'), ('clannish', 'CONJ'), ('floor', 'NOUN'), ('traders', 'NOUN'), (',', '.'), ('known', 'VERB'), ('*', 'X'), ('as', 'ADP'), ('specialists', 'NOUN'), (',', '.'), ('who', 'PRON'), ('*T*-65', 'X'), ('make', 'VERB'), ('markets', 'NOUN'), ('in', 'ADP'), ('their', 'PRON'), ('stocks', 'NOUN'), ('.', '.'), ('But', 'CONJ'), ('neither', 'DET'), ('of', 'ADP'), ('us', 'PRON'), ('can', 'VERB'), ('copy', 'VERB'), ('the', 'DET'), ('material', 'NOUN'), ('on', 'ADP'), ('a', 'DET'), ('Xerox', 'NOUN'), ('machine', 'NOUN'), ('or', 'CONJ'), ('have', 'VERB'), ('it', 'PRON'), ('sent', 'VERB'), ('*-1', 'X'), ('to', 'PRT'), ('us', 'PRON'), ('.', '.'), ('The', 'DET'), ('Nagymaros', 'NOUN'), ('dam', 'NOUN'), ('was', 'VERB'), ('designed', 'VERB'), ('*-1', 'X'), ('*-2', 'X'), ('to', 'PRT'), ('be', 'VERB'), ('twinned', 'CONJ'), ('*-3', 'X'), ('with', 'ADP'), ('another', 'DET'), ('dam', 'NOUN'), (',', '.'), ('now', 'ADV'), ('nearly', 'ADV'), ('complete', 'VERB'), (',', '.'), ('100', 'NUM'), ('miles', 'NOUN'), ('upstream', 'CONJ'), ('in', 'ADP'), ('Czechoslovakia', 'NOUN'), ('.', '.')]\n"
     ]
    }
   ],
   "source": [
    "print(\"Time taken in seconds: \", difference)\n",
    "print(tagged_seq)\n",
    "#print(test_run_base)"
   ]
  },
  {
   "cell_type": "markdown",
   "metadata": {},
   "source": [
    "**Checking Accuracy aganst Validation Set**"
   ]
  },
  {
   "cell_type": "code",
   "execution_count": 29,
   "metadata": {},
   "outputs": [],
   "source": [
    "# accuracy\n",
    "check = [i for i, j in zip(tagged_seq, test_run_base) if i == j] "
   ]
  },
  {
   "cell_type": "code",
   "execution_count": 30,
   "metadata": {},
   "outputs": [],
   "source": [
    "accuracy = len(check)/len(tagged_seq)"
   ]
  },
  {
   "cell_type": "code",
   "execution_count": 31,
   "metadata": {
    "scrolled": true
   },
   "outputs": [
    {
     "data": {
      "text/plain": [
       "0.9023892178885031"
      ]
     },
     "execution_count": 31,
     "metadata": {},
     "output_type": "execute_result"
    }
   ],
   "source": [
    "accuracy"
   ]
  },
  {
   "cell_type": "markdown",
   "metadata": {},
   "source": [
    ">**Note:** We see that vanilla Viterbi Algorithm runs at an accuracy of **90.23%**"
   ]
  },
  {
   "cell_type": "markdown",
   "metadata": {},
   "source": [
    "<a id=\"3.2.3\"></a>\n",
    "#### 3.2.3  Analysing Incorrect Tags from Validation Set"
   ]
  },
  {
   "cell_type": "markdown",
   "metadata": {},
   "source": [
    "Now, let's see the Tags that were missed by the Vanilla Viterbi Algorithm:"
   ]
  },
  {
   "cell_type": "code",
   "execution_count": 32,
   "metadata": {},
   "outputs": [],
   "source": [
    "incorrect_tagged_cases = [[test_run_base[i-1],j] for i, j in enumerate(zip(tagged_seq, test_run_base)) if j[0]!=j[1]]"
   ]
  },
  {
   "cell_type": "code",
   "execution_count": 33,
   "metadata": {},
   "outputs": [
    {
     "data": {
      "text/plain": [
       "[[('and', 'CONJ'), (('dessert', 'CONJ'), ('dessert', 'NOUN'))],\n",
       " [('and', 'CONJ'), (('lay', 'CONJ'), ('lay', 'VERB'))],\n",
       " [('lay', 'VERB'), (('off', 'ADV'), ('off', 'PRT'))],\n",
       " [('its', 'PRON'), (('work', 'VERB'), ('work', 'NOUN'))],\n",
       " [('work', 'NOUN'), (('force', 'VERB'), ('force', 'NOUN'))],\n",
       " [(',', '.'), (('altogether', 'CONJ'), ('altogether', 'ADV'))],\n",
       " [('to', 'PRT'), (('less', 'ADJ'), ('less', 'ADV'))],\n",
       " [('highly', 'ADV'), (('romanticized', 'CONJ'), ('romanticized', 'VERB'))],\n",
       " [('no', 'DET'), (('more', 'ADJ'), ('more', 'ADV'))],\n",
       " [('more', 'ADV'), (('romanticized', 'CONJ'), ('romanticized', 'VERB'))],\n",
       " [('the', 'DET'), (('good-hearted', 'CONJ'), ('good-hearted', 'ADJ'))],\n",
       " [('$', '.'), (('2.15', 'CONJ'), ('2.15', 'NUM'))],\n",
       " [(',', '.'), (('acquisition-minded', 'CONJ'), ('acquisition-minded', 'ADJ'))],\n",
       " [('London-based', 'ADJ'), (('jeweler', 'CONJ'), ('jeweler', 'NOUN'))],\n",
       " [('for', 'ADP'), (('Seattle-based', 'CONJ'), ('Seattle-based', 'ADJ'))],\n",
       " [('specialty', 'NOUN'), (('jeweler', 'CONJ'), ('jeweler', 'NOUN'))],\n",
       " [('$', '.'), (('62.1', 'CONJ'), ('62.1', 'NUM'))],\n",
       " [('to', 'PRT'), (('outbid', 'CONJ'), ('outbid', 'VERB'))],\n",
       " [('who', 'PRON'), (('*T*-250', 'CONJ'), ('*T*-250', 'X'))],\n",
       " [('reached', 'VERB'), (('*-156', 'CONJ'), ('*-156', 'X'))],\n",
       " [('with', 'ADP'), (('Univest', 'CONJ'), ('Univest', 'NOUN'))],\n",
       " [('$', '.'), (('25.50', 'CONJ'), ('25.50', 'NUM'))],\n",
       " [('How', 'ADV'), ((\"'s\", 'PRT'), (\"'s\", 'VERB'))],\n",
       " [('them', 'PRON'), (('dealing', 'CONJ'), ('dealing', 'VERB'))],\n",
       " [('S.', 'NOUN'), (('Hubbell', 'CONJ'), ('Hubbell', 'NOUN'))],\n",
       " [('Street', 'NOUN'), (('reacted', 'CONJ'), ('reacted', 'VERB'))],\n",
       " [('reacted', 'VERB'), (('favorably', 'CONJ'), ('favorably', 'ADV'))],\n",
       " [(\"'\", 'PRT'), (('assertions', 'CONJ'), ('assertions', 'NOUN'))],\n",
       " [('assertions', 'NOUN'), (('that', 'DET'), ('that', 'ADP'))],\n",
       " [('information', 'NOUN'), (('relating', 'CONJ'), ('relating', 'VERB'))],\n",
       " [('with', 'ADP'), (('equity-purchase', 'CONJ'), ('equity-purchase', 'ADJ'))],\n",
       " [('other', 'ADJ'), (('cash-rich', 'CONJ'), ('cash-rich', 'ADJ'))],\n",
       " [(\"'s\", 'PRT'), (('lead', 'VERB'), ('lead', 'NOUN'))],\n",
       " [('purchases', 'NOUN'), (('show', 'NOUN'), ('show', 'VERB'))],\n",
       " [('U.S.', 'NOUN'), (('mortgage-based', 'CONJ'), ('mortgage-based', 'ADJ'))],\n",
       " [('David', 'NOUN'), (('O.', 'CONJ'), ('O.', 'NOUN'))],\n",
       " [('the', 'DET'), (('Spanish', 'CONJ'), ('Spanish', 'NOUN'))],\n",
       " [('Spanish', 'NOUN'),\n",
       "  (('Renaissance-style', 'CONJ'), ('Renaissance-style', 'ADJ'))],\n",
       " [('the', 'DET'), (('receipt', 'CONJ'), ('receipt', 'NOUN'))],\n",
       " [('should', 'VERB'), (('veto', 'NOUN'), ('veto', 'VERB'))],\n",
       " [('appropriations', 'NOUN'), (('acts', 'VERB'), ('acts', 'NOUN'))],\n",
       " [('acts', 'NOUN'), (('that', 'ADP'), ('that', 'DET'))],\n",
       " [('to', 'PRT'), (('discharge', 'CONJ'), ('discharge', 'VERB'))],\n",
       " [('a', 'DET'), (('net', 'ADJ'), ('net', 'NOUN'))],\n",
       " [('$', '.'), (('240,000', 'CONJ'), ('240,000', 'NUM'))],\n",
       " [('barred', 'VERB'), (('*-154', 'CONJ'), ('*-154', 'X'))],\n",
       " [('Enterprise', 'NOUN'), (('Rent-A-Car', 'CONJ'), ('Rent-A-Car', 'NOUN'))],\n",
       " [(',', '.'), (('India', 'CONJ'), ('India', 'NOUN'))],\n",
       " [('priority', 'NOUN'), (('watch', 'VERB'), ('watch', 'NOUN'))],\n",
       " [('of', 'ADP'), (('Nomura', 'CONJ'), ('Nomura', 'NOUN'))],\n",
       " [('rate', 'NOUN'), (('declines', 'NOUN'), ('declines', 'VERB'))],\n",
       " [('a', 'DET'), (('clearer', 'CONJ'), ('clearer', 'ADJ'))],\n",
       " [('thus', 'ADV'), (('more', 'ADJ'), ('more', 'ADV'))],\n",
       " [('more', 'ADV'), (('comfortably', 'CONJ'), ('comfortably', 'ADV'))],\n",
       " [('If', 'ADP'), (('spreads', 'CONJ'), ('spreads', 'NOUN'))],\n",
       " [('sizable', 'ADJ'), (('mutual-fund', 'CONJ'), ('mutual-fund', 'NOUN'))],\n",
       " [('could', 'VERB'), (('profit', 'NOUN'), ('profit', 'VERB'))],\n",
       " [('to', 'PRT'), (('log', 'CONJ'), ('log', 'VERB'))],\n",
       " [('By', 'ADP'), (('1997', 'CONJ'), ('1997', 'NUM'))],\n",
       " [('remaining', 'VERB'), (('uses', 'VERB'), ('uses', 'NOUN'))],\n",
       " [('of', 'ADP'), (('cancer-causing', 'CONJ'), ('cancer-causing', 'ADJ'))],\n",
       " [('be', 'VERB'), (('outlawed', 'CONJ'), ('outlawed', 'VERB'))],\n",
       " [('Bush', 'NOUN'), (('mode', 'CONJ'), ('mode', 'NOUN'))],\n",
       " [(':', '.'), (('kind', 'NOUN'), ('kind', 'ADJ'))],\n",
       " [('and', 'CONJ'), (('gentle', 'CONJ'), ('gentle', 'ADJ'))],\n",
       " [('its', 'PRON'), (('finance', 'VERB'), ('finance', 'NOUN'))],\n",
       " [('to', 'PRT'), (('report', 'NOUN'), ('report', 'VERB'))],\n",
       " [('third-quarter', 'NOUN'), (('net', 'NOUN'), ('net', 'ADJ'))],\n",
       " [('low', 'ADJ'), (('natural-gas', 'CONJ'), ('natural-gas', 'NOUN'))],\n",
       " [(\"'s\", 'VERB'), (('that', 'ADP'), ('that', 'DET'))],\n",
       " [(\"''\", '.'), (('Weatherly', 'CONJ'), ('Weatherly', 'NOUN'))],\n",
       " [('Eugene', 'NOUN'), (('Keehn', 'CONJ'), ('Keehn', 'NOUN'))],\n",
       " [('William', 'NOUN'), (('Northy', 'CONJ'), ('Northy', 'NOUN'))],\n",
       " [('Northy', 'NOUN'), (('Prater', 'CONJ'), ('Prater', 'NOUN'))],\n",
       " [('of', 'ADP'), (('Mercer', 'CONJ'), ('Mercer', 'NOUN'))],\n",
       " [(',', '.'), (('Wash.', 'CONJ'), ('Wash.', 'NOUN'))],\n",
       " [('--', '.'), (('271,124', 'CONJ'), ('271,124', 'NUM'))],\n",
       " [('the', 'DET'), (('400,000', 'CONJ'), ('400,000', 'NUM'))],\n",
       " [('who', 'PRON'), (('*T*-135', 'CONJ'), ('*T*-135', 'X'))],\n",
       " [('and', 'CONJ'), (('that', 'DET'), ('that', 'ADP'))],\n",
       " [('any', 'DET'), (('punishment', 'CONJ'), ('punishment', 'NOUN'))],\n",
       " [('about', 'ADP'), (('3,600', 'CONJ'), ('3,600', 'NUM'))],\n",
       " [('*-1', 'X'), (('sticking', 'CONJ'), ('sticking', 'VERB'))],\n",
       " [('its', 'PRON'), (('vow', 'CONJ'), ('vow', 'NOUN'))],\n",
       " [('*', 'X'), (('avoiding', 'CONJ'), ('avoiding', 'VERB'))],\n",
       " [('has', 'VERB'), (('staunchly', 'CONJ'), ('staunchly', 'ADV'))],\n",
       " [('opposed', 'VERB'), (('cost-sharing', 'ADJ'), ('cost-sharing', 'NOUN'))],\n",
       " [('well-known', 'ADJ'),\n",
       "  (('detective-story', 'CONJ'), ('detective-story', 'NOUN'))],\n",
       " [(',', '.'), (('English', 'NOUN'), ('English', 'ADJ'))],\n",
       " [('English', 'ADJ'), (('novelist', 'CONJ'), ('novelist', 'NOUN'))],\n",
       " [('*T*-1', 'X'), (('finds', 'CONJ'), ('finds', 'VERB'))],\n",
       " [('its', 'PRON'), (('satisfaction', 'CONJ'), ('satisfaction', 'NOUN'))],\n",
       " [('in', 'ADP'), (('mathematical', 'CONJ'), ('mathematical', 'ADJ'))],\n",
       " [('mathematical', 'ADJ'),\n",
       "  (('completeness', 'CONJ'), ('completeness', 'NOUN'))],\n",
       " [('mechanical', 'ADJ'), (('perfection', 'CONJ'), ('perfection', 'NOUN'))],\n",
       " [(\"''\", '.'), (('Integra-A', 'CONJ'), ('Integra-A', 'NOUN'))],\n",
       " [('&', 'CONJ'), (('Restaurant', 'CONJ'), ('Restaurant', 'NOUN'))],\n",
       " [('raise', 'VERB'), (('about', 'ADP'), ('about', 'ADV'))],\n",
       " [('declared', 'VERB'), (('*-103', 'CONJ'), ('*-103', 'X'))],\n",
       " [('*-2', 'X'), (('mailing', 'NOUN'), ('mailing', 'VERB'))],\n",
       " [('has', 'VERB'), (('enjoyed', 'CONJ'), ('enjoyed', 'VERB'))],\n",
       " [('enjoyed', 'VERB'), (('spectacular', 'CONJ'), ('spectacular', 'ADJ'))],\n",
       " [('has', 'VERB'), (('smoothly', 'CONJ'), ('smoothly', 'ADV'))],\n",
       " [('critics', 'NOUN'), (('profess', 'CONJ'), ('profess', 'VERB'))],\n",
       " [('to', 'PRT'), (('despise', 'CONJ'), ('despise', 'VERB'))],\n",
       " [('$', '.'), (('467', 'CONJ'), ('467', 'NUM'))],\n",
       " [('fixed', 'VERB'), (('106', 'CONJ'), ('106', 'NUM'))],\n",
       " [('yield', 'VERB'), (('3.42', 'CONJ'), ('3.42', 'NUM'))],\n",
       " [('went', 'VERB'), (('down', 'ADV'), ('down', 'ADP'))],\n",
       " [('South', 'NOUN'), (('Africa', 'CONJ'), ('Africa', 'NOUN'))],\n",
       " [('accused', 'VERB'), (('armed', 'CONJ'), ('armed', 'VERB'))],\n",
       " [('armed', 'VERB'), (('Namibian', 'CONJ'), ('Namibian', 'ADJ'))],\n",
       " [('Namibian', 'ADJ'), (('nationalist', 'CONJ'), ('nationalist', 'ADJ'))],\n",
       " [('nationalist', 'ADJ'), (('guerrillas', 'CONJ'), ('guerrillas', 'NOUN'))],\n",
       " [('in', 'ADP'), (('neighboring', 'CONJ'), ('neighboring', 'VERB'))],\n",
       " [('neighboring', 'VERB'), (('Angola', 'CONJ'), ('Angola', 'NOUN'))],\n",
       " [('*-1', 'X'), (('violating', 'CONJ'), ('violating', 'VERB'))],\n",
       " [('violating', 'VERB'),\n",
       "  (('U.N.-supervised', 'CONJ'), ('U.N.-supervised', 'ADJ'))],\n",
       " [('U.N.-supervised', 'ADJ'), (('peace', 'CONJ'), ('peace', 'NOUN'))],\n",
       " [('peace', 'NOUN'), (('plans', 'VERB'), ('plans', 'NOUN'))],\n",
       " [('the', 'DET'), (('territory', 'CONJ'), ('territory', 'NOUN'))],\n",
       " [('make', 'VERB'), (('sweatshirts', 'CONJ'), ('sweatshirts', 'NOUN'))],\n",
       " [('or', 'CONJ'), (('sparkplugs', 'CONJ'), ('sparkplugs', 'NOUN'))],\n",
       " [('been', 'VERB'), (('disruptive', 'CONJ'), ('disruptive', 'ADJ'))],\n",
       " [('.', '.'), (('GRAINS', 'CONJ'), ('GRAINS', 'NOUN'))],\n",
       " [('GRAINS', 'NOUN'), (('AND', 'CONJ'), ('AND', 'NOUN'))],\n",
       " [('AND', 'NOUN'), (('SOYBEANS', 'CONJ'), ('SOYBEANS', 'NOUN'))],\n",
       " [('contradict', 'VERB'), (('that', 'ADP'), ('that', 'DET'))],\n",
       " [('-LRB-', '.'), (('technically', 'CONJ'), ('technically', 'ADV'))],\n",
       " [('a', 'DET'), (('limitation', 'CONJ'), ('limitation', 'NOUN'))],\n",
       " [('short', 'ADJ'), (('leash', 'CONJ'), ('leash', 'NOUN'))],\n",
       " [('the', 'DET'), (('executive', 'ADJ'), ('executive', 'NOUN'))],\n",
       " [('was', 'VERB'), (('outraged', 'CONJ'), ('outraged', 'ADJ'))],\n",
       " [('the', 'DET'), (('test-prep', 'CONJ'), ('test-prep', 'ADJ'))],\n",
       " [(\"n't\", 'ADV'), (('known', 'VERB'), ('known', 'ADJ'))],\n",
       " [('their', 'PRON'), (('reach', 'VERB'), ('reach', 'NOUN'))],\n",
       " [('the', 'DET'), (('courage', 'CONJ'), ('courage', 'NOUN'))],\n",
       " [('*T*-2', 'X'), (('A.D.', 'CONJ'), ('A.D.', 'NOUN'))],\n",
       " [('.', '.'), (('Middlesex', 'CONJ'), ('Middlesex', 'NOUN'))],\n",
       " [('Middlesex', 'NOUN'), (('Water', 'CONJ'), ('Water', 'NOUN'))],\n",
       " [(',', '.'), (('offering', 'NOUN'), ('offering', 'VERB'))],\n",
       " [('of', 'ADP'), (('150,000', 'CONJ'), ('150,000', 'NUM'))],\n",
       " [('Wood', 'NOUN'), (('Walker', 'CONJ'), ('Walker', 'NOUN'))],\n",
       " [('and', 'CONJ'), (('Howard', 'CONJ'), ('Howard', 'NOUN'))],\n",
       " [(',', '.'), (('Weil', 'CONJ'), ('Weil', 'NOUN'))],\n",
       " [(',', '.'), (('Labouisse', 'CONJ'), ('Labouisse', 'NOUN'))],\n",
       " [(',', '.'), (('Friedrichs', 'CONJ'), ('Friedrichs', 'NOUN'))],\n",
       " [('$', '.'), (('225.6', 'CONJ'), ('225.6', 'NUM'))],\n",
       " [(',', '.'), (('more', 'ADV'), ('more', 'ADJ'))],\n",
       " [('that', 'ADP'), (('present', 'VERB'), ('present', 'ADJ'))],\n",
       " [('their', 'PRON'), (('views', 'VERB'), ('views', 'NOUN'))],\n",
       " [('and', 'CONJ'), (('potentially', 'CONJ'), ('potentially', 'ADV'))],\n",
       " [('potentially', 'ADV'), (('more', 'ADJ'), ('more', 'ADV'))],\n",
       " [(':', '.'), (('Can', 'CONJ'), ('Can', 'VERB'))],\n",
       " [('like', 'ADP'), (('hard-charging', 'CONJ'), ('hard-charging', 'ADJ'))],\n",
       " [('hard-charging', 'ADJ'), (('Teddy', 'CONJ'), ('Teddy', 'NOUN'))],\n",
       " [('Teddy', 'NOUN'), (('Roosevelt', 'CONJ'), ('Roosevelt', 'NOUN'))],\n",
       " [('political', 'ADJ'), (('insider', 'CONJ'), ('insider', 'NOUN'))],\n",
       " [('a', 'DET'), (('gigantic', 'CONJ'), ('gigantic', 'ADJ'))],\n",
       " [('gigantic', 'ADJ'), (('crapshoot', 'CONJ'), ('crapshoot', 'NOUN'))],\n",
       " [('on', 'ADP'), (('66.5', 'CONJ'), ('66.5', 'NUM'))],\n",
       " [('year', 'NOUN'), (('earlier', 'ADV'), ('earlier', 'ADJ'))],\n",
       " [('an', 'DET'), (('unstinting', 'CONJ'), ('unstinting', 'ADJ'))],\n",
       " [('won', 'VERB'), (('laurels', 'CONJ'), ('laurels', 'NOUN'))],\n",
       " [('.', '.'), (('Countries', 'CONJ'), ('Countries', 'NOUN'))],\n",
       " [('a', 'DET'), (('framework', 'CONJ'), ('framework', 'NOUN'))],\n",
       " [(\"'s\", 'PRT'), (('move', 'VERB'), ('move', 'NOUN'))],\n",
       " [('being', 'VERB'), (('flooded', 'CONJ'), ('flooded', 'VERB'))],\n",
       " [('situation', 'NOUN'), (('comedies', 'CONJ'), ('comedies', 'NOUN'))],\n",
       " [('that', 'DET'), (('*T*-152', 'CONJ'), ('*T*-152', 'X'))],\n",
       " [('the', 'DET'), (('networks', 'CONJ'), ('networks', 'NOUN'))],\n",
       " [('the', 'DET'), (('twindam', 'CONJ'), ('twindam', 'NOUN'))],\n",
       " [('.', '.'), (('Annualized', 'CONJ'), ('Annualized', 'VERB'))],\n",
       " [('the', 'DET'), (('future', 'ADJ'), ('future', 'NOUN'))],\n",
       " [(\"'s\", 'PRT'), (('500-Stock', 'CONJ'), ('500-Stock', 'NOUN'))],\n",
       " [('added', 'VERB'), (('0.84', 'CONJ'), ('0.84', 'NUM'))],\n",
       " [('to', 'PRT'), (('341.20', 'CONJ'), ('341.20', 'NUM'))],\n",
       " [('was', 'VERB'), (('equivalent', 'NOUN'), ('equivalent', 'ADJ'))],\n",
       " [('or', 'CONJ'), (('fall', 'NOUN'), ('fall', 'VERB'))],\n",
       " [('.', '.'), (('Part', 'CONJ'), ('Part', 'NOUN'))],\n",
       " [('of', 'ADP'), (('jitters', 'CONJ'), ('jitters', 'NOUN'))],\n",
       " [('.', '.'), (('Beauty', 'CONJ'), ('Beauty', 'NOUN'))],\n",
       " [('Beauty', 'NOUN'), (('Takes', 'CONJ'), ('Takes', 'VERB'))],\n",
       " [('Takes', 'VERB'), (('Backseat', 'CONJ'), ('Backseat', 'NOUN'))],\n",
       " [('on', 'ADP'), (('Bridges', 'CONJ'), ('Bridges', 'NOUN'))],\n",
       " [('been', 'VERB'), (('as', 'ADP'), ('as', 'ADV'))],\n",
       " [('to', 'PRT'), (('bounce', 'CONJ'), ('bounce', 'VERB'))],\n",
       " [('.', '.'), (('NEW', 'CONJ'), ('NEW', 'NOUN'))],\n",
       " [('NEW', 'NOUN'), (('ACCOUNT', 'CONJ'), ('ACCOUNT', 'NOUN'))],\n",
       " [('Ohio', 'NOUN'), (('Mattress', 'CONJ'), ('Mattress', 'NOUN'))],\n",
       " [('junk', 'NOUN'), (('financing', 'VERB'), ('financing', 'NOUN'))],\n",
       " [('the', 'DET'), (('bedding', 'CONJ'), ('bedding', 'NOUN'))],\n",
       " [('The', 'DET'), (('irony', 'CONJ'), ('irony', 'NOUN'))],\n",
       " [('an', 'DET'), (('off-off', 'CONJ'), ('off-off', 'ADJ'))],\n",
       " [('contests', 'NOUN'), (('scattered', 'CONJ'), ('scattered', 'VERB'))],\n",
       " [('the', 'DET'), (('good', 'ADJ'), ('good', 'NOUN'))],\n",
       " [(',', '.'), (('about', 'ADP'), ('about', 'ADV'))],\n",
       " [('a', 'DET'), (('mid-size', 'CONJ'), ('mid-size', 'ADJ'))],\n",
       " [('two', 'NUM'), (('semesters', 'CONJ'), ('semesters', 'NOUN'))],\n",
       " [('*', 'X'), (('Consider', 'CONJ'), ('Consider', 'VERB'))],\n",
       " [('sizable', 'ADJ'), (('West', 'NOUN'), ('West', 'ADJ'))],\n",
       " [('West', 'ADJ'), (('German', 'NOUN'), ('German', 'ADJ'))],\n",
       " [('German', 'ADJ'), (('refinery', 'CONJ'), ('refinery', 'NOUN'))],\n",
       " [('*', 'X'), (('tightening', 'CONJ'), ('tightening', 'VERB'))],\n",
       " [('those', 'DET'), (('related', 'ADJ'), ('related', 'VERB'))],\n",
       " [('the', 'DET'), (('Cray-3', 'NOUN'), ('Cray-3', 'NUM'))],\n",
       " [('.', '.'), (('Muzzling', 'CONJ'), ('Muzzling', 'ADJ'))],\n",
       " [('called', 'VERB'), (('*-56', 'CONJ'), ('*-56', 'X'))],\n",
       " [('``', '.'), (('blindfold', 'CONJ'), ('blindfold', 'NOUN'))],\n",
       " [('*-2', 'X'), (('recommending', 'CONJ'), ('recommending', 'VERB'))],\n",
       " [('Old', 'NOUN'), (('Gringo', 'CONJ'), ('Gringo', 'NOUN'))],\n",
       " [('a', 'DET'), (('confused', 'CONJ'), ('confused', 'ADJ'))],\n",
       " [('confused', 'ADJ'), (('rendering', 'CONJ'), ('rendering', 'NOUN'))],\n",
       " [('Carlos', 'NOUN'), (('Fuentes', 'CONJ'), ('Fuentes', 'NOUN'))],\n",
       " [('the', 'DET'), (('Mexican', 'CONJ'), ('Mexican', 'NOUN'))],\n",
       " [('Mexican', 'NOUN'), (('Revolution', 'CONJ'), ('Revolution', 'NOUN'))],\n",
       " [('which', 'DET'), (('*T*-134', 'CONJ'), ('*T*-134', 'X'))],\n",
       " [('guild', 'NOUN'),\n",
       "  (('collective-bargaining', 'CONJ'), ('collective-bargaining', 'ADJ'))],\n",
       " [('``', '.'), (('evolved', 'CONJ'), ('evolved', 'VERB'))],\n",
       " [('with', 'ADP'), (('Si', 'CONJ'), ('Si', 'NOUN'))],\n",
       " [('maker', 'NOUN'), (('Claude', 'CONJ'), ('Claude', 'NOUN'))],\n",
       " [('of', 'ADP'), (('weird', 'CONJ'), ('weird', 'ADJ'))],\n",
       " [('``', '.'), (('Story', 'CONJ'), ('Story', 'NOUN'))],\n",
       " [('of', 'ADP'), (('Women', 'CONJ'), ('Women', 'NOUN'))],\n",
       " [('based', 'VERB'), (('*-56', 'CONJ'), ('*-56', 'X'))],\n",
       " [('by', 'ADP'), (('more', 'ADJ'), ('more', 'ADV'))],\n",
       " [('to', 'PRT'), (('fly', 'CONJ'), ('fly', 'VERB'))],\n",
       " [('his', 'PRON'), (('destination', 'CONJ'), ('destination', 'NOUN'))],\n",
       " [('a', 'DET'), (('companion', 'CONJ'), ('companion', 'NOUN'))],\n",
       " [('they', 'PRON'), (('fly', 'CONJ'), ('fly', 'VERB'))],\n",
       " [('be', 'VERB'), (('no', 'DET'), ('no', 'ADV'))],\n",
       " [('.', '.'), (('Paris', 'CONJ'), ('Paris', 'NOUN'))],\n",
       " [(',', '.'), (('Brussels', 'CONJ'), ('Brussels', 'NOUN'))],\n",
       " [('and', 'CONJ'), (('Milan', 'CONJ'), ('Milan', 'NOUN'))],\n",
       " [('to', 'PRT'), (('offend', 'CONJ'), ('offend', 'VERB'))],\n",
       " [('largest', 'ADJ'), (('lender', 'CONJ'), ('lender', 'NOUN'))],\n",
       " [('Richard', 'NOUN'), (('Drobnick', 'CONJ'), ('Drobnick', 'NOUN'))],\n",
       " [('when', 'ADV'),\n",
       "  (('Minneapolis-based', 'CONJ'), ('Minneapolis-based', 'ADJ'))],\n",
       " [('Research', 'NOUN'), (('first', 'ADJ'), ('first', 'ADV'))],\n",
       " [('A', 'DET'), (('total', 'ADJ'), ('total', 'NOUN'))],\n",
       " [('of', 'ADP'), (('139', 'CONJ'), ('139', 'NUM'))],\n",
       " [('from', 'ADP'), (('138', 'CONJ'), ('138', 'NUM'))],\n",
       " [('year', 'NOUN'), (('ago', 'ADP'), ('ago', 'ADV'))],\n",
       " [('Ms.', 'NOUN'), (('Kirkpatrick', 'CONJ'), ('Kirkpatrick', 'NOUN'))],\n",
       " [('The', 'DET'), (('multilevel', 'CONJ'), ('multilevel', 'ADJ'))],\n",
       " [('by', 'ADP'), (('Thrall', 'CONJ'), ('Thrall', 'NOUN'))],\n",
       " [('held', 'VERB'), (('Duchossois', 'CONJ'), ('Duchossois', 'NOUN'))],\n",
       " [(',', '.'), (('Elmhurst', 'CONJ'), ('Elmhurst', 'NOUN'))],\n",
       " [('what', 'PRON'), (('*T*-252', 'CONJ'), ('*T*-252', 'X'))],\n",
       " [('*-1', 'X'), (('complaining', 'CONJ'), ('complaining', 'VERB'))],\n",
       " [('ended', 'VERB'), (('up', 'ADV'), ('up', 'PRT'))],\n",
       " [('his', 'PRON'), (('name', 'VERB'), ('name', 'NOUN'))],\n",
       " [('would', 'VERB'), (('like', 'ADP'), ('like', 'VERB'))],\n",
       " [('the', 'DET'), (('American', 'ADJ'), ('American', 'NOUN'))],\n",
       " [('the', 'DET'), (('red', 'ADJ'), ('red', 'NOUN'))],\n",
       " [('.', '.'), (('Unfortunately', 'CONJ'), ('Unfortunately', 'ADV'))],\n",
       " [('York', 'NOUN'), (('trading', 'NOUN'), ('trading', 'VERB'))],\n",
       " [('former', 'ADJ'), (('ratepayers', 'CONJ'), ('ratepayers', 'NOUN'))],\n",
       " [('cost', 'NOUN'), (('overruns', 'CONJ'), ('overruns', 'NOUN'))],\n",
       " [('statistics', 'NOUN'), (('imply', 'CONJ'), ('imply', 'VERB'))],\n",
       " [('imply', 'VERB'), (('that', 'DET'), ('that', 'ADP'))],\n",
       " [('that', 'ADP'), (('three-quarters', 'CONJ'), ('three-quarters', 'NOUN'))],\n",
       " [('could', 'VERB'), (('cost', 'NOUN'), ('cost', 'VERB'))],\n",
       " [('those', 'DET'), (('that', 'ADP'), ('that', 'DET'))],\n",
       " [('share', 'NOUN'), (('that', 'ADP'), ('that', 'DET'))],\n",
       " [('that', 'DET'), (('*T*-119', 'CONJ'), ('*T*-119', 'X'))],\n",
       " [('*T*-119', 'X'), (('expires', 'CONJ'), ('expires', 'VERB'))],\n",
       " [(\"'\", 'PRT'), (('honor', 'VERB'), ('honor', 'NOUN'))],\n",
       " [('the', 'DET'), (('speedway', 'CONJ'), ('speedway', 'NOUN'))],\n",
       " [('speedway', 'NOUN'), (('hauled', 'CONJ'), ('hauled', 'VERB'))],\n",
       " [('hauled', 'VERB'), (('out', 'ADP'), ('out', 'PRT'))],\n",
       " [(',', '.'), (('crews', 'CONJ'), ('crews', 'NOUN'))],\n",
       " [('the', 'DET'), (('official', 'NOUN'), ('official', 'ADJ'))],\n",
       " [('a', 'DET'), (('10-lap', 'CONJ'), ('10-lap', 'ADJ'))],\n",
       " [('of', 'ADP'), (('two-letter', 'CONJ'), ('two-letter', 'ADJ'))],\n",
       " [('two-letter', 'ADJ'), (('consonant', 'CONJ'), ('consonant', 'ADJ'))],\n",
       " [('consonant', 'ADJ'), (('sounds', 'VERB'), ('sounds', 'NOUN'))],\n",
       " [('same', 'ADJ'), (('sounds', 'VERB'), ('sounds', 'NOUN'))],\n",
       " [('--', '.'), (('to', 'PRT'), ('to', 'ADP'))],\n",
       " [('the', 'DET'), (('exclusion', 'CONJ'), ('exclusion', 'NOUN'))],\n",
       " [('other', 'ADJ'), (('sounds', 'VERB'), ('sounds', 'NOUN'))],\n",
       " [('attorney', 'NOUN'), (('general', 'ADJ'), ('general', 'NOUN'))],\n",
       " [('Bob', 'NOUN'), (('Goodman', 'CONJ'), ('Goodman', 'NOUN'))],\n",
       " [('to', 'PRT'), (('shake', 'CONJ'), ('shake', 'VERB'))],\n",
       " [(\"'s\", 'PRT'), (('support', 'VERB'), ('support', 'NOUN'))],\n",
       " [('the', 'DET'), (('very', 'ADV'), ('very', 'ADJ'))],\n",
       " [('.', '.'), (('Common', 'NOUN'), ('Common', 'ADJ'))],\n",
       " [('.', '.'), (('Lead', 'CONJ'), ('Lead', 'ADJ'))],\n",
       " [('are', 'VERB'), (('Scotia', 'CONJ'), ('Scotia', 'NOUN'))],\n",
       " [('Scotia', 'NOUN'), (('McLeod', 'CONJ'), ('McLeod', 'NOUN'))],\n",
       " [('and', 'CONJ'), (('RBC', 'CONJ'), ('RBC', 'NOUN'))],\n",
       " [('RBC', 'NOUN'), (('Dominion', 'CONJ'), ('Dominion', 'NOUN'))],\n",
       " [('figures', 'NOUN'), (('contrast', 'NOUN'), ('contrast', 'VERB'))],\n",
       " [(\"'s\", 'PRT'), (('F.W.', 'CONJ'), ('F.W.', 'NOUN'))],\n",
       " [('to', 'PRT'), (('double-C', 'CONJ'), ('double-C', 'NOUN'))],\n",
       " [('from', 'ADP'), (('triple-C', 'CONJ'), ('triple-C', 'NOUN'))],\n",
       " [('*-2', 'X'), (('initialing', 'CONJ'), ('initialing', 'VERB'))],\n",
       " [(',', '.'), (('amending', 'CONJ'), ('amending', 'VERB'))],\n",
       " [('its', 'PRON'), (('trademark', 'CONJ'), ('trademark', 'NOUN'))],\n",
       " [('from', 'ADP'), (('unauthorized', 'CONJ'), ('unauthorized', 'ADJ'))],\n",
       " [('unauthorized', 'ADJ'), (('showings', 'CONJ'), ('showings', 'NOUN'))],\n",
       " [('sparked', 'VERB'), (('buying', 'VERB'), ('buying', 'NOUN'))],\n",
       " [('certain', 'ADJ'),\n",
       "  (('incentive-backed', 'CONJ'), ('incentive-backed', 'ADJ'))],\n",
       " [('proved', 'VERB'), (('untrue', 'CONJ'), ('untrue', 'ADJ'))],\n",
       " [('A', 'DET'), (('Different', 'CONJ'), ('Different', 'NOUN'))],\n",
       " [('a', 'DET'), (('spin-off', 'CONJ'), ('spin-off', 'NOUN'))],\n",
       " [('reruns', 'NOUN'), (('*T*-151', 'CONJ'), ('*T*-151', 'X'))],\n",
       " [('agency', 'NOUN'), (('that', 'ADP'), ('that', 'DET'))],\n",
       " [('*T*-1', 'X'), (('broadcasts', 'NOUN'), ('broadcasts', 'VERB'))],\n",
       " [('43', 'NUM'), (('languages', 'CONJ'), ('languages', 'NOUN'))],\n",
       " [('million', 'NUM'), (('listeners', 'CONJ'), ('listeners', 'NOUN'))],\n",
       " [('.', '.'), (('Policy', 'CONJ'), ('Policy', 'NOUN'))],\n",
       " [('to', 'PRT'), (('limit', 'NOUN'), ('limit', 'VERB'))],\n",
       " [('have', 'VERB'), (('lately', 'CONJ'), ('lately', 'ADV'))],\n",
       " [('lately', 'ADV'), (('touted', 'CONJ'), ('touted', 'VERB'))],\n",
       " [('it', 'PRON'), (('as', 'ADP'), ('as', 'ADV'))],\n",
       " [('*-3', 'X'), (('impart', 'CONJ'), ('impart', 'VERB'))],\n",
       " [('job', 'NOUN'), (('skills', 'CONJ'), ('skills', 'NOUN'))],\n",
       " [('to', 'PRT'), (('entrants', 'CONJ'), ('entrants', 'NOUN'))],\n",
       " [('*-2', 'X'), (('noticing', 'CONJ'), ('noticing', 'VERB'))],\n",
       " [('another', 'DET'), (('only', 'ADJ'), ('only', 'ADV'))],\n",
       " [('they', 'PRON'), (('jostle', 'CONJ'), ('jostle', 'VERB'))],\n",
       " [('for', 'ADP'), (('cabs', 'CONJ'), ('cabs', 'NOUN'))],\n",
       " [('due', 'ADJ'), (('1995', 'CONJ'), ('1995', 'NUM'))],\n",
       " [('fell', 'VERB'), (('9\\\\/32', 'CONJ'), ('9\\\\/32', 'NUM'))],\n",
       " [('to', 'PRT'), (('103', 'CONJ'), ('103', 'NUM'))],\n",
       " [('yield', 'VERB'), (('11.10', 'CONJ'), ('11.10', 'NUM'))],\n",
       " [('*', 'X'), (('Reducing', 'CONJ'), ('Reducing', 'VERB'))],\n",
       " [('So', 'ADV'), (('crunch', 'CONJ'), ('crunch', 'NOUN'))],\n",
       " [(',', '.'), (('crunch', 'CONJ'), ('crunch', 'NOUN'))],\n",
       " [(',', '.'), (('crunch', 'CONJ'), ('crunch', 'NOUN'))],\n",
       " [(',', '.'), (('bang', 'CONJ'), ('bang', 'NOUN'))],\n",
       " [(',', '.'), (('bang', 'CONJ'), ('bang', 'NOUN'))],\n",
       " [(',', '.'), (('bang', 'CONJ'), ('bang', 'NOUN'))],\n",
       " [('from', 'ADP'), (('above', 'ADP'), ('above', 'ADV'))],\n",
       " [('very', 'ADV'), (('obvious', 'CONJ'), ('obvious', 'ADJ'))],\n",
       " [('obvious', 'ADJ'), (('exit', 'CONJ'), ('exit', 'NOUN'))],\n",
       " [('at', 'ADP'), (('prayer', 'CONJ'), ('prayer', 'NOUN'))],\n",
       " [('buy', 'VERB'), (('back', 'ADV'), ('back', 'PRT'))],\n",
       " [(',', '.'), (('notes', 'NOUN'), ('notes', 'VERB'))],\n",
       " [(',', '.'), (('co-chairman', 'CONJ'), ('co-chairman', 'NOUN'))],\n",
       " [(\"n't\", 'ADV'), (('breathe', 'CONJ'), ('breathe', 'VERB'))],\n",
       " [('analysts', 'NOUN'), (('warn', 'CONJ'), ('warn', 'VERB'))],\n",
       " [('to', 'PRT'), (('repay', 'CONJ'), ('repay', 'VERB'))],\n",
       " [('completely', 'ADV'), (('discharge', 'CONJ'), ('discharge', 'VERB'))],\n",
       " [('.', '.'), (('Brisk', 'CONJ'), ('Brisk', 'ADJ'))],\n",
       " [('pushed', 'VERB'), (('up', 'ADV'), ('up', 'PRT'))],\n",
       " [('blue', 'ADJ'), (('bloods', 'CONJ'), ('bloods', 'NOUN'))],\n",
       " [('.', '.'), (('Above', 'CONJ'), ('Above', 'ADP'))],\n",
       " [('extremely', 'ADV'), (('confused', 'CONJ'), ('confused', 'VERB'))],\n",
       " [('more', 'ADV'), (('leery', 'CONJ'), ('leery', 'ADJ'))],\n",
       " [('were', 'VERB'), (('more', 'ADV'), ('more', 'ADJ'))],\n",
       " [('be', 'VERB'), (('better', 'ADV'), ('better', 'ADJ'))],\n",
       " [('*-1', 'X'), (('out', 'PRT'), ('out', 'ADP'))],\n",
       " [('No', 'DET'), (('dummies', 'CONJ'), ('dummies', 'NOUN'))],\n",
       " [('.', '.'), (('First', 'NOUN'), ('First', 'ADJ'))],\n",
       " [('the', 'DET'), (('counter', 'CONJ'), ('counter', 'NOUN'))],\n",
       " [('on', 'ADP'), (('either', 'DET'), ('either', 'CONJ'))],\n",
       " [('trading', 'NOUN'), (('tapes', 'CONJ'), ('tapes', 'NOUN'))],\n",
       " [('the', 'DET'), (('Hoosier', 'CONJ'), ('Hoosier', 'NOUN'))],\n",
       " [('its', 'PRON'), (('fall', 'VERB'), ('fall', 'NOUN'))],\n",
       " [('final', 'ADJ'), (('modification', 'CONJ'), ('modification', 'NOUN'))],\n",
       " [('made', 'VERB'), (('*-130', 'CONJ'), ('*-130', 'X'))],\n",
       " [('five-point', 'ADJ'), (('opening', 'NOUN'), ('opening', 'VERB'))],\n",
       " [('$', '.'), (('47.5', 'CONJ'), ('47.5', 'NUM'))],\n",
       " [('to', 'PRT'), (('end', 'NOUN'), ('end', 'VERB'))],\n",
       " [('a', 'DET'), (('deluge', 'CONJ'), ('deluge', 'NOUN'))],\n",
       " [('was', 'VERB'), (('abuzz', 'CONJ'), ('abuzz', 'ADJ'))],\n",
       " [('$', '.'), (('490', 'CONJ'), ('490', 'NUM'))],\n",
       " [('the', 'DET'), (('buy-back', 'ADJ'), ('buy-back', 'NOUN'))],\n",
       " [('Baltimore', 'NOUN'),\n",
       "  (('News-American', 'CONJ'), ('News-American', 'NOUN'))],\n",
       " [('*T*-46', 'X'), (('folded', 'CONJ'), ('folded', 'VERB'))],\n",
       " [('Boston', 'NOUN'),\n",
       "  (('Herald-American', 'CONJ'), ('Herald-American', 'NOUN'))],\n",
       " [('as', 'ADP'), (('cornerstones', 'CONJ'), ('cornerstones', 'NOUN'))],\n",
       " [('the', 'DET'), (('1980s', 'NOUN'), ('1980s', 'NUM'))],\n",
       " [('the', 'DET'), (('newer', 'CONJ'), ('newer', 'ADJ'))],\n",
       " [('a', 'DET'), (('bargain', 'CONJ'), ('bargain', 'NOUN'))],\n",
       " [('which', 'DET'), (('*T*-237', 'CONJ'), ('*T*-237', 'X'))],\n",
       " [('it', 'PRON'), (('lacked', 'CONJ'), ('lacked', 'VERB'))],\n",
       " [('Series', 'NOUN'), (('A', 'DET'), ('A', 'NOUN'))],\n",
       " [('convertible', 'ADJ'), (('preferred', 'ADJ'), ('preferred', 'VERB'))],\n",
       " [('The', 'DET'), (('newest', 'CONJ'), ('newest', 'ADJ'))],\n",
       " [('newest', 'ADJ'), (('breed', 'CONJ'), ('breed', 'NOUN'))],\n",
       " [('``', '.'), (('rocket', 'CONJ'), ('rocket', 'NOUN'))],\n",
       " [('their', 'PRON'), (('backgrounds', 'CONJ'), ('backgrounds', 'NOUN'))],\n",
       " [('the', 'DET'), (('complex', 'ADJ'), ('complex', 'NOUN'))],\n",
       " [('complex', 'NOUN'), (('hedging', 'CONJ'), ('hedging', 'NOUN'))],\n",
       " [('strategies', 'NOUN'), (('that', 'ADP'), ('that', 'DET'))],\n",
       " [('are', 'VERB'), (('popularly', 'CONJ'), ('popularly', 'ADV'))],\n",
       " [('would', 'VERB'), (('junk', 'NOUN'), ('junk', 'VERB'))],\n",
       " [('an', 'DET'), (('innovative', 'CONJ'), ('innovative', 'ADJ'))],\n",
       " [('innovative', 'ADJ'), (('market-based', 'CONJ'), ('market-based', 'ADJ'))],\n",
       " [('*', 'X'), (('trading', 'NOUN'), ('trading', 'VERB'))],\n",
       " [('among', 'ADP'), (('polluters', 'CONJ'), ('polluters', 'NOUN'))],\n",
       " [('which', 'DET'), (('there', 'ADV'), ('there', 'DET'))],\n",
       " [('economic', 'ADJ'), (('slowdowns', 'CONJ'), ('slowdowns', 'NOUN'))],\n",
       " [('--', '.'), (('the', 'DET'), ('the', 'ADJ'))],\n",
       " [('--', '.'), (('the', 'DET'), ('the', 'ADJ'))],\n",
       " [('Thomas', 'NOUN'), (('Doerflinger', 'CONJ'), ('Doerflinger', 'NOUN'))],\n",
       " [('The', 'DET'), (('less', 'ADJ'), ('less', 'ADV'))],\n",
       " [('playing', 'VERB'), (('tunes', 'CONJ'), ('tunes', 'NOUN'))],\n",
       " [('the', 'DET'), (('carillons', 'CONJ'), ('carillons', 'NOUN'))],\n",
       " [('of', 'ADP'), (('continental', 'CONJ'), ('continental', 'ADJ'))],\n",
       " [('English', 'NOUN'), (('*-136', 'CONJ'), ('*-136', 'X'))],\n",
       " [('be', 'VERB'), (('childish', 'CONJ'), ('childish', 'ADJ'))],\n",
       " [(',', '.'), (('fit', 'NOUN'), ('fit', 'ADJ'))],\n",
       " [('for', 'ADP'), (('foreigners', 'CONJ'), ('foreigners', 'NOUN'))],\n",
       " [('.', '.'), (('IRAs', 'CONJ'), ('IRAs', 'NOUN'))],\n",
       " [('often', 'ADV'), (('supercilious', 'CONJ'), ('supercilious', 'ADJ'))],\n",
       " [('even', 'ADV'), (('vicious', 'CONJ'), ('vicious', 'ADJ'))],\n",
       " [('vicious', 'ADJ'), (('passages', 'CONJ'), ('passages', 'NOUN'))],\n",
       " [('Sony', 'NOUN'), (('invades', 'CONJ'), ('invades', 'VERB'))],\n",
       " [('the', 'DET'), (('most', 'ADJ'), ('most', 'ADV'))],\n",
       " [('most', 'ADV'), (('mundane', 'CONJ'), ('mundane', 'ADJ'))],\n",
       " [('mundane', 'ADJ'), (('aspects', 'CONJ'), ('aspects', 'NOUN'))],\n",
       " [(\"'\", 'PRT'), (('lives', 'VERB'), ('lives', 'NOUN'))],\n",
       " [('the', 'DET'), (('regimented', 'CONJ'), ('regimented', 'ADJ'))],\n",
       " [('are', 'VERB'), (('assigned', 'CONJ'), ('assigned', 'VERB'))],\n",
       " [('*-59', 'X'), (('lunch', 'CONJ'), ('lunch', 'NOUN'))],\n",
       " [('--', '.'), (('and', 'CONJ'), ('and', 'ADJ'))],\n",
       " [('the', 'DET'), (('austere', 'CONJ'), ('austere', 'ADJ'))],\n",
       " [('company', 'NOUN'), (('dormitory', 'CONJ'), ('dormitory', 'NOUN'))],\n",
       " [('a', 'DET'), (('prying', 'CONJ'), ('prying', 'ADJ'))],\n",
       " [('prying', 'ADJ'), (('caretaker', 'CONJ'), ('caretaker', 'NOUN'))],\n",
       " [('the', 'DET'), (('Midwestern', 'ADJ'), ('Midwestern', 'NOUN'))],\n",
       " [('among', 'ADP'), (('American', 'ADJ'), ('American', 'NOUN'))],\n",
       " [('an', 'DET'), (('American', 'ADJ'), ('American', 'NOUN'))],\n",
       " [('.', '.'), (('Follow-up', 'CONJ'), ('Follow-up', 'ADJ'))],\n",
       " [('from', 'ADP'), (('soured', 'CONJ'), ('soured', 'ADJ'))],\n",
       " [('of', 'ADP'), (('frantic', 'CONJ'), ('frantic', 'ADJ'))],\n",
       " [('of', 'ADP'),\n",
       "  (('revenue-desperate', 'CONJ'), ('revenue-desperate', 'ADJ'))],\n",
       " [('revenue-desperate', 'ADJ'),\n",
       "  (('magazines', 'CONJ'), ('magazines', 'NOUN'))],\n",
       " [('pretty', 'ADV'), (('cozy', 'CONJ'), ('cozy', 'ADJ'))],\n",
       " [('*-1', 'X'), (('fawning', 'CONJ'), ('fawning', 'VERB'))],\n",
       " [('in', 'ADP'), (('articles', 'CONJ'), ('articles', 'NOUN'))],\n",
       " [('and', 'CONJ'), (('offering', 'NOUN'), ('offering', 'VERB'))],\n",
       " [('of', 'ADP'), (('advertorial', 'CONJ'), ('advertorial', 'ADJ'))],\n",
       " [('*-1', 'X'), (('needing', 'CONJ'), ('needing', 'VERB'))],\n",
       " [('Mr.', 'NOUN'), (('Gartner', 'CONJ'), ('Gartner', 'NOUN'))],\n",
       " [('Daily', 'NOUN'), (('Tribune', 'CONJ'), ('Tribune', 'NOUN'))],\n",
       " [('in', 'ADP'), (('Ames', 'CONJ'), ('Ames', 'NOUN'))],\n",
       " [('.', '.'), (('Subcontractors', 'CONJ'), ('Subcontractors', 'NOUN'))],\n",
       " [('a', 'DET'), (('swift', 'CONJ'), ('swift', 'NOUN'))],\n",
       " [('to', 'PRT'), (('avert', 'CONJ'), ('avert', 'VERB'))],\n",
       " [('of', 'ADP'), (('skilled', 'CONJ'), ('skilled', 'ADJ'))],\n",
       " [('big', 'ADJ'), (('shipyards', 'CONJ'), ('shipyards', 'NOUN'))],\n",
       " [('Florio', 'NOUN'), (('aired', 'CONJ'), ('aired', 'VERB'))],\n",
       " [('a', 'DET'), (('photograph', 'CONJ'), ('photograph', 'NOUN'))],\n",
       " [('.', '.'), (('Concurrent', 'CONJ'), ('Concurrent', 'ADJ'))],\n",
       " [('be', 'VERB'), (('real', 'ADJ'), ('real', 'ADV'))],\n",
       " [('could', 'VERB'), (('drop', 'NOUN'), ('drop', 'VERB'))],\n",
       " [('is', 'VERB'), (('slowed', 'CONJ'), ('slowed', 'VERB'))],\n",
       " [('not', 'ADV'), (('expressly', 'CONJ'), ('expressly', 'ADV'))],\n",
       " [('G.', 'NOUN'), (('Kuhns', 'CONJ'), ('Kuhns', 'NOUN'))],\n",
       " [('and', 'CONJ'), (('chief', 'NOUN'), ('chief', 'ADJ'))],\n",
       " [('chief', 'ADJ'), (('executive', 'NOUN'), ('executive', 'ADJ'))],\n",
       " [('$', '.'), (('130.7', 'CONJ'), ('130.7', 'NUM'))],\n",
       " [('for', 'ADP'), (('AC-130U', 'CONJ'), ('AC-130U', 'NOUN'))],\n",
       " [('of', 'ADP'), (('nonfat', 'CONJ'), ('nonfat', 'ADJ'))],\n",
       " [('.', '.'), (('SHAREDATA', 'CONJ'), ('SHAREDATA', 'NOUN'))],\n",
       " [('will', 'VERB'), (('amend', 'CONJ'), ('amend', 'VERB'))],\n",
       " [('to', 'PRT'), (('delete', 'CONJ'), ('delete', 'VERB'))],\n",
       " [('usually', 'ADV'), (('practiced', 'CONJ'), ('practiced', 'VERB'))],\n",
       " [('different', 'ADJ'), (('locations', 'CONJ'), ('locations', 'NOUN'))],\n",
       " [(',', '.'), (('trading', 'NOUN'), ('trading', 'VERB'))],\n",
       " [('for', 'ADP'), (('long', 'ADJ'), ('long', 'ADV'))],\n",
       " [('prices', 'NOUN'), (('that', 'ADP'), ('that', 'DET'))],\n",
       " [('The', 'DET'), (('Continental', 'CONJ'), ('Continental', 'NOUN'))],\n",
       " [('Continental', 'NOUN'), (('Baking', 'CONJ'), ('Baking', 'NOUN'))],\n",
       " [('on', 'ADP'), (('bread', 'CONJ'), ('bread', 'NOUN'))],\n",
       " [('.', '.'), (('Defending', 'CONJ'), ('Defending', 'VERB'))],\n",
       " [('their', 'PRON'), (('ramparts', 'CONJ'), ('ramparts', 'NOUN'))],\n",
       " [(',', '.'), (('stock-picking', 'CONJ'), ('stock-picking', 'ADJ'))],\n",
       " [(',', '.'), (('tens', 'CONJ'), ('tens', 'NOUN'))],\n",
       " [('the', 'DET'), (('clannish', 'CONJ'), ('clannish', 'ADJ'))],\n",
       " [('be', 'VERB'), (('twinned', 'CONJ'), ('twinned', 'VERB'))],\n",
       " [('nearly', 'ADV'), (('complete', 'VERB'), ('complete', 'ADJ'))],\n",
       " [('miles', 'NOUN'), (('upstream', 'CONJ'), ('upstream', 'ADV'))]]"
      ]
     },
     "execution_count": 33,
     "metadata": {},
     "output_type": "execute_result"
    }
   ],
   "source": [
    "incorrect_tagged_cases"
   ]
  },
  {
   "cell_type": "markdown",
   "metadata": {},
   "source": [
    "<a id=\"3.2.4\"></a>\n",
    "#### 3.2.4 Computing Performcance againt the Test dataset."
   ]
  },
  {
   "cell_type": "code",
   "execution_count": 34,
   "metadata": {},
   "outputs": [],
   "source": [
    "## Testing\n",
    "\n",
    "test_sentences\n",
    "sentence_test = 'Twitter is the best networking social site. Man is a social animal. Data science is an emerging field. Data science jobs are high in demand.'\n",
    "words = word_tokenize(test_sentences)\n",
    "\n",
    "start = time.time()\n",
    "tagged_seq = Viterbi(words)\n",
    "end = time.time()\n",
    "difference = end-start"
   ]
  },
  {
   "cell_type": "code",
   "execution_count": 35,
   "metadata": {},
   "outputs": [
    {
     "name": "stdout",
     "output_type": "stream",
     "text": [
      "[('Android', 'CONJ'), ('is', 'VERB'), ('a', 'DET'), ('mobile', 'ADJ'), ('operating', 'NOUN'), ('system', 'NOUN'), ('developed', 'VERB'), ('by', 'ADP'), ('Google', 'CONJ'), ('.', '.'), ('Android', 'CONJ'), ('has', 'VERB'), ('been', 'VERB'), ('the', 'DET'), ('best-selling', 'ADJ'), ('OS', 'CONJ'), ('worldwide', 'CONJ'), ('on', 'ADP'), ('smartphones', 'CONJ'), ('since', 'ADP'), ('2011', 'CONJ'), ('and', 'CONJ'), ('on', 'ADP'), ('tablets', 'NOUN'), ('since', 'ADP'), ('2013', 'CONJ'), ('.', '.'), ('Google', 'CONJ'), ('and', 'CONJ'), ('Twitter', 'CONJ'), ('made', 'VERB'), ('a', 'DET'), ('deal', 'NOUN'), ('in', 'ADP'), ('2015', 'CONJ'), ('that', 'DET'), ('gave', 'VERB'), ('Google', 'CONJ'), ('access', 'NOUN'), ('to', 'PRT'), ('Twitter', 'CONJ'), (\"'s\", 'PRT'), ('firehose', 'CONJ'), ('.', '.'), ('Twitter', 'CONJ'), ('is', 'VERB'), ('an', 'DET'), ('online', 'CONJ'), ('news', 'NOUN'), ('and', 'CONJ'), ('social', 'ADJ'), ('networking', 'NOUN'), ('service', 'NOUN'), ('on', 'ADP'), ('which', 'DET'), ('users', 'NOUN'), ('post', 'NOUN'), ('and', 'CONJ'), ('interact', 'CONJ'), ('with', 'ADP'), ('messages', 'CONJ'), ('known', 'VERB'), ('as', 'ADP'), ('tweets', 'CONJ'), ('.', '.'), ('Before', 'ADP'), ('entering', 'VERB'), ('politics', 'NOUN'), (',', '.'), ('Donald', 'NOUN'), ('Trump', 'NOUN'), ('was', 'VERB'), ('a', 'DET'), ('domineering', 'CONJ'), ('businessman', 'NOUN'), ('and', 'CONJ'), ('a', 'DET'), ('television', 'NOUN'), ('personality', 'CONJ'), ('.', '.'), ('The', 'DET'), ('2018', 'CONJ'), ('FIFA', 'CONJ'), ('World', 'NOUN'), ('Cup', 'CONJ'), ('is', 'VERB'), ('the', 'DET'), ('21st', 'CONJ'), ('FIFA', 'CONJ'), ('World', 'NOUN'), ('Cup', 'CONJ'), (',', '.'), ('an', 'DET'), ('international', 'ADJ'), ('football', 'NOUN'), ('tournament', 'CONJ'), ('contested', 'CONJ'), ('once', 'ADV'), ('every', 'DET'), ('four', 'NUM'), ('years', 'NOUN'), ('.', '.'), ('This', 'DET'), ('is', 'VERB'), ('the', 'DET'), ('first', 'ADJ'), ('World', 'NOUN'), ('Cup', 'CONJ'), ('to', 'PRT'), ('be', 'VERB'), ('held', 'VERB'), ('in', 'ADP'), ('Eastern', 'NOUN'), ('Europe', 'NOUN'), ('and', 'CONJ'), ('the', 'DET'), ('11th', 'ADJ'), ('time', 'NOUN'), ('that', 'ADP'), ('it', 'PRON'), ('has', 'VERB'), ('been', 'VERB'), ('held', 'VERB'), ('in', 'ADP'), ('Europe', 'NOUN'), ('.', '.'), ('Show', 'NOUN'), ('me', 'PRON'), ('the', 'DET'), ('cheapest', 'ADJ'), ('round', 'NOUN'), ('trips', 'CONJ'), ('from', 'ADP'), ('Dallas', 'NOUN'), ('to', 'PRT'), ('Atlanta', 'NOUN'), ('I', 'PRON'), ('would', 'VERB'), ('like', 'ADP'), ('to', 'PRT'), ('see', 'VERB'), ('flights', 'NOUN'), ('from', 'ADP'), ('Denver', 'NOUN'), ('to', 'PRT'), ('Philadelphia', 'NOUN'), ('.', '.'), ('Show', 'NOUN'), ('me', 'PRON'), ('the', 'DET'), ('price', 'NOUN'), ('of', 'ADP'), ('the', 'DET'), ('flights', 'NOUN'), ('leaving', 'VERB'), ('Atlanta', 'NOUN'), ('at', 'ADP'), ('about', 'ADP'), ('3', 'NUM'), ('in', 'ADP'), ('the', 'DET'), ('afternoon', 'NOUN'), ('and', 'CONJ'), ('arriving', 'CONJ'), ('in', 'ADP'), ('San', 'NOUN'), ('Francisco', 'NOUN'), ('.', '.'), ('NASA', 'CONJ'), ('invited', 'CONJ'), ('social', 'ADJ'), ('media', 'NOUN'), ('users', 'NOUN'), ('to', 'PRT'), ('experience', 'NOUN'), ('the', 'DET'), ('launch', 'NOUN'), ('of', 'ADP'), ('ICESAT-2', 'CONJ'), ('Satellite', 'CONJ'), ('.', '.')]\n",
      "40.16758322715759\n"
     ]
    }
   ],
   "source": [
    "print(tagged_seq)\n",
    "print(difference)"
   ]
  },
  {
   "cell_type": "markdown",
   "metadata": {},
   "source": [
    "<a id=\"4\"></a>\n",
    "## 4. Solve the problem of unknown words"
   ]
  },
  {
   "cell_type": "markdown",
   "metadata": {},
   "source": [
    "In the above Section we noticed that the unknown words (words that were unavalible in the Corpus, were tagges incorrecttly by Vanila Viterbi algorithm. Although the accuraccy was 91%, we still have an area of improvement.\n",
    "<br>\n",
    "\n",
    "We shall now use two approaches to solve the problem of unknown words:\n",
    "* Modified Viterbi Algorithm \n",
    "* Rule-Based Tagger"
   ]
  },
  {
   "cell_type": "markdown",
   "metadata": {},
   "source": [
    "<a id=\"4.1\"></a>\n",
    "### 4.1 Modified Viterbi Algorithm - Approach 01"
   ]
  },
  {
   "cell_type": "markdown",
   "metadata": {},
   "source": [
    "In this approach, we will modify the Viterbi Algorithm in such a way that __if the unknown word is unavailable in the Corpus, it will not consider it's Emission Probability to compute the Tag.__"
   ]
  },
  {
   "cell_type": "markdown",
   "metadata": {},
   "source": [
    "<a id=\"4.1.1\"></a>\n",
    "#### 4.1.1 Defining Viterbi (Modified) Function"
   ]
  },
  {
   "cell_type": "code",
   "execution_count": 36,
   "metadata": {},
   "outputs": [],
   "source": [
    "# Viterbi Heuristic\n",
    "def ViterbiM(words, train_bag = train_tagged_words):\n",
    "    state = []\n",
    "    T = list(set([pair[1] for pair in train_bag]))\n",
    "    \n",
    "    for key, word in enumerate(words):\n",
    "        #initialise list of probability column for a given observation\n",
    "        p = [] \n",
    "        for tag in T:\n",
    "            if key == 0:\n",
    "                transition_p = tags_df.loc['.', tag]\n",
    "            else:\n",
    "                transition_p = tags_df.loc[state[-1], tag]\n",
    "                \n",
    "            # compute emission and state probabilities\n",
    "            emission_p = word_given_tag(words[key], tag)[0]/word_given_tag(words[key], tag)[1]\n",
    "            if word in vocab:\n",
    "                state_probability = emission_p * transition_p    \n",
    "                p.append(state_probability)\n",
    "            else:\n",
    "                state_probability = transition_p    \n",
    "                p.append(state_probability)\n",
    "            \n",
    "        pmax = max(p)\n",
    "        # getting state for which probability is maximum\n",
    "        state_max = T[p.index(pmax)] \n",
    "        state.append(state_max)\n",
    "    return list(zip(words, state))"
   ]
  },
  {
   "cell_type": "markdown",
   "metadata": {},
   "source": [
    "<a id=\"4.1.2\"></a>\n",
    "#### 4.1.2 Computing performnce on Validation Set"
   ]
  },
  {
   "cell_type": "code",
   "execution_count": 37,
   "metadata": {},
   "outputs": [],
   "source": [
    "test_run = test_set\n",
    "\n",
    "# list of tagged words\n",
    "test_run_base = [tup for sent in test_run for tup in sent]\n",
    "\n",
    "#test_run = test_set\n",
    "\n",
    "# list of tagged words\n",
    "test_run_base = [tup for sent in test_run for tup in sent]\n",
    "\n",
    "# list of untagged words\n",
    "test_tagged_words = [tup[0] for sent in test_run for tup in sent]"
   ]
  },
  {
   "cell_type": "code",
   "execution_count": 38,
   "metadata": {},
   "outputs": [],
   "source": [
    "# tagging the test sentences - Modified Viterbi\n",
    "start = time.time()\n",
    "tagged_seq = ViterbiM(test_tagged_words)\n",
    "end = time.time()\n",
    "difference = end-start"
   ]
  },
  {
   "cell_type": "code",
   "execution_count": 39,
   "metadata": {},
   "outputs": [
    {
     "name": "stdout",
     "output_type": "stream",
     "text": [
      "Time taken in seconds:  1012.6972675323486\n"
     ]
    }
   ],
   "source": [
    "print(\"Time taken in seconds: \", difference)\n",
    "#print(tagged_seq)\n",
    "#print(test_run_base)"
   ]
  },
  {
   "cell_type": "markdown",
   "metadata": {},
   "source": [
    "**Checking Accuracy aganst Validation Set**"
   ]
  },
  {
   "cell_type": "code",
   "execution_count": 40,
   "metadata": {},
   "outputs": [],
   "source": [
    "# accuracy\n",
    "check = [i for i, j in zip(tagged_seq, test_run_base) if i == j] \n",
    "accuracy = len(check)/len(tagged_seq)"
   ]
  },
  {
   "cell_type": "code",
   "execution_count": 41,
   "metadata": {},
   "outputs": [
    {
     "data": {
      "text/plain": [
       "0.9375127629160711"
      ]
     },
     "execution_count": 41,
     "metadata": {},
     "output_type": "execute_result"
    }
   ],
   "source": [
    "accuracy"
   ]
  },
  {
   "cell_type": "markdown",
   "metadata": {},
   "source": [
    ">**Note:** We see that Modified Viterbi Algorithm runs at an accuracy of **93.75%**"
   ]
  },
  {
   "cell_type": "markdown",
   "metadata": {},
   "source": [
    "<a id=\"4.1.3\"></a>\n",
    "#### 4.1.3  Analysing Incorrect Tags from Validation Set"
   ]
  },
  {
   "cell_type": "code",
   "execution_count": 42,
   "metadata": {},
   "outputs": [],
   "source": [
    "incorrect_tagged_cases = [[test_run_base[i-1],j] for i, j in enumerate(zip(tagged_seq, test_run_base)) if j[0]!=j[1]]"
   ]
  },
  {
   "cell_type": "code",
   "execution_count": 43,
   "metadata": {},
   "outputs": [
    {
     "data": {
      "text/plain": [
       "[[('and', 'CONJ'), (('lay', 'NOUN'), ('lay', 'VERB'))],\n",
       " [('its', 'PRON'), (('work', 'VERB'), ('work', 'NOUN'))],\n",
       " [('work', 'NOUN'), (('force', 'VERB'), ('force', 'NOUN'))],\n",
       " [(',', '.'), (('altogether', 'NOUN'), ('altogether', 'ADV'))],\n",
       " [('to', 'PRT'), (('less', 'ADJ'), ('less', 'ADV'))],\n",
       " [('no', 'DET'), (('more', 'ADJ'), ('more', 'ADV'))],\n",
       " [('more', 'ADV'), (('romanticized', 'NOUN'), ('romanticized', 'VERB'))],\n",
       " [('the', 'DET'), (('good-hearted', 'NOUN'), ('good-hearted', 'ADJ'))],\n",
       " [('$', '.'), (('2.15', 'NOUN'), ('2.15', 'NUM'))],\n",
       " [(',', '.'), (('acquisition-minded', 'NOUN'), ('acquisition-minded', 'ADJ'))],\n",
       " [('for', 'ADP'), (('Seattle-based', 'DET'), ('Seattle-based', 'ADJ'))],\n",
       " [('$', '.'), (('62.1', 'NOUN'), ('62.1', 'NUM'))],\n",
       " [('who', 'PRON'), (('*T*-250', 'VERB'), ('*T*-250', 'X'))],\n",
       " [('with', 'ADP'), (('Univest', 'DET'), ('Univest', 'NOUN'))],\n",
       " [('$', '.'), (('25.50', 'NOUN'), ('25.50', 'NUM'))],\n",
       " [('How', 'ADV'), ((\"'s\", 'PRT'), (\"'s\", 'VERB'))],\n",
       " [('Street', 'NOUN'), (('reacted', 'NOUN'), ('reacted', 'VERB'))],\n",
       " [('reacted', 'VERB'), (('favorably', 'NOUN'), ('favorably', 'ADV'))],\n",
       " [(\"'\", 'PRT'), (('assertions', 'VERB'), ('assertions', 'NOUN'))],\n",
       " [('information', 'NOUN'), (('relating', 'NOUN'), ('relating', 'VERB'))],\n",
       " [('with', 'ADP'), (('equity-purchase', 'DET'), ('equity-purchase', 'ADJ'))],\n",
       " [('other', 'ADJ'), (('cash-rich', 'NOUN'), ('cash-rich', 'ADJ'))],\n",
       " [(\"'s\", 'PRT'), (('lead', 'VERB'), ('lead', 'NOUN'))],\n",
       " [('purchases', 'NOUN'), (('show', 'NOUN'), ('show', 'VERB'))],\n",
       " [('U.S.', 'NOUN'), (('mortgage-based', 'NOUN'), ('mortgage-based', 'ADJ'))],\n",
       " [('Spanish', 'NOUN'),\n",
       "  (('Renaissance-style', 'NOUN'), ('Renaissance-style', 'ADJ'))],\n",
       " [('should', 'VERB'), (('veto', 'NOUN'), ('veto', 'VERB'))],\n",
       " [('appropriations', 'NOUN'), (('acts', 'VERB'), ('acts', 'NOUN'))],\n",
       " [('acts', 'NOUN'), (('that', 'ADP'), ('that', 'DET'))],\n",
       " [('a', 'DET'), (('net', 'ADJ'), ('net', 'NOUN'))],\n",
       " [('$', '.'), (('240,000', 'NOUN'), ('240,000', 'NUM'))],\n",
       " [('priority', 'NOUN'), (('watch', 'VERB'), ('watch', 'NOUN'))],\n",
       " [('of', 'ADP'), (('Nomura', 'DET'), ('Nomura', 'NOUN'))],\n",
       " [('rate', 'NOUN'), (('declines', 'NOUN'), ('declines', 'VERB'))],\n",
       " [('a', 'DET'), (('clearer', 'NOUN'), ('clearer', 'ADJ'))],\n",
       " [('thus', 'ADV'), (('more', 'ADJ'), ('more', 'ADV'))],\n",
       " [('more', 'ADV'), (('comfortably', 'NOUN'), ('comfortably', 'ADV'))],\n",
       " [('If', 'ADP'), (('spreads', 'DET'), ('spreads', 'NOUN'))],\n",
       " [('could', 'VERB'), (('profit', 'NOUN'), ('profit', 'VERB'))],\n",
       " [('By', 'ADP'), (('1997', 'DET'), ('1997', 'NUM'))],\n",
       " [('remaining', 'VERB'), (('uses', 'VERB'), ('uses', 'NOUN'))],\n",
       " [('of', 'ADP'), (('cancer-causing', 'DET'), ('cancer-causing', 'ADJ'))],\n",
       " [('be', 'VERB'), (('outlawed', 'X'), ('outlawed', 'VERB'))],\n",
       " [(':', '.'), (('kind', 'NOUN'), ('kind', 'ADJ'))],\n",
       " [('and', 'CONJ'), (('gentle', 'NOUN'), ('gentle', 'ADJ'))],\n",
       " [('its', 'PRON'), (('finance', 'VERB'), ('finance', 'NOUN'))],\n",
       " [('to', 'PRT'), (('report', 'NOUN'), ('report', 'VERB'))],\n",
       " [('third-quarter', 'NOUN'), (('net', 'NOUN'), ('net', 'ADJ'))],\n",
       " [(\"'s\", 'VERB'), (('that', 'ADP'), ('that', 'DET'))],\n",
       " [('of', 'ADP'), (('Mercer', 'DET'), ('Mercer', 'NOUN'))],\n",
       " [('--', '.'), (('271,124', 'NOUN'), ('271,124', 'NUM'))],\n",
       " [('the', 'DET'), (('400,000', 'NOUN'), ('400,000', 'NUM'))],\n",
       " [('who', 'PRON'), (('*T*-135', 'VERB'), ('*T*-135', 'X'))],\n",
       " [('and', 'CONJ'), (('that', 'DET'), ('that', 'ADP'))],\n",
       " [('about', 'ADP'), (('3,600', 'DET'), ('3,600', 'NUM'))],\n",
       " [('its', 'PRON'), (('vow', 'VERB'), ('vow', 'NOUN'))],\n",
       " [('has', 'VERB'), (('staunchly', 'X'), ('staunchly', 'ADV'))],\n",
       " [('opposed', 'VERB'), (('cost-sharing', 'ADJ'), ('cost-sharing', 'NOUN'))],\n",
       " [(',', '.'), (('English', 'NOUN'), ('English', 'ADJ'))],\n",
       " [('its', 'PRON'), (('satisfaction', 'VERB'), ('satisfaction', 'NOUN'))],\n",
       " [('in', 'ADP'), (('mathematical', 'DET'), ('mathematical', 'ADJ'))],\n",
       " [('raise', 'VERB'), (('about', 'ADP'), ('about', 'ADV'))],\n",
       " [('*-2', 'X'), (('mailing', 'NOUN'), ('mailing', 'VERB'))],\n",
       " [('has', 'VERB'), (('enjoyed', 'X'), ('enjoyed', 'VERB'))],\n",
       " [('enjoyed', 'VERB'), (('spectacular', 'VERB'), ('spectacular', 'ADJ'))],\n",
       " [('has', 'VERB'), (('smoothly', 'X'), ('smoothly', 'ADV'))],\n",
       " [('critics', 'NOUN'), (('profess', 'NOUN'), ('profess', 'VERB'))],\n",
       " [('$', '.'), (('467', 'NOUN'), ('467', 'NUM'))],\n",
       " [('fixed', 'VERB'), (('106', 'X'), ('106', 'NUM'))],\n",
       " [('yield', 'VERB'), (('3.42', 'X'), ('3.42', 'NUM'))],\n",
       " [('went', 'VERB'), (('down', 'ADV'), ('down', 'ADP'))],\n",
       " [('accused', 'VERB'), (('armed', 'X'), ('armed', 'VERB'))],\n",
       " [('armed', 'VERB'), (('Namibian', 'VERB'), ('Namibian', 'ADJ'))],\n",
       " [('Namibian', 'ADJ'), (('nationalist', 'X'), ('nationalist', 'ADJ'))],\n",
       " [('nationalist', 'ADJ'), (('guerrillas', 'VERB'), ('guerrillas', 'NOUN'))],\n",
       " [('in', 'ADP'), (('neighboring', 'DET'), ('neighboring', 'VERB'))],\n",
       " [('violating', 'VERB'),\n",
       "  (('U.N.-supervised', 'X'), ('U.N.-supervised', 'ADJ'))],\n",
       " [('U.N.-supervised', 'ADJ'), (('peace', 'VERB'), ('peace', 'NOUN'))],\n",
       " [('peace', 'NOUN'), (('plans', 'VERB'), ('plans', 'NOUN'))],\n",
       " [('make', 'VERB'), (('sweatshirts', 'X'), ('sweatshirts', 'NOUN'))],\n",
       " [('been', 'VERB'), (('disruptive', 'X'), ('disruptive', 'ADJ'))],\n",
       " [('contradict', 'VERB'), (('that', 'ADP'), ('that', 'DET'))],\n",
       " [('-LRB-', '.'), (('technically', 'NOUN'), ('technically', 'ADV'))],\n",
       " [('the', 'DET'), (('executive', 'ADJ'), ('executive', 'NOUN'))],\n",
       " [('was', 'VERB'), (('outraged', 'X'), ('outraged', 'ADJ'))],\n",
       " [('the', 'DET'), (('test-prep', 'NOUN'), ('test-prep', 'ADJ'))],\n",
       " [(\"n't\", 'ADV'), (('known', 'VERB'), ('known', 'ADJ'))],\n",
       " [('their', 'PRON'), (('reach', 'VERB'), ('reach', 'NOUN'))],\n",
       " [('*T*-2', 'X'), (('A.D.', 'VERB'), ('A.D.', 'NOUN'))],\n",
       " [(',', '.'), (('offering', 'NOUN'), ('offering', 'VERB'))],\n",
       " [('of', 'ADP'), (('150,000', 'DET'), ('150,000', 'NUM'))],\n",
       " [('$', '.'), (('225.6', 'NOUN'), ('225.6', 'NUM'))],\n",
       " [(',', '.'), (('more', 'ADV'), ('more', 'ADJ'))],\n",
       " [('that', 'ADP'), (('present', 'VERB'), ('present', 'ADJ'))],\n",
       " [('their', 'PRON'), (('views', 'VERB'), ('views', 'NOUN'))],\n",
       " [('and', 'CONJ'), (('potentially', 'NOUN'), ('potentially', 'ADV'))],\n",
       " [(':', '.'), (('Can', 'NOUN'), ('Can', 'VERB'))],\n",
       " [('like', 'ADP'), (('hard-charging', 'DET'), ('hard-charging', 'ADJ'))],\n",
       " [('insider', 'NOUN'), (('commercial', 'NOUN'), ('commercial', 'ADJ'))],\n",
       " [('a', 'DET'), (('gigantic', 'NOUN'), ('gigantic', 'ADJ'))],\n",
       " [('on', 'ADP'), (('66.5', 'DET'), ('66.5', 'NUM'))],\n",
       " [('year', 'NOUN'), (('earlier', 'ADV'), ('earlier', 'ADJ'))],\n",
       " [('an', 'DET'), (('unstinting', 'NOUN'), ('unstinting', 'ADJ'))],\n",
       " [('won', 'VERB'), (('laurels', 'X'), ('laurels', 'NOUN'))],\n",
       " [(\"'s\", 'PRT'), (('move', 'VERB'), ('move', 'NOUN'))],\n",
       " [('being', 'VERB'), (('flooded', 'X'), ('flooded', 'VERB'))],\n",
       " [('comedies', 'NOUN'), (('that', 'ADP'), ('that', 'DET'))],\n",
       " [('that', 'DET'), (('*T*-152', 'DET'), ('*T*-152', 'X'))],\n",
       " [('.', '.'), (('Annualized', 'NOUN'), ('Annualized', 'VERB'))],\n",
       " [('Annualized', 'VERB'), (('average', 'NOUN'), ('average', 'ADJ'))],\n",
       " [('the', 'DET'), (('future', 'ADJ'), ('future', 'NOUN'))],\n",
       " [(\"'s\", 'PRT'), (('500-Stock', 'VERB'), ('500-Stock', 'NOUN'))],\n",
       " [('added', 'VERB'), (('0.84', 'X'), ('0.84', 'NUM'))],\n",
       " [('to', 'PRT'), (('341.20', 'VERB'), ('341.20', 'NUM'))],\n",
       " [('was', 'VERB'), (('equivalent', 'NOUN'), ('equivalent', 'ADJ'))],\n",
       " [('or', 'CONJ'), (('fall', 'NOUN'), ('fall', 'VERB'))],\n",
       " [('of', 'ADP'), (('jitters', 'DET'), ('jitters', 'NOUN'))],\n",
       " [('Beauty', 'NOUN'), (('Takes', 'NOUN'), ('Takes', 'VERB'))],\n",
       " [('on', 'ADP'), (('Bridges', 'DET'), ('Bridges', 'NOUN'))],\n",
       " [('been', 'VERB'), (('as', 'ADP'), ('as', 'ADV'))],\n",
       " [('junk', 'NOUN'), (('financing', 'VERB'), ('financing', 'NOUN'))],\n",
       " [('an', 'DET'), (('off-off', 'NOUN'), ('off-off', 'ADJ'))],\n",
       " [('contests', 'NOUN'), (('scattered', 'NOUN'), ('scattered', 'VERB'))],\n",
       " [('the', 'DET'), (('good', 'ADJ'), ('good', 'NOUN'))],\n",
       " [(',', '.'), (('about', 'ADP'), ('about', 'ADV'))],\n",
       " [('a', 'DET'), (('mid-size', 'NOUN'), ('mid-size', 'ADJ'))],\n",
       " [('sizable', 'ADJ'), (('West', 'NOUN'), ('West', 'ADJ'))],\n",
       " [('West', 'ADJ'), (('German', 'NOUN'), ('German', 'ADJ'))],\n",
       " [('those', 'DET'), (('related', 'ADJ'), ('related', 'VERB'))],\n",
       " [('the', 'DET'), (('Cray-3', 'NOUN'), ('Cray-3', 'NUM'))],\n",
       " [('.', '.'), (('Muzzling', 'NOUN'), ('Muzzling', 'ADJ'))],\n",
       " [('a', 'DET'), (('confused', 'NOUN'), ('confused', 'ADJ'))],\n",
       " [('which', 'DET'), (('*T*-134', 'NOUN'), ('*T*-134', 'X'))],\n",
       " [('guild', 'NOUN'),\n",
       "  (('collective-bargaining', 'NOUN'), ('collective-bargaining', 'ADJ'))],\n",
       " [('``', '.'), (('evolved', 'NOUN'), ('evolved', 'VERB'))],\n",
       " [('evolved', 'VERB'), (('out', 'PRT'), ('out', 'ADP'))],\n",
       " [('with', 'ADP'), (('Si', 'DET'), ('Si', 'NOUN'))],\n",
       " [('of', 'ADP'), (('weird', 'DET'), ('weird', 'ADJ'))],\n",
       " [('of', 'ADP'), (('Women', 'DET'), ('Women', 'NOUN'))],\n",
       " [('by', 'ADP'), (('more', 'ADJ'), ('more', 'ADV'))],\n",
       " [('his', 'PRON'), (('destination', 'VERB'), ('destination', 'NOUN'))],\n",
       " [('be', 'VERB'), (('no', 'DET'), ('no', 'ADV'))],\n",
       " [('when', 'ADV'),\n",
       "  (('Minneapolis-based', 'VERB'), ('Minneapolis-based', 'ADJ'))],\n",
       " [('Research', 'NOUN'), (('first', 'ADJ'), ('first', 'ADV'))],\n",
       " [('A', 'DET'), (('total', 'ADJ'), ('total', 'NOUN'))],\n",
       " [('of', 'ADP'), (('139', 'DET'), ('139', 'NUM'))],\n",
       " [('from', 'ADP'), (('138', 'DET'), ('138', 'NUM'))],\n",
       " [('year', 'NOUN'), (('ago', 'ADP'), ('ago', 'ADV'))],\n",
       " [('The', 'DET'), (('multilevel', 'NOUN'), ('multilevel', 'ADJ'))],\n",
       " [('by', 'ADP'), (('Thrall', 'DET'), ('Thrall', 'NOUN'))],\n",
       " [('held', 'VERB'), (('Duchossois', 'X'), ('Duchossois', 'NOUN'))],\n",
       " [('what', 'PRON'), (('*T*-252', 'VERB'), ('*T*-252', 'X'))],\n",
       " [('ended', 'VERB'), (('up', 'ADV'), ('up', 'PRT'))],\n",
       " [('his', 'PRON'), (('name', 'VERB'), ('name', 'NOUN'))],\n",
       " [('would', 'VERB'), (('like', 'ADP'), ('like', 'VERB'))],\n",
       " [('the', 'DET'), (('American', 'ADJ'), ('American', 'NOUN'))],\n",
       " [('the', 'DET'), (('red', 'ADJ'), ('red', 'NOUN'))],\n",
       " [('.', '.'), (('Unfortunately', 'NOUN'), ('Unfortunately', 'ADV'))],\n",
       " [('York', 'NOUN'), (('trading', 'NOUN'), ('trading', 'VERB'))],\n",
       " [('statistics', 'NOUN'), (('imply', 'NOUN'), ('imply', 'VERB'))],\n",
       " [('that', 'ADP'), (('three-quarters', 'DET'), ('three-quarters', 'NOUN'))],\n",
       " [('could', 'VERB'), (('cost', 'NOUN'), ('cost', 'VERB'))],\n",
       " [('those', 'DET'), (('that', 'ADP'), ('that', 'DET'))],\n",
       " [('share', 'NOUN'), (('that', 'ADP'), ('that', 'DET'))],\n",
       " [('that', 'DET'), (('*T*-119', 'DET'), ('*T*-119', 'X'))],\n",
       " [('*T*-119', 'X'), (('expires', 'NOUN'), ('expires', 'VERB'))],\n",
       " [('expires', 'VERB'), (('next', 'ADP'), ('next', 'ADJ'))],\n",
       " [(\"'\", 'PRT'), (('honor', 'VERB'), ('honor', 'NOUN'))],\n",
       " [('speedway', 'NOUN'), (('hauled', 'NOUN'), ('hauled', 'VERB'))],\n",
       " [('the', 'DET'), (('official', 'NOUN'), ('official', 'ADJ'))],\n",
       " [('a', 'DET'), (('10-lap', 'NOUN'), ('10-lap', 'ADJ'))],\n",
       " [('of', 'ADP'), (('two-letter', 'DET'), ('two-letter', 'ADJ'))],\n",
       " [('two-letter', 'ADJ'), (('consonant', 'NOUN'), ('consonant', 'ADJ'))],\n",
       " [('consonant', 'ADJ'), (('sounds', 'VERB'), ('sounds', 'NOUN'))],\n",
       " [('same', 'ADJ'), (('sounds', 'VERB'), ('sounds', 'NOUN'))],\n",
       " [('--', '.'), (('to', 'PRT'), ('to', 'ADP'))],\n",
       " [('other', 'ADJ'), (('sounds', 'VERB'), ('sounds', 'NOUN'))],\n",
       " [('attorney', 'NOUN'), (('general', 'ADJ'), ('general', 'NOUN'))],\n",
       " [(\"'s\", 'PRT'), (('support', 'VERB'), ('support', 'NOUN'))],\n",
       " [('the', 'DET'), (('very', 'ADV'), ('very', 'ADJ'))],\n",
       " [('.', '.'), (('Common', 'NOUN'), ('Common', 'ADJ'))],\n",
       " [('.', '.'), (('Lead', 'NOUN'), ('Lead', 'ADJ'))],\n",
       " [('are', 'VERB'), (('Scotia', 'X'), ('Scotia', 'NOUN'))],\n",
       " [('Scotia', 'NOUN'), (('McLeod', 'VERB'), ('McLeod', 'NOUN'))],\n",
       " [('figures', 'NOUN'), (('contrast', 'NOUN'), ('contrast', 'VERB'))],\n",
       " [(\"'s\", 'PRT'), (('F.W.', 'VERB'), ('F.W.', 'NOUN'))],\n",
       " [('to', 'PRT'), (('double-C', 'VERB'), ('double-C', 'NOUN'))],\n",
       " [('from', 'ADP'), (('triple-C', 'DET'), ('triple-C', 'NOUN'))],\n",
       " [(',', '.'), (('amending', 'NOUN'), ('amending', 'VERB'))],\n",
       " [('its', 'PRON'), (('trademark', 'VERB'), ('trademark', 'NOUN'))],\n",
       " [('from', 'ADP'), (('unauthorized', 'DET'), ('unauthorized', 'ADJ'))],\n",
       " [('sparked', 'VERB'), (('buying', 'VERB'), ('buying', 'NOUN'))],\n",
       " [('certain', 'ADJ'),\n",
       "  (('incentive-backed', 'NOUN'), ('incentive-backed', 'ADJ'))],\n",
       " [('proved', 'VERB'), (('untrue', 'X'), ('untrue', 'ADJ'))],\n",
       " [('reruns', 'NOUN'), (('*T*-151', 'NOUN'), ('*T*-151', 'X'))],\n",
       " [('agency', 'NOUN'), (('that', 'ADP'), ('that', 'DET'))],\n",
       " [('*T*-1', 'X'), (('broadcasts', 'NOUN'), ('broadcasts', 'VERB'))],\n",
       " [('to', 'PRT'), (('limit', 'NOUN'), ('limit', 'VERB'))],\n",
       " [('have', 'VERB'), (('lately', 'X'), ('lately', 'ADV'))],\n",
       " [('it', 'PRON'), (('as', 'ADP'), ('as', 'ADV'))],\n",
       " [('to', 'PRT'), (('entrants', 'VERB'), ('entrants', 'NOUN'))],\n",
       " [('another', 'DET'), (('only', 'ADJ'), ('only', 'ADV'))],\n",
       " [('for', 'ADP'), (('cabs', 'DET'), ('cabs', 'NOUN'))],\n",
       " [('due', 'ADJ'), (('1995', 'NOUN'), ('1995', 'NUM'))],\n",
       " [('fell', 'VERB'), (('9\\\\/32', 'X'), ('9\\\\/32', 'NUM'))],\n",
       " [('to', 'PRT'), (('103', 'VERB'), ('103', 'NUM'))],\n",
       " [('yield', 'VERB'), (('11.10', 'X'), ('11.10', 'NUM'))],\n",
       " [('So', 'ADV'), (('crunch', 'VERB'), ('crunch', 'NOUN'))],\n",
       " [('from', 'ADP'), (('above', 'ADP'), ('above', 'ADV'))],\n",
       " [('very', 'ADV'), (('obvious', 'VERB'), ('obvious', 'ADJ'))],\n",
       " [('obvious', 'ADJ'), (('exit', 'X'), ('exit', 'NOUN'))],\n",
       " [('at', 'ADP'), (('prayer', 'DET'), ('prayer', 'NOUN'))],\n",
       " [('buy', 'VERB'), (('back', 'ADV'), ('back', 'PRT'))],\n",
       " [(',', '.'), (('notes', 'NOUN'), ('notes', 'VERB'))],\n",
       " [('analysts', 'NOUN'), (('warn', 'NOUN'), ('warn', 'VERB'))],\n",
       " [('.', '.'), (('Brisk', 'NOUN'), ('Brisk', 'ADJ'))],\n",
       " [('pushed', 'VERB'), (('up', 'ADV'), ('up', 'PRT'))],\n",
       " [('.', '.'), (('Above', 'NOUN'), ('Above', 'ADP'))],\n",
       " [('more', 'ADV'), (('leery', 'VERB'), ('leery', 'ADJ'))],\n",
       " [('were', 'VERB'), (('more', 'ADV'), ('more', 'ADJ'))],\n",
       " [('be', 'VERB'), (('better', 'ADV'), ('better', 'ADJ'))],\n",
       " [('*-1', 'X'), (('out', 'PRT'), ('out', 'ADP'))],\n",
       " [('.', '.'), (('First', 'NOUN'), ('First', 'ADJ'))],\n",
       " [('on', 'ADP'), (('either', 'DET'), ('either', 'CONJ'))],\n",
       " [('its', 'PRON'), (('fall', 'VERB'), ('fall', 'NOUN'))],\n",
       " [('five-point', 'ADJ'), (('opening', 'NOUN'), ('opening', 'VERB'))],\n",
       " [('$', '.'), (('47.5', 'NOUN'), ('47.5', 'NUM'))],\n",
       " [('to', 'PRT'), (('end', 'NOUN'), ('end', 'VERB'))],\n",
       " [('was', 'VERB'), (('abuzz', 'X'), ('abuzz', 'ADJ'))],\n",
       " [('$', '.'), (('490', 'NOUN'), ('490', 'NUM'))],\n",
       " [('the', 'DET'), (('buy-back', 'ADJ'), ('buy-back', 'NOUN'))],\n",
       " [('as', 'ADP'), (('cornerstones', 'DET'), ('cornerstones', 'NOUN'))],\n",
       " [('the', 'DET'), (('1980s', 'NOUN'), ('1980s', 'NUM'))],\n",
       " [('the', 'DET'), (('newer', 'NOUN'), ('newer', 'ADJ'))],\n",
       " [('which', 'DET'), (('*T*-237', 'NOUN'), ('*T*-237', 'X'))],\n",
       " [('Series', 'NOUN'), (('A', 'DET'), ('A', 'NOUN'))],\n",
       " [('convertible', 'ADJ'), (('preferred', 'ADJ'), ('preferred', 'VERB'))],\n",
       " [('The', 'DET'), (('newest', 'NOUN'), ('newest', 'ADJ'))],\n",
       " [('their', 'PRON'), (('backgrounds', 'VERB'), ('backgrounds', 'NOUN'))],\n",
       " [('the', 'DET'), (('complex', 'ADJ'), ('complex', 'NOUN'))],\n",
       " [('strategies', 'NOUN'), (('that', 'ADP'), ('that', 'DET'))],\n",
       " [('are', 'VERB'), (('popularly', 'X'), ('popularly', 'ADV'))],\n",
       " [('would', 'VERB'), (('junk', 'NOUN'), ('junk', 'VERB'))],\n",
       " [('an', 'DET'), (('innovative', 'NOUN'), ('innovative', 'ADJ'))],\n",
       " [('innovative', 'ADJ'), (('market-based', 'NOUN'), ('market-based', 'ADJ'))],\n",
       " [('*', 'X'), (('trading', 'NOUN'), ('trading', 'VERB'))],\n",
       " [('among', 'ADP'), (('polluters', 'DET'), ('polluters', 'NOUN'))],\n",
       " [('which', 'DET'), (('there', 'ADV'), ('there', 'DET'))],\n",
       " [('--', '.'), (('the', 'DET'), ('the', 'ADJ'))],\n",
       " [('--', '.'), (('the', 'DET'), ('the', 'ADJ'))],\n",
       " [('The', 'DET'), (('less', 'ADJ'), ('less', 'ADV'))],\n",
       " [('playing', 'VERB'), (('tunes', 'X'), ('tunes', 'NOUN'))],\n",
       " [('of', 'ADP'), (('continental', 'DET'), ('continental', 'ADJ'))],\n",
       " [('English', 'NOUN'), (('*-136', 'NOUN'), ('*-136', 'X'))],\n",
       " [('be', 'VERB'), (('childish', 'X'), ('childish', 'ADJ'))],\n",
       " [(',', '.'), (('fit', 'NOUN'), ('fit', 'ADJ'))],\n",
       " [('for', 'ADP'), (('foreigners', 'DET'), ('foreigners', 'NOUN'))],\n",
       " [('often', 'ADV'), (('supercilious', 'VERB'), ('supercilious', 'ADJ'))],\n",
       " [('even', 'ADV'), (('vicious', 'VERB'), ('vicious', 'ADJ'))],\n",
       " [('vicious', 'ADJ'), (('passages', 'X'), ('passages', 'NOUN'))],\n",
       " [('Sony', 'NOUN'), (('invades', 'NOUN'), ('invades', 'VERB'))],\n",
       " [('the', 'DET'), (('most', 'ADJ'), ('most', 'ADV'))],\n",
       " [('most', 'ADV'), (('mundane', 'NOUN'), ('mundane', 'ADJ'))],\n",
       " [(\"'\", 'PRT'), (('lives', 'VERB'), ('lives', 'NOUN'))],\n",
       " [('the', 'DET'), (('regimented', 'NOUN'), ('regimented', 'ADJ'))],\n",
       " [('are', 'VERB'), (('assigned', 'X'), ('assigned', 'VERB'))],\n",
       " [('*-59', 'X'), (('lunch', 'VERB'), ('lunch', 'NOUN'))],\n",
       " [('--', '.'), (('and', 'CONJ'), ('and', 'ADJ'))],\n",
       " [('the', 'DET'), (('austere', 'NOUN'), ('austere', 'ADJ'))],\n",
       " [('a', 'DET'), (('prying', 'NOUN'), ('prying', 'ADJ'))],\n",
       " [('the', 'DET'), (('Midwestern', 'ADJ'), ('Midwestern', 'NOUN'))],\n",
       " [('among', 'ADP'), (('American', 'ADJ'), ('American', 'NOUN'))],\n",
       " [('an', 'DET'), (('American', 'ADJ'), ('American', 'NOUN'))],\n",
       " [('.', '.'), (('Follow-up', 'NOUN'), ('Follow-up', 'ADJ'))],\n",
       " [('from', 'ADP'), (('soured', 'DET'), ('soured', 'ADJ'))],\n",
       " [('of', 'ADP'), (('frantic', 'DET'), ('frantic', 'ADJ'))],\n",
       " [('of', 'ADP'), (('revenue-desperate', 'DET'), ('revenue-desperate', 'ADJ'))],\n",
       " [('pretty', 'ADV'), (('cozy', 'VERB'), ('cozy', 'ADJ'))],\n",
       " [('in', 'ADP'), (('articles', 'DET'), ('articles', 'NOUN'))],\n",
       " [('and', 'CONJ'), (('offering', 'NOUN'), ('offering', 'VERB'))],\n",
       " [('of', 'ADP'), (('advertorial', 'DET'), ('advertorial', 'ADJ'))],\n",
       " [('in', 'ADP'), (('Ames', 'DET'), ('Ames', 'NOUN'))],\n",
       " [('of', 'ADP'), (('skilled', 'DET'), ('skilled', 'ADJ'))],\n",
       " [('Florio', 'NOUN'), (('aired', 'NOUN'), ('aired', 'VERB'))],\n",
       " [('.', '.'), (('Concurrent', 'NOUN'), ('Concurrent', 'ADJ'))],\n",
       " [('be', 'VERB'), (('real', 'ADJ'), ('real', 'ADV'))],\n",
       " [('could', 'VERB'), (('drop', 'NOUN'), ('drop', 'VERB'))],\n",
       " [('is', 'VERB'), (('slowed', 'X'), ('slowed', 'VERB'))],\n",
       " [('not', 'ADV'), (('expressly', 'VERB'), ('expressly', 'ADV'))],\n",
       " [('and', 'CONJ'), (('chief', 'NOUN'), ('chief', 'ADJ'))],\n",
       " [('chief', 'ADJ'), (('executive', 'NOUN'), ('executive', 'ADJ'))],\n",
       " [('$', '.'), (('130.7', 'NOUN'), ('130.7', 'NUM'))],\n",
       " [('for', 'ADP'), (('AC-130U', 'DET'), ('AC-130U', 'NOUN'))],\n",
       " [('of', 'ADP'), (('nonfat', 'DET'), ('nonfat', 'ADJ'))],\n",
       " [('will', 'VERB'), (('amend', 'X'), ('amend', 'VERB'))],\n",
       " [(',', '.'), (('trading', 'NOUN'), ('trading', 'VERB'))],\n",
       " [('for', 'ADP'), (('long', 'ADJ'), ('long', 'ADV'))],\n",
       " [('prices', 'NOUN'), (('that', 'ADP'), ('that', 'DET'))],\n",
       " [('on', 'ADP'), (('bread', 'DET'), ('bread', 'NOUN'))],\n",
       " [('.', '.'), (('Defending', 'NOUN'), ('Defending', 'VERB'))],\n",
       " [('their', 'PRON'), (('ramparts', 'VERB'), ('ramparts', 'NOUN'))],\n",
       " [(',', '.'), (('stock-picking', 'NOUN'), ('stock-picking', 'ADJ'))],\n",
       " [('the', 'DET'), (('clannish', 'NOUN'), ('clannish', 'ADJ'))],\n",
       " [('be', 'VERB'), (('twinned', 'X'), ('twinned', 'VERB'))],\n",
       " [('nearly', 'ADV'), (('complete', 'VERB'), ('complete', 'ADJ'))],\n",
       " [('miles', 'NOUN'), (('upstream', 'NOUN'), ('upstream', 'ADV'))]]"
      ]
     },
     "execution_count": 43,
     "metadata": {},
     "output_type": "execute_result"
    }
   ],
   "source": [
    "incorrect_tagged_cases"
   ]
  },
  {
   "cell_type": "markdown",
   "metadata": {},
   "source": [
    "<a id=\"4.1.4\"></a>\n",
    "#### 4.1.4 Computing Performance againt the Test dataset."
   ]
  },
  {
   "cell_type": "code",
   "execution_count": 44,
   "metadata": {},
   "outputs": [],
   "source": [
    "## Testing\n",
    "\n",
    "words = word_tokenize(test_sentences)\n",
    "start = time.time()\n",
    "tagged_seq = ViterbiM(words)\n",
    "end = time.time()\n",
    "difference = end-start"
   ]
  },
  {
   "cell_type": "code",
   "execution_count": 45,
   "metadata": {
    "scrolled": true
   },
   "outputs": [
    {
     "name": "stdout",
     "output_type": "stream",
     "text": [
      "[('Android', 'NOUN'), ('is', 'VERB'), ('a', 'DET'), ('mobile', 'ADJ'), ('operating', 'NOUN'), ('system', 'NOUN'), ('developed', 'VERB'), ('by', 'ADP'), ('Google', 'DET'), ('.', '.'), ('Android', 'NOUN'), ('has', 'VERB'), ('been', 'VERB'), ('the', 'DET'), ('best-selling', 'ADJ'), ('OS', 'NOUN'), ('worldwide', 'NOUN'), ('on', 'ADP'), ('smartphones', 'DET'), ('since', 'ADP'), ('2011', 'DET'), ('and', 'CONJ'), ('on', 'ADP'), ('tablets', 'NOUN'), ('since', 'ADP'), ('2013', 'DET'), ('.', '.'), ('Google', 'NOUN'), ('and', 'CONJ'), ('Twitter', 'NOUN'), ('made', 'VERB'), ('a', 'DET'), ('deal', 'NOUN'), ('in', 'ADP'), ('2015', 'DET'), ('that', 'ADP'), ('gave', 'VERB'), ('Google', 'X'), ('access', 'NOUN'), ('to', 'PRT'), ('Twitter', 'VERB'), (\"'s\", 'PRT'), ('firehose', 'VERB'), ('.', '.'), ('Twitter', 'NOUN'), ('is', 'VERB'), ('an', 'DET'), ('online', 'NOUN'), ('news', 'NOUN'), ('and', 'CONJ'), ('social', 'ADJ'), ('networking', 'NOUN'), ('service', 'NOUN'), ('on', 'ADP'), ('which', 'DET'), ('users', 'NOUN'), ('post', 'NOUN'), ('and', 'CONJ'), ('interact', 'NOUN'), ('with', 'ADP'), ('messages', 'DET'), ('known', 'VERB'), ('as', 'ADP'), ('tweets', 'DET'), ('.', '.'), ('Before', 'ADP'), ('entering', 'VERB'), ('politics', 'NOUN'), (',', '.'), ('Donald', 'NOUN'), ('Trump', 'NOUN'), ('was', 'VERB'), ('a', 'DET'), ('domineering', 'NOUN'), ('businessman', 'NOUN'), ('and', 'CONJ'), ('a', 'DET'), ('television', 'NOUN'), ('personality', 'NOUN'), ('.', '.'), ('The', 'DET'), ('2018', 'NOUN'), ('FIFA', 'NOUN'), ('World', 'NOUN'), ('Cup', 'NOUN'), ('is', 'VERB'), ('the', 'DET'), ('21st', 'NOUN'), ('FIFA', 'NOUN'), ('World', 'NOUN'), ('Cup', 'NOUN'), (',', '.'), ('an', 'DET'), ('international', 'ADJ'), ('football', 'NOUN'), ('tournament', 'NOUN'), ('contested', 'NOUN'), ('once', 'ADV'), ('every', 'DET'), ('four', 'NUM'), ('years', 'NOUN'), ('.', '.'), ('This', 'DET'), ('is', 'VERB'), ('the', 'DET'), ('first', 'ADJ'), ('World', 'NOUN'), ('Cup', 'NOUN'), ('to', 'PRT'), ('be', 'VERB'), ('held', 'VERB'), ('in', 'ADP'), ('Eastern', 'NOUN'), ('Europe', 'NOUN'), ('and', 'CONJ'), ('the', 'DET'), ('11th', 'ADJ'), ('time', 'NOUN'), ('that', 'ADP'), ('it', 'PRON'), ('has', 'VERB'), ('been', 'VERB'), ('held', 'VERB'), ('in', 'ADP'), ('Europe', 'NOUN'), ('.', '.'), ('Show', 'NOUN'), ('me', 'PRON'), ('the', 'DET'), ('cheapest', 'ADJ'), ('round', 'NOUN'), ('trips', 'NOUN'), ('from', 'ADP'), ('Dallas', 'NOUN'), ('to', 'PRT'), ('Atlanta', 'NOUN'), ('I', 'PRON'), ('would', 'VERB'), ('like', 'ADP'), ('to', 'PRT'), ('see', 'VERB'), ('flights', 'NOUN'), ('from', 'ADP'), ('Denver', 'NOUN'), ('to', 'PRT'), ('Philadelphia', 'NOUN'), ('.', '.'), ('Show', 'NOUN'), ('me', 'PRON'), ('the', 'DET'), ('price', 'NOUN'), ('of', 'ADP'), ('the', 'DET'), ('flights', 'NOUN'), ('leaving', 'VERB'), ('Atlanta', 'NOUN'), ('at', 'ADP'), ('about', 'ADP'), ('3', 'NUM'), ('in', 'ADP'), ('the', 'DET'), ('afternoon', 'NOUN'), ('and', 'CONJ'), ('arriving', 'NOUN'), ('in', 'ADP'), ('San', 'NOUN'), ('Francisco', 'NOUN'), ('.', '.'), ('NASA', 'NOUN'), ('invited', 'NOUN'), ('social', 'ADJ'), ('media', 'NOUN'), ('users', 'NOUN'), ('to', 'PRT'), ('experience', 'NOUN'), ('the', 'DET'), ('launch', 'NOUN'), ('of', 'ADP'), ('ICESAT-2', 'DET'), ('Satellite', 'NOUN'), ('.', '.')]\n",
      "37.14569664001465\n"
     ]
    }
   ],
   "source": [
    "print(tagged_seq)\n",
    "print(difference)"
   ]
  },
  {
   "cell_type": "markdown",
   "metadata": {},
   "source": [
    "<a id=\"4.1.5\"></a>\n",
    "#### 4.1.5 Compare the tagging accuracies of the modifications with the vanilla Viterbi algorithm"
   ]
  },
  {
   "cell_type": "markdown",
   "metadata": {},
   "source": [
    "We saw that the modified Viterbi Algoritm runs at an Accuracy of **94.3%**  whereas the Vanilla version ran at **90.23**.\n",
    "Thus, there is an **imporvement of approx 3.5%  accuracy** with the above modifications."
   ]
  },
  {
   "cell_type": "markdown",
   "metadata": {},
   "source": [
    "<a id=\"4.1.6\"></a>\n",
    "#### 4.1.6 List down cases which were incorrectly tagged by original POS tagger and got corrected by your modifications"
   ]
  },
  {
   "cell_type": "markdown",
   "metadata": {},
   "source": [
    "Few Tag's that were incorrecly identified (in the test Set) are:\n",
    "\n",
    "* ('Android', 'X')\n",
    "* ('Google', 'X')\n",
    "* ('Twitter', 'X')\n",
    "* ('FIFA', 'X')\n",
    "* ('Cup', 'X')"
   ]
  },
  {
   "cell_type": "markdown",
   "metadata": {},
   "source": [
    "These Tags were correctly identified as:\n",
    "\n",
    "* ('Android', 'NOUN')\n",
    "* ('Google', 'NOUN')\n",
    "* ('Twitter', 'NOUN')\n",
    "* ('FIFA', 'NOUN')\n",
    "* ('Cup', 'NOUN')"
   ]
  },
  {
   "cell_type": "markdown",
   "metadata": {},
   "source": [
    "<a id=\"4.2\"></a>\n",
    "### 4.2 Rule Based Tagger - Approach 02"
   ]
  },
  {
   "cell_type": "markdown",
   "metadata": {},
   "source": [
    "In this Section, we will use a set of Regular Expressions to tag the unknown words. We will then compute the accuracy based on rules."
   ]
  },
  {
   "cell_type": "markdown",
   "metadata": {},
   "source": [
    "<a id=\"4.2.1\"></a>\n",
    "#### 4.2.1 Create Rules for Regular Expresions"
   ]
  },
  {
   "cell_type": "markdown",
   "metadata": {},
   "source": [
    "Here, we will define the rules, on how the word will be trated.\n",
    "This will be used to deal with the unknown words."
   ]
  },
  {
   "cell_type": "code",
   "execution_count": 46,
   "metadata": {},
   "outputs": [],
   "source": [
    "# specify patterns for tagging\n",
    "patterns = [\n",
    "    (r'.*ing$', 'VERB'),              # gerund\n",
    "    (r'.*ed$', 'VERB'),               # past tense\n",
    "    (r'.*es$', 'VERB'),               # 3rd singular present\n",
    "    (r'.*ould$', 'VERB'),              # modals\n",
    "    (r'.*\\'s$', 'NOUN'),              # possessive nouns\n",
    "    (r'.*s$', 'NOUN'),                # plural nouns\n",
    "    (r'^-?[0-9]+(.[0-9]+)?$', 'NUM'), # cardinal numbers\n",
    "    (r'.*ful$', 'ADJ'),               # Words ending with ful (Successful) as ADJ\n",
    "   # ('^\\*.*\\*$', 'X'),\n",
    "    ('.*[0-9].*','X'),\n",
    "    (r'.*', 'NOUN') , \n",
    "]"
   ]
  },
  {
   "cell_type": "code",
   "execution_count": 47,
   "metadata": {},
   "outputs": [],
   "source": [
    "# rule based tagger\n",
    "rule_based_tagger = nltk.RegexpTagger(patterns)"
   ]
  },
  {
   "cell_type": "markdown",
   "metadata": {},
   "source": [
    "<a id=\"4.2.2\"></a>\n",
    "#### 4.2.2 Defining Viterbi (Modified) Function"
   ]
  },
  {
   "cell_type": "markdown",
   "metadata": {},
   "source": [
    "This function will process the words only if they are contained inside the Training dataset and will skip otherwise."
   ]
  },
  {
   "cell_type": "code",
   "execution_count": 48,
   "metadata": {},
   "outputs": [],
   "source": [
    "# Viterbi Heuristic\n",
    "def ViterbiM2(words, train_bag = train_tagged_words):\n",
    "    state = []\n",
    "    T = list(set([pair[1] for pair in train_bag]))\n",
    "    \n",
    "    for key, word in enumerate(words):\n",
    "        #initialise list of probability column for a given observation\n",
    "        p = [] \n",
    "        if word in vocab:\n",
    "                #viterbi\n",
    "                for tag in T:\n",
    "                    if key == 0:\n",
    "                        transition_p = tags_df.loc['.', tag]\n",
    "                    else:\n",
    "                        transition_p = tags_df.loc[state[-1], tag]\n",
    "                \n",
    "                    # compute emission and state probabilities\n",
    "                    emission_p = word_given_tag(words[key], tag)[0]/word_given_tag(words[key], tag)[1]\n",
    "                    state_probability = emission_p * transition_p    \n",
    "                    p.append(state_probability)\n",
    "            \n",
    "                pmax = max(p)\n",
    "                # getting state for which probability is maximum\n",
    "                state_max = T[p.index(pmax)] \n",
    "                state.append(state_max)\n",
    "        else:\n",
    "            pass\n",
    "            \n",
    "    return list(zip(words, state))"
   ]
  },
  {
   "cell_type": "markdown",
   "metadata": {},
   "source": [
    "Now, Let's create functions which will divide the dataset on basis of known and unknown words."
   ]
  },
  {
   "cell_type": "code",
   "execution_count": 49,
   "metadata": {},
   "outputs": [],
   "source": [
    "# Defining a list of known and unknown words.\n",
    "def KnownWords(words, train_bag = train_tagged_words):\n",
    "    state = []\n",
    "    T = list(set([pair[1] for pair in train_bag]))\n",
    "    for key, word in enumerate(words):\n",
    "        #initialise list of probability column for a given observation\n",
    "        if word in vocab:\n",
    "                state.append(word)\n",
    "        else:\n",
    "               pass\n",
    "    return state"
   ]
  },
  {
   "cell_type": "code",
   "execution_count": 50,
   "metadata": {},
   "outputs": [],
   "source": [
    "def UnKnownWords(words, train_bag = train_tagged_words):\n",
    "    state = []\n",
    "    T = list(set([pair[1] for pair in train_bag]))\n",
    "    for key, word in enumerate(words):\n",
    "        #initialise list of probability column for a given observation\n",
    "        if word in vocab:\n",
    "                pass\n",
    "        else:\n",
    "               state.append(word)\n",
    "    return state"
   ]
  },
  {
   "cell_type": "markdown",
   "metadata": {},
   "source": [
    "<a id=\"4.2.3\"></a>\n",
    "#### 4.2.3 Computing performnce on Validation Set"
   ]
  },
  {
   "cell_type": "code",
   "execution_count": 51,
   "metadata": {},
   "outputs": [],
   "source": [
    "test_run = test_set\n",
    "\n",
    "\n",
    "# list of tagged words\n",
    "test_run_base = [tup for sent in test_run for tup in sent]\n",
    "\n",
    "# list of untagged words\n",
    "test_tagged_words = [tup[0] for sent in test_run for tup in sent]"
   ]
  },
  {
   "cell_type": "markdown",
   "metadata": {},
   "source": [
    ">**Note:** Instead of evaluating sentence wise, we will evaluate word wise and see how many words were tagged properly. Hence, we will flatten out the test_run"
   ]
  },
  {
   "cell_type": "code",
   "execution_count": 52,
   "metadata": {},
   "outputs": [],
   "source": [
    "flat_list = []\n",
    "for sublist in test_run:\n",
    "    for item in sublist:\n",
    "        flat_list.append(item)\n",
    "test_tuples = sorted(flat_list)"
   ]
  },
  {
   "cell_type": "code",
   "execution_count": 53,
   "metadata": {},
   "outputs": [],
   "source": [
    "# Tagging both Known and Unknown words\n",
    "start = time.time()\n",
    "#This will tag all the Unknown words - words not in the original Training set, based on the Rules defined above.\n",
    "rule_seq = rule_based_tagger.tag(UnKnownWords(test_tagged_words))\n",
    "#This will use  Modified Viterbi algorithm to tag remaining words\n",
    "viterbi_seq = ViterbiM2(KnownWords(test_tagged_words))\n",
    "final_seq = viterbi_seq + rule_seq \n",
    "end = time.time()\n",
    "difference = end-start"
   ]
  },
  {
   "cell_type": "code",
   "execution_count": 54,
   "metadata": {},
   "outputs": [
    {
     "name": "stdout",
     "output_type": "stream",
     "text": [
      "Time taken in seconds:  942.3325200080872\n",
      "Viterbi Sequence Tags:\n",
      "[('Champagne', 'NOUN'), ('and', 'CONJ'), ('followed', 'VERB'), ('.', '.'), ('The', 'DET'), ('company', 'NOUN'), ('recently', 'ADV'), ('said', 'VERB'), ('0', 'X'), ('it', 'PRON'), ('would', 'VERB'), ('sell', 'VERB'), ('some', 'DET'), ('operations', 'NOUN'), ('and', 'CONJ'), ('off', 'ADV'), ('4', 'NUM'), ('%', 'NOUN'), ('of', 'ADP'), ('its', 'PRON'), ('work', 'VERB'), ('force', 'VERB'), (',', '.'), ('*-1', 'X'), ('reducing', 'VERB'), ('employment', 'NOUN'), ('to', 'PRT'), ('less', 'ADJ'), ('than', 'ADP'), ('16,000', 'NUM'), ('from', 'ADP'), ('about', 'ADP'), ('18,000', 'NUM'), ('.', '.'), ('Much', 'ADV'), ('of', 'ADP'), ('Mr.', 'NOUN'), ('Lane', 'NOUN'), (\"'s\", 'PRT'), ('film', 'NOUN'), ('takes', 'VERB'), ('a', 'DET'), ('highly', 'ADV'), ('view', 'VERB'), ('of', 'ADP'), ('life', 'NOUN'), ('on', 'ADP'), ('the', 'DET'), ('streets', 'NOUN'), ('-LRB-', '.'), ('though', 'ADP'), ('probably', 'ADV'), ('no', 'DET'), ('more', 'ADJ'), ('than', 'ADP'), ('Mr.', 'NOUN'), ('Chaplin', 'NOUN'), (\"'s\", 'PRT'), ('notion', 'NOUN'), ('of', 'ADP'), ('the', 'DET'), ('Tramp', 'NOUN'), ('as', 'ADP'), ('the', 'DET'), ('free', 'ADJ'), ('spirit', 'NOUN'), ('-RRB-', '.'), ('.', '.'), ('In', 'ADP'), ('parts', 'NOUN'), ('of', 'ADP'), ('Iowa', 'NOUN'), (',', '.'), ('for', 'ADP'), ('example', 'NOUN'), (',', '.'), ('some', 'DET'), ('grain', 'NOUN'), ('elevators', 'NOUN'), ('are', 'VERB'), ('offering', 'VERB'), ('farmers', 'NOUN'), ('$', '.'), ('*U*', 'X'), ('a', 'DET'), ('bushel', 'NOUN'), ('for', 'ADP'), ('corn', 'NOUN'), ('.', '.'), ('``', '.'), ('The', 'DET'), ('events', 'NOUN'), ('of', 'ADP'), ('April', 'NOUN'), ('through', 'ADP'), ('June', 'NOUN'), ('damaged', 'VERB'), ('the', 'DET'), ('respect', 'NOUN'), ('and', 'CONJ'), ('confidence', 'NOUN'), ('which', 'DET'), ('most', 'ADJ'), ('Americans', 'NOUN'), ('previously', 'ADV'), ('had', 'VERB'), ('*T*-1', 'X'), ('for', 'ADP'), ('the', 'DET'), ('leaders', 'NOUN'), ('of', 'ADP'), ('China', 'NOUN'), ('.', '.'), (\"''\", '.'), ('Ratners', 'NOUN'), ('Group', 'NOUN'), ('PLC', 'NOUN'), (',', '.'), ('a', 'DET'), ('fast-growing', 'ADJ'), (',', '.'), ('London-based', 'ADJ'), (',', '.'), ('raised', 'VERB'), ('its', 'PRON'), ('price', 'NOUN'), ('for', 'ADP'), ('specialty', 'NOUN'), ('Weisfield', 'NOUN'), (\"'s\", 'PRT'), ('Inc.', 'NOUN'), ('to', 'PRT'), ('$', '.'), ('57.50', 'NUM'), ('*U*', 'X'), ('a', 'DET'), ('share', 'NOUN'), (',', '.'), ('or', 'CONJ'), ('$', '.'), ('million', 'NUM'), ('*U*', 'X'), (',', '.'), ('from', 'ADP'), ('$', '.'), ('50', 'NUM'), ('*U*', 'X'), ('a', 'DET'), ('share', 'NOUN'), (',', '.'), ('or', 'CONJ'), ('$', '.'), ('55', 'NUM'), ('million', 'NUM'), ('*U*', 'X'), (',', '.'), ('after', 'ADP'), ('another', 'DET'), ('concern', 'NOUN'), ('said', 'VERB'), ('0', 'X'), ('it', 'PRON'), ('would', 'VERB'), ('be', 'VERB'), ('prepared', 'VERB'), ('*-1', 'X'), ('to', 'PRT'), ('Ratners', 'NOUN'), (\"'s\", 'PRT'), ('initial', 'ADJ'), ('offer', 'NOUN'), ('.', '.'), ('Mr.', 'NOUN'), ('Rosenblum', 'NOUN'), (',', '.'), ('who', 'PRON'), ('apparently', 'ADV'), ('has', 'VERB'), ('an', 'DET'), ('unpublished', 'ADJ'), ('phone', 'NOUN'), ('number', 'NOUN'), (',', '.'), ('also', 'ADV'), ('could', 'VERB'), (\"n't\", 'ADV'), ('be', 'VERB'), ('reached', 'VERB'), ('.', '.'), ('A', 'DET'), ('steady', 'ADJ'), ('deposit', 'NOUN'), ('base', 'NOUN'), ('.', '.'), ('The', 'DET'), ('Pennsylvania', 'NOUN'), ('bank', 'NOUN'), ('agreed', 'VERB'), ('*-1', 'X'), ('to', 'PRT'), ('be', 'VERB'), ('acquired', 'VERB'), ('*-2', 'X'), ('in', 'ADP'), ('a', 'DET'), ('merger', 'NOUN'), ('with', 'ADP'), ('Corp.', 'NOUN'), ('of', 'ADP'), ('Pennsylvania', 'NOUN'), ('for', 'ADP'), ('$', '.'), ('*U*', 'X'), ('a', 'DET'), ('share', 'NOUN'), ('.', '.'), ('How', 'ADV'), (\"'s\", 'PRT'), ('that', 'DET'), ('*T*-1', 'X'), ('again', 'ADV'), ('?', '.'), ('He', 'PRON'), ('said', 'VERB'), ('0', 'X'), ('Equitable', 'NOUN'), ('hopes', 'VERB'), ('*-1', 'X'), ('to', 'PRT'), ('eventually', 'ADV'), ('reduce', 'VERB'), ('its', 'PRON'), ('stake', 'NOUN'), ('in', 'ADP'), ('Younkers', 'NOUN'), ('to', 'PRT'), ('less', 'ADJ'), ('than', 'ADP'), ('50', 'NUM'), ('%', 'NOUN'), ('.', '.'), ('``', '.'), ('I', 'PRON'), (\"'d\", 'VERB'), ('much', 'ADV'), ('rather', 'ADV'), ('see', 'VERB'), ('them', 'PRON'), ('with', 'ADP'), ('interest', 'NOUN'), ('rates', 'NOUN'), ('and', 'CONJ'), ('the', 'DET'), ('deficit', 'NOUN'), ('.', '.'), (\"''\", '.'), ('Columbia', 'NOUN'), ('wo', 'VERB'), (\"n't\", 'ADV'), ('comment', 'VERB'), ('on', 'ADP'), ('all', 'DET'), ('the', 'DET'), ('speculation', 'NOUN'), ('.', '.'), ('Younkers', 'NOUN'), ('management', 'NOUN'), ('is', 'VERB'), ('likely', 'ADJ'), ('*-1', 'X'), ('to', 'PRT'), ('buy', 'VERB'), ('a', 'DET'), ('10', 'NUM'), ('%', 'NOUN'), ('to', 'PRT'), ('20', 'NUM'), ('%', 'NOUN'), ('*U*', 'X'), ('interest', 'NOUN'), ('in', 'ADP'), ('the', 'DET'), ('chain', 'NOUN'), ('in', 'ADP'), ('January', 'NOUN'), (',', '.'), ('said', 'VERB'), ('0', 'X'), ('*T*-2', 'X'), ('Fred', 'NOUN'), ('S.', 'NOUN'), (',', '.'), ('Equitable', 'NOUN'), (\"'s\", 'PRT'), ('president', 'NOUN'), ('and', 'CONJ'), ('chief', 'NOUN'), ('executive', 'NOUN'), ('officer', 'NOUN'), ('.', '.'), ('Wall', 'NOUN'), ('Street', 'NOUN'), ('to', 'PRT'), ('Mr.', 'NOUN'), ('McGovern', 'NOUN'), (\"'s\", 'PRT'), ('departure', 'NOUN'), ('and', 'CONJ'), ('its', 'PRON'), ('implications', 'NOUN'), ('.', '.'), ('In', 'ADP'), ('a', 'DET'), ('number', 'NOUN'), ('of', 'ADP'), ('recent', 'ADJ'), ('cases', 'NOUN'), (',', '.'), ('federal', 'ADJ'), ('courts', 'NOUN'), ('have', 'VERB'), ('refused', 'VERB'), ('*-1', 'X'), ('to', 'PRT'), ('recognize', 'VERB'), ('attorneys', 'NOUN'), (\"'\", 'PRT'), ('that', 'DET'), ('information', 'NOUN'), ('to', 'PRT'), ('fees', 'NOUN'), ('from', 'ADP'), ('clients', 'NOUN'), ('should', 'VERB'), ('be', 'VERB'), ('confidential', 'ADJ'), ('.', '.'), ('$', '.'), ('100', 'NUM'), ('million', 'NUM'), ('*U*', 'X'), ('of', 'ADP'), ('Eurobonds', 'NOUN'), ('due', 'ADJ'), ('Nov.', 'NOUN'), ('16', 'NUM'), (',', '.'), ('1993', 'NUM'), (',', '.'), ('with', 'ADP'), ('warrants', 'NOUN'), (',', '.'), ('indicating', 'VERB'), ('a', 'DET'), ('3', 'NUM'), ('7\\\\/8', 'NUM'), ('%', 'NOUN'), ('coupon', 'NOUN'), ('at', 'ADP'), ('par', 'NOUN'), (',', '.'), ('via', 'ADP'), ('Daiwa', 'NOUN'), ('Europe', 'NOUN'), ('Ltd', 'NOUN'), ('.', '.'), ('Asia', 'NOUN'), (\"'s\", 'PRT'), ('other', 'ADJ'), ('countries', 'NOUN'), ('are', 'VERB'), ('following', 'VERB'), ('Japan', 'NOUN'), (\"'s\", 'PRT'), ('lead', 'VERB'), ('and', 'CONJ'), ('pumping', 'VERB'), ('capital', 'NOUN'), ('into', 'ADP'), ('the', 'DET'), ('region', 'NOUN'), ('.', '.'), ('Last', 'ADJ'), ('year', 'NOUN'), (',', '.'), ('it', 'PRON'), ('had', 'VERB'), ('*-1', 'X'), ('to', 'PRT'), ('buy', 'VERB'), ('sugar', 'NOUN'), ('on', 'ADP'), ('the', 'DET'), ('world', 'NOUN'), ('market', 'NOUN'), ('*-2', 'X'), ('to', 'PRT'), ('meet', 'VERB'), ('export', 'NOUN'), ('commitments', 'NOUN'), (',', '.'), ('they', 'PRON'), ('noted', 'VERB'), ('0', 'X'), ('*T*-3', 'X'), ('.', '.'), ('But', 'CONJ'), ('many', 'ADJ'), ('banks', 'NOUN'), ('are', 'VERB'), ('turning', 'VERB'), ('away', 'ADV'), ('from', 'ADP'), ('strict', 'ADJ'), ('price', 'NOUN'), ('competition', 'NOUN'), ('.', '.'), ('The', 'DET'), ('purchases', 'NOUN'), ('show', 'NOUN'), ('the', 'DET'), ('strong', 'ADJ'), ('interest', 'NOUN'), ('of', 'ADP'), ('Japanese', 'ADJ'), ('investors', 'NOUN'), ('in', 'ADP'), ('U.S.', 'NOUN'), ('instruments', 'NOUN'), (',', '.'), ('Fannie', 'NOUN'), ('Mae', 'NOUN'), (\"'s\", 'PRT'), ('chairman', 'NOUN'), (',', '.'), ('David', 'NOUN'), ('Maxwell', 'NOUN'), (',', '.'), ('said', 'VERB'), ('0', 'X'), ('*T*-1', 'X'), ('at', 'ADP'), ('a', 'DET'), ('news', 'NOUN'), ('conference', 'NOUN'), ('.', '.'), ('William', 'NOUN'), ('Randolph', 'NOUN'), ('Hearst', 'NOUN'), ('had', 'VERB'), ('kept', 'VERB'), ('an', 'DET'), ('apartment', 'NOUN'), ('in', 'ADP'), ('the', 'DET'), ('building', 'NOUN'), ('.', '.'), (\"Dunkin'\", 'NOUN'), ('has', 'VERB'), ('set', 'VERB'), ('Nov.', 'NOUN'), ('10', 'NUM'), ('as', 'ADP'), ('the', 'DET'), ('deadline', 'NOUN'), ('for', 'ADP'), ('the', 'DET'), ('of', 'ADP'), ('any', 'DET'), ('competing', 'VERB'), ('bids', 'NOUN'), ('.', '.'), ('President', 'NOUN'), ('Bush', 'NOUN'), ('should', 'VERB'), ('veto', 'NOUN'), ('appropriations', 'NOUN'), ('acts', 'VERB'), ('that', 'ADP'), ('*T*-1', 'X'), ('contain', 'VERB'), ('these', 'DET'), ('kinds', 'NOUN'), ('of', 'ADP'), ('unconstitutional', 'ADJ'), ('conditions', 'NOUN'), ('on', 'ADP'), ('the', 'DET'), ('president', 'NOUN'), (\"'s\", 'PRT'), ('ability', 'NOUN'), ('*', 'X'), ('to', 'PRT'), ('his', 'PRON'), ('duties', 'NOUN'), ('and', 'CONJ'), ('exercise', 'VERB'), ('his', 'PRON'), ('prerogatives', 'NOUN'), ('.', '.'), ('``', '.'), ('The', 'DET'), ('sound', 'NOUN'), ('of', 'ADP'), ('bells', 'NOUN'), ('is', 'VERB'), ('a', 'DET'), ('net', 'ADJ'), ('0', 'X'), ('*T*-1', 'X'), ('to', 'PRT'), ('draw', 'VERB'), ('people', 'NOUN'), ('into', 'ADP'), ('the', 'DET'), ('church', 'NOUN'), (',', '.'), (\"''\", '.'), ('he', 'PRON'), ('says', 'VERB'), ('*T*-2', 'X'), ('.', '.'), ('At', 'ADP'), ('Cray', 'NOUN'), ('Computer', 'NOUN'), (',', '.'), ('he', 'PRON'), ('will', 'VERB'), ('be', 'VERB'), ('paid', 'VERB'), ('*-26', 'X'), ('$', '.'), ('*U*', 'X'), ('.', '.'), ('Also', 'ADV'), (',', '.'), ('Mr.', 'NOUN'), ('Otero', 'NOUN'), ('was', 'VERB'), ('barred', 'VERB'), ('from', 'ADP'), ('association', 'NOUN'), ('with', 'ADP'), ('any', 'DET'), ('NASD', 'NOUN'), ('member', 'NOUN'), ('.', '.'), ('Enterprise', 'NOUN'), ('Inc.', 'NOUN'), ('breaks', 'VERB'), ('its', 'PRON'), ('first', 'ADJ'), ('national', 'ADJ'), ('ad', 'NOUN'), ('campaign', 'NOUN'), ('this', 'DET'), ('week', 'NOUN'), ('.', '.'), ('However', 'ADV'), (',', '.'), ('five', 'NUM'), ('other', 'ADJ'), ('countries', 'NOUN'), ('--', '.'), ('China', 'NOUN'), (',', '.'), ('Thailand', 'NOUN'), (',', '.'), (',', '.'), ('Brazil', 'NOUN'), ('and', 'CONJ'), ('Mexico', 'NOUN'), ('--', '.'), ('will', 'VERB'), ('remain', 'VERB'), ('on', 'ADP'), ('that', 'DET'), ('so-called', 'ADJ'), ('priority', 'NOUN'), ('watch', 'VERB'), ('list', 'NOUN'), ('as', 'ADP'), ('a', 'DET'), ('result', 'NOUN'), ('of', 'ADP'), ('an', 'DET'), ('interim', 'ADJ'), ('review', 'NOUN'), (',', '.'), ('U.S.', 'NOUN'), ('Trade', 'NOUN'), ('Representative', 'NOUN'), ('Carla', 'NOUN'), ('Hills', 'NOUN'), ('announced', 'VERB'), ('0', 'X'), ('*T*-1', 'X'), ('.', '.'), ('Akio', 'NOUN'), ('Yamamoto', 'NOUN'), (',', '.'), ('managing', 'VERB'), ('director', 'NOUN'), ('of', 'ADP'), ('Investment', 'NOUN'), ('Trust', 'NOUN'), ('Management', 'NOUN'), (',', '.'), ('said', 'VERB'), ('that', 'ADP'), ('if', 'ADP'), ('the', 'DET'), ('U.S.', 'NOUN'), ('federal', 'ADJ'), ('funds', 'NOUN'), ('rate', 'NOUN'), ('declines', 'NOUN'), ('to', 'PRT'), ('around', 'ADP'), ('8.5', 'NUM'), ('%', 'NOUN'), (',', '.'), ('institutions', 'NOUN'), ('would', 'VERB'), ('acquire', 'VERB'), ('a', 'DET'), ('idea', 'NOUN'), ('regarding', 'VERB'), ('the', 'DET'), ('direction', 'NOUN'), ('of', 'ADP'), ('the', 'DET'), ('market', 'NOUN'), ('and', 'CONJ'), ('thus', 'ADV'), ('more', 'ADJ'), ('participate', 'VERB'), ('in', 'ADP'), ('active', 'ADJ'), ('buying', 'NOUN'), ('.', '.'), ('If', 'ADP'), ('available', 'ADJ'), ('from', 'ADP'), ('index', 'NOUN'), ('arbitrage', 'NOUN'), ('are', 'VERB'), ('so', 'ADV'), ('enormous', 'ADJ'), (',', '.'), ('surely', 'ADV'), ('any', 'DET'), ('sizable', 'ADJ'), ('company', 'NOUN'), ('could', 'VERB'), ('profit', 'NOUN'), ('from', 'ADP'), ('*', 'X'), ('offering', 'VERB'), ('it', 'PRON'), ('to', 'PRT'), ('small', 'ADJ'), ('investors', 'NOUN'), ('.', '.'), ('In', 'ADP'), ('many', 'ADJ'), ('other', 'ADJ'), ('instances', 'NOUN'), (',', '.'), ('there', 'DET'), ('is', 'VERB'), ('almost', 'ADV'), ('no', 'DET'), ('difference', 'NOUN'), ('between', 'ADP'), ('the', 'DET'), ('real', 'ADJ'), ('test', 'NOUN'), ('and', 'CONJ'), ('Learning', 'NOUN'), ('Materials', 'NOUN'), ('.', '.'), ('Iowa', 'NOUN'), ('and', 'CONJ'), ('Minnesota', 'NOUN'), ('were', 'VERB'), ('among', 'ADP'), ('the', 'DET'), ('few', 'ADJ'), ('major', 'ADJ'), ('farm', 'NOUN'), ('states', 'NOUN'), ('0', 'X'), ('*T*-1', 'X'), ('to', 'PRT'), ('a', 'DET'), ('decline', 'NOUN'), ('in', 'ADP'), ('net', 'ADJ'), ('cash', 'NOUN'), ('income', 'NOUN'), ('.', '.'), ('By', 'ADP'), (',', '.'), ('almost', 'ADV'), ('all', 'DET'), ('remaining', 'VERB'), ('uses', 'VERB'), ('of', 'ADP'), ('asbestos', 'NOUN'), ('will', 'VERB'), ('be', 'VERB'), ('*-6', 'X'), ('.', '.'), ('For', 'ADP'), ('six', 'NUM'), ('years', 'NOUN'), (',', '.'), ('T.', 'NOUN'), ('Marshall', 'NOUN'), ('Hahn', 'NOUN'), ('Jr.', 'NOUN'), ('has', 'VERB'), ('made', 'VERB'), ('corporate', 'ADJ'), ('acquisitions', 'NOUN'), ('in', 'ADP'), ('the', 'DET'), ('George', 'NOUN'), ('Bush', 'NOUN'), (':', '.'), ('kind', 'NOUN'), ('and', 'CONJ'), ('.', '.'), ('The', 'DET'), ('results', 'NOUN'), ('reflected', 'VERB'), ('a', 'DET'), ('24', 'NUM'), ('%', 'NOUN'), ('gain', 'NOUN'), ('in', 'ADP'), ('income', 'NOUN'), ('from', 'ADP'), ('its', 'PRON'), ('finance', 'VERB'), ('businesses', 'NOUN'), (',', '.'), ('and', 'CONJ'), ('a', 'DET'), ('15', 'NUM'), ('%', 'NOUN'), ('slide', 'NOUN'), ('in', 'ADP'), ('income', 'NOUN'), ('from', 'ADP'), ('insurance', 'NOUN'), ('operations', 'NOUN'), ('.', '.'), ('Hadson', 'NOUN'), ('Corp.', 'NOUN'), ('said', 'VERB'), ('0', 'X'), ('it', 'PRON'), ('expects', 'VERB'), ('*-1', 'X'), ('to', 'PRT'), ('report', 'NOUN'), ('a', 'DET'), ('third-quarter', 'NOUN'), ('net', 'NOUN'), ('loss', 'NOUN'), ('of', 'ADP'), ('$', '.'), ('17', 'NUM'), ('million', 'NUM'), ('to', 'PRT'), ('$', '.'), ('19', 'NUM'), ('million', 'NUM'), ('*U*', 'X'), ('because', 'ADP'), ('of', 'ADP'), ('special', 'ADJ'), ('reserves', 'NOUN'), ('and', 'CONJ'), ('continued', 'VERB'), ('low', 'ADJ'), ('prices', 'NOUN'), ('.', '.'), ('And', 'CONJ'), (',', '.'), ('of', 'ADP'), ('course', 'NOUN'), (',', '.'), ('there', 'DET'), (\"'s\", 'VERB'), ('that', 'ADP'), ('word', 'NOUN'), ('``', '.'), ('dissemination', 'NOUN'), ('.', '.'), (\"''\", '.'), ('Securities', 'NOUN'), ('Corp.', 'NOUN'), (',', '.'), ('New', 'NOUN'), ('York', 'NOUN'), (',', '.'), ('and', 'CONJ'), ('three', 'NUM'), ('of', 'ADP'), ('its', 'PRON'), ('principals', 'NOUN'), ('--', '.'), ('Dell', 'NOUN'), ('Eugene', 'NOUN'), ('and', 'CONJ'), ('William', 'NOUN'), ('Jr.', 'NOUN'), (',', '.'), ('both', 'DET'), ('of', 'ADP'), ('Island', 'NOUN'), (',', '.'), (',', '.'), ('and', 'CONJ'), ('Thomas', 'NOUN'), ('Albert', 'NOUN'), ('McFall', 'NOUN'), (',', '.'), ('of', 'ADP'), ('Red', 'NOUN'), ('Bank', 'NOUN'), (',', '.'), ('N.J', 'NOUN'), ('.', '.'), ('--', '.'), ('consented', 'VERB'), ('to', 'PRT'), ('a', 'DET'), ('fine', 'NOUN'), ('of', 'ADP'), ('$', '.'), ('20,000', 'NUM'), ('*U*', 'X'), ('.', '.'), ('But', 'CONJ'), ('the', 'DET'), ('number', 'NOUN'), ('of', 'ADP'), ('weddings', 'NOUN'), ('last', 'ADJ'), ('year', 'NOUN'), ('--', '.'), ('--', '.'), ('was', 'VERB'), ('still', 'ADV'), ('well', 'ADV'), ('below', 'ADP'), ('the', 'DET'), ('registered', 'VERB'), ('*', 'X'), ('in', 'ADP'), ('1972', 'NUM'), (',', '.'), ('the', 'DET'), ('last', 'ADJ'), ('year', 'NOUN'), ('of', 'ADP'), ('increasing', 'VERB'), ('marriages', 'NOUN'), ('.', '.'), ('And', 'CONJ'), ('while', 'ADP'), ('there', 'DET'), ('was', 'VERB'), ('no', 'DET'), ('profit', 'NOUN'), ('*ICH*-1', 'X'), ('this', 'DET'), ('year', 'NOUN'), ('from', 'ADP'), ('discontinued', 'VERB'), ('operations', 'NOUN'), (',', '.'), ('last', 'ADJ'), ('year', 'NOUN'), ('they', 'PRON'), ('contributed', 'VERB'), ('#', '.'), ('34', 'NUM'), ('million', 'NUM'), ('*U*', 'X'), (',', '.'), ('before', 'ADP'), ('tax', 'NOUN'), ('.', '.'), ('One', 'NUM'), ('analyst', 'NOUN'), (',', '.'), ('Arthur', 'NOUN'), ('Stevenson', 'NOUN'), (',', '.'), ('of', 'ADP'), ('Prudential-Bache', 'NOUN'), ('Securities', 'NOUN'), (',', '.'), ('New', 'NOUN'), ('York', 'NOUN'), (',', '.'), ('estimated', 'VERB'), ('that', 'ADP'), ('65', 'NUM'), ('%', 'NOUN'), ('or', 'CONJ'), ('more', 'ADJ'), ('of', 'ADP'), ('Brazil', 'NOUN'), (\"'s\", 'PRT'), ('newly', 'ADV'), ('made', 'VERB'), ('automobiles', 'NOUN'), ('run', 'VERB'), ('on', 'ADP'), ('alcohol', 'NOUN'), ('and', 'CONJ'), ('ca', 'VERB'), (\"n't\", 'ADV'), ('use', 'VERB'), ('gasoline', 'NOUN'), ('.', '.'), ('Mr.', 'NOUN'), ('Samnick', 'NOUN'), (',', '.'), ('who', 'PRON'), ('will', 'VERB'), ('go', 'VERB'), ('before', 'ADP'), ('the', 'DET'), ('disciplinary', 'ADJ'), ('panel', 'NOUN'), (',', '.'), ('said', 'VERB'), ('0', 'X'), ('the', 'DET'), ('proceedings', 'NOUN'), ('are', 'VERB'), ('unfair', 'ADJ'), ('and', 'CONJ'), ('that', 'DET'), ('any', 'DET'), ('from', 'ADP'), ('the', 'DET'), ('guild', 'NOUN'), ('would', 'VERB'), ('be', 'VERB'), ('unjustified', 'ADJ'), ('.', '.'), ('The', 'DET'), ('plan', 'NOUN'), ('calls', 'VERB'), ('for', 'ADP'), ('*', 'X'), ('closing', 'VERB'), ('at', 'ADP'), ('least', 'ADJ'), ('nine', 'NUM'), ('plants', 'NOUN'), ('and', 'CONJ'), ('eliminating', 'VERB'), ('about', 'ADP'), ('jobs', 'NOUN'), ('.', '.'), ('The', 'DET'), ('administration', 'NOUN'), (',', '.'), ('*-1', 'X'), ('to', 'PRT'), ('its', 'PRON'), ('of', 'ADP'), ('*', 'X'), ('tax', 'NOUN'), ('increases', 'NOUN'), (',', '.'), ('has', 'VERB'), ('opposed', 'VERB'), ('cost-sharing', 'ADJ'), ('.', '.'), ('In', 'ADP'), ('a', 'DET'), ('well-known', 'ADJ'), ('involving', 'VERB'), ('church', 'NOUN'), ('bells', 'NOUN'), (',', '.'), ('English', 'NOUN'), ('Dorothy', 'NOUN'), ('L.', 'NOUN'), ('Sayers', 'NOUN'), ('described', 'VERB'), ('ringing', 'VERB'), ('as', 'ADP'), ('a', 'DET'), ('``', '.'), ('passion', 'NOUN'), ('-LCB-', '.'), ('that', 'DET'), ('-RCB-', '.'), ('*T*-1', 'X'), ('its', 'PRON'), ('in', 'ADP'), ('and', 'CONJ'), ('mechanical', 'ADJ'), ('.', '.'), (\"''\", '.'), ('Hotel', 'NOUN'), ('&', 'CONJ'), ('Co.', 'NOUN'), ('said', 'VERB'), ('0', 'X'), ('its', 'PRON'), ('planned', 'VERB'), ('rights', 'NOUN'), ('offering', 'NOUN'), ('0', 'X'), ('*T*-1', 'X'), ('to', 'PRT'), ('raise', 'VERB'), ('about', 'ADP'), ('$', '.'), ('9', 'NUM'), ('million', 'NUM'), ('*U*', 'X'), ('was', 'VERB'), ('declared', 'VERB'), ('effective', 'ADJ'), ('and', 'CONJ'), ('the', 'DET'), ('company', 'NOUN'), ('will', 'VERB'), ('begin', 'VERB'), ('*-2', 'X'), ('mailing', 'NOUN'), ('materials', 'NOUN'), ('to', 'PRT'), ('shareholders', 'NOUN'), ('at', 'ADP'), ('the', 'DET'), ('end', 'NOUN'), ('of', 'ADP'), ('this', 'DET'), ('week', 'NOUN'), ('.', '.'), ('Publishing', 'NOUN'), ('officials', 'NOUN'), ('believe', 'VERB'), ('that', 'ADP'), ('while', 'ADP'), ('Random', 'NOUN'), ('House', 'NOUN'), ('has', 'VERB'), ('growth', 'NOUN'), ('and', 'CONJ'), ('has', 'VERB'), ('integrated', 'VERB'), ('many', 'ADJ'), ('acquisitions', 'NOUN'), ('in', 'ADP'), ('recent', 'ADJ'), ('years', 'NOUN'), (',', '.'), ('some', 'DET'), ('of', 'ADP'), ('the', 'DET'), ('bigger', 'ADJ'), ('ones', 'NOUN'), ('have', 'VERB'), (\"n't\", 'ADV'), ('been', 'VERB'), ('absorbed', 'VERB'), ('*-44', 'X'), ('so', 'ADV'), ('easily', 'ADV'), ('.', '.'), ('The', 'DET'), ('speed', 'NOUN'), ('with', 'ADP'), ('which', 'DET'), ('such', 'ADJ'), ('program', 'NOUN'), ('trades', 'NOUN'), ('take', 'VERB'), ('place', 'NOUN'), ('*T*-1', 'X'), ('and', 'CONJ'), ('the', 'DET'), ('volatile', 'ADJ'), ('price', 'NOUN'), ('movements', 'NOUN'), ('0', 'X'), ('they', 'PRON'), ('can', 'VERB'), ('cause', 'VERB'), ('*T*-2', 'X'), ('are', 'VERB'), ('what', 'PRON'), ('program', 'NOUN'), ('trading', 'NOUN'), ('critics', 'NOUN'), ('*-3', 'X'), ('to', 'PRT'), ('*T*-4', 'X'), ('.', '.'), ('Profit', 'NOUN'), ('from', 'ADP'), ('continuing', 'VERB'), ('operations', 'NOUN'), ('has', 'VERB'), ('soared', 'VERB'), ('to', 'PRT'), ('$', '.'), ('million', 'NUM'), ('*U*', 'X'), ('from', 'ADP'), ('$', '.'), ('75', 'NUM'), ('million', 'NUM'), ('*U*', 'X'), ('.', '.'), ('Put', 'VERB'), ('option', 'NOUN'), ('on', 'ADP'), ('Dec.', 'NOUN'), ('31', 'NUM'), (',', '.'), ('1991', 'NUM'), (',', '.'), ('at', 'ADP'), ('a', 'DET'), ('fixed', 'VERB'), ('7\\\\/8', 'NUM'), ('*', 'X'), ('to', 'PRT'), ('yield', 'VERB'), ('%', 'NOUN'), ('.', '.'), ('Georgia-Pacific', 'NOUN'), (',', '.'), ('which', 'DET'), ('*T*-1', 'X'), ('went', 'VERB'), ('down', 'ADV'), ('2', 'NUM'), ('1\\\\/2', 'NUM'), ('Tuesday', 'NOUN'), (',', '.'), ('lost', 'VERB'), ('another', 'DET'), ('1\\\\/2', 'NUM'), ('to', 'PRT'), ('50', 'NUM'), ('3\\\\/8', 'NUM'), ('.', '.'), ('South', 'NOUN'), ('accused', 'VERB'), ('of', 'ADP'), ('*', 'X'), ('crossing', 'VERB'), ('from', 'ADP'), ('bases', 'NOUN'), ('in', 'ADP'), (',', '.'), ('*-1', 'X'), ('plans', 'VERB'), ('for', 'ADP'), ('the', 'DET'), (\"'s\", 'VERB'), ('independence', 'NOUN'), ('from', 'ADP'), ('Pretoria', 'NOUN'), ('.', '.'), ('``', '.'), ('Do', 'VERB'), ('you', 'PRON'), ('make', 'VERB'), ('or', 'CONJ'), ('?', '.'), ('``', '.'), ('It', 'PRON'), ('has', 'VERB'), ('not', 'ADV'), ('been', 'VERB'), ('in', 'ADP'), ('the', 'DET'), ('markets', 'NOUN'), ('here', 'ADV'), (',', '.'), (\"''\", '.'), ('Mr.', 'NOUN'), ('Maughan', 'NOUN'), ('said', 'VERB'), ('*T*-1', 'X'), ('.', '.'), (':', '.'), ('It', 'PRON'), ('would', 'VERB'), ('contradict', 'VERB'), ('that', 'ADP'), ('objective', 'NOUN'), ('if', 'ADP'), ('the', 'DET'), ('appropriations', 'NOUN'), ('clause', 'NOUN'), ('-LRB-', '.'), ('a', 'DET'), ('on', 'ADP'), ('legislative', 'ADJ'), ('power', 'NOUN'), ('-RRB-', '.'), ('could', 'VERB'), ('be', 'VERB'), ('read', 'VERB'), ('*-52', 'X'), ('as', 'ADP'), ('*-52', 'X'), ('placing', 'VERB'), ('the', 'DET'), ('president', 'NOUN'), ('on', 'ADP'), ('Congress', 'NOUN'), (\"'s\", 'PRT'), ('short', 'ADJ'), (',', '.'), ('*-52', 'X'), ('making', 'VERB'), ('the', 'DET'), ('executive', 'ADJ'), ('consist', 'VERB'), ('of', 'ADP'), ('the', 'DET'), ('president', 'NOUN'), ('and', 'CONJ'), ('every', 'DET'), ('member', 'NOUN'), ('of', 'ADP'), ('Congress', 'NOUN'), ('.', '.'), ('McGraw-Hill', 'NOUN'), ('was', 'VERB'), ('.', '.'), ('Sales', 'NOUN'), ('figures', 'NOUN'), ('of', 'ADP'), ('the', 'DET'), ('materials', 'NOUN'), ('are', 'VERB'), (\"n't\", 'ADV'), ('known', 'VERB'), ('*-1', 'X'), (',', '.'), ('but', 'CONJ'), ('their', 'PRON'), ('reach', 'VERB'), ('into', 'ADP'), ('schools', 'NOUN'), ('is', 'VERB'), ('significant', 'ADJ'), ('.', '.'), ('``', '.'), ('There', 'DET'), (\"'s\", 'VERB'), ('a', 'DET'), ('price', 'NOUN'), ('above', 'ADP'), ('which', 'DET'), ('I', 'PRON'), (\"'m\", 'VERB'), ('positive', 'ADJ'), ('0', 'X'), ('Marshall', 'NOUN'), ('has', 'VERB'), ('the', 'DET'), ('0', 'X'), ('*', 'X'), ('not', 'ADV'), ('to', 'PRT'), ('pay', 'VERB'), ('*T*-1', 'X'), ('*T*-3', 'X'), (',', '.'), (\"''\", '.'), ('says', 'VERB'), ('*T*-2', 'X'), ('Correll', 'NOUN'), (',', '.'), ('Georgia-Pacific', 'NOUN'), (\"'s\", 'PRT'), ('executive', 'ADJ'), ('vice', 'NOUN'), ('president', 'NOUN'), ('for', 'ADP'), ('pulp', 'NOUN'), ('and', 'CONJ'), ('paper', 'NOUN'), ('.', '.'), ('Co.', 'NOUN'), (',', '.'), ('offering', 'NOUN'), ('of', 'ADP'), ('shares', 'NOUN'), ('of', 'ADP'), ('common', 'ADJ'), ('stock', 'NOUN'), (',', '.'), ('via', 'ADP'), ('Legg', 'NOUN'), ('Mason', 'NOUN'), ('Wood', 'NOUN'), ('Inc.', 'NOUN'), ('and', 'CONJ'), (',', '.'), (',', '.'), (',', '.'), ('Inc', 'NOUN'), ('.', '.'), ('In', 'ADP'), ('the', 'DET'), ('year-earlier', 'ADJ'), ('period', 'NOUN'), (',', '.'), ('SCI', 'NOUN'), ('had', 'VERB'), ('net', 'ADJ'), ('income', 'NOUN'), ('of', 'ADP'), ('$', '.'), ('4.8', 'NUM'), ('million', 'NUM'), ('*U*', 'X'), (',', '.'), ('or', 'CONJ'), ('23', 'NUM'), ('cents', 'NOUN'), ('a', 'DET'), ('share', 'NOUN'), (',', '.'), ('on', 'ADP'), ('revenue', 'NOUN'), ('of', 'ADP'), ('$', '.'), ('million', 'NUM'), ('*U*', 'X'), ('.', '.'), ('In', 'ADP'), ('October', 'NOUN'), (',', '.'), ('more', 'ADV'), ('people', 'NOUN'), ('*ICH*-1', 'X'), ('said', 'VERB'), ('that', 'ADP'), ('present', 'VERB'), ('business', 'NOUN'), ('conditions', 'NOUN'), ('were', 'VERB'), ('``', '.'), ('good', 'ADJ'), (\"''\", '.'), ('than', 'ADP'), ('in', 'ADP'), ('September', 'NOUN'), ('.', '.'), ('Several', 'ADJ'), ('candidates', 'NOUN'), ('have', 'VERB'), ('withdrawn', 'VERB'), ('their', 'PRON'), ('names', 'NOUN'), ('from', 'ADP'), ('consideration', 'NOUN'), ('after', 'ADP'), ('administration', 'NOUN'), ('officials', 'NOUN'), ('asked', 'VERB'), ('them', 'PRON'), ('for', 'ADP'), ('their', 'PRON'), ('views', 'VERB'), ('on', 'ADP'), ('abortion', 'NOUN'), ('and', 'CONJ'), ('fetal-tissue', 'ADJ'), ('transplants', 'NOUN'), ('.', '.'), ('Currently', 'ADV'), (',', '.'), ('margins', 'NOUN'), ('on', 'ADP'), ('stock', 'NOUN'), ('futures', 'NOUN'), ('purchases', 'NOUN'), ('are', 'VERB'), ('much', 'ADV'), ('lower', 'ADJ'), ('--', '.'), ('roughly', 'ADV'), ('7', 'NUM'), ('%', 'NOUN'), ('compared', 'VERB'), ('with', 'ADP'), ('50', 'NUM'), ('%', 'NOUN'), ('for', 'ADP'), ('stocks', 'NOUN'), ('--', '.'), ('*', 'X'), ('making', 'VERB'), ('the', 'DET'), ('futures', 'NOUN'), ('market', 'NOUN'), ('much', 'ADV'), ('faster', 'ADJ'), ('and', 'CONJ'), ('more', 'ADJ'), ('speculative', 'ADJ'), ('.', '.'), ('The', 'DET'), ('question', 'NOUN'), ('now', 'ADV'), (':', '.'), ('he', 'PRON'), ('act', 'VERB'), ('more', 'ADV'), ('like', 'ADP'), ('?', '.'), ('In', 'ADP'), ('and', 'CONJ'), ('around', 'ADP'), ('all', 'DET'), ('levels', 'NOUN'), ('of', 'ADP'), ('government', 'NOUN'), ('in', 'ADP'), ('the', 'DET'), ('U.S.', 'NOUN'), ('are', 'VERB'), ('*T*-3', 'X'), ('groups', 'NOUN'), ('of', 'ADP'), ('people', 'NOUN'), ('who', 'PRON'), ('*T*-2', 'X'), ('can', 'VERB'), ('best', 'ADJ'), ('be', 'VERB'), ('described', 'VERB'), ('*-1', 'X'), ('as', 'ADP'), ('*-4', 'X'), ('belonging', 'VERB'), ('to', 'PRT'), ('a', 'DET'), ('political', 'ADJ'), ('commercial', 'ADJ'), ('party', 'NOUN'), ('.', '.'), ('*-1', 'X'), ('Stung', 'VERB'), ('by', 'ADP'), ('charges', 'NOUN'), ('that', 'ADP'), ('their', 'PRON'), ('greed', 'NOUN'), ('is', 'VERB'), ('turning', 'VERB'), ('the', 'DET'), ('stock', 'NOUN'), ('market', 'NOUN'), ('into', 'ADP'), ('a', 'DET'), (',', '.'), ('almost', 'ADV'), ('all', 'DET'), ('the', 'DET'), ('big', 'ADJ'), ('investment', 'NOUN'), ('banking', 'NOUN'), ('houses', 'NOUN'), ('have', 'VERB'), ('abandoned', 'VERB'), ('index', 'NOUN'), ('arbitrage', 'NOUN'), (',', '.'), ('a', 'DET'), ('common', 'ADJ'), ('form', 'NOUN'), ('of', 'ADP'), ('program', 'NOUN'), ('trading', 'NOUN'), (',', '.'), ('for', 'ADP'), ('their', 'PRON'), ('own', 'ADJ'), ('accounts', 'NOUN'), ('in', 'ADP'), ('the', 'DET'), ('past', 'ADJ'), ('few', 'ADJ'), ('days', 'NOUN'), ('.', '.'), ('But', 'CONJ'), ('Learning', 'NOUN'), ('Materials', 'NOUN'), ('matched', 'VERB'), ('on', 'ADP'), ('of', 'ADP'), ('69', 'NUM'), ('subskills', 'NOUN'), ('.', '.'), ('Sales', 'NOUN'), ('were', 'VERB'), ('roughly', 'ADV'), ('flat', 'ADJ'), ('in', 'ADP'), ('the', 'DET'), ('1989', 'NUM'), ('model', 'NOUN'), ('year', 'NOUN'), ('compared', 'VERB'), ('with', 'ADP'), ('a', 'DET'), ('year', 'NOUN'), ('earlier', 'ADV'), (',', '.'), ('though', 'ADP'), ('industry', 'NOUN'), ('sales', 'NOUN'), ('fell', 'VERB'), ('.', '.'), ('She', 'PRON'), ('was', 'VERB'), ('an', 'DET'), ('teacher', 'NOUN'), ('who', 'PRON'), ('*T*-80', 'X'), ('won', 'VERB'), ('and', 'CONJ'), ('inspired', 'VERB'), ('students', 'NOUN'), (',', '.'), ('but', 'CONJ'), ('she', 'PRON'), ('will', 'VERB'), ('probably', 'ADV'), ('never', 'ADV'), ('teach', 'VERB'), ('again', 'ADV'), ('.', '.'), ('in', 'ADP'), ('the', 'DET'), ('region', 'NOUN'), ('also', 'ADV'), ('are', 'VERB'), ('beginning', 'VERB'), ('*-1', 'X'), ('to', 'PRT'), ('consider', 'VERB'), ('a', 'DET'), ('for', 'ADP'), ('closer', 'ADJ'), ('economic', 'ADJ'), ('and', 'CONJ'), ('political', 'ADJ'), ('ties', 'NOUN'), ('.', '.'), ('Viacom', 'NOUN'), (\"'s\", 'PRT'), ('move', 'VERB'), ('comes', 'VERB'), ('as', 'ADP'), ('the', 'DET'), ('syndication', 'NOUN'), ('market', 'NOUN'), ('is', 'VERB'), ('being', 'VERB'), ('*-76', 'X'), ('with', 'ADP'), ('situation', 'NOUN'), ('that', 'ADP'), ('are', 'VERB'), ('still', 'ADV'), ('running', 'VERB'), ('on', 'ADP'), ('the', 'DET'), ('.', '.'), ('Czechoslovakia', 'NOUN'), ('said', 'VERB'), ('in', 'ADP'), ('May', 'NOUN'), ('0', 'X'), ('it', 'PRON'), ('could', 'VERB'), ('seek', 'VERB'), ('$', '.'), ('2', 'NUM'), ('billion', 'NUM'), ('*U*', 'X'), ('from', 'ADP'), ('Hungary', 'NOUN'), ('if', 'ADP'), ('the', 'DET'), ('contract', 'NOUN'), ('were', 'VERB'), ('broken', 'VERB'), ('*-68', 'X'), ('.', '.'), ('average', 'ADJ'), ('rate', 'NOUN'), ('of', 'ADP'), ('return', 'NOUN'), ('after', 'ADP'), ('expenses', 'NOUN'), ('for', 'ADP'), ('the', 'DET'), ('past', 'ADJ'), ('30', 'NUM'), ('days', 'NOUN'), (';', '.'), ('not', 'ADV'), ('a', 'DET'), ('forecast', 'NOUN'), ('of', 'ADP'), ('future', 'ADJ'), ('returns', 'NOUN'), ('.', '.'), ('If', 'ADP'), ('we', 'PRON'), ('look', 'VERB'), ('to', 'PRT'), ('the', 'DET'), ('future', 'ADJ'), (',', '.'), ('*', 'X'), ('preventing', 'VERB'), ('homelessness', 'NOUN'), ('is', 'VERB'), ('an', 'DET'), ('important', 'ADJ'), ('objective', 'NOUN'), ('.', '.'), ('Many', 'ADJ'), ('people', 'NOUN'), ('believe', 'VERB'), ('0', 'X'), ('the', 'DET'), ('growth', 'NOUN'), ('in', 'ADP'), ('dividends', 'NOUN'), ('will', 'VERB'), ('slow', 'VERB'), ('next', 'ADJ'), ('year', 'NOUN'), (',', '.'), ('although', 'ADP'), ('a', 'DET'), ('minority', 'NOUN'), ('see', 'VERB'), ('double-digit', 'ADJ'), ('gains', 'NOUN'), ('continuing', 'VERB'), ('.', '.'), ('``', '.'), ('Feeding', 'NOUN'), ('Frenzy', 'NOUN'), (\"''\", '.'), ('does', 'VERB'), ('provide', 'VERB'), ('a', 'DET'), ('few', 'ADJ'), ('clues', 'NOUN'), ('.', '.'), ('Standard', 'NOUN'), ('&', 'CONJ'), ('Poor', 'NOUN'), (\"'s\", 'PRT'), ('Index', 'NOUN'), ('added', 'VERB'), ('to', 'PRT'), (';', '.'), ('the', 'DET'), ('rise', 'NOUN'), ('was', 'VERB'), ('equivalent', 'NOUN'), ('to', 'PRT'), ('a', 'DET'), ('gain', 'NOUN'), ('of', 'ADP'), ('about', 'ADP'), ('six', 'NUM'), ('points', 'NOUN'), ('in', 'ADP'), ('the', 'DET'), ('industrial', 'ADJ'), ('average', 'NOUN'), ('.', '.'), ('On', 'ADP'), ('the', 'DET'), ('Big', 'NOUN'), ('Board', 'NOUN'), (',', '.'), ('a', 'DET'), ('``', '.'), ('side', 'NOUN'), ('car', 'NOUN'), (\"''\", '.'), ('is', 'VERB'), ('put', 'VERB'), ('*-1', 'X'), ('into', 'ADP'), ('effect', 'NOUN'), ('when', 'ADV'), ('the', 'DET'), ('S&P', 'NOUN'), ('futures', 'NOUN'), ('rise', 'VERB'), ('or', 'CONJ'), ('fall', 'NOUN'), ('12', 'NUM'), ('points', 'NOUN'), ('*T*-2', 'X'), ('.', '.'), ('of', 'ADP'), ('the', 'DET'), ('problem', 'NOUN'), ('is', 'VERB'), ('that', 'ADP'), ('chip', 'NOUN'), ('buyers', 'NOUN'), ('are', 'VERB'), ('keeping', 'VERB'), ('inventories', 'NOUN'), ('low', 'ADJ'), ('because', 'ADP'), ('of', 'ADP'), ('about', 'ADP'), ('the', 'DET'), ('course', 'NOUN'), ('of', 'ADP'), ('the', 'DET'), ('U.S.', 'NOUN'), ('economy', 'NOUN'), ('.', '.'), ('To', 'PRT'), ('Safety', 'NOUN'), ('on', 'ADP'), ('The', 'DET'), ('leadership', 'NOUN'), ('hopes', 'VERB'), ('*-1', 'X'), ('to', 'PRT'), ('move', 'VERB'), ('the', 'DET'), ('compromise', 'NOUN'), ('measure', 'NOUN'), ('promptly', 'ADV'), ('to', 'PRT'), ('the', 'DET'), ('White', 'NOUN'), ('House', 'NOUN'), (',', '.'), ('but', 'CONJ'), ('in', 'ADP'), ('recent', 'ADJ'), ('days', 'NOUN'), (',', '.'), ('the', 'DET'), ('Senate', 'NOUN'), ('has', 'VERB'), ('been', 'VERB'), ('as', 'ADP'), ('likely', 'ADJ'), ('*-3', 'X'), ('to', 'PRT'), ('bills', 'NOUN'), ('back', 'ADV'), ('to', 'PRT'), ('the', 'DET'), ('House', 'NOUN'), ('.', '.'), (':', '.'), ('In', 'ADP'), ('addition', 'NOUN'), (',', '.'), ('a', 'DET'), ('big', 'ADJ'), ('loan', 'NOUN'), ('that', 'ADP'), ('First', 'NOUN'), ('Boston', 'NOUN'), ('made', 'VERB'), ('*T*-2', 'X'), ('to', 'PRT'), ('Ohio', 'NOUN'), ('Co', 'NOUN'), ('.', '.'), ('was', 'VERB'), (\"n't\", 'ADV'), ('repaid', 'VERB'), ('on', 'ADP'), ('time', 'NOUN'), ('when', 'ADV'), ('its', 'PRON'), ('$', '.'), ('450', 'NUM'), ('million', 'NUM'), ('*U*', 'X'), ('junk', 'NOUN'), ('financing', 'VERB'), ('for', 'ADP'), ('a', 'DET'), ('buy-out', 'NOUN'), ('of', 'ADP'), ('the', 'DET'), ('company', 'NOUN'), ('was', 'VERB'), ('withdrawn', 'VERB'), ('*-1', 'X'), ('*T*-3', 'X'), ('.', '.'), ('The', 'DET'), ('is', 'VERB'), ('that', 'ADP'), ('the', 'DET'), ('attack', 'NOUN'), ('commercial', 'NOUN'), (',', '.'), ('after', 'ADP'), ('*-1', 'X'), ('getting', 'VERB'), ('a', 'DET'), ('boost', 'NOUN'), ('in', 'ADP'), ('last', 'ADJ'), ('year', 'NOUN'), (\"'s\", 'PRT'), ('presidential', 'ADJ'), ('campaign', 'NOUN'), (',', '.'), ('has', 'VERB'), ('come', 'VERB'), ('of', 'ADP'), ('age', 'NOUN'), ('in', 'ADP'), ('an', 'DET'), ('election', 'NOUN'), ('year', 'NOUN'), ('with', 'ADP'), ('only', 'ADV'), ('a', 'DET'), ('few', 'ADJ'), ('contests', 'NOUN'), ('*', 'X'), ('across', 'ADP'), ('the', 'DET'), ('country', 'NOUN'), ('.', '.'), ('*', 'X'), ('Think', 'VERB'), ('about', 'ADP'), ('the', 'DET'), ('good', 'ADJ'), ('0', 'X'), ('you', 'PRON'), ('can', 'VERB'), ('do', 'VERB'), ('*T*-1', 'X'), ('for', 'ADP'), ('just', 'ADV'), ('$', '.'), ('15,000', 'NUM'), ('*U*', 'X'), ('a', 'DET'), ('month', 'NOUN'), (',', '.'), ('about', 'ADP'), ('the', 'DET'), ('cost', 'NOUN'), ('of', 'ADP'), ('a', 'DET'), ('Chevrolet', 'NOUN'), ('or', 'CONJ'), ('two', 'NUM'), ('at', 'ADP'), ('a', 'DET'), ('state', 'NOUN'), ('university', 'NOUN'), ('.', '.'), ('``', '.'), ('*', 'X'), ('Jim', 'NOUN'), ('Courter', 'NOUN'), ('.', '.'), (\"''\", '.'), ('Prices', 'NOUN'), ('rose', 'VERB'), ('on', 'ADP'), ('the', 'DET'), ('news', 'NOUN'), ('that', 'ADP'), ('a', 'DET'), ('sizable', 'ADJ'), ('West', 'NOUN'), ('German', 'NOUN'), ('was', 'VERB'), ('damaged', 'VERB'), ('*-1', 'X'), ('in', 'ADP'), ('a', 'DET'), ('fire', 'NOUN'), (',', '.'), ('*', 'X'), ('an', 'DET'), ('already', 'ADV'), ('tight', 'ADJ'), ('European', 'ADJ'), ('market', 'NOUN'), ('.', '.'), ('Along', 'ADP'), ('with', 'ADP'), ('the', 'DET'), ('note', 'NOUN'), (',', '.'), ('Cray', 'NOUN'), ('Research', 'NOUN'), ('is', 'VERB'), ('transferring', 'VERB'), ('about', 'ADP'), ('$', '.'), ('53', 'NUM'), ('million', 'NUM'), ('*U*', 'X'), ('in', 'ADP'), ('assets', 'NOUN'), (',', '.'), ('primarily', 'ADV'), ('those', 'DET'), ('related', 'ADJ'), ('to', 'PRT'), ('the', 'DET'), ('Cray-3', 'NOUN'), ('development', 'NOUN'), (',', '.'), ('which', 'DET'), ('*T*-25', 'X'), ('has', 'VERB'), ('been', 'VERB'), ('a', 'DET'), ('drain', 'NOUN'), ('on', 'ADP'), ('Cray', 'NOUN'), ('Research', 'NOUN'), (\"'s\", 'PRT'), ('earnings', 'NOUN'), ('.', '.'), ('provisions', 'NOUN'), (',', '.'), ('which', 'DET'), ('*T*-1', 'X'), ('might', 'VERB'), ('be', 'VERB'), ('called', 'VERB'), ('``', '.'), ('laws', 'NOUN'), (\"''\", '.'), ('as', 'ADP'), ('well', 'ADV'), (',', '.'), ('prevent', 'VERB'), ('the', 'DET'), ('executive', 'ADJ'), ('branch', 'NOUN'), ('from', 'ADP'), ('even', 'ADV'), ('*-2', 'X'), ('looking', 'VERB'), ('at', 'ADP'), ('certain', 'ADJ'), ('policy', 'NOUN'), ('options', 'NOUN'), (',', '.'), ('let', 'VERB'), ('alone', 'ADV'), ('from', 'ADP'), ('*-2', 'X'), ('them', 'PRON'), ('to', 'PRT'), ('Congress', 'NOUN'), ('.', '.'), ('That', 'DET'), ('ought', 'VERB'), ('*-1', 'X'), ('to', 'PRT'), ('make', 'VERB'), ('sure', 'ADJ'), ('0', 'X'), ('we', 'PRON'), (\"'re\", 'VERB'), ('all', 'DET'), ('thinking', 'VERB'), ('for', 'ADP'), ('the', 'DET'), ('long', 'ADJ'), ('term', 'NOUN'), ('.', '.'), ('There', 'DET'), ('is', 'VERB'), ('very', 'ADV'), ('little', 'ADJ'), ('0', 'X'), ('*T*-1', 'X'), ('to', 'PRT'), ('recommend', 'VERB'), ('``', '.'), ('Old', 'NOUN'), (',', '.'), (\"''\", '.'), ('a', 'DET'), ('of', 'ADP'), ('the', 'DET'), ('Carlos', 'NOUN'), ('novel', 'NOUN'), ('of', 'ADP'), ('the', 'DET'), ('.', '.'), ('Mr.', 'NOUN'), ('Trudeau', 'NOUN'), (',', '.'), ('a', 'DET'), ('Writers', 'NOUN'), ('Guild', 'NOUN'), ('member', 'NOUN'), (',', '.'), ('also', 'ADV'), ('was', 'VERB'), ('employed', 'VERB'), ('*-1', 'X'), ('as', 'ADP'), ('a', 'DET'), ('writer', 'NOUN'), ('for', 'ADP'), ('Darkhorse', 'NOUN'), (',', '.'), ('which', 'DET'), ('was', 'VERB'), ('covered', 'VERB'), ('*-2', 'X'), ('by', 'ADP'), ('a', 'DET'), ('guild', 'NOUN'), ('agreement', 'NOUN'), ('.', '.'), ('In', 'ADP'), ('an', 'DET'), ('interview', 'NOUN'), (',', '.'), ('Mr.', 'NOUN'), ('Bernstein', 'NOUN'), ('said', 'VERB'), ('0', 'X'), ('his', 'PRON'), ('departure', 'NOUN'), ('``', '.'), ('out', 'ADP'), ('of', 'ADP'), ('discussions', 'NOUN'), ('with', 'ADP'), ('Newhouse', 'NOUN'), ('and', 'CONJ'), ('that', 'DET'), (\"'s\", 'VERB'), ('the', 'DET'), ('decision', 'NOUN'), ('0', 'X'), ('I', 'PRON'), ('reached', 'VERB'), ('*T*-1', 'X'), ('.', '.'), (\"''\", '.'), ('``', '.'), ('No', 'DET'), ('consideration', 'NOUN'), ('is', 'VERB'), ('more', 'ADV'), ('important', 'ADJ'), ('than', 'ADP'), ('the', 'DET'), ('health', 'NOUN'), ('and', 'CONJ'), ('safety', 'NOUN'), ('of', 'ADP'), ('our', 'PRON'), ('employees', 'NOUN'), ('.', '.'), (\"''\", '.'), ('The', 'DET'), ('French', 'ADJ'), ('film', 'NOUN'), ('maker', 'NOUN'), ('Chabrol', 'NOUN'), ('has', 'VERB'), ('managed', 'VERB'), ('another', 'DET'), ('kind', 'NOUN'), ('of', 'ADP'), ('achievement', 'NOUN'), ('with', 'ADP'), ('his', 'PRON'), ('``', '.'), ('of', 'ADP'), ('.', '.'), (\"''\", '.'), ('The', 'DET'), ('purchasing', 'NOUN'), ('managers', 'NOUN'), (\"'\", 'PRT'), ('report', 'NOUN'), ('is', 'VERB'), ('based', 'VERB'), ('on', 'ADP'), ('data', 'NOUN'), ('provided', 'VERB'), ('*', 'X'), ('by', 'ADP'), ('more', 'ADJ'), ('than', 'ADP'), ('250', 'NUM'), ('purchasing', 'NOUN'), ('executives', 'NOUN'), ('.', '.'), ('A', 'DET'), ('buyer', 'NOUN'), ('who', 'PRON'), ('*T*-58', 'X'), ('chooses', 'VERB'), ('*-1', 'X'), ('to', 'PRT'), ('to', 'PRT'), ('his', 'PRON'), ('must', 'VERB'), ('pay', 'VERB'), ('for', 'ADP'), ('his', 'PRON'), ('own', 'ADJ'), ('ticket', 'NOUN'), ('but', 'CONJ'), ('gets', 'VERB'), ('a', 'DET'), (\"'s\", 'VERB'), ('ticket', 'NOUN'), ('free', 'ADJ'), ('if', 'ADP'), ('they', 'PRON'), ('on', 'ADP'), ('United', 'NOUN'), ('Airlines', 'NOUN'), ('.', '.'), ('It', 'PRON'), ('also', 'ADV'), ('estimated', 'VERB'), ('that', 'ADP'), ('losses', 'NOUN'), ('from', 'ADP'), ('the', 'DET'), ('Oct.', 'NOUN'), ('17', 'NUM'), ('earthquake', 'NOUN'), ('in', 'ADP'), ('California', 'NOUN'), ('would', 'VERB'), ('be', 'VERB'), ('no', 'DET'), ('more', 'ADJ'), ('than', 'ADP'), ('$', '.'), ('6', 'NUM'), ('million', 'NUM'), ('*U*', 'X'), (',', '.'), ('and', 'CONJ'), ('would', 'VERB'), ('be', 'VERB'), ('included', 'VERB'), ('*-1', 'X'), ('in', 'ADP'), ('fourth-quarter', 'NOUN'), ('results', 'NOUN'), ('.', '.'), (',', '.'), (',', '.'), ('and', 'CONJ'), ('were', 'VERB'), ('closed', 'VERB'), ('for', 'ADP'), ('a', 'DET'), ('holiday', 'NOUN'), ('.', '.'), ('Freeport-McMoRan', 'NOUN'), (',', '.'), ('the', 'DET'), ('parent', 'NOUN'), ('company', 'NOUN'), (',', '.'), ('holds', 'VERB'), ('roughly', 'ADV'), ('80', 'NUM'), ('%', 'NOUN'), ('of', 'ADP'), ('the', 'DET'), ('units', 'NOUN'), ('outstanding', 'ADJ'), ('.', '.'), ('These', 'DET'), ('nations', 'NOUN'), (\"'\", 'PRT'), ('internal', 'ADJ'), ('decisions', 'NOUN'), ('``', '.'), ('will', 'VERB'), ('be', 'VERB'), ('made', 'VERB'), ('*-3', 'X'), ('in', 'ADP'), ('a', 'DET'), ('way', 'NOUN'), ('0', 'X'), ('*', 'X'), ('not', 'ADV'), ('to', 'PRT'), ('their', 'PRON'), ('largest', 'ADJ'), ('aid', 'NOUN'), ('donor', 'NOUN'), (',', '.'), ('largest', 'ADJ'), ('private', 'ADJ'), ('investor', 'NOUN'), ('and', 'CONJ'), ('largest', 'ADJ'), ('*T*-1', 'X'), (',', '.'), (\"''\", '.'), ('says', 'VERB'), ('0', 'X'), ('*T*-2', 'X'), ('Richard', 'NOUN'), (',', '.'), ('director', 'NOUN'), ('of', 'ADP'), ('the', 'DET'), ('international', 'ADJ'), ('business', 'NOUN'), ('and', 'CONJ'), ('research', 'NOUN'), ('program', 'NOUN'), ('at', 'ADP'), ('the', 'DET'), ('University', 'NOUN'), ('of', 'ADP'), ('Southern', 'NOUN'), ('California', 'NOUN'), (\"'s\", 'PRT'), ('Graduate', 'NOUN'), ('School', 'NOUN'), ('of', 'ADP'), ('Business', 'NOUN'), ('.', '.'), ('While', 'ADP'), ('many', 'ADJ'), ('of', 'ADP'), ('the', 'DET'), ('risks', 'NOUN'), ('were', 'VERB'), ('anticipated', 'VERB'), ('*-19', 'X'), ('when', 'ADV'), ('Cray', 'NOUN'), ('Research', 'NOUN'), ('first', 'ADJ'), ('announced', 'VERB'), ('the', 'DET'), ('spinoff', 'NOUN'), ('in', 'ADP'), ('May', 'NOUN'), ('*T*-1', 'X'), (',', '.'), ('the', 'DET'), ('strings', 'NOUN'), ('0', 'X'), ('it', 'PRON'), ('attached', 'VERB'), ('*T*-2', 'X'), ('to', 'PRT'), ('the', 'DET'), ('financing', 'NOUN'), ('had', 'VERB'), (\"n't\", 'ADV'), ('been', 'VERB'), ('made', 'VERB'), ('*-3', 'X'), ('public', 'ADJ'), ('until', 'ADP'), ('yesterday', 'NOUN'), ('.', '.'), ('A', 'DET'), ('total', 'ADJ'), ('of', 'ADP'), ('companies', 'NOUN'), ('*ICH*-1', 'X'), ('raised', 'VERB'), ('dividends', 'NOUN'), ('in', 'ADP'), ('October', 'NOUN'), (',', '.'), ('basically', 'ADV'), ('unchanged', 'ADJ'), ('from', 'ADP'), ('a', 'DET'), ('year', 'NOUN'), ('ago', 'ADP'), (',', '.'), ('S&P', 'NOUN'), ('said', 'VERB'), ('0', 'X'), ('*T*-2', 'X'), ('Wednesday', 'NOUN'), ('.', '.'), ('Ms.', 'NOUN'), (',', '.'), ('the', 'DET'), ('Journal', 'NOUN'), (\"'s\", 'PRT'), ('deputy', 'NOUN'), ('editorial', 'NOUN'), ('features', 'NOUN'), ('editor', 'NOUN'), (',', '.'), ('worked', 'VERB'), ('in', 'ADP'), ('Tokyo', 'NOUN'), ('for', 'ADP'), ('three', 'NUM'), ('years', 'NOUN'), ('.', '.'), ('The', 'DET'), ('railcars', 'NOUN'), (',', '.'), ('scheduled', 'VERB'), ('*', 'X'), ('for', 'ADP'), ('delivery', 'NOUN'), ('in', 'ADP'), ('1990', 'NUM'), (',', '.'), ('will', 'VERB'), ('be', 'VERB'), ('made', 'VERB'), ('*-1', 'X'), ('by', 'ADP'), ('Manufacturing', 'NOUN'), ('Co.', 'NOUN'), (',', '.'), ('a', 'DET'), ('Chicago', 'NOUN'), ('Heights', 'NOUN'), (',', '.'), ('Ill.', 'NOUN'), (',', '.'), ('division', 'NOUN'), ('of', 'ADP'), ('closely', 'ADV'), ('held', 'VERB'), ('Industries', 'NOUN'), ('Inc.', 'NOUN'), (',', '.'), (',', '.'), ('Ill', 'NOUN'), ('.', '.'), ('Mr.', 'NOUN'), ('Felten', 'NOUN'), ('said', 'VERB'), (',', '.'), ('``', '.'), ('We', 'PRON'), ('got', 'VERB'), ('what', 'PRON'), ('amounted', 'VERB'), ('to', 'PRT'), ('a', 'DET'), ('parking', 'NOUN'), ('ticket', 'NOUN'), (',', '.'), ('and', 'CONJ'), ('by', 'ADP'), ('*-1', 'X'), ('about', 'ADP'), ('it', 'PRON'), (',', '.'), ('we', 'PRON'), ('ended', 'VERB'), ('up', 'ADV'), ('with', 'ADP'), ('a', 'DET'), ('sizable', 'ADJ'), ('fine', 'NOUN'), ('and', 'CONJ'), ('suspension', 'NOUN'), ('.', '.'), (\"''\", '.'), ('Campbell', 'NOUN'), ('said', 'VERB'), ('0', 'X'), ('Mr.', 'NOUN'), ('McGovern', 'NOUN'), ('had', 'VERB'), ('withdrawn', 'VERB'), ('his', 'PRON'), ('name', 'VERB'), ('as', 'ADP'), ('a', 'DET'), ('candidate', 'NOUN'), ('for', 'ADP'), ('re-election', 'NOUN'), ('as', 'ADP'), ('a', 'DET'), ('director', 'NOUN'), ('at', 'ADP'), ('the', 'DET'), ('annual', 'ADJ'), ('shareholder', 'NOUN'), ('meeting', 'NOUN'), (',', '.'), ('scheduled', 'VERB'), ('*', 'X'), ('for', 'ADP'), ('Nov.', 'NOUN'), ('17', 'NUM'), ('.', '.'), ('For', 'ADP'), ('example', 'NOUN'), (',', '.'), ('there', 'DET'), ('are', 'VERB'), ('options', 'NOUN'), ('on', 'ADP'), ('the', 'DET'), ('S&P', 'NOUN'), ('500', 'NUM'), ('futures', 'NOUN'), ('contract', 'NOUN'), ('and', 'CONJ'), ('on', 'ADP'), ('the', 'DET'), ('S&P', 'NOUN'), ('100', 'NUM'), ('index', 'NOUN'), ('.', '.'), ('In', 'ADP'), ('an', 'DET'), ('joint', 'ADJ'), ('interview', 'NOUN'), ('yesterday', 'NOUN'), (',', '.'), ('both', 'DET'), ('men', 'NOUN'), ('said', 'VERB'), ('0', 'X'), ('they', 'PRON'), ('would', 'VERB'), ('like', 'ADP'), ('*-1', 'X'), ('to', 'PRT'), ('be', 'VERB'), ('the', 'DET'), ('company', 'NOUN'), (\"'s\", 'PRT'), ('next', 'ADJ'), ('chief', 'NOUN'), ('executive', 'NOUN'), ('.', '.'), ('If', 'ADP'), ('you', 'PRON'), (\"'d\", 'VERB'), ('really', 'ADV'), ('rather', 'ADV'), ('have', 'VERB'), ('a', 'DET'), ('Buick', 'NOUN'), (',', '.'), ('*', 'X'), ('do', 'VERB'), (\"n't\", 'ADV'), ('leave', 'VERB'), ('home', 'NOUN'), ('without', 'ADP'), ('the', 'DET'), ('American', 'ADJ'), ('Express', 'NOUN'), ('card', 'NOUN'), ('.', '.'), ('The', 'DET'), ('Texas', 'NOUN'), ('Oil', 'NOUN'), ('&', 'CONJ'), ('Gas', 'NOUN'), ('division', 'NOUN'), ('continues', 'VERB'), ('*-1', 'X'), ('to', 'PRT'), ('operate', 'VERB'), ('in', 'ADP'), ('the', 'DET'), ('red', 'ADJ'), (',', '.'), ('although', 'ADP'), ('losses', 'NOUN'), ('narrowed', 'VERB'), ('to', 'PRT'), ('$', '.'), ('9', 'NUM'), ('million', 'NUM'), ('*U*', 'X'), ('from', 'ADP'), ('$', '.'), ('15', 'NUM'), ('million', 'NUM'), ('*U*', 'X'), ('.', '.'), ('Stephen', 'NOUN'), ('G.', 'NOUN'), ('Jerritts', 'NOUN'), (',', '.'), ('president', 'NOUN'), ('and', 'CONJ'), ('chief', 'NOUN'), ('executive', 'NOUN'), ('officer', 'NOUN'), (',', '.'), ('said', 'VERB'), ('0', 'X'), ('customers', 'NOUN'), ('were', 'VERB'), (\"n't\", 'ADV'), ('willing', 'ADJ'), ('*-1', 'X'), ('to', 'PRT'), ('commit', 'VERB'), ('to', 'PRT'), ('an', 'DET'), ('expensive', 'ADJ'), ('NBI', 'NOUN'), ('hardware', 'NOUN'), ('systems', 'NOUN'), ('because', 'ADP'), ('of', 'ADP'), ('the', 'DET'), ('company', 'NOUN'), (\"'s\", 'PRT'), ('financial', 'ADJ'), ('troubles', 'NOUN'), ('.', '.'), (',', '.'), ('Japanese', 'ADJ'), ('manufacturers', 'NOUN'), ('have', 'VERB'), ('neither', 'DET'), ('good', 'ADJ'), ('working', 'NOUN'), ('conditions', 'NOUN'), ('nor', 'CONJ'), ('good', 'ADJ'), ('compensation', 'NOUN'), ('packages', 'NOUN'), ('.', '.'), ('In', 'ADP'), ('late', 'ADJ'), ('afternoon', 'NOUN'), ('New', 'NOUN'), ('York', 'NOUN'), ('trading', 'NOUN'), ('the', 'DET'), ('currency', 'NOUN'), ('was', 'VERB'), ('at', 'ADP'), ('1.8500', 'NUM'), ('marks', 'NOUN'), ('and', 'CONJ'), ('143.80', 'NUM'), ('yen', 'NOUN'), ('compared', 'VERB'), ('with', 'ADP'), ('1.8415', 'NUM'), ('marks', 'NOUN'), ('and', 'CONJ'), ('142.85', 'NUM'), ('yen', 'NOUN'), ('.', '.'), ('Commonwealth', 'NOUN'), ('Edison', 'NOUN'), ('Co.', 'NOUN'), ('was', 'VERB'), ('ordered', 'VERB'), ('*-1', 'X'), ('*-2', 'X'), ('to', 'PRT'), ('refund', 'VERB'), ('about', 'ADP'), ('$', '.'), ('250', 'NUM'), ('million', 'NUM'), ('*U*', 'X'), ('to', 'PRT'), ('its', 'PRON'), ('current', 'ADJ'), ('and', 'CONJ'), ('former', 'ADJ'), ('for', 'ADP'), ('illegal', 'ADJ'), ('rates', 'NOUN'), ('collected', 'VERB'), ('*', 'X'), ('for', 'ADP'), ('cost', 'NOUN'), ('on', 'ADP'), ('a', 'DET'), ('nuclear', 'ADJ'), ('power', 'NOUN'), ('plant', 'NOUN'), ('.', '.'), ('The', 'DET'), ('statistics', 'NOUN'), ('that', 'ADP'), ('of', 'ADP'), ('blacks', 'NOUN'), ('approve', 'VERB'), ('of', 'ADP'), ('Mr.', 'NOUN'), ('Bush', 'NOUN'), (\"'s\", 'PRT'), ('job', 'NOUN'), ('performance', 'NOUN'), ('and', 'CONJ'), ('85', 'NUM'), ('%', 'NOUN'), ('of', 'ADP'), ('blacks', 'NOUN'), ('approve', 'VERB'), ('of', 'ADP'), ('Mrs.', 'NOUN'), ('Bush', 'NOUN'), ('.', '.'), ('--', '.'), ('The', 'DET'), ('USIA', 'NOUN'), ('said', 'VERB'), ('that', 'ADP'), (',', '.'), ('on', 'ADP'), ('reflection', 'NOUN'), (',', '.'), ('of', 'ADP'), ('course', 'NOUN'), ('I', 'PRON'), ('could', 'VERB'), ('print', 'VERB'), ('anything', 'NOUN'), ('0', 'X'), ('I', 'PRON'), ('could', 'VERB'), ('get', 'VERB'), ('my', 'PRON'), ('hands', 'NOUN'), ('on', 'ADP'), ('*T*-1', 'X'), ('.', '.'), ('The', 'DET'), ('administration', 'NOUN'), (\"'s\", 'PRT'), ('plan', 'NOUN'), ('could', 'VERB'), ('cost', 'NOUN'), ('utilities', 'NOUN'), (',', '.'), ('mainly', 'ADV'), ('those', 'DET'), ('that', 'ADP'), ('*T*-1', 'X'), ('use', 'VERB'), ('coal', 'NOUN'), (',', '.'), ('up', 'ADV'), ('to', 'PRT'), ('$', '.'), ('4', 'NUM'), ('billion', 'NUM'), ('*U*', 'X'), ('a', 'DET'), ('year', 'NOUN'), ('.', '.'), ('A', 'DET'), ('USX', 'NOUN'), ('spokesman', 'NOUN'), ('said', 'VERB'), ('0', 'X'), ('the', 'DET'), ('company', 'NOUN'), ('had', 'VERB'), (\"n't\", 'ADV'), ('yet', 'ADV'), ('received', 'VERB'), ('any', 'DET'), ('documents', 'NOUN'), ('*ICH*-1', 'X'), ('from', 'ADP'), ('OSHA', 'NOUN'), ('regarding', 'VERB'), ('the', 'DET'), ('penalty', 'NOUN'), ('or', 'CONJ'), ('fine', 'NOUN'), ('.', '.'), ('The', 'DET'), ('Stamford', 'NOUN'), (',', '.'), ('Conn.', 'NOUN'), (',', '.'), ('concern', 'NOUN'), ('has', 'VERB'), ('agreed', 'VERB'), ('to', 'PRT'), ('a', 'DET'), ('buy-out', 'NOUN'), ('by', 'ADP'), ('Bank', 'NOUN'), ('of', 'ADP'), ('New', 'NOUN'), ('York', 'NOUN'), ('in', 'ADP'), ('a', 'DET'), ('transaction', 'NOUN'), ('with', 'ADP'), ('an', 'DET'), ('indicated', 'VERB'), ('value', 'NOUN'), ('of', 'ADP'), ('about', 'ADP'), ('$', '.'), ('100', 'NUM'), ('*U*', 'X'), ('a', 'DET'), ('share', 'NOUN'), ('that', 'ADP'), ('next', 'ADJ'), ('August', 'NOUN'), ('.', '.'), ('Then', 'ADV'), (',', '.'), ('in', 'ADP'), ('the', 'DET'), ('guests', 'NOUN'), (\"'\", 'PRT'), ('honor', 'VERB'), (',', '.'), ('the', 'DET'), ('out', 'ADP'), ('four', 'NUM'), ('drivers', 'NOUN'), (',', '.'), ('and', 'CONJ'), ('even', 'ADV'), ('the', 'DET'), ('official', 'NOUN'), ('Indianapolis', 'NOUN'), ('500', 'NUM'), ('announcer', 'NOUN'), ('for', 'ADP'), ('a', 'DET'), ('exhibition', 'NOUN'), ('race', 'NOUN'), ('.', '.'), ('In', 'ADP'), ('CAT', 'NOUN'), ('sections', 'NOUN'), ('where', 'ADV'), ('students', 'NOUN'), (\"'\", 'PRT'), ('knowledge', 'NOUN'), ('of', 'ADP'), ('sounds', 'VERB'), ('is', 'VERB'), ('tested', 'VERB'), ('*-1', 'X'), ('*T*-2', 'X'), (',', '.'), ('the', 'DET'), ('authors', 'NOUN'), ('noted', 'VERB'), ('that', 'ADP'), ('Scoring', 'NOUN'), ('High', 'NOUN'), ('concentrated', 'VERB'), ('on', 'ADP'), ('the', 'DET'), ('same', 'ADJ'), ('sounds', 'VERB'), ('that', 'ADP'), ('the', 'DET'), ('test', 'NOUN'), ('does', 'VERB'), ('*?*', 'X'), ('*T*-4', 'X'), ('--', '.'), ('to', 'PRT'), ('the', 'DET'), ('of', 'ADP'), ('other', 'ADJ'), ('sounds', 'VERB'), ('that', 'ADP'), ('fifth', 'ADJ'), ('graders', 'NOUN'), ('should', 'VERB'), ('know', 'VERB'), ('*T*-3', 'X'), ('.', '.'), ('The', 'DET'), ('ad', 'NOUN'), ('prompted', 'VERB'), ('Mr.', 'NOUN'), ('Coleman', 'NOUN'), (',', '.'), ('the', 'DET'), ('former', 'ADJ'), ('Virginia', 'NOUN'), ('attorney', 'NOUN'), ('general', 'ADJ'), (',', '.'), ('to', 'PRT'), ('launch', 'VERB'), ('a', 'DET'), ('series', 'NOUN'), ('of', 'ADP'), ('advertisements', 'NOUN'), ('created', 'VERB'), ('*', 'X'), ('by', 'ADP'), ('Bob', 'NOUN'), ('and', 'CONJ'), ('designed', 'VERB'), ('*', 'X'), ('*-2', 'X'), ('to', 'PRT'), ('Mr.', 'NOUN'), ('Wilder', 'NOUN'), (\"'s\", 'PRT'), ('support', 'VERB'), ('among', 'ADP'), ('the', 'DET'), ('very', 'ADV'), ('women', 'NOUN'), ('who', 'PRON'), ('*T*-77', 'X'), ('were', 'VERB'), ('attracted', 'VERB'), ('*-1', 'X'), ('by', 'ADP'), ('the', 'DET'), ('abortion', 'NOUN'), ('ad', 'NOUN'), ('.', '.'), ('Common', 'NOUN'), ('shares', 'NOUN'), ('outstanding', 'ADJ'), (':', '.'), ('19.6', 'NUM'), ('million', 'NUM'), ('Mr.', 'NOUN'), ('Leinonen', 'NOUN'), ('said', 'VERB'), ('0', 'X'), ('he', 'PRON'), ('expects', 'VERB'), ('Ford', 'NOUN'), ('to', 'PRT'), ('meet', 'VERB'), ('the', 'DET'), ('deadline', 'NOUN'), ('easily', 'ADV'), ('.', '.'), ('Why', 'ADV'), ('are', 'VERB'), ('programs', 'NOUN'), ('like', 'ADP'), ('this', 'DET'), ('not', 'ADV'), ('eliminated', 'VERB'), ('*-2', 'X'), ('*T*-1', 'X'), ('?', '.'), ('But', 'CONJ'), ('it', 'PRON'), (\"'s\", 'VERB'), ('building', 'VERB'), ('on', 'ADP'), ('a', 'DET'), ('long', 'ADJ'), ('tradition', 'NOUN'), ('.', '.'), ('underwriters', 'NOUN'), ('for', 'ADP'), ('the', 'DET'), ('issue', 'NOUN'), ('are', 'VERB'), ('Inc.', 'NOUN'), ('and', 'CONJ'), ('Securities', 'NOUN'), ('Inc.', 'NOUN'), (',', '.'), ('both', 'DET'), ('Toronto-based', 'ADJ'), ('investment', 'NOUN'), ('dealers', 'NOUN'), ('.', '.'), ('The', 'DET'), ('government', 'NOUN'), (\"'s\", 'PRT'), ('construction', 'NOUN'), ('spending', 'NOUN'), ('figures', 'NOUN'), ('contrast', 'NOUN'), ('with', 'ADP'), ('a', 'DET'), ('report', 'NOUN'), ('issued', 'VERB'), ('*', 'X'), ('earlier', 'ADV'), ('in', 'ADP'), ('the', 'DET'), ('week', 'NOUN'), ('by', 'ADP'), ('McGraw-Hill', 'NOUN'), ('Inc.', 'NOUN'), (\"'s\", 'PRT'), ('Dodge', 'NOUN'), ('Group', 'NOUN'), ('.', '.'), ('Standard', 'NOUN'), ('&', 'CONJ'), ('Poor', 'NOUN'), (\"'s\", 'PRT'), ('Corp.', 'NOUN'), ('lowered', 'VERB'), ('to', 'PRT'), ('from', 'ADP'), ('the', 'DET'), ('rating', 'NOUN'), ('on', 'ADP'), ('about', 'ADP'), ('$', '.'), ('130', 'NUM'), ('million', 'NUM'), ('*U*', 'X'), ('of', 'ADP'), ('debt', 'NOUN'), ('.', '.'), ('Taiwan', 'NOUN'), ('has', 'VERB'), ('improved', 'VERB'), ('its', 'PRON'), ('standing', 'NOUN'), ('with', 'ADP'), ('the', 'DET'), ('U.S.', 'NOUN'), ('by', 'ADP'), ('*-2', 'X'), ('a', 'DET'), ('bilateral', 'ADJ'), ('copyright', 'NOUN'), ('agreement', 'NOUN'), (',', '.'), ('its', 'PRON'), ('law', 'NOUN'), ('and', 'CONJ'), ('introducing', 'VERB'), ('legislation', 'NOUN'), ('0', 'X'), ('*', 'X'), ('to', 'PRT'), ('protect', 'VERB'), ('foreign', 'ADJ'), ('movie', 'NOUN'), ('producers', 'NOUN'), ('from', 'ADP'), ('of', 'ADP'), ('their', 'PRON'), ('films', 'NOUN'), ('*T*-1', 'X'), ('.', '.'), ('Speculation', 'NOUN'), (',', '.'), ('on', 'ADP'), ('the', 'DET'), ('other', 'ADJ'), ('hand', 'NOUN'), (',', '.'), ('sparked', 'VERB'), ('buying', 'VERB'), ('in', 'ADP'), ('certain', 'ADJ'), ('issues', 'NOUN'), (',', '.'), ('though', 'ADP'), ('rumors', 'NOUN'), ('underlying', 'VERB'), ('such', 'ADJ'), ('shares', 'NOUN'), ('eventually', 'ADV'), ('proved', 'VERB'), ('.', '.'), ('At', 'ADP'), ('the', 'DET'), ('same', 'ADJ'), ('time', 'NOUN'), (',', '.'), ('Viacom', 'NOUN'), ('is', 'VERB'), ('trying', 'VERB'), ('*-1', 'X'), ('to', 'PRT'), ('persuade', 'VERB'), ('stations', 'NOUN'), ('*-2', 'X'), ('to', 'PRT'), ('make', 'VERB'), ('commitments', 'NOUN'), ('to', 'PRT'), ('``', '.'), ('A', 'DET'), ('World', 'NOUN'), (',', '.'), (\"''\", '.'), ('a', 'DET'), ('of', 'ADP'), ('``', '.'), ('Cosby', 'NOUN'), (\"''\", '.'), ('whose', 'PRON'), ('reruns', 'NOUN'), ('will', 'VERB'), ('become', 'VERB'), ('available', 'ADJ'), ('in', 'ADP'), ('1991', 'NUM'), ('.', '.'), ('The', 'DET'), ('Voice', 'NOUN'), ('of', 'ADP'), ('America', 'NOUN'), ('is', 'VERB'), ('a', 'DET'), ('government', 'NOUN'), ('agency', 'NOUN'), ('that', 'ADP'), ('*T*-1', 'X'), ('broadcasts', 'NOUN'), ('news', 'NOUN'), ('and', 'CONJ'), ('views', 'NOUN'), ('--', '.'), ('some', 'DET'), ('might', 'VERB'), ('say', 'VERB'), ('propaganda', 'NOUN'), ('--', '.'), ('in', 'ADP'), ('43', 'NUM'), ('to', 'PRT'), ('130', 'NUM'), ('million', 'NUM'), ('around', 'ADP'), ('the', 'DET'), ('world', 'NOUN'), ('.', '.'), ('makers', 'NOUN'), ('regard', 'VERB'), ('the', 'DET'), ('youth', 'NOUN'), ('wage', 'NOUN'), ('as', 'ADP'), ('*', 'X'), ('helping', 'VERB'), ('*-1', 'X'), ('to', 'PRT'), ('limit', 'NOUN'), ('the', 'DET'), ('loss', 'NOUN'), ('of', 'ADP'), ('jobs', 'NOUN'), ('from', 'ADP'), ('an', 'DET'), ('increase', 'NOUN'), ('in', 'ADP'), ('the', 'DET'), ('minimum', 'ADJ'), ('wage', 'NOUN'), (',', '.'), ('but', 'CONJ'), ('they', 'PRON'), ('have', 'VERB'), ('it', 'PRON'), ('as', 'ADP'), ('necessary', 'ADJ'), ('*-2', 'X'), ('to', 'PRT'), ('help', 'VERB'), ('*-3', 'X'), ('job', 'NOUN'), ('to', 'PRT'), ('into', 'ADP'), ('the', 'DET'), ('work', 'NOUN'), ('force', 'NOUN'), ('.', '.'), ('On', 'ADP'), ('Wall', 'NOUN'), ('Street', 'NOUN'), ('men', 'NOUN'), ('and', 'CONJ'), ('women', 'NOUN'), ('walk', 'VERB'), ('with', 'ADP'), ('great', 'ADJ'), ('purpose', 'NOUN'), (',', '.'), ('*-2', 'X'), ('one', 'NUM'), ('another', 'DET'), ('only', 'ADJ'), ('when', 'ADV'), ('they', 'PRON'), ('for', 'ADP'), ('*T*-1', 'X'), ('.', '.'), ('Cathryn', 'NOUN'), ('Rice', 'NOUN'), ('could', 'VERB'), ('hardly', 'ADV'), ('believe', 'VERB'), ('her', 'PRON'), ('eyes', 'NOUN'), ('.', '.'), ('The', 'DET'), ('12', 'NUM'), ('%', 'NOUN'), ('notes', 'NOUN'), ('due', 'ADJ'), ('fell', 'VERB'), ('to', 'PRT'), ('3\\\\/8', 'NUM'), ('*-1', 'X'), ('to', 'PRT'), ('yield', 'VERB'), ('%', 'NOUN'), ('.', '.'), ('*', 'X'), ('volatility', 'NOUN'), ('.', '.'), ('In', 'ADP'), ('another', 'DET'), ('reflection', 'NOUN'), ('that', 'ADP'), ('the', 'DET'), ('growth', 'NOUN'), ('of', 'ADP'), ('the', 'DET'), ('economy', 'NOUN'), ('is', 'VERB'), ('leveling', 'VERB'), ('off', 'PRT'), (',', '.'), ('the', 'DET'), ('government', 'NOUN'), ('said', 'VERB'), ('that', 'ADP'), ('orders', 'NOUN'), ('for', 'ADP'), ('manufactured', 'VERB'), ('goods', 'NOUN'), ('and', 'CONJ'), ('spending', 'NOUN'), ('on', 'ADP'), ('construction', 'NOUN'), ('failed', 'VERB'), ('*-1', 'X'), ('to', 'PRT'), ('rise', 'VERB'), ('in', 'ADP'), ('September', 'NOUN'), ('.', '.'), ('``', '.'), ('So', 'ADV'), (',', '.'), (',', '.'), (',', '.'), (',', '.'), (',', '.'), ('--', '.'), ('here', 'ADV'), ('come', 'VERB'), ('*T*-4', 'X'), ('the', 'DET'), ('ringers', 'NOUN'), ('from', 'ADP'), ('above', 'ADP'), (',', '.'), ('*-1', 'X'), ('making', 'VERB'), ('a', 'DET'), ('very', 'ADV'), ('while', 'ADP'), ('the', 'DET'), ('congregation', 'NOUN'), ('is', 'VERB'), ('at', 'ADP'), (',', '.'), (\"''\", '.'), ('he', 'PRON'), ('says', 'VERB'), ('*T*-2', 'X'), ('.', '.'), ('Rather', 'ADV'), ('than', 'ADP'), ('*-1', 'X'), ('increasing', 'VERB'), ('dividends', 'NOUN'), (',', '.'), ('some', 'DET'), ('companies', 'NOUN'), ('have', 'VERB'), ('used', 'VERB'), ('cash', 'NOUN'), ('*-1', 'X'), ('to', 'PRT'), ('buy', 'VERB'), ('back', 'ADV'), ('some', 'DET'), ('of', 'ADP'), ('their', 'PRON'), ('shares', 'NOUN'), (',', '.'), ('notes', 'NOUN'), ('0', 'X'), ('*T*-2', 'X'), ('Steven', 'NOUN'), ('G.', 'NOUN'), ('Einhorn', 'NOUN'), (',', '.'), ('of', 'ADP'), ('the', 'DET'), ('investment', 'NOUN'), ('policy', 'NOUN'), ('committee', 'NOUN'), ('at', 'ADP'), ('Goldman', 'NOUN'), (',', '.'), ('Sachs', 'NOUN'), ('&', 'CONJ'), ('Co', 'NOUN'), ('.', '.'), ('But', 'CONJ'), ('*', 'X'), ('do', 'VERB'), (\"n't\", 'ADV'), ('too', 'ADV'), ('easy', 'ADJ'), (':', '.'), ('Those', 'DET'), ('dividend', 'NOUN'), ('increases', 'NOUN'), ('may', 'VERB'), ('signal', 'VERB'), ('trouble', 'NOUN'), ('ahead', 'ADV'), ('for', 'ADP'), ('stock', 'NOUN'), ('prices', 'NOUN'), (',', '.'), ('some', 'DET'), ('analysts', 'NOUN'), ('0', 'X'), ('*T*-1', 'X'), ('.', '.'), ('In', 'ADP'), ('all', 'DET'), (',', '.'), ('the', 'DET'), ('company', 'NOUN'), ('hopes', 'VERB'), ('*-2', 'X'), ('to', 'PRT'), ('$', '.'), ('45', 'NUM'), ('million', 'NUM'), ('*U*', 'X'), ('in', 'ADP'), ('debt', 'NOUN'), ('through', 'ADP'), ('the', 'DET'), ('sales', 'NOUN'), (',', '.'), ('which', 'DET'), ('*T*-1', 'X'), ('will', 'VERB'), ('completely', 'ADV'), ('its', 'PRON'), ('secured', 'VERB'), ('debt', 'NOUN'), (',', '.'), ('the', 'DET'), ('company', 'NOUN'), ('said', 'VERB'), ('0', 'X'), ('*T*-3', 'X'), ('.', '.'), ('domestic', 'ADJ'), ('demand', 'NOUN'), ('due', 'ADJ'), ('to', 'PRT'), ('increasing', 'VERB'), ('capital', 'NOUN'), ('investment', 'NOUN'), ('pushed', 'VERB'), ('up', 'ADV'), ('sales', 'NOUN'), ('sharply', 'ADV'), ('in', 'ADP'), ('construction', 'NOUN'), ('and', 'CONJ'), ('industrial', 'ADJ'), ('machinery', 'NOUN'), ('divisions', 'NOUN'), ('.', '.'), ('Among', 'ADP'), ('the', 'DET'), ('top', 'ADJ'), ('practitioners', 'NOUN'), ('were', 'VERB'), ('*T*-1', 'X'), ('Wall', 'NOUN'), ('Street', 'NOUN'), ('blue', 'ADJ'), (':', '.'), ('Morgan', 'NOUN'), ('Stanley', 'NOUN'), ('&', 'CONJ'), ('Co.', 'NOUN'), (',', '.'), ('Kidder', 'NOUN'), ('Peabody', 'NOUN'), (',', '.'), ('Merrill', 'NOUN'), ('Lynch', 'NOUN'), (',', '.'), ('Salomon', 'NOUN'), ('Brothers', 'NOUN'), ('Inc.', 'NOUN'), ('and', 'CONJ'), ('PaineWebber', 'NOUN'), ('Group', 'NOUN'), ('Inc', 'NOUN'), ('.', '.'), ('all', 'DET'), (',', '.'), ('Mr.', 'NOUN'), ('Oxnard', 'NOUN'), ('noted', 'VERB'), ('0', 'X'), ('*T*-1', 'X'), (',', '.'), ('the', 'DET'), ('situation', 'NOUN'), ('is', 'VERB'), ('extremely', 'ADV'), ('.', '.'), ('The', 'DET'), ('nation', 'NOUN'), (\"'s\", 'PRT'), ('largest', 'ADJ'), ('steelmaker', 'NOUN'), ('earned', 'VERB'), ('$', '.'), ('175', 'NUM'), ('million', 'NUM'), ('*U*', 'X'), (',', '.'), ('or', 'CONJ'), ('62', 'NUM'), ('cents', 'NOUN'), ('a', 'DET'), ('share', 'NOUN'), (',', '.'), ('compared', 'VERB'), ('with', 'ADP'), ('the', 'DET'), ('year-earlier', 'ADJ'), ('$', '.'), ('228', 'NUM'), ('million', 'NUM'), ('*U*', 'X'), (',', '.'), ('or', 'CONJ'), ('80', 'NUM'), ('cents', 'NOUN'), ('a', 'DET'), ('share', 'NOUN'), ('.', '.'), ('The', 'DET'), ('fast-food', 'NOUN'), ('company', 'NOUN'), ('said', 'VERB'), ('0', 'X'), ('its', 'PRON'), ('decision', 'NOUN'), ('was', 'VERB'), ('based', 'VERB'), ('*-1', 'X'), ('upon', 'ADP'), ('discussions', 'NOUN'), ('with', 'ADP'), ('a', 'DET'), ('shareholder', 'NOUN'), ('group', 'NOUN'), (',', '.'), ('Giant', 'NOUN'), ('Group', 'NOUN'), ('Ltd.', 'NOUN'), (',', '.'), ('``', '.'), ('in', 'ADP'), ('an', 'DET'), ('effort', 'NOUN'), ('*', 'X'), ('to', 'PRT'), ('resolve', 'VERB'), ('certain', 'ADJ'), ('disputes', 'NOUN'), ('with', 'ADP'), ('the', 'DET'), ('company', 'NOUN'), ('.', '.'), (\"''\", '.'), ('``', '.'), ('If', 'ADP'), ('you', 'PRON'), ('were', 'VERB'), ('a', 'DET'), ('short-term', 'ADJ'), ('investor', 'NOUN'), (',', '.'), ('you', 'PRON'), ('might', 'VERB'), ('be', 'VERB'), ('more', 'ADV'), ('about', 'ADP'), ('program', 'NOUN'), ('trading', 'NOUN'), ('.', '.'), (\"''\", '.'), ('Sales', 'NOUN'), ('by', 'ADP'), ('these', 'DET'), ('subsidiaries', 'NOUN'), ('in', 'ADP'), ('the', 'DET'), ('fiscal', 'ADJ'), ('year', 'NOUN'), ('ending', 'VERB'), ('last', 'ADJ'), ('March', 'NOUN'), ('were', 'VERB'), ('more', 'ADV'), ('than', 'ADP'), ('$', '.'), ('17', 'NUM'), ('billion', 'NUM'), ('*U*', 'X'), ('.', '.'), ('DES', 'NOUN'), ('daughters', 'NOUN'), ('and', 'CONJ'), ('other', 'ADJ'), ('victims', 'NOUN'), ('of', 'ADP'), ('drugs', 'NOUN'), ('would', 'VERB'), ('be', 'VERB'), ('better', 'ADV'), ('off', 'ADP'), ('if', 'ADP'), ('their', 'PRON'), ('cases', 'NOUN'), ('were', 'VERB'), ('taken', 'VERB'), ('*-1', 'X'), ('out', 'PRT'), ('of', 'ADP'), ('the', 'DET'), ('courts', 'NOUN'), ('.', '.'), ('*-1', 'X'), ('No', 'DET'), (',', '.'), ('the', 'DET'), ('drivers', 'NOUN'), ('pointed', 'VERB'), ('out', 'PRT'), ('0', 'X'), ('they', 'PRON'), ('still', 'ADV'), ('had', 'VERB'), ('space', 'NOUN'), ('on', 'ADP'), ('their', 'PRON'), ('machines', 'NOUN'), ('for', 'ADP'), ('another', 'DET'), ('sponsor', 'NOUN'), (\"'s\", 'PRT'), ('name', 'NOUN'), ('or', 'CONJ'), ('two', 'NUM'), ('.', '.'), ('First', 'NOUN'), (',', '.'), ('the', 'DET'), ('trading', 'NOUN'), ('is', 'VERB'), ('done', 'VERB'), ('*-1', 'X'), ('over', 'ADP'), ('the', 'DET'), ('and', 'CONJ'), ('is', 'VERB'), (\"n't\", 'ADV'), ('reported', 'VERB'), ('*-1', 'X'), ('on', 'ADP'), ('either', 'DET'), ('the', 'DET'), ('U.S.', 'NOUN'), ('or', 'CONJ'), ('London', 'NOUN'), ('stock', 'NOUN'), ('trading', 'NOUN'), ('.', '.'), ('The', 'DET'), ('National', 'NOUN'), ('Association', 'NOUN'), ('of', 'ADP'), ('Manufacturers', 'NOUN'), ('settled', 'VERB'), ('on', 'ADP'), ('the', 'DET'), ('capital', 'NOUN'), ('of', 'ADP'), ('Indianapolis', 'NOUN'), ('for', 'ADP'), ('its', 'PRON'), ('fall', 'VERB'), ('board', 'NOUN'), ('meeting', 'NOUN'), ('.', '.'), ('A', 'DET'), ('final', 'ADJ'), ('*ICH*-1', 'X'), ('was', 'VERB'), ('made', 'VERB'), ('to', 'PRT'), ('the', 'DET'), ('five-point', 'ADJ'), ('opening', 'NOUN'), ('limit', 'NOUN'), ('for', 'ADP'), ('the', 'DET'), ('contract', 'NOUN'), ('.', '.'), ('The', 'DET'), ('Treasury', 'NOUN'), ('said', 'VERB'), ('0', 'X'), ('it', 'PRON'), ('needs', 'VERB'), ('*-1', 'X'), ('to', 'PRT'), ('raise', 'VERB'), ('$', '.'), ('billion', 'NUM'), ('*U*', 'X'), ('in', 'ADP'), ('the', 'DET'), ('current', 'ADJ'), ('quarter', 'NOUN'), ('in', 'ADP'), ('order', 'NOUN'), ('*-1', 'X'), ('to', 'PRT'), ('end', 'NOUN'), ('December', 'NOUN'), ('with', 'ADP'), ('a', 'DET'), ('$', '.'), ('20', 'NUM'), ('billion', 'NUM'), ('*U*', 'X'), ('cash', 'NOUN'), ('balance', 'NOUN'), ('.', '.'), ('Despite', 'ADP'), ('a', 'DET'), ('of', 'ADP'), ('economic', 'ADJ'), ('news', 'NOUN'), (',', '.'), ('the', 'DET'), ('Treasury', 'NOUN'), ('market', 'NOUN'), ('remained', 'VERB'), ('quiet', 'ADJ'), ('but', 'CONJ'), ('the', 'DET'), ('corporate', 'ADJ'), ('market', 'NOUN'), ('was', 'VERB'), ('over', 'ADP'), ('International', 'NOUN'), ('Business', 'NOUN'), ('Machines', 'NOUN'), ('Corp.', 'NOUN'), (\"'s\", 'PRT'), ('huge', 'ADJ'), ('debt', 'NOUN'), ('offering', 'NOUN'), ('.', '.'), ('About', 'ADP'), ('$', '.'), ('million', 'NUM'), ('*U*', 'X'), ('of', 'ADP'), ('that', 'DET'), ('would', 'VERB'), ('be', 'VERB'), ('allocated', 'VERB'), ('*-87', 'X'), ('to', 'PRT'), ('the', 'DET'), ('buy-back', 'ADJ'), (',', '.'), ('*', 'X'), ('leaving', 'VERB'), ('about', 'ADP'), ('$', '.'), ('130', 'NUM'), ('million', 'NUM'), ('*U*', 'X'), (',', '.'), ('he', 'PRON'), ('said', 'VERB'), ('0', 'X'), ('*T*-1', 'X'), ('.', '.'), ('One', 'NUM'), ('big', 'ADJ'), ('reason', 'NOUN'), (':', '.'), ('thin', 'ADJ'), ('margins', 'NOUN'), ('.', '.'), ('The', 'DET'), ('Herald', 'NOUN'), ('joins', 'VERB'), ('the', 'DET'), ('Baltimore', 'NOUN'), (',', '.'), ('which', 'DET'), ('*T*-46', 'X'), (',', '.'), ('and', 'CONJ'), ('the', 'DET'), ('Boston', 'NOUN'), (',', '.'), ('which', 'DET'), ('*T*-1', 'X'), ('was', 'VERB'), ('sold', 'VERB'), ('*-62', 'X'), (',', '.'), ('as', 'ADP'), ('of', 'ADP'), ('the', 'DET'), ('old', 'ADJ'), ('Hearst', 'NOUN'), ('newspaper', 'NOUN'), ('empire', 'NOUN'), ('abandoned', 'VERB'), ('*', 'X'), ('by', 'ADP'), ('the', 'DET'), ('company', 'NOUN'), ('in', 'ADP'), ('the', 'DET'), ('1980s', 'NOUN'), ('.', '.'), ('Some', 'DET'), ('of', 'ADP'), ('the', 'DET'), ('wines', 'NOUN'), (',', '.'), ('even', 'ADV'), ('at', 'ADP'), ('$', '.'), ('90', 'NUM'), ('to', 'PRT'), ('$', '.'), ('100', 'NUM'), ('*U*', 'X'), ('*ICH*-1', 'X'), ('a', 'DET'), ('bottle', 'NOUN'), ('or', 'CONJ'), ('so', 'ADV'), (',', '.'), ('almost', 'ADV'), ('offer', 'VERB'), ('a', 'DET'), ('.', '.'), (\"''\", '.'), ('The', 'DET'), ('company', 'NOUN'), (',', '.'), ('which', 'DET'), ('recently', 'ADV'), ('said', 'VERB'), ('0', 'X'), ('it', 'PRON'), ('the', 'DET'), ('profits', 'NOUN'), ('and', 'CONJ'), ('capital', 'NOUN'), ('0', 'X'), ('*', 'X'), ('to', 'PRT'), ('pay', 'VERB'), ('dividends', 'NOUN'), ('on', 'ADP'), ('its', 'PRON'), ('Series', 'NOUN'), ('A', 'DET'), ('convertible', 'ADJ'), ('preferred', 'ADJ'), ('stock', 'NOUN'), ('*T*-1', 'X'), (',', '.'), ('said', 'VERB'), ('0', 'X'), ('it', 'PRON'), ('has', 'VERB'), ('hired', 'VERB'), ('an', 'DET'), ('investment', 'NOUN'), ('banker', 'NOUN'), ('0', 'X'), ('*T*-2', 'X'), ('to', 'PRT'), ('help', 'VERB'), ('it', 'PRON'), ('raise', 'VERB'), ('additional', 'ADJ'), ('cash', 'NOUN'), ('.', '.'), ('The', 'DET'), (',', '.'), ('also', 'ADV'), ('called', 'VERB'), ('*', 'X'), ('``', '.'), ('scientists', 'NOUN'), (\"''\", '.'), ('because', 'ADP'), ('of', 'ADP'), ('their', 'PRON'), ('in', 'ADP'), ('physics', 'NOUN'), ('and', 'CONJ'), ('mathematics', 'NOUN'), (',', '.'), ('devise', 'VERB'), ('the', 'DET'), ('complex', 'ADJ'), ('and', 'CONJ'), ('trading', 'NOUN'), ('strategies', 'NOUN'), ('that', 'ADP'), ('*T*-1', 'X'), ('are', 'VERB'), ('known', 'VERB'), ('*-2', 'X'), ('as', 'ADP'), ('program', 'NOUN'), ('trading', 'NOUN'), ('.', '.'), ('It', 'PRON'), ('also', 'ADV'), ('would', 'VERB'), ('junk', 'NOUN'), ('an', 'DET'), ('system', 'NOUN'), ('for', 'ADP'), ('*', 'X'), ('trading', 'NOUN'), ('emissions', 'NOUN'), ('credits', 'NOUN'), ('among', 'ADP'), ('.', '.'), ('In', 'ADP'), ('other', 'ADJ'), ('years', 'NOUN'), ('in', 'ADP'), ('which', 'DET'), ('there', 'ADV'), ('have', 'VERB'), ('been', 'VERB'), ('moderate', 'ADJ'), ('economic', 'ADJ'), ('--', '.'), ('the', 'DET'), ('environment', 'NOUN'), ('0', 'X'), ('the', 'DET'), ('firm', 'NOUN'), ('expects', 'VERB'), ('*T*-1', 'X'), ('in', 'ADP'), ('1990', 'NUM'), ('*T*-2', 'X'), ('--', '.'), ('the', 'DET'), ('change', 'NOUN'), ('in', 'ADP'), ('dividends', 'NOUN'), ('ranged', 'VERB'), ('from', 'ADP'), ('a', 'DET'), ('gain', 'NOUN'), ('of', 'ADP'), ('4', 'NUM'), ('%', 'NOUN'), ('to', 'PRT'), ('a', 'DET'), ('decline', 'NOUN'), ('of', 'ADP'), ('1', 'NUM'), ('%', 'NOUN'), (',', '.'), ('according', 'VERB'), ('to', 'PRT'), ('PaineWebber', 'NOUN'), ('analyst', 'NOUN'), ('Thomas', 'NOUN'), ('.', '.'), ('The', 'DET'), ('less', 'ADJ'), ('complicated', 'ADJ'), ('version', 'NOUN'), ('of', 'ADP'), ('*', 'X'), ('playing', 'VERB'), ('on', 'ADP'), ('bells', 'NOUN'), (',', '.'), ('as', 'ADP'), ('do', 'VERB'), ('*?*', 'X'), ('the', 'DET'), ('of', 'ADP'), ('Europe', 'NOUN'), (',', '.'), ('is', 'VERB'), ('considered', 'VERB'), ('by', 'ADP'), ('the', 'DET'), ('English', 'NOUN'), ('to', 'PRT'), ('be', 'VERB'), (',', '.'), ('fit', 'NOUN'), ('only', 'ADV'), ('for', 'ADP'), ('.', '.'), ('.', '.'), ('A', 'DET'), ('Shearson', 'NOUN'), ('spokesman', 'NOUN'), ('said', 'VERB'), ('0', 'X'), ('the', 'DET'), ('firm', 'NOUN'), ('is', 'VERB'), (\"n't\", 'ADV'), ('worried', 'VERB'), ('.', '.'), ('In', 'ADP'), ('sometimes', 'ADV'), ('amusing', 'ADJ'), (',', '.'), ('more', 'ADV'), ('often', 'ADV'), (',', '.'), ('even', 'ADV'), (',', '.'), ('Mr.', 'NOUN'), ('Katzenstein', 'NOUN'), ('describes', 'VERB'), ('how', 'ADV'), ('Sony', 'NOUN'), ('even', 'ADV'), ('the', 'DET'), ('most', 'ADJ'), ('of', 'ADP'), ('its', 'PRON'), ('workers', 'NOUN'), (\"'\", 'PRT'), ('lives', 'VERB'), ('--', '.'), ('at', 'ADP'), ('the', 'DET'), ('office', 'NOUN'), (',', '.'), ('where', 'ADV'), ('employees', 'NOUN'), ('are', 'VERB'), ('*-59', 'X'), ('partners', 'NOUN'), ('*T*-1', 'X'), ('--', '.'), ('and', 'CONJ'), ('at', 'ADP'), ('``', '.'), ('home', 'NOUN'), (\"''\", '.'), ('in', 'ADP'), ('the', 'DET'), ('company', 'NOUN'), ('run', 'VERB'), ('*', 'X'), ('by', 'ADP'), ('a', 'DET'), ('*T*-2', 'X'), ('.', '.'), ('The', 'DET'), ('worst', 'ADJ'), ('crop', 'NOUN'), ('damage', 'NOUN'), ('occurred', 'VERB'), ('in', 'ADP'), ('the', 'DET'), ('Midwestern', 'ADJ'), ('Corn', 'NOUN'), ('Belt', 'NOUN'), ('and', 'CONJ'), ('the', 'DET'), ('northern', 'ADJ'), ('Great', 'NOUN'), ('Plains', 'NOUN'), ('.', '.'), ('In', 'ADP'), ('addition', 'NOUN'), (',', '.'), ('Buick', 'NOUN'), ('is', 'VERB'), ('a', 'DET'), ('relatively', 'ADV'), ('respected', 'VERB'), ('nameplate', 'NOUN'), ('among', 'ADP'), ('American', 'ADJ'), ('Express', 'NOUN'), ('card', 'NOUN'), ('holders', 'NOUN'), (',', '.'), ('says', 'VERB'), ('0', 'X'), ('*T*-1', 'X'), ('an', 'DET'), ('American', 'ADJ'), ('Express', 'NOUN'), ('spokeswoman', 'NOUN'), ('.', '.'), ('report', 'NOUN'), (':', '.'), ('The', 'DET'), ('council', 'NOUN'), (',', '.'), ('which', 'DET'), ('*T*-61', 'X'), ('is', 'VERB'), ('alleged', 'VERB'), ('*-1', 'X'), ('to', 'PRT'), ('have', 'VERB'), ('engaged', 'VERB'), ('in', 'ADP'), ('over', 'ADP'), ('600', 'NUM'), ('deals', 'NOUN'), ('valued', 'VERB'), ('*', 'X'), ('at', 'ADP'), ('over', 'ADP'), ('#', '.'), ('6', 'NUM'), ('billion', 'NUM'), ('*U*', 'X'), ('-LRB-', '.'), ('$', '.'), ('9.5', 'NUM'), ('billion', 'NUM'), ('*U*', 'X'), ('-RRB-', '.'), (',', '.'), ('lost', 'VERB'), ('millions', 'NOUN'), ('of', 'ADP'), ('pounds', 'NOUN'), ('from', 'ADP'), ('swap', 'NOUN'), ('deals', 'NOUN'), ('.', '.'), ('In', 'ADP'), ('this', 'DET'), ('era', 'NOUN'), ('of', 'ADP'), ('competition', 'NOUN'), ('for', 'ADP'), ('ad', 'NOUN'), ('dollars', 'NOUN'), (',', '.'), ('a', 'DET'), ('lot', 'NOUN'), ('of', 'ADP'), ('are', 'VERB'), ('getting', 'VERB'), ('pretty', 'ADV'), ('with', 'ADP'), ('advertisers', 'NOUN'), ('--', '.'), ('*-1', 'X'), ('over', 'ADP'), ('them', 'PRON'), ('in', 'ADP'), ('and', 'CONJ'), ('offering', 'NOUN'), ('pages', 'NOUN'), ('of', 'ADP'), ('space', 'NOUN'), ('.', '.'), ('The', 'DET'), ('documents', 'NOUN'), ('also', 'ADV'), ('said', 'VERB'), ('that', 'ADP'), ('Cray', 'NOUN'), ('Computer', 'NOUN'), ('anticipates', 'VERB'), ('*-1', 'X'), ('perhaps', 'ADV'), ('another', 'DET'), ('$', '.'), ('120', 'NUM'), ('million', 'NUM'), ('*U*', 'X'), ('in', 'ADP'), ('financing', 'NOUN'), ('beginning', 'VERB'), ('next', 'ADJ'), ('September', 'NOUN'), ('.', '.'), ('Mr.', 'NOUN'), ('is', 'VERB'), ('editor', 'NOUN'), ('and', 'CONJ'), ('co-owner', 'NOUN'), ('of', 'ADP'), ('the', 'DET'), ('Daily', 'NOUN'), ('in', 'ADP'), (',', '.'), ('Iowa', 'NOUN'), (',', '.'), ('and', 'CONJ'), ('president', 'NOUN'), ('of', 'ADP'), ('NBC', 'NOUN'), ('News', 'NOUN'), ('in', 'ADP'), ('New', 'NOUN'), ('York', 'NOUN'), ('.', '.'), ('will', 'VERB'), ('be', 'VERB'), ('offered', 'VERB'), ('*-1', 'X'), ('a', 'DET'), ('settlement', 'NOUN'), ('and', 'CONJ'), ('a', 'DET'), ('transition', 'NOUN'), ('to', 'PRT'), ('new', 'ADJ'), ('management', 'NOUN'), ('is', 'VERB'), ('expected', 'VERB'), ('*-2', 'X'), ('to', 'PRT'), ('an', 'DET'), ('exodus', 'NOUN'), ('of', 'ADP'), ('workers', 'NOUN'), ('from', 'ADP'), ('Waertsilae', 'NOUN'), ('Marine', 'NOUN'), (\"'s\", 'PRT'), ('two', 'NUM'), ('big', 'ADJ'), (',', '.'), ('government', 'NOUN'), ('officials', 'NOUN'), ('said', 'VERB'), ('0', 'X'), ('*T*-3', 'X'), ('.', '.'), ('The', 'DET'), ('attacks', 'NOUN'), ('began', 'VERB'), ('when', 'ADV'), ('Democratic', 'ADJ'), ('Rep.', 'NOUN'), ('James', 'NOUN'), ('Florio', 'NOUN'), ('an', 'DET'), ('ad', 'NOUN'), ('featuring', 'VERB'), ('a', 'DET'), ('drawing', 'NOUN'), ('of', 'ADP'), ('Pinocchio', 'NOUN'), ('and', 'CONJ'), ('a', 'DET'), ('of', 'ADP'), ('Mr.', 'NOUN'), ('Florio', 'NOUN'), (\"'s\", 'PRT'), ('rival', 'NOUN'), (',', '.'), ('Republican', 'ADJ'), ('Rep.', 'NOUN'), ('Jim', 'NOUN'), ('Courter', 'NOUN'), ('.', '.'), ('with', 'ADP'), ('Mr.', 'NOUN'), ('Nichol', 'NOUN'), (\"'s\", 'PRT'), ('appointment', 'NOUN'), (',', '.'), ('Comprehensive', 'NOUN'), ('Care', 'NOUN'), ('moved', 'VERB'), ('its', 'PRON'), ('corporate', 'ADJ'), ('headquarters', 'NOUN'), ('from', 'ADP'), ('Irvine', 'NOUN'), (',', '.'), ('Calif.', 'NOUN'), (',', '.'), ('to', 'PRT'), ('St.', 'NOUN'), ('Louis', 'NOUN'), (',', '.'), ('where', 'ADV'), ('the', 'DET'), ('company', 'NOUN'), ('maintained', 'VERB'), ('its', 'PRON'), ('contract', 'NOUN'), ('services', 'NOUN'), ('offices', 'NOUN'), ('*T*-1', 'X'), ('.', '.'), ('``', '.'), ('It', 'PRON'), ('is', 'VERB'), ('going', 'VERB'), ('*-1', 'X'), ('to', 'PRT'), ('be', 'VERB'), ('real', 'ADJ'), ('tight', 'ADJ'), ('.', '.'), (\"''\", '.'), ('At', 'ADP'), ('St.', 'NOUN'), ('Louis', 'NOUN'), (',', '.'), ('the', 'DET'), ('water', 'NOUN'), ('level', 'NOUN'), ('of', 'ADP'), ('the', 'DET'), ('Mississippi', 'NOUN'), ('River', 'NOUN'), ('is', 'VERB'), ('already', 'ADV'), ('6.5', 'NUM'), ('feet', 'NOUN'), ('below', 'ADP'), ('normal', 'ADJ'), ('and', 'CONJ'), ('it', 'PRON'), ('could', 'VERB'), ('drop', 'NOUN'), ('an', 'DET'), ('additional', 'ADJ'), ('2.5', 'NUM'), ('feet', 'NOUN'), ('when', 'ADV'), ('the', 'DET'), ('flow', 'NOUN'), ('of', 'ADP'), ('the', 'DET'), ('Missouri', 'NOUN'), ('River', 'NOUN'), ('is', 'VERB'), ('*-1', 'X'), ('*T*-2', 'X'), (',', '.'), ('an', 'DET'), ('Army', 'NOUN'), ('Corps', 'NOUN'), ('spokesman', 'NOUN'), ('said', 'VERB'), ('0', 'X'), ('*T*-3', 'X'), ('.', '.'), ('But', 'CONJ'), ('Fujitsu', 'NOUN'), (',', '.'), ('Japan', 'NOUN'), (\"'s\", 'PRT'), ('No.', 'NOUN'), ('1', 'NUM'), ('computer', 'NOUN'), ('maker', 'NOUN'), (',', '.'), ('is', 'VERB'), (\"n't\", 'ADV'), ('alone', 'ADV'), ('.', '.'), ('The', 'DET'), ('Constitution', 'NOUN'), ('does', 'VERB'), ('not', 'ADV'), ('give', 'VERB'), ('the', 'DET'), ('president', 'NOUN'), ('such', 'ADJ'), ('power', 'NOUN'), ('.', '.'), ('William', 'NOUN'), ('G.', 'NOUN'), (',', '.'), ('former', 'ADJ'), ('chairman', 'NOUN'), ('*RNR*-1', 'X'), ('and', 'CONJ'), ('chief', 'NOUN'), ('executive', 'NOUN'), ('officer', 'NOUN'), ('*RNR*-1', 'X'), ('of', 'ADP'), ('General', 'NOUN'), ('Public', 'NOUN'), ('Utilities', 'NOUN'), ('Corp.', 'NOUN'), (',', '.'), ('was', 'VERB'), ('elected', 'VERB'), ('*-2', 'X'), ('a', 'DET'), ('director', 'NOUN'), ('of', 'ADP'), ('this', 'DET'), ('maker', 'NOUN'), ('of', 'ADP'), ('industrial', 'ADJ'), ('and', 'CONJ'), ('construction', 'NOUN'), ('equipment', 'NOUN'), (',', '.'), ('*', 'X'), ('increasing', 'VERB'), ('board', 'NOUN'), ('membership', 'NOUN'), ('to', 'PRT'), ('10', 'NUM'), ('.', '.'), ('Rockwell', 'NOUN'), ('International', 'NOUN'), ('Corp.', 'NOUN'), ('won', 'VERB'), ('a', 'DET'), ('$', '.'), ('million', 'NUM'), ('*U*', 'X'), ('Air', 'NOUN'), ('Force', 'NOUN'), ('contract', 'NOUN'), ('for', 'ADP'), ('gunship', 'NOUN'), ('replacement', 'NOUN'), ('aircraft', 'NOUN'), ('.', '.'), ('He', 'PRON'), ('said', 'VERB'), ('that', 'ADP'), ('for', 'ADP'), ('the', 'DET'), ('second', 'ADJ'), ('month', 'NOUN'), ('in', 'ADP'), ('a', 'DET'), ('row', 'NOUN'), (',', '.'), ('food', 'NOUN'), ('processors', 'NOUN'), ('reported', 'VERB'), ('a', 'DET'), ('shortage', 'NOUN'), ('of', 'ADP'), ('dry', 'ADJ'), ('milk', 'NOUN'), ('.', '.'), ('The', 'DET'), ('others', 'NOUN'), ('here', 'ADV'), ('today', 'NOUN'), ('live', 'VERB'), ('elsewhere', 'ADV'), ('.', '.'), ('Inc.', 'NOUN'), ('said', 'VERB'), ('0', 'X'), ('it', 'PRON'), ('will', 'VERB'), ('a', 'DET'), ('registration', 'NOUN'), ('statement', 'NOUN'), ('filed', 'VERB'), ('*', 'X'), ('with', 'ADP'), ('the', 'DET'), ('Securities', 'NOUN'), ('and', 'CONJ'), ('Exchange', 'NOUN'), ('Commission', 'NOUN'), ('*-1', 'X'), ('to', 'PRT'), ('a', 'DET'), ('plan', 'NOUN'), ('*', 'X'), ('to', 'PRT'), ('sell', 'VERB'), ('500,000', 'NUM'), ('newly', 'ADV'), ('issued', 'VERB'), ('common', 'ADJ'), ('shares', 'NOUN'), ('.', '.'), ('As', 'ADP'), ('*', 'X'), ('usually', 'ADV'), ('*-1', 'X'), ('it', 'PRON'), ('takes', 'VERB'), ('advantage', 'NOUN'), ('of', 'ADP'), ('a', 'DET'), ('rather', 'ADV'), ('basic', 'ADJ'), ('concept', 'NOUN'), (':', '.'), ('Two', 'NUM'), ('separate', 'ADJ'), ('markets', 'NOUN'), ('in', 'ADP'), ('different', 'ADJ'), (',', '.'), ('trading', 'NOUN'), ('basically', 'ADV'), ('the', 'DET'), ('same', 'ADJ'), ('widgets', 'NOUN'), (',', '.'), ('ca', 'VERB'), (\"n't\", 'ADV'), ('trade', 'VERB'), ('them', 'PRON'), ('for', 'ADP'), ('long', 'ADJ'), ('at', 'ADP'), ('prices', 'NOUN'), ('that', 'ADP'), ('*T*-74', 'X'), ('are', 'VERB'), ('widely', 'ADV'), ('different', 'ADJ'), ('.', '.'), ('The', 'DET'), ('business', 'NOUN'), ('benefited', 'VERB'), ('from', 'ADP'), ('higher', 'ADJ'), ('margins', 'NOUN'), ('on', 'ADP'), ('and', 'CONJ'), ('on', 'ADP'), ('increased', 'VERB'), ('cake', 'NOUN'), ('sales', 'NOUN'), (',', '.'), ('it', 'PRON'), ('added', 'VERB'), ('0', 'X'), ('*T*-1', 'X'), ('.', '.'), ('their', 'PRON'), ('are', 'VERB'), ('*T*-1', 'X'), ('Wall', 'NOUN'), ('Street', 'NOUN'), (\"'s\", 'PRT'), ('Old', 'NOUN'), ('Guard', 'NOUN'), ('--', '.'), ('the', 'DET'), ('traditional', 'ADJ'), (',', '.'), ('money', 'NOUN'), ('managers', 'NOUN'), (',', '.'), ('of', 'ADP'), ('thousands', 'NOUN'), ('of', 'ADP'), ('stock', 'NOUN'), ('brokers', 'NOUN'), (',', '.'), ('the', 'DET'), ('New', 'NOUN'), ('York', 'NOUN'), ('Stock', 'NOUN'), ('Exchange', 'NOUN'), (\"'s\", 'PRT'), ('listed', 'VERB'), ('companies', 'NOUN'), ('and', 'CONJ'), ('the', 'DET'), ('floor', 'NOUN'), ('traders', 'NOUN'), (',', '.'), ('known', 'VERB'), ('*', 'X'), ('as', 'ADP'), ('specialists', 'NOUN'), (',', '.'), ('who', 'PRON'), ('*T*-65', 'X'), ('make', 'VERB'), ('markets', 'NOUN'), ('in', 'ADP'), ('their', 'PRON'), ('stocks', 'NOUN'), ('.', '.'), ('But', 'CONJ'), ('neither', 'DET'), ('of', 'ADP'), ('us', 'PRON'), ('can', 'VERB'), ('copy', 'VERB'), ('the', 'DET'), ('material', 'NOUN'), ('on', 'ADP'), ('a', 'DET'), ('Xerox', 'NOUN'), ('machine', 'NOUN'), ('or', 'CONJ'), ('have', 'VERB'), ('it', 'PRON'), ('sent', 'VERB'), ('*-1', 'X'), ('to', 'PRT'), ('us', 'PRON'), ('.', '.'), ('The', 'DET'), ('Nagymaros', 'NOUN'), ('dam', 'NOUN'), ('was', 'VERB'), ('designed', 'VERB'), ('*-1', 'X'), ('*-2', 'X'), ('to', 'PRT'), ('be', 'VERB'), ('*-3', 'X'), ('with', 'ADP'), ('another', 'DET'), ('dam', 'NOUN'), (',', '.'), ('now', 'ADV'), ('nearly', 'ADV'), ('complete', 'VERB'), (',', '.'), ('100', 'NUM'), ('miles', 'NOUN'), ('in', 'ADP'), ('Czechoslovakia', 'NOUN'), ('.', '.')]\n",
      "Rule Based Sequence Tags:\n",
      "[('dessert', 'NOUN'), ('lay', 'NOUN'), ('altogether', 'NOUN'), ('romanticized', 'VERB'), ('romanticized', 'VERB'), ('good-hearted', 'VERB'), ('2.15', 'NUM'), ('acquisition-minded', 'VERB'), ('jeweler', 'NOUN'), ('Seattle-based', 'VERB'), ('jeweler', 'NOUN'), ('62.1', 'NUM'), ('outbid', 'NOUN'), ('*T*-250', 'X'), ('*-156', 'X'), ('Univest', 'NOUN'), ('25.50', 'NUM'), ('dealing', 'VERB'), ('Hubbell', 'NOUN'), ('reacted', 'VERB'), ('favorably', 'NOUN'), ('assertions', 'NOUN'), ('relating', 'VERB'), ('equity-purchase', 'NOUN'), ('cash-rich', 'NOUN'), ('mortgage-based', 'VERB'), ('O.', 'NOUN'), ('Spanish', 'NOUN'), ('Renaissance-style', 'NOUN'), ('receipt', 'NOUN'), ('discharge', 'NOUN'), ('240,000', 'NUM'), ('*-154', 'X'), ('Rent-A-Car', 'NOUN'), ('India', 'NOUN'), ('Nomura', 'NOUN'), ('clearer', 'NOUN'), ('comfortably', 'NOUN'), ('spreads', 'NOUN'), ('mutual-fund', 'NOUN'), ('log', 'NOUN'), ('1997', 'NUM'), ('cancer-causing', 'VERB'), ('outlawed', 'VERB'), ('mode', 'NOUN'), ('gentle', 'NOUN'), ('natural-gas', 'NOUN'), ('Weatherly', 'NOUN'), ('Keehn', 'NOUN'), ('Northy', 'NOUN'), ('Prater', 'NOUN'), ('Mercer', 'NOUN'), ('Wash.', 'NOUN'), ('271,124', 'NUM'), ('400,000', 'NUM'), ('*T*-135', 'X'), ('punishment', 'NOUN'), ('3,600', 'NUM'), ('sticking', 'VERB'), ('vow', 'NOUN'), ('avoiding', 'VERB'), ('staunchly', 'NOUN'), ('detective-story', 'NOUN'), ('novelist', 'NOUN'), ('finds', 'NOUN'), ('satisfaction', 'NOUN'), ('mathematical', 'NOUN'), ('completeness', 'NOUN'), ('perfection', 'NOUN'), ('Integra-A', 'NOUN'), ('Restaurant', 'NOUN'), ('*-103', 'X'), ('enjoyed', 'VERB'), ('spectacular', 'NOUN'), ('smoothly', 'NOUN'), ('profess', 'NOUN'), ('despise', 'NOUN'), ('467', 'NUM'), ('106', 'NUM'), ('3.42', 'NUM'), ('Africa', 'NOUN'), ('armed', 'VERB'), ('Namibian', 'NOUN'), ('nationalist', 'NOUN'), ('guerrillas', 'NOUN'), ('neighboring', 'VERB'), ('Angola', 'NOUN'), ('violating', 'VERB'), ('U.N.-supervised', 'VERB'), ('peace', 'NOUN'), ('territory', 'NOUN'), ('sweatshirts', 'NOUN'), ('sparkplugs', 'NOUN'), ('disruptive', 'NOUN'), ('GRAINS', 'NOUN'), ('AND', 'NOUN'), ('SOYBEANS', 'NOUN'), ('technically', 'NOUN'), ('limitation', 'NOUN'), ('leash', 'NOUN'), ('outraged', 'VERB'), ('test-prep', 'NOUN'), ('courage', 'NOUN'), ('A.D.', 'NOUN'), ('Middlesex', 'NOUN'), ('Water', 'NOUN'), ('150,000', 'NUM'), ('Walker', 'NOUN'), ('Howard', 'NOUN'), ('Weil', 'NOUN'), ('Labouisse', 'NOUN'), ('Friedrichs', 'NOUN'), ('225.6', 'NUM'), ('potentially', 'NOUN'), ('Can', 'NOUN'), ('hard-charging', 'VERB'), ('Teddy', 'NOUN'), ('Roosevelt', 'NOUN'), ('insider', 'NOUN'), ('gigantic', 'NOUN'), ('crapshoot', 'NOUN'), ('66.5', 'NUM'), ('unstinting', 'VERB'), ('laurels', 'NOUN'), ('Countries', 'VERB'), ('framework', 'NOUN'), ('flooded', 'VERB'), ('comedies', 'VERB'), ('*T*-152', 'X'), ('networks', 'NOUN'), ('twindam', 'NOUN'), ('Annualized', 'VERB'), ('500-Stock', 'X'), ('0.84', 'NUM'), ('341.20', 'NUM'), ('Part', 'NOUN'), ('jitters', 'NOUN'), ('Beauty', 'NOUN'), ('Takes', 'VERB'), ('Backseat', 'NOUN'), ('Bridges', 'VERB'), ('bounce', 'NOUN'), ('NEW', 'NOUN'), ('ACCOUNT', 'NOUN'), ('Mattress', 'NOUN'), ('bedding', 'VERB'), ('irony', 'NOUN'), ('off-off', 'NOUN'), ('scattered', 'VERB'), ('mid-size', 'NOUN'), ('semesters', 'NOUN'), ('Consider', 'NOUN'), ('refinery', 'NOUN'), ('tightening', 'VERB'), ('Muzzling', 'VERB'), ('*-56', 'X'), ('blindfold', 'NOUN'), ('recommending', 'VERB'), ('Gringo', 'NOUN'), ('confused', 'VERB'), ('rendering', 'VERB'), ('Fuentes', 'VERB'), ('Mexican', 'NOUN'), ('Revolution', 'NOUN'), ('*T*-134', 'X'), ('collective-bargaining', 'VERB'), ('evolved', 'VERB'), ('Si', 'NOUN'), ('Claude', 'NOUN'), ('weird', 'NOUN'), ('Story', 'NOUN'), ('Women', 'NOUN'), ('*-56', 'X'), ('fly', 'NOUN'), ('destination', 'NOUN'), ('companion', 'NOUN'), ('fly', 'NOUN'), ('Paris', 'NOUN'), ('Brussels', 'NOUN'), ('Milan', 'NOUN'), ('offend', 'NOUN'), ('lender', 'NOUN'), ('Drobnick', 'NOUN'), ('Minneapolis-based', 'VERB'), ('139', 'NUM'), ('138', 'NUM'), ('Kirkpatrick', 'NOUN'), ('multilevel', 'NOUN'), ('Thrall', 'NOUN'), ('Duchossois', 'NOUN'), ('Elmhurst', 'NOUN'), ('*T*-252', 'X'), ('complaining', 'VERB'), ('Unfortunately', 'NOUN'), ('ratepayers', 'NOUN'), ('overruns', 'NOUN'), ('imply', 'NOUN'), ('three-quarters', 'NOUN'), ('*T*-119', 'X'), ('expires', 'VERB'), ('speedway', 'NOUN'), ('hauled', 'VERB'), ('crews', 'NOUN'), ('10-lap', 'X'), ('two-letter', 'NOUN'), ('consonant', 'NOUN'), ('exclusion', 'NOUN'), ('Goodman', 'NOUN'), ('shake', 'NOUN'), ('Lead', 'NOUN'), ('Scotia', 'NOUN'), ('McLeod', 'NOUN'), ('RBC', 'NOUN'), ('Dominion', 'NOUN'), ('F.W.', 'NOUN'), ('double-C', 'NOUN'), ('triple-C', 'NOUN'), ('initialing', 'VERB'), ('amending', 'VERB'), ('trademark', 'NOUN'), ('unauthorized', 'VERB'), ('showings', 'NOUN'), ('incentive-backed', 'VERB'), ('untrue', 'NOUN'), ('Different', 'NOUN'), ('spin-off', 'NOUN'), ('*T*-151', 'X'), ('languages', 'VERB'), ('listeners', 'NOUN'), ('Policy', 'NOUN'), ('lately', 'NOUN'), ('touted', 'VERB'), ('impart', 'NOUN'), ('skills', 'NOUN'), ('entrants', 'NOUN'), ('noticing', 'VERB'), ('jostle', 'NOUN'), ('cabs', 'NOUN'), ('1995', 'NUM'), ('9\\\\/32', 'X'), ('103', 'NUM'), ('11.10', 'NUM'), ('Reducing', 'VERB'), ('crunch', 'NOUN'), ('crunch', 'NOUN'), ('crunch', 'NOUN'), ('bang', 'NOUN'), ('bang', 'NOUN'), ('bang', 'NOUN'), ('obvious', 'NOUN'), ('exit', 'NOUN'), ('prayer', 'NOUN'), ('co-chairman', 'NOUN'), ('breathe', 'NOUN'), ('warn', 'NOUN'), ('repay', 'NOUN'), ('discharge', 'NOUN'), ('Brisk', 'NOUN'), ('bloods', 'NOUN'), ('Above', 'NOUN'), ('confused', 'VERB'), ('leery', 'NOUN'), ('dummies', 'VERB'), ('counter', 'NOUN'), ('tapes', 'VERB'), ('Hoosier', 'NOUN'), ('modification', 'NOUN'), ('*-130', 'X'), ('47.5', 'NUM'), ('deluge', 'NOUN'), ('abuzz', 'NOUN'), ('490', 'NUM'), ('News-American', 'NOUN'), ('folded', 'VERB'), ('Herald-American', 'NOUN'), ('cornerstones', 'VERB'), ('newer', 'NOUN'), ('bargain', 'NOUN'), ('*T*-237', 'X'), ('lacked', 'VERB'), ('newest', 'NOUN'), ('breed', 'VERB'), ('rocket', 'NOUN'), ('backgrounds', 'NOUN'), ('hedging', 'VERB'), ('popularly', 'NOUN'), ('innovative', 'NOUN'), ('market-based', 'VERB'), ('polluters', 'NOUN'), ('slowdowns', 'NOUN'), ('Doerflinger', 'NOUN'), ('tunes', 'VERB'), ('carillons', 'NOUN'), ('continental', 'NOUN'), ('*-136', 'X'), ('childish', 'NOUN'), ('foreigners', 'NOUN'), ('IRAs', 'NOUN'), ('supercilious', 'NOUN'), ('vicious', 'NOUN'), ('passages', 'VERB'), ('invades', 'VERB'), ('mundane', 'NOUN'), ('aspects', 'NOUN'), ('regimented', 'VERB'), ('assigned', 'VERB'), ('lunch', 'NOUN'), ('austere', 'NOUN'), ('dormitory', 'NOUN'), ('prying', 'VERB'), ('caretaker', 'NOUN'), ('Follow-up', 'NOUN'), ('soured', 'VERB'), ('frantic', 'NOUN'), ('revenue-desperate', 'NOUN'), ('magazines', 'VERB'), ('cozy', 'NOUN'), ('fawning', 'VERB'), ('articles', 'VERB'), ('advertorial', 'NOUN'), ('needing', 'VERB'), ('Gartner', 'NOUN'), ('Tribune', 'NOUN'), ('Ames', 'VERB'), ('Subcontractors', 'NOUN'), ('swift', 'NOUN'), ('avert', 'NOUN'), ('skilled', 'VERB'), ('shipyards', 'NOUN'), ('aired', 'VERB'), ('photograph', 'NOUN'), ('Concurrent', 'NOUN'), ('slowed', 'VERB'), ('expressly', 'NOUN'), ('Kuhns', 'NOUN'), ('130.7', 'NUM'), ('AC-130U', 'X'), ('nonfat', 'NOUN'), ('SHAREDATA', 'NOUN'), ('amend', 'NOUN'), ('delete', 'NOUN'), ('practiced', 'VERB'), ('locations', 'NOUN'), ('Continental', 'NOUN'), ('Baking', 'VERB'), ('bread', 'NOUN'), ('Defending', 'VERB'), ('ramparts', 'NOUN'), ('stock-picking', 'VERB'), ('tens', 'NOUN'), ('clannish', 'NOUN'), ('twinned', 'VERB'), ('upstream', 'NOUN')]\n"
     ]
    }
   ],
   "source": [
    "print(\"Time taken in seconds: \", difference)\n",
    "print(\"Viterbi Sequence Tags:\")\n",
    "print(viterbi_seq)\n",
    "print(\"Rule Based Sequence Tags:\")\n",
    "print(rule_seq)\n",
    "#print(test_run_base)"
   ]
  },
  {
   "cell_type": "code",
   "execution_count": 55,
   "metadata": {},
   "outputs": [],
   "source": [
    "final_seq = viterbi_seq + rule_seq "
   ]
  },
  {
   "cell_type": "code",
   "execution_count": 56,
   "metadata": {},
   "outputs": [],
   "source": [
    "final_tup = sorted(final_seq)"
   ]
  },
  {
   "cell_type": "markdown",
   "metadata": {},
   "source": [
    "**Checking Accuracy aganst Validation Set**"
   ]
  },
  {
   "cell_type": "code",
   "execution_count": 57,
   "metadata": {},
   "outputs": [],
   "source": [
    "# accuracy\n",
    "check = [i for i, j in zip(final_tup, test_tuples) if i == j] "
   ]
  },
  {
   "cell_type": "code",
   "execution_count": 58,
   "metadata": {},
   "outputs": [],
   "source": [
    "accuracy = len(check)/len(final_seq)"
   ]
  },
  {
   "cell_type": "code",
   "execution_count": 59,
   "metadata": {},
   "outputs": [
    {
     "data": {
      "text/plain": [
       "0.9528282622013478"
      ]
     },
     "execution_count": 59,
     "metadata": {},
     "output_type": "execute_result"
    }
   ],
   "source": [
    "accuracy"
   ]
  },
  {
   "cell_type": "markdown",
   "metadata": {},
   "source": [
    ">**Note:** We see that Modified Viterbi Algorithm runs at an accuracy of **95.30%**"
   ]
  },
  {
   "cell_type": "markdown",
   "metadata": {},
   "source": [
    "<a id=\"4.2.4\"></a>\n",
    "#### 4.2.4  Analysing Incorrect Tags from Validation Set"
   ]
  },
  {
   "cell_type": "code",
   "execution_count": 60,
   "metadata": {},
   "outputs": [],
   "source": [
    "incorrect_tagged_cases = [[test_run_base[i-1],j] for i, j in enumerate(zip(final_tup, test_tuples)) if j[0]!=j[1]]"
   ]
  },
  {
   "cell_type": "code",
   "execution_count": 61,
   "metadata": {},
   "outputs": [
    {
     "data": {
      "text/plain": [
       "[[('Weisfield', 'NOUN'), ((\"'s\", 'VERB'), (\"'s\", 'PRT'))],\n",
       " [('from', 'ADP'), (('10-lap', 'X'), ('10-lap', 'ADJ'))],\n",
       " [('of', 'ADP'), (('1980s', 'NOUN'), ('1980s', 'NUM'))],\n",
       " [('and', 'CONJ'), (('500-Stock', 'X'), ('500-Stock', 'NOUN'))],\n",
       " [('In', 'ADP'), (('9\\\\/32', 'X'), ('9\\\\/32', 'NUM'))],\n",
       " [('its', 'PRON'), (('A', 'DET'), ('A', 'NOUN'))],\n",
       " [('in', 'ADP'), (('AC-130U', 'X'), ('AC-130U', 'NOUN'))],\n",
       " [('mechanical', 'ADJ'), (('Above', 'NOUN'), ('Above', 'ADP'))],\n",
       " [('said', 'VERB'), (('American', 'ADJ'), ('American', 'NOUN'))],\n",
       " [('0', 'X'), (('American', 'ADJ'), ('American', 'NOUN'))],\n",
       " [('its', 'PRON'), (('American', 'ADJ'), ('American', 'NOUN'))],\n",
       " [('rights', 'NOUN'), (('Ames', 'VERB'), ('Ames', 'NOUN'))],\n",
       " [('company', 'NOUN'), (('Baking', 'VERB'), ('Baking', 'NOUN'))],\n",
       " [('.', '.'), (('Bridges', 'VERB'), ('Bridges', 'NOUN'))],\n",
       " [('Publishing', 'NOUN'), (('Brisk', 'NOUN'), ('Brisk', 'ADJ'))],\n",
       " [('bigger', 'ADJ'), (('Can', 'NOUN'), ('Can', 'VERB'))],\n",
       " [('price', 'NOUN'), (('Common', 'NOUN'), ('Common', 'ADJ'))],\n",
       " [('cause', 'VERB'), (('Concurrent', 'NOUN'), ('Concurrent', 'ADJ'))],\n",
       " [('trading', 'NOUN'), (('Consider', 'NOUN'), ('Consider', 'VERB'))],\n",
       " [('to', 'PRT'), (('Countries', 'VERB'), ('Countries', 'NOUN'))],\n",
       " [('million', 'NUM'), (('Cray-3', 'NOUN'), ('Cray-3', 'NUM'))],\n",
       " [('down', 'ADP'), (('English', 'NOUN'), ('English', 'ADJ'))],\n",
       " [('of', 'ADP'), (('First', 'NOUN'), ('First', 'ADJ'))],\n",
       " [('bases', 'NOUN'), (('Follow-up', 'NOUN'), ('Follow-up', 'ADJ'))],\n",
       " [('for', 'ADP'), (('Fuentes', 'VERB'), ('Fuentes', 'NOUN'))],\n",
       " [('sweatshirts', 'NOUN'), (('German', 'NOUN'), ('German', 'ADJ'))],\n",
       " [(',', '.'), (('Lead', 'NOUN'), ('Lead', 'ADJ'))],\n",
       " [(',', '.'), (('Midwestern', 'ADJ'), ('Midwestern', 'NOUN'))],\n",
       " [('Inc', 'NOUN'),\n",
       "  (('Minneapolis-based', 'VERB'), ('Minneapolis-based', 'ADJ'))],\n",
       " [('million', 'NUM'), (('Muzzling', 'VERB'), ('Muzzling', 'ADJ'))],\n",
       " [('people', 'NOUN'), (('Namibian', 'NOUN'), ('Namibian', 'ADJ'))],\n",
       " [('and', 'CONJ'),\n",
       "  (('Renaissance-style', 'NOUN'), ('Renaissance-style', 'ADJ'))],\n",
       " [('be', 'VERB'), (('Seattle-based', 'VERB'), ('Seattle-based', 'ADJ'))],\n",
       " [('never', 'ADV'), (('U.N.-supervised', 'VERB'), ('U.N.-supervised', 'ADJ'))],\n",
       " [('beginning', 'VERB'),\n",
       "  (('Unfortunately', 'NOUN'), ('Unfortunately', 'ADV'))],\n",
       " [('being', 'VERB'), (('West', 'NOUN'), ('West', 'ADJ'))],\n",
       " [('buyers', 'NOUN'), (('about', 'ADP'), ('about', 'ADV'))],\n",
       " [('are', 'VERB'), (('about', 'ADP'), ('about', 'ADV'))],\n",
       " [('inventories', 'NOUN'), (('above', 'ADP'), ('above', 'ADV'))],\n",
       " [('because', 'ADP'), (('abuzz', 'NOUN'), ('abuzz', 'ADJ'))],\n",
       " [('the', 'DET'),\n",
       "  (('acquisition-minded', 'VERB'), ('acquisition-minded', 'ADJ'))],\n",
       " [('Backseat', 'NOUN'), (('acts', 'VERB'), ('acts', 'NOUN'))],\n",
       " [('House', 'NOUN'), (('advertorial', 'NOUN'), ('advertorial', 'ADJ'))],\n",
       " [('been', 'VERB'), (('ago', 'ADP'), ('ago', 'ADV'))],\n",
       " [('when', 'ADV'), (('altogether', 'NOUN'), ('altogether', 'ADV'))],\n",
       " [('its', 'PRON'), (('amend', 'NOUN'), ('amend', 'VERB'))],\n",
       " [('boost', 'NOUN'), (('and', 'CONJ'), ('and', 'ADJ'))],\n",
       " [(\"'s\", 'PRT'), (('articles', 'VERB'), ('articles', 'NOUN'))],\n",
       " [('well', 'ADV'), (('as', 'ADP'), ('as', 'ADV'))],\n",
       " [(',', '.'), (('as', 'ADP'), ('as', 'ADV'))],\n",
       " [(\"'re\", 'VERB'), (('austere', 'NOUN'), ('austere', 'ADJ'))],\n",
       " [('.', '.'), (('avert', 'NOUN'), ('avert', 'VERB'))],\n",
       " [('little', 'ADJ'), (('back', 'ADV'), ('back', 'PRT'))],\n",
       " [('by', 'ADP'), (('bedding', 'VERB'), ('bedding', 'NOUN'))],\n",
       " [('that', 'DET'), (('better', 'ADV'), ('better', 'ADJ'))],\n",
       " [('maker', 'NOUN'), (('bounce', 'NOUN'), ('bounce', 'VERB'))],\n",
       " [('managed', 'VERB'), (('breathe', 'NOUN'), ('breathe', 'VERB'))],\n",
       " [('another', 'DET'), (('breed', 'VERB'), ('breed', 'NOUN'))],\n",
       " [('kind', 'NOUN'), (('broadcasts', 'NOUN'), ('broadcasts', 'VERB'))],\n",
       " [('*-56', 'X'), (('buy-back', 'ADJ'), ('buy-back', 'NOUN'))],\n",
       " [('more', 'ADV'), (('buying', 'VERB'), ('buying', 'NOUN'))],\n",
       " [('ticket', 'NOUN'), (('cancer-causing', 'VERB'), ('cancer-causing', 'ADJ'))],\n",
       " [('earthquake', 'NOUN'), (('cash-rich', 'NOUN'), ('cash-rich', 'ADJ'))],\n",
       " [('and', 'CONJ'), (('chief', 'NOUN'), ('chief', 'ADJ'))],\n",
       " [('*-1', 'X'), (('childish', 'NOUN'), ('childish', 'ADJ'))],\n",
       " [('Paris', 'NOUN'), (('clannish', 'NOUN'), ('clannish', 'ADJ'))],\n",
       " [('Brussels', 'NOUN'), (('clearer', 'NOUN'), ('clearer', 'ADJ'))],\n",
       " [(',', '.'),\n",
       "  (('collective-bargaining', 'VERB'), ('collective-bargaining', 'ADJ'))],\n",
       " [('company', 'NOUN'), (('comedies', 'VERB'), ('comedies', 'NOUN'))],\n",
       " [('holds', 'VERB'), (('comfortably', 'NOUN'), ('comfortably', 'ADV'))],\n",
       " [(\"''\", '.'), (('complete', 'VERB'), ('complete', 'ADJ'))],\n",
       " [('*T*-2', 'X'), (('complex', 'ADJ'), ('complex', 'NOUN'))],\n",
       " [('University', 'NOUN'), (('confused', 'VERB'), ('confused', 'ADJ'))],\n",
       " [('.', '.'), (('consonant', 'NOUN'), ('consonant', 'ADJ'))],\n",
       " [('anticipated', 'VERB'), (('continental', 'NOUN'), ('continental', 'ADJ'))],\n",
       " [('May', 'NOUN'), (('contrast', 'NOUN'), ('contrast', 'VERB'))],\n",
       " [('it', 'PRON'), (('cornerstones', 'VERB'), ('cornerstones', 'NOUN'))],\n",
       " [('had', 'VERB'), (('cost', 'NOUN'), ('cost', 'VERB'))],\n",
       " [(\"n't\", 'ADV'), (('cost-sharing', 'ADJ'), ('cost-sharing', 'NOUN'))],\n",
       " [('a', 'DET'), (('cozy', 'NOUN'), ('cozy', 'ADJ'))],\n",
       " [('made', 'VERB'), (('declines', 'NOUN'), ('declines', 'VERB'))],\n",
       " [('by', 'ADP'), (('delete', 'NOUN'), ('delete', 'VERB'))],\n",
       " [('closely', 'ADV'), (('despise', 'NOUN'), ('despise', 'VERB'))],\n",
       " [('``', '.'), (('discharge', 'NOUN'), ('discharge', 'VERB'))],\n",
       " [('We', 'PRON'), (('discharge', 'NOUN'), ('discharge', 'VERB'))],\n",
       " [('a', 'DET'), (('disruptive', 'NOUN'), ('disruptive', 'ADJ'))],\n",
       " [('had', 'VERB'), (('down', 'ADV'), ('down', 'ADP'))],\n",
       " [('candidate', 'NOUN'), (('drop', 'NOUN'), ('drop', 'VERB'))],\n",
       " [('at', 'ADP'), (('dummies', 'VERB'), ('dummies', 'NOUN'))],\n",
       " [('annual', 'ADJ'), (('earlier', 'ADV'), ('earlier', 'ADJ'))],\n",
       " [('500', 'NUM'), (('either', 'DET'), ('either', 'CONJ'))],\n",
       " [('yesterday', 'NOUN'), (('end', 'NOUN'), ('end', 'VERB'))],\n",
       " [('*-1', 'X'), (('equity-purchase', 'NOUN'), ('equity-purchase', 'ADJ'))],\n",
       " [('to', 'PRT'), (('equivalent', 'NOUN'), ('equivalent', 'ADJ'))],\n",
       " [('to', 'PRT'), (('expressly', 'NOUN'), ('expressly', 'ADV'))],\n",
       " [('9', 'NUM'), (('favorably', 'NOUN'), ('favorably', 'ADV'))],\n",
       " [('willing', 'ADJ'), (('finance', 'VERB'), ('finance', 'NOUN'))],\n",
       " [('to', 'PRT'), (('financing', 'VERB'), ('financing', 'NOUN'))],\n",
       " [('an', 'DET'), (('finds', 'NOUN'), ('finds', 'VERB'))],\n",
       " [('company', 'NOUN'), (('first', 'ADJ'), ('first', 'ADV'))],\n",
       " [('financial', 'ADJ'), (('fit', 'NOUN'), ('fit', 'ADJ'))],\n",
       " [('neither', 'DET'), (('fly', 'NOUN'), ('fly', 'VERB'))],\n",
       " [('good', 'ADJ'), (('fly', 'NOUN'), ('fly', 'VERB'))],\n",
       " [('its', 'PRON'), (('force', 'VERB'), ('force', 'NOUN'))],\n",
       " [('cost', 'NOUN'), (('frantic', 'NOUN'), ('frantic', 'ADJ'))],\n",
       " [(',', '.'), (('future', 'ADJ'), ('future', 'NOUN'))],\n",
       " [('0', 'X'), (('general', 'ADJ'), ('general', 'NOUN'))],\n",
       " [('I', 'PRON'), (('gentle', 'NOUN'), ('gentle', 'ADJ'))],\n",
       " [('on', 'ADP'), (('gigantic', 'NOUN'), ('gigantic', 'ADJ'))],\n",
       " [('could', 'VERB'), (('good', 'ADJ'), ('good', 'NOUN'))],\n",
       " [('cost', 'VERB'), (('good-hearted', 'VERB'), ('good-hearted', 'ADJ'))],\n",
       " [('*ICH*-1', 'X'), (('hard-charging', 'VERB'), ('hard-charging', 'ADJ'))],\n",
       " [('that', 'DET'), (('hedging', 'VERB'), ('hedging', 'NOUN'))],\n",
       " [('official', 'ADJ'), (('honor', 'VERB'), ('honor', 'NOUN'))],\n",
       " [('students', 'NOUN'), (('impart', 'NOUN'), ('impart', 'VERB'))],\n",
       " [('knowledge', 'NOUN'), (('imply', 'NOUN'), ('imply', 'VERB'))],\n",
       " [('Wilder', 'NOUN'),\n",
       "  (('incentive-backed', 'VERB'), ('incentive-backed', 'ADJ'))],\n",
       " [('he', 'PRON'), (('innovative', 'NOUN'), ('innovative', 'ADJ'))],\n",
       " [('movie', 'NOUN'), (('jostle', 'NOUN'), ('jostle', 'VERB'))],\n",
       " [('from', 'ADP'), (('junk', 'NOUN'), ('junk', 'VERB'))],\n",
       " [('their', 'PRON'), (('kind', 'NOUN'), ('kind', 'ADJ'))],\n",
       " [(',', '.'), (('known', 'VERB'), ('known', 'ADJ'))],\n",
       " [('hand', 'NOUN'), (('languages', 'VERB'), ('languages', 'NOUN'))],\n",
       " [('underlying', 'VERB'), (('lately', 'NOUN'), ('lately', 'ADV'))],\n",
       " [('untrue', 'ADJ'), (('lay', 'NOUN'), ('lay', 'VERB'))],\n",
       " [('.', '.'), (('lead', 'VERB'), ('lead', 'NOUN'))],\n",
       " [('is', 'VERB'), (('leery', 'NOUN'), ('leery', 'ADJ'))],\n",
       " [('stations', 'NOUN'), (('less', 'ADJ'), ('less', 'ADV'))],\n",
       " [('*-2', 'X'), (('less', 'ADJ'), ('less', 'ADV'))],\n",
       " [('World', 'NOUN'), (('like', 'ADP'), ('like', 'VERB'))],\n",
       " [('spin-off', 'NOUN'), (('limit', 'NOUN'), ('limit', 'VERB'))],\n",
       " [('*T*-151', 'X'), (('lives', 'VERB'), ('lives', 'NOUN'))],\n",
       " [('available', 'ADJ'), (('log', 'NOUN'), ('log', 'VERB'))],\n",
       " [('.', '.'), (('long', 'ADJ'), ('long', 'ADV'))],\n",
       " [('130', 'NUM'), (('magazines', 'VERB'), ('magazines', 'NOUN'))],\n",
       " [('million', 'NUM'), (('mailing', 'NOUN'), ('mailing', 'VERB'))],\n",
       " [('*-2', 'X'), (('market-based', 'VERB'), ('market-based', 'ADJ'))],\n",
       " [('work', 'NOUN'), (('mathematical', 'NOUN'), ('mathematical', 'ADJ'))],\n",
       " [('one', 'NUM'), (('mid-size', 'NOUN'), ('mid-size', 'ADJ'))],\n",
       " [('economy', 'NOUN'), (('more', 'ADJ'), ('more', 'ADV'))],\n",
       " [('is', 'VERB'), (('more', 'ADJ'), ('more', 'ADV'))],\n",
       " [('that', 'ADP'), (('mortgage-based', 'VERB'), ('mortgage-based', 'ADJ'))],\n",
       " [('for', 'ADP'), (('most', 'ADJ'), ('most', 'ADV'))],\n",
       " [('manufactured', 'VERB'), (('move', 'VERB'), ('move', 'NOUN'))],\n",
       " [('to', 'PRT'), (('multilevel', 'NOUN'), ('multilevel', 'ADJ'))],\n",
       " [('rise', 'VERB'), (('mundane', 'NOUN'), ('mundane', 'ADJ'))],\n",
       " [('*T*-4', 'X'), (('name', 'VERB'), ('name', 'NOUN'))],\n",
       " [('*-1', 'X'), (('nationalist', 'NOUN'), ('nationalist', 'ADJ'))],\n",
       " [('.', '.'), (('newer', 'NOUN'), ('newer', 'ADJ'))],\n",
       " [('Rather', 'ADV'), (('newest', 'NOUN'), ('newest', 'ADJ'))],\n",
       " [('buy', 'VERB'), (('no', 'DET'), ('no', 'ADV'))],\n",
       " [('their', 'PRON'), (('nonfat', 'NOUN'), ('nonfat', 'ADJ'))],\n",
       " [('committee', 'NOUN'), (('notes', 'NOUN'), ('notes', 'VERB'))],\n",
       " [('too', 'ADV'), (('obvious', 'NOUN'), ('obvious', 'ADJ'))],\n",
       " [('largest', 'ADJ'), (('off', 'ADV'), ('off', 'PRT'))],\n",
       " [('earned', 'VERB'), (('off-off', 'NOUN'), ('off-off', 'ADJ'))],\n",
       " [('$', '.'), (('offend', 'NOUN'), ('offend', 'VERB'))],\n",
       " [('62', 'NUM'), (('offering', 'NOUN'), ('offering', 'VERB'))],\n",
       " [('cents', 'NOUN'), (('offering', 'NOUN'), ('offering', 'VERB'))],\n",
       " [('$', '.'), (('official', 'NOUN'), ('official', 'ADJ'))],\n",
       " [('``', '.'), (('only', 'ADJ'), ('only', 'ADV'))],\n",
       " [('were', 'VERB'), (('opening', 'NOUN'), ('opening', 'VERB'))],\n",
       " [('would', 'VERB'), (('outbid', 'NOUN'), ('outbid', 'VERB'))],\n",
       " [('better', 'ADJ'), (('outraged', 'VERB'), ('outraged', 'ADJ'))],\n",
       " [('still', 'ADV'), (('passages', 'VERB'), ('passages', 'NOUN'))],\n",
       " [('reported', 'VERB'), (('plans', 'VERB'), ('plans', 'NOUN'))],\n",
       " [('The', 'DET'), (('popularly', 'NOUN'), ('popularly', 'ADV'))],\n",
       " [('Association', 'NOUN'), (('potentially', 'NOUN'), ('potentially', 'ADV'))],\n",
       " [('of', 'ADP'), (('preferred', 'ADJ'), ('preferred', 'VERB'))],\n",
       " [('its', 'PRON'), (('present', 'VERB'), ('present', 'ADJ'))],\n",
       " [('billion', 'NUM'), (('profess', 'NOUN'), ('profess', 'VERB'))],\n",
       " [('in', 'ADP'), (('profit', 'NOUN'), ('profit', 'VERB'))],\n",
       " [('balance', 'NOUN'), (('prying', 'VERB'), ('prying', 'ADJ'))],\n",
       " [('*U*', 'X'), (('reach', 'VERB'), ('reach', 'NOUN'))],\n",
       " [('*-87', 'X'), (('real', 'ADJ'), ('real', 'ADV'))],\n",
       " [('he', 'PRON'), (('red', 'ADJ'), ('red', 'NOUN'))],\n",
       " [('The', 'DET'), (('regimented', 'VERB'), ('regimented', 'ADJ'))],\n",
       " [('News-American', 'NOUN'), (('related', 'ADJ'), ('related', 'VERB'))],\n",
       " [('and', 'CONJ'), (('rendering', 'VERB'), ('rendering', 'NOUN'))],\n",
       " [('Boston', 'NOUN'), (('repay', 'NOUN'), ('repay', 'VERB'))],\n",
       " [('was', 'VERB'), (('report', 'NOUN'), ('report', 'VERB'))],\n",
       " [('the', 'DET'),\n",
       "  (('revenue-desperate', 'NOUN'), ('revenue-desperate', 'ADJ'))],\n",
       " [('in', 'ADP'), (('shake', 'NOUN'), ('shake', 'VERB'))],\n",
       " [('junk', 'VERB'), (('show', 'NOUN'), ('show', 'VERB'))],\n",
       " [('.', '.'), (('skilled', 'VERB'), ('skilled', 'ADJ'))],\n",
       " [('have', 'VERB'), (('smoothly', 'NOUN'), ('smoothly', 'ADV'))],\n",
       " [('--', '.'), (('sounds', 'VERB'), ('sounds', 'NOUN'))],\n",
       " [('the', 'ADJ'), (('sounds', 'VERB'), ('sounds', 'NOUN'))],\n",
       " [('change', 'NOUN'), (('sounds', 'VERB'), ('sounds', 'NOUN'))],\n",
       " [('in', 'ADP'), (('soured', 'VERB'), ('soured', 'ADJ'))],\n",
       " [('%', 'NOUN'), (('spectacular', 'NOUN'), ('spectacular', 'ADJ'))],\n",
       " [('on', 'ADP'), (('staunchly', 'NOUN'), ('staunchly', 'ADV'))],\n",
       " [('by', 'ADP'), (('stock-picking', 'VERB'), ('stock-picking', 'ADJ'))],\n",
       " [('Shearson', 'NOUN'), (('supercilious', 'NOUN'), ('supercilious', 'ADJ'))],\n",
       " [('spokesman', 'NOUN'), (('support', 'VERB'), ('support', 'NOUN'))],\n",
       " [('often', 'ADV'), (('tapes', 'VERB'), ('tapes', 'NOUN'))],\n",
       " [('passages', 'NOUN'), (('technically', 'NOUN'), ('technically', 'ADV'))],\n",
       " [('Sony', 'NOUN'), (('test-prep', 'NOUN'), ('test-prep', 'ADJ'))],\n",
       " [('in', 'ADP'), (('that', 'ADP'), ('that', 'DET'))],\n",
       " [('the', 'DET'), (('that', 'ADP'), ('that', 'DET'))],\n",
       " [('austere', 'ADJ'), (('that', 'ADP'), ('that', 'DET'))],\n",
       " [('company', 'NOUN'), (('that', 'ADP'), ('that', 'DET'))],\n",
       " [('dormitory', 'NOUN'), (('that', 'ADP'), ('that', 'DET'))],\n",
       " [('run', 'VERB'), (('that', 'ADP'), ('that', 'DET'))],\n",
       " [('*', 'X'), (('that', 'ADP'), ('that', 'DET'))],\n",
       " [('worst', 'ADJ'), (('the', 'DET'), ('the', 'ADJ'))],\n",
       " [('crop', 'NOUN'), (('the', 'DET'), ('the', 'ADJ'))],\n",
       " [('.', '.'), (('there', 'ADV'), ('there', 'DET'))],\n",
       " [('Irvine', 'NOUN'), (('to', 'PRT'), ('to', 'ADP'))],\n",
       " [('G.', 'NOUN'), (('total', 'ADJ'), ('total', 'NOUN'))],\n",
       " [('Public', 'NOUN'), (('trading', 'NOUN'), ('trading', 'VERB'))],\n",
       " [('Utilities', 'NOUN'), (('trading', 'NOUN'), ('trading', 'VERB'))],\n",
       " [('Corp.', 'NOUN'), (('trading', 'NOUN'), ('trading', 'VERB'))],\n",
       " [('industrial', 'ADJ'), (('tunes', 'VERB'), ('tunes', 'NOUN'))],\n",
       " [('membership', 'NOUN'), (('two-letter', 'NOUN'), ('two-letter', 'ADJ'))],\n",
       " [('to', 'PRT'), (('unauthorized', 'VERB'), ('unauthorized', 'ADJ'))],\n",
       " [('million', 'NUM'), (('unstinting', 'VERB'), ('unstinting', 'ADJ'))],\n",
       " [('Air', 'NOUN'), (('untrue', 'NOUN'), ('untrue', 'ADJ'))],\n",
       " [('contract', 'NOUN'), (('up', 'ADV'), ('up', 'PRT'))],\n",
       " [('for', 'ADP'), (('up', 'ADV'), ('up', 'PRT'))],\n",
       " [('gunship', 'NOUN'), (('upstream', 'NOUN'), ('upstream', 'ADV'))],\n",
       " [('that', 'ADP'), (('uses', 'VERB'), ('uses', 'NOUN'))],\n",
       " [('a', 'DET'), (('very', 'ADV'), ('very', 'ADJ'))],\n",
       " [('food', 'NOUN'), (('veto', 'NOUN'), ('veto', 'VERB'))],\n",
       " [('shortage', 'NOUN'), (('vicious', 'NOUN'), ('vicious', 'ADJ'))],\n",
       " [('nonfat', 'ADJ'), (('view', 'VERB'), ('view', 'NOUN'))],\n",
       " [('milk', 'NOUN'), (('views', 'VERB'), ('views', 'NOUN'))],\n",
       " [('.', '.'), (('warn', 'NOUN'), ('warn', 'VERB'))],\n",
       " [('a', 'DET'), (('watch', 'VERB'), ('watch', 'NOUN'))],\n",
       " [('.', '.'), (('weird', 'NOUN'), ('weird', 'ADJ'))],\n",
       " [(',', '.'), (('work', 'VERB'), ('work', 'NOUN'))]]"
      ]
     },
     "execution_count": 61,
     "metadata": {},
     "output_type": "execute_result"
    }
   ],
   "source": [
    "incorrect_tagged_cases"
   ]
  },
  {
   "cell_type": "markdown",
   "metadata": {},
   "source": [
    "<a id=\"4.2.5\"></a>\n",
    "#### 4.2.5 Computing Performance againt the Test dataset."
   ]
  },
  {
   "cell_type": "code",
   "execution_count": 62,
   "metadata": {},
   "outputs": [],
   "source": [
    "## Testing\n",
    "\n",
    "words = word_tokenize(test_sentences)\n",
    "start = time.time()\n",
    "rule_seq = rule_based_tagger.tag(UnKnownWords(words))\n",
    "viterbi_seq = ViterbiM2(KnownWords(words))\n",
    "final_seq = rule_seq + viterbi_seq\n",
    "end = time.time()\n",
    "difference = end-start"
   ]
  },
  {
   "cell_type": "code",
   "execution_count": 63,
   "metadata": {
    "scrolled": true
   },
   "outputs": [
    {
     "name": "stdout",
     "output_type": "stream",
     "text": [
      "[(\"'s\", 'VERB'), (',', '.'), (',', '.'), ('.', '.'), ('.', '.'), ('.', '.'), ('.', '.'), ('.', '.'), ('.', '.'), ('.', '.'), ('.', '.'), ('.', '.'), ('.', '.'), ('11th', 'ADJ'), ('2011', 'NUM'), ('2013', 'NUM'), ('2015', 'NUM'), ('2018', 'NUM'), ('21st', 'X'), ('3', 'NUM'), ('Android', 'NOUN'), ('Android', 'NOUN'), ('Atlanta', 'NOUN'), ('Atlanta', 'NOUN'), ('Before', 'ADP'), ('Cup', 'NOUN'), ('Cup', 'NOUN'), ('Cup', 'NOUN'), ('Dallas', 'NOUN'), ('Denver', 'NOUN'), ('Donald', 'NOUN'), ('Eastern', 'NOUN'), ('Europe', 'NOUN'), ('Europe', 'NOUN'), ('FIFA', 'NOUN'), ('FIFA', 'NOUN'), ('Francisco', 'NOUN'), ('Google', 'NOUN'), ('Google', 'NOUN'), ('Google', 'NOUN'), ('I', 'PRON'), ('ICESAT-2', 'X'), ('NASA', 'NOUN'), ('OS', 'NOUN'), ('Philadelphia', 'NOUN'), ('San', 'NOUN'), ('Satellite', 'NOUN'), ('Show', 'NOUN'), ('Show', 'NOUN'), ('The', 'DET'), ('This', 'DET'), ('Trump', 'NOUN'), ('Twitter', 'NOUN'), ('Twitter', 'NOUN'), ('Twitter', 'NOUN'), ('World', 'NOUN'), ('World', 'NOUN'), ('World', 'NOUN'), ('a', 'DET'), ('a', 'DET'), ('a', 'DET'), ('a', 'DET'), ('about', 'ADP'), ('access', 'NOUN'), ('afternoon', 'NOUN'), ('an', 'DET'), ('an', 'DET'), ('and', 'CONJ'), ('and', 'CONJ'), ('and', 'CONJ'), ('and', 'CONJ'), ('and', 'CONJ'), ('and', 'CONJ'), ('and', 'CONJ'), ('arriving', 'VERB'), ('as', 'ADP'), ('at', 'ADP'), ('be', 'VERB'), ('been', 'VERB'), ('been', 'VERB'), ('best-selling', 'ADJ'), ('businessman', 'NOUN'), ('by', 'ADP'), ('cheapest', 'ADJ'), ('contested', 'VERB'), ('deal', 'NOUN'), ('developed', 'VERB'), ('domineering', 'VERB'), ('entering', 'VERB'), ('every', 'DET'), ('experience', 'NOUN'), ('firehose', 'NOUN'), ('first', 'ADJ'), ('flights', 'NOUN'), ('flights', 'NOUN'), ('football', 'NOUN'), ('four', 'NUM'), ('from', 'ADP'), ('from', 'ADP'), ('gave', 'VERB'), ('has', 'VERB'), ('has', 'VERB'), ('held', 'VERB'), ('held', 'VERB'), ('in', 'ADP'), ('in', 'ADP'), ('in', 'ADP'), ('in', 'ADP'), ('in', 'ADP'), ('interact', 'NOUN'), ('international', 'ADJ'), ('invited', 'VERB'), ('is', 'VERB'), ('is', 'VERB'), ('is', 'VERB'), ('is', 'VERB'), ('it', 'PRON'), ('known', 'VERB'), ('launch', 'NOUN'), ('leaving', 'VERB'), ('like', 'ADP'), ('made', 'VERB'), ('me', 'PRON'), ('me', 'PRON'), ('media', 'NOUN'), ('messages', 'VERB'), ('mobile', 'ADJ'), ('networking', 'NOUN'), ('news', 'NOUN'), ('of', 'ADP'), ('of', 'ADP'), ('on', 'ADP'), ('on', 'ADP'), ('on', 'ADP'), ('once', 'ADV'), ('online', 'NOUN'), ('operating', 'NOUN'), ('personality', 'NOUN'), ('politics', 'NOUN'), ('post', 'NOUN'), ('price', 'NOUN'), ('round', 'NOUN'), ('see', 'VERB'), ('service', 'NOUN'), ('since', 'ADP'), ('since', 'ADP'), ('smartphones', 'VERB'), ('social', 'ADJ'), ('social', 'ADJ'), ('system', 'NOUN'), ('tablets', 'NOUN'), ('television', 'NOUN'), ('that', 'ADP'), ('that', 'DET'), ('the', 'DET'), ('the', 'DET'), ('the', 'DET'), ('the', 'DET'), ('the', 'DET'), ('the', 'DET'), ('the', 'DET'), ('the', 'DET'), ('the', 'DET'), ('time', 'NOUN'), ('to', 'PRT'), ('to', 'PRT'), ('to', 'PRT'), ('to', 'PRT'), ('to', 'PRT'), ('to', 'PRT'), ('tournament', 'NOUN'), ('trips', 'NOUN'), ('tweets', 'NOUN'), ('users', 'NOUN'), ('users', 'NOUN'), ('was', 'VERB'), ('which', 'DET'), ('with', 'ADP'), ('worldwide', 'NOUN'), ('would', 'VERB'), ('years', 'NOUN')]\n",
      "28.341275691986084\n"
     ]
    }
   ],
   "source": [
    "print(sorted(final_seq))\n",
    "print(difference)"
   ]
  },
  {
   "cell_type": "markdown",
   "metadata": {},
   "source": [
    "<a id=\"4.2.6\"></a>\n",
    "#### 4.2.6 Compare the tagging accuracies of the modifications with the vanilla Viterbi algorithm"
   ]
  },
  {
   "cell_type": "markdown",
   "metadata": {},
   "source": [
    "We saw that the modified Viterbi Algoritm runs at an Accuracy of **95.3%**  whereas the Vanilla version ran at **90.3%**.\n",
    "Thus, there is an **imporvement of approx 5%  accuracy** with the above modifications."
   ]
  },
  {
   "cell_type": "markdown",
   "metadata": {},
   "source": [
    "<a id=\"4.2.7\"></a>\n",
    "#### 4.2.7 List down cases which were incorrectly tagged by original POS tagger and got corrected by your modifications"
   ]
  },
  {
   "cell_type": "markdown",
   "metadata": {},
   "source": [
    "Few Tag's that were incorrecly identified (in the test Set) are:\n",
    "\n",
    "* ('Android', 'X')\n",
    "* ('Google', 'X')\n",
    "* ('Twitter', 'X')\n",
    "* ('FIFA', 'X')\n",
    "* ('Cup', 'X')"
   ]
  },
  {
   "cell_type": "markdown",
   "metadata": {},
   "source": [
    "These Tags were correctly identified as:\n",
    "\n",
    "* ('Android', 'NOUN')\n",
    "* ('Google', 'NOUN')\n",
    "* ('Twitter', 'NOUN')\n",
    "* ('FIFA', 'NOUN')\n",
    "* ('Cup', 'NOUN')\n",
    "\n",
    "\n",
    "_Please note that these Tags were identified correctly in both approaches._"
   ]
  },
  {
   "cell_type": "markdown",
   "metadata": {},
   "source": [
    "<a id=\"5\"></a>\n",
    "## 5. Summary"
   ]
  },
  {
   "cell_type": "markdown",
   "metadata": {},
   "source": [
    "In this assignement, we started by using HMM and implemented it usinf the viterbi algorithm for syntactic processing. Initially, on running the Algorithm with defaults (Vanilla), we noticed that the accuracy was above 90%.\n",
    "We also noticed that, the words which were not in the training set (i.e had no emission probabilities) had scope for improvement.\n",
    "In order to improve, we took two approaches.\n",
    "* The first approach, would assign the transition probability as final probablity. (**Increased Accuracy by 3.5%**)\n",
    "* The Second approach, a rule based approach would use manual rules to treat the unknown words. (**Increased Accuracy by 5%**)\n",
    "\n",
    "In the end we ran a test set and saw that the words (Like Google) which were identified incorrectly by Vanilla algorithm, were identified correctly using these two approaches."
   ]
  }
 ],
 "metadata": {
  "kernelspec": {
   "display_name": "Python 3",
   "language": "python",
   "name": "python3"
  },
  "language_info": {
   "codemirror_mode": {
    "name": "ipython",
    "version": 3
   },
   "file_extension": ".py",
   "mimetype": "text/x-python",
   "name": "python",
   "nbconvert_exporter": "python",
   "pygments_lexer": "ipython3",
   "version": "3.7.1"
  }
 },
 "nbformat": 4,
 "nbformat_minor": 2
}
